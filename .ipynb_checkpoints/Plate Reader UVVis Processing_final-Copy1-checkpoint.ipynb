{
 "cells": [
  {
   "cell_type": "code",
   "execution_count": 1,
   "metadata": {},
   "outputs": [
    {
     "name": "stderr",
     "output_type": "stream",
     "text": [
      "C:\\Users\\Edwin\\.opentrons\\deck_calibration.json not found. Loading defaults\n",
      "C:\\Users\\Edwin\\.opentrons\\robot_settings.json not found. Loading defaults\n"
     ]
    },
    {
     "name": "stdout",
     "output_type": "stream",
     "text": [
      "Loading json containers...\n",
      "Json container file load complete, listing database\n",
      "Found 0 containers to add. Starting migration...\n",
      "Database migration complete!\n"
     ]
    }
   ],
   "source": [
    "import Ouzo_Graph_Tools as ouzo_graphs\n",
    "import Ouzo_Sampling_Wtf_Lattice_Volume as create\n",
    "import pandas as pd\n",
    "import matplotlib.pyplot as plt\n",
    "import matplotlib as mpl\n",
    "import matplotlib.colors as colors\n",
    "import numpy as np\n",
    "from scipy import interpolate, stats"
   ]
  },
  {
   "cell_type": "code",
   "execution_count": 2,
   "metadata": {},
   "outputs": [],
   "source": [
    "def extract_plates(path, sheet_list):\n",
    "    \"\"\"Will return a sublist of plates absorbance information in dataframe format\n",
    "    Must ensure that excel sheet has only the samples made in the csv plan as will cause errors downstream.\"\"\"\n",
    "    plate_dfs = []\n",
    "    for sheet_name in sheet_list:\n",
    "        plate_df = pd.read_excel(path, sheet_name = sheet_name).T\n",
    "        plate_dfs.append(plate_df)\n",
    "    return plate_dfs"
   ]
  },
  {
   "cell_type": "code",
   "execution_count": 3,
   "metadata": {},
   "outputs": [],
   "source": [
    "def merge_wavelength_dfs(df_list):\n",
    "    merge_list = []\n",
    "    for i, df in enumerate(df_list):\n",
    "        if i == 0:\n",
    "            df = df\n",
    "        else: \n",
    "            df = df.drop(['Wavelength'])\n",
    "        merge_list.append(df)\n",
    "    return pd.concat(merge_list)"
   ]
  },
  {
   "cell_type": "code",
   "execution_count": 4,
   "metadata": {},
   "outputs": [],
   "source": [
    "def baseline_correction(df_samples, baseline_series): \n",
    "    \"\"\"Given the series iloc of a the blank, subtracts the value at every wavelength of blank at resp. wavelength. \n",
    "    Simple subtraction blanking.\"\"\"\n",
    "    new_df_con = []\n",
    "    for key, row in df_samples.iterrows():\n",
    "        if key == 'Wavelength':\n",
    "            wavelengths = row\n",
    "            new_df_con.append(wavelengths)\n",
    "        else: \n",
    "            series = row\n",
    "            corrected = series.subtract(baseline_series)\n",
    "            new_df_con.append(corrected)\n",
    "    \n",
    "    baseline_corrected_df = pd.concat(new_df_con, axis = 1).T\n",
    "    baseline_corrected_df.index = df_samples[0].index\n",
    "    return baseline_corrected_df"
   ]
  },
  {
   "cell_type": "code",
   "execution_count": 5,
   "metadata": {},
   "outputs": [],
   "source": [
    "def add_abs_to_sample_info(sample_info_df, abs_df):\n",
    "    \n",
    "    wavelengths = list(abs_df.loc['Wavelength'])\n",
    "    wavelengths_names = [str(wavelength)+'nm' for wavelength in wavelengths]\n",
    "    abs_df.columns = wavelengths_names\n",
    "    \n",
    "    \n",
    "    sample_info_df.reset_index(drop=True, inplace=True)\n",
    "    abs_df.reset_index(drop=True, inplace=True)\n",
    "    combined_df = pd.concat([sample_info, abs_df], axis = 1)\n",
    "    return combined_df"
   ]
  },
  {
   "cell_type": "code",
   "execution_count": null,
   "metadata": {},
   "outputs": [],
   "source": []
  },
  {
   "cell_type": "code",
   "execution_count": 6,
   "metadata": {},
   "outputs": [],
   "source": [
    "def remove_visual_outliers(x, y, z, z_score_threshold = 3):\n",
    "    \"\"\"This is not a to remove statistical outliers, only to remove values which present. Outliers will be \n",
    "    removed based on the data of z and subsequently from x and y given the same indexes of entries. Inputs must be nparrays\"\"\"\n",
    "\n",
    "    z_array = np.asarray(z)\n",
    "    z_scores = np.abs(stats.zscore(np.asarray(z)))\n",
    "    threshold = z_score_threshold\n",
    "    index_to_remove = np.where(z_scores > threshold)[0] # must be in ascending order\n",
    "    \n",
    "    x = x.copy()\n",
    "    y = y.copy()\n",
    "    z = z.copy()\n",
    "    \n",
    "    for index in reversed(index_to_remove): # reveresed to perserve index\n",
    "        del x[index]\n",
    "        del y[index]\n",
    "        del z[index]\n",
    "    \n",
    "    xyz_array = [x,y,z]\n",
    "    return xyz_array\n"
   ]
  },
  {
   "cell_type": "code",
   "execution_count": 7,
   "metadata": {},
   "outputs": [],
   "source": [
    "# what happens with overflow or undefined data???"
   ]
  },
  {
   "cell_type": "code",
   "execution_count": 233,
   "metadata": {
    "scrolled": true
   },
   "outputs": [
    {
     "data": {
      "text/html": [
       "<div>\n",
       "<style scoped>\n",
       "    .dataframe tbody tr th:only-of-type {\n",
       "        vertical-align: middle;\n",
       "    }\n",
       "\n",
       "    .dataframe tbody tr th {\n",
       "        vertical-align: top;\n",
       "    }\n",
       "\n",
       "    .dataframe thead th {\n",
       "        text-align: right;\n",
       "    }\n",
       "</style>\n",
       "<table border=\"1\" class=\"dataframe\">\n",
       "  <thead>\n",
       "    <tr style=\"text-align: right;\">\n",
       "      <th></th>\n",
       "      <th>UID</th>\n",
       "      <th>Component 1 wtf</th>\n",
       "      <th>Component 2 wtf</th>\n",
       "      <th>Component 3 wtf</th>\n",
       "      <th>Component 4 wtf</th>\n",
       "      <th>Component 5 wtf</th>\n",
       "      <th>Slot</th>\n",
       "      <th>Labware</th>\n",
       "      <th>Well</th>\n",
       "    </tr>\n",
       "  </thead>\n",
       "  <tbody>\n",
       "    <tr>\n",
       "      <th>0</th>\n",
       "      <td>UID</td>\n",
       "      <td>dppc wtf</td>\n",
       "      <td>dspe-peg wtf</td>\n",
       "      <td>PFH wtf</td>\n",
       "      <td>ethanol wtf</td>\n",
       "      <td>water wtf</td>\n",
       "      <td>Slot</td>\n",
       "      <td>Labware</td>\n",
       "      <td>Well</td>\n",
       "    </tr>\n",
       "    <tr>\n",
       "      <th>1</th>\n",
       "      <td>2020-11-12_ethanol_PFH_A1</td>\n",
       "      <td>0.0003</td>\n",
       "      <td>0.000125</td>\n",
       "      <td>0.0006243589743589745</td>\n",
       "      <td>0.39473684210526316</td>\n",
       "      <td>0.6042137989203779</td>\n",
       "      <td>2</td>\n",
       "      <td>Corning 96 Well Plate 360 µL Flat</td>\n",
       "      <td>A1</td>\n",
       "    </tr>\n",
       "    <tr>\n",
       "      <th>2</th>\n",
       "      <td>2020-11-12_ethanol_PFH_A2</td>\n",
       "      <td>0.0003</td>\n",
       "      <td>0.000125</td>\n",
       "      <td>0.0006243589743589745</td>\n",
       "      <td>0.4105263157894737</td>\n",
       "      <td>0.5884243252361674</td>\n",
       "      <td>2</td>\n",
       "      <td>Corning 96 Well Plate 360 µL Flat</td>\n",
       "      <td>A2</td>\n",
       "    </tr>\n",
       "    <tr>\n",
       "      <th>3</th>\n",
       "      <td>2020-11-12_ethanol_PFH_A3</td>\n",
       "      <td>0.0003</td>\n",
       "      <td>0.000125</td>\n",
       "      <td>0.0006243589743589745</td>\n",
       "      <td>0.4263157894736842</td>\n",
       "      <td>0.5726348515519568</td>\n",
       "      <td>2</td>\n",
       "      <td>Corning 96 Well Plate 360 µL Flat</td>\n",
       "      <td>A3</td>\n",
       "    </tr>\n",
       "    <tr>\n",
       "      <th>4</th>\n",
       "      <td>2020-11-12_ethanol_PFH_A4</td>\n",
       "      <td>0.0003</td>\n",
       "      <td>0.000125</td>\n",
       "      <td>0.0006243589743589745</td>\n",
       "      <td>0.4421052631578947</td>\n",
       "      <td>0.5568453778677462</td>\n",
       "      <td>2</td>\n",
       "      <td>Corning 96 Well Plate 360 µL Flat</td>\n",
       "      <td>A4</td>\n",
       "    </tr>\n",
       "    <tr>\n",
       "      <th>...</th>\n",
       "      <td>...</td>\n",
       "      <td>...</td>\n",
       "      <td>...</td>\n",
       "      <td>...</td>\n",
       "      <td>...</td>\n",
       "      <td>...</td>\n",
       "      <td>...</td>\n",
       "      <td>...</td>\n",
       "      <td>...</td>\n",
       "    </tr>\n",
       "    <tr>\n",
       "      <th>92</th>\n",
       "      <td>2020-11-12_ethanol_PFH_H8</td>\n",
       "      <td>0.0003</td>\n",
       "      <td>0.000125</td>\n",
       "      <td>0.002006666666666667</td>\n",
       "      <td>0.5526315789473684</td>\n",
       "      <td>0.4449367543859649</td>\n",
       "      <td>2</td>\n",
       "      <td>Corning 96 Well Plate 360 µL Flat</td>\n",
       "      <td>H8</td>\n",
       "    </tr>\n",
       "    <tr>\n",
       "      <th>93</th>\n",
       "      <td>2020-11-12_ethanol_PFH_H9</td>\n",
       "      <td>0.0003</td>\n",
       "      <td>0.000125</td>\n",
       "      <td>0.002006666666666667</td>\n",
       "      <td>0.5684210526315789</td>\n",
       "      <td>0.42914728070175434</td>\n",
       "      <td>2</td>\n",
       "      <td>Corning 96 Well Plate 360 µL Flat</td>\n",
       "      <td>H9</td>\n",
       "    </tr>\n",
       "    <tr>\n",
       "      <th>94</th>\n",
       "      <td>2020-11-12_ethanol_PFH_H10</td>\n",
       "      <td>0.0003</td>\n",
       "      <td>0.000125</td>\n",
       "      <td>0.002006666666666667</td>\n",
       "      <td>0.5842105263157895</td>\n",
       "      <td>0.41335780701754377</td>\n",
       "      <td>2</td>\n",
       "      <td>Corning 96 Well Plate 360 µL Flat</td>\n",
       "      <td>H10</td>\n",
       "    </tr>\n",
       "    <tr>\n",
       "      <th>95</th>\n",
       "      <td>2020-11-12_ethanol_PFH_H11</td>\n",
       "      <td>0.0003</td>\n",
       "      <td>0.000125</td>\n",
       "      <td>0.002006666666666667</td>\n",
       "      <td>0.6</td>\n",
       "      <td>0.3975683333333333</td>\n",
       "      <td>2</td>\n",
       "      <td>Corning 96 Well Plate 360 µL Flat</td>\n",
       "      <td>H11</td>\n",
       "    </tr>\n",
       "    <tr>\n",
       "      <th>96</th>\n",
       "      <td>2020-11-12_ethanol_PFH_H12</td>\n",
       "      <td>0.0</td>\n",
       "      <td>0.0</td>\n",
       "      <td>0.0</td>\n",
       "      <td>0.0</td>\n",
       "      <td>1.0</td>\n",
       "      <td>2</td>\n",
       "      <td>Corning 96 Well Plate 360 µL Flat</td>\n",
       "      <td>H12</td>\n",
       "    </tr>\n",
       "  </tbody>\n",
       "</table>\n",
       "<p>97 rows × 9 columns</p>\n",
       "</div>"
      ],
      "text/plain": [
       "                           UID Component 1 wtf Component 2 wtf  \\\n",
       "0                          UID        dppc wtf    dspe-peg wtf   \n",
       "1    2020-11-12_ethanol_PFH_A1          0.0003        0.000125   \n",
       "2    2020-11-12_ethanol_PFH_A2          0.0003        0.000125   \n",
       "3    2020-11-12_ethanol_PFH_A3          0.0003        0.000125   \n",
       "4    2020-11-12_ethanol_PFH_A4          0.0003        0.000125   \n",
       "..                         ...             ...             ...   \n",
       "92   2020-11-12_ethanol_PFH_H8          0.0003        0.000125   \n",
       "93   2020-11-12_ethanol_PFH_H9          0.0003        0.000125   \n",
       "94  2020-11-12_ethanol_PFH_H10          0.0003        0.000125   \n",
       "95  2020-11-12_ethanol_PFH_H11          0.0003        0.000125   \n",
       "96  2020-11-12_ethanol_PFH_H12             0.0             0.0   \n",
       "\n",
       "          Component 3 wtf      Component 4 wtf      Component 5 wtf  Slot  \\\n",
       "0                 PFH wtf          ethanol wtf            water wtf  Slot   \n",
       "1   0.0006243589743589745  0.39473684210526316   0.6042137989203779     2   \n",
       "2   0.0006243589743589745   0.4105263157894737   0.5884243252361674     2   \n",
       "3   0.0006243589743589745   0.4263157894736842   0.5726348515519568     2   \n",
       "4   0.0006243589743589745   0.4421052631578947   0.5568453778677462     2   \n",
       "..                    ...                  ...                  ...   ...   \n",
       "92   0.002006666666666667   0.5526315789473684   0.4449367543859649     2   \n",
       "93   0.002006666666666667   0.5684210526315789  0.42914728070175434     2   \n",
       "94   0.002006666666666667   0.5842105263157895  0.41335780701754377     2   \n",
       "95   0.002006666666666667                  0.6   0.3975683333333333     2   \n",
       "96                    0.0                  0.0                  1.0     2   \n",
       "\n",
       "                              Labware  Well  \n",
       "0                             Labware  Well  \n",
       "1   Corning 96 Well Plate 360 µL Flat    A1  \n",
       "2   Corning 96 Well Plate 360 µL Flat    A2  \n",
       "3   Corning 96 Well Plate 360 µL Flat    A3  \n",
       "4   Corning 96 Well Plate 360 µL Flat    A4  \n",
       "..                                ...   ...  \n",
       "92  Corning 96 Well Plate 360 µL Flat    H8  \n",
       "93  Corning 96 Well Plate 360 µL Flat    H9  \n",
       "94  Corning 96 Well Plate 360 µL Flat   H10  \n",
       "95  Corning 96 Well Plate 360 µL Flat   H11  \n",
       "96  Corning 96 Well Plate 360 µL Flat   H12  \n",
       "\n",
       "[97 rows x 9 columns]"
      ]
     },
     "execution_count": 233,
     "metadata": {},
     "output_type": "execute_result"
    }
   ],
   "source": [
    "# Load all things needed in this case\n",
    "sample_info = pd.read_csv(r\"C:\\Users\\Edwin\\Desktop\\11_11_20\\experiment_info\") # make it find the blank position from sample_info\n",
    "plate_names = ['Sheet1','Sheet2']\n",
    "plate_dfs = extract_plates(r\"C:\\Users\\Edwin\\Desktop\\11_11_20\\11_11_2020_Plate1.xlsx\", plate_names) # can edit/remove wells accidently measured etc, but really should be done at excel level\n",
    "merged_df = merge_wavelength_dfs(plate_dfs)\n",
    "sample_info"
   ]
  },
  {
   "cell_type": "code",
   "execution_count": 234,
   "metadata": {
    "scrolled": false
   },
   "outputs": [],
   "source": [
    "# baseline and combine\n",
    "baseline_series = merged_df.iloc[-1]\n",
    "merged_baselined_df = baseline_correction(merged_df, baseline_series)\n",
    "combined_df = add_abs_to_sample_info(sample_info, merged_baselined_df)"
   ]
  },
  {
   "cell_type": "code",
   "execution_count": 236,
   "metadata": {},
   "outputs": [],
   "source": [
    "# extract data by dict method of df calling series\n",
    "wavelength = '400.0nm'\n",
    "x_name = combined_df['Component 4 wtf'][0]\n",
    "y_name = combined_df['Component 3 wtf'][0]\n",
    "x = [float(i) for i in combined_df['Component 4 wtf'][1:].tolist()][:-1]\n",
    "y = [float(i) for i in combined_df['Component 3 wtf'][1:].tolist()][:-1] # removes name of component from list\n",
    "z = [float(i) for i in combined_df[wavelength][1:].tolist()][:-1]\n",
    "combined_restricted_xyz = [x,y,z]\n",
    "modi = remove_visual_outliers(x,y,z,2.5) # this should only be used to find the new vmin and vmax but not to exclude"
   ]
  },
  {
   "cell_type": "code",
   "execution_count": 237,
   "metadata": {},
   "outputs": [
    {
     "name": "stdout",
     "output_type": "stream",
     "text": [
      "94\n"
     ]
    }
   ],
   "source": [
    "print(len(modi[2]))"
   ]
  },
  {
   "cell_type": "code",
   "execution_count": 227,
   "metadata": {},
   "outputs": [
    {
     "data": {
      "text/plain": [
       "<matplotlib.collections.PathCollection at 0x1563e25d898>"
      ]
     },
     "execution_count": 227,
     "metadata": {},
     "output_type": "execute_result"
    },
    {
     "data": {
      "image/png": "[encoded data removed]",
      "text/plain": [
       "<Figure size 432x288 with 1 Axes>"
      ]
     },
     "metadata": {
      "needs_background": "light"
     },
     "output_type": "display_data"
    }
   ],
   "source": [
    "plt.scatter(range(len(modi[2])), modi[2])"
   ]
  },
  {
   "cell_type": "code",
   "execution_count": 228,
   "metadata": {},
   "outputs": [],
   "source": [
    "min_x = min(combined_restricted_xyz[0])\n",
    "max_x = max(combined_restricted_xyz[0])\n",
    "min_y = min(combined_restricted_xyz[1])\n",
    "max_y = max(combined_restricted_xyz[1])\n",
    "min_z = min(modi[2])\n",
    "max_z = max(modi[2])\n",
    "# print(max_z)"
   ]
  },
  {
   "cell_type": "code",
   "execution_count": 230,
   "metadata": {
    "scrolled": true
   },
   "outputs": [
    {
     "data": {
      "text/plain": [
       "Text(0, 0.5, 'dspe-peg wtf')"
      ]
     },
     "execution_count": 230,
     "metadata": {},
     "output_type": "execute_result"
    },
    {
     "data": {
      "image/png": "[encoded data removed]",
      "text/plain": [
       "<Figure size 432x288 with 2 Axes>"
      ]
     },
     "metadata": {
      "needs_background": "light"
     },
     "output_type": "display_data"
    }
   ],
   "source": [
    "\n",
    "### First make the xx,yy coordinates that the interpolation will span\n",
    "x_space = np.linspace(min_x,max_x,100)  \n",
    "y_space = np.linspace(min_y,max_y,100)\n",
    "xx, yy = np.meshgrid(x_space,y_space) \n",
    "\n",
    "### Next make tuple the x,y data so it can be fed into interpolation method to make the interpolation mesh\n",
    "\n",
    "cartcoord = list(zip(combined_restricted_xyz[0],combined_restricted_xyz[1]))\n",
    "interp = interpolate.LinearNDInterpolator(cartcoord, combined_restricted_xyz[2])\n",
    "Z0 = interp(xx,yy)\n",
    "\n",
    "\n",
    "cartcoord_v = list(zip(modi[0],modi[1]))\n",
    "interp_v= interpolate.LinearNDInterpolator(cartcoord_v, modi[2])\n",
    "Z0_v = interp(xx,yy) # does not work as still interpolates far out and makes a v_max that is the same as z0??\n",
    "\n",
    "\n",
    "# Finally, create the plot. \n",
    "# Note: Mappable for the interpolation is independent of the scatter colormap (which is created automatically), they are the same when you do not restrict either.\n",
    "# Restriction is defined once you restrict the x/y space of the mesh to a space smaller than that of the scatter plot. \n",
    "\n",
    "fig, ax = plt.subplots()\n",
    "vmin = np.nanmin(Z0_v) # so this is will ensure all the interpolations will fit on the colorbar\n",
    "vmax = np.nanmax(Z0_v)\n",
    "\n",
    "# norm=colors.Normalize(vmin=min_z, vmax=max_z) # but you can manually use your dat which is the most import to plot to find the range excl outliers\n",
    "norm=colors.Normalize(vmin=0, vmax=max_z)\n",
    "\n",
    "mappable = ax.pcolormesh(xx, yy, Z0, norm=norm)\n",
    "# mappable.set_clim(vmin=vmin, vmax=vmax)\n",
    "# mappable.set_clim(vmin,vmax)\n",
    "\n",
    "\n",
    "ax.scatter(combined_restricted_xyz[0], combined_restricted_xyz[1], \n",
    "           c = combined_restricted_xyz[2], norm=norm, cmap = mpl.cm.viridis, edgecolors='k')\n",
    "\n",
    "cbar = plt.colorbar(mappable)\n",
    "\n",
    "cbar_txt = \"AU at wavelength \" + str(wavelength) + 'nm'\n",
    "cbar.set_label(cbar_txt, labelpad = 10)\n",
    "# ax.set_xlim(xmin =0, xmax = 0.0006) # simple ratios for easy viewing\n",
    "ax.set_ylim([0.0002,0.0023])\n",
    "ax.set_xlim([0.4,1])\n",
    "# ax.set_yticks(np.arange(-0.0001, 0.00035, 0.0001))\n",
    "# ax.set_yticks(np.arange(0, 0.0007, 0.00005))\n",
    "# ax.set_xticks(np.arange(0, 0.00035, 0.001))\n",
    "# axacx.yticks(np.arange(min, max, step))\n",
    "ax.set_xlabel(x_name)\n",
    "ax.set_ylabel(y_name)\n",
    "# ax.set_xlim([-0.0001,0.0006])\n",
    "# ax.text(0.4,0.002, \"vmin = \" + str(vmin) + '\\nvmax = '+ str(vmax))\n",
    "\n",
    "# ax.text(0.4,0.002,'*Negative AU values due to \\n instrument resolution of 0.001 AU')\n",
    "# ax.set_ylim([0,0.05])"
   ]
  },
  {
   "cell_type": "code",
   "execution_count": 197,
   "metadata": {},
   "outputs": [
    {
     "ename": "NameError",
     "evalue": "name 'remove_index' is not defined",
     "output_type": "error",
     "traceback": [
      "\u001b[1;31m---------------------------------------------------------------------------\u001b[0m",
      "\u001b[1;31mNameError\u001b[0m                                 Traceback (most recent call last)",
      "\u001b[1;32m<ipython-input-197-3813b3fed55e>\u001b[0m in \u001b[0;36m<module>\u001b[1;34m\u001b[0m\n\u001b[1;32m----> 1\u001b[1;33m \u001b[0mremove_index\u001b[0m\u001b[1;33m[\u001b[0m\u001b[1;36m0\u001b[0m\u001b[1;33m]\u001b[0m\u001b[1;33m\u001b[0m\u001b[1;33m\u001b[0m\u001b[0m\n\u001b[0m",
      "\u001b[1;31mNameError\u001b[0m: name 'remove_index' is not defined"
     ]
    }
   ],
   "source": [
    "remove_index[0]"
   ]
  },
  {
   "cell_type": "code",
   "execution_count": null,
   "metadata": {},
   "outputs": [],
   "source": [
    "zmin = min(z)\n",
    "zmax = max(z)\n",
    "\n",
    "# so knowing this informaiton or even using the interpolation infomation you could look at the frequncy of certain values and if low enough could be deteremiend to push out in the the color bar extreme to imprve visuals\n",
    "# so if you have 100 samples between 0.1 and 0.2 and 4 samples between 0.6 and 0.65 it would be fine to have vmin/vmax = 0.1 to 0.2"
   ]
  },
  {
   "cell_type": "code",
   "execution_count": null,
   "metadata": {},
   "outputs": [],
   "source": [
    "# so can use clim, but the big issue is that vmin and vmax are nan"
   ]
  },
  {
   "cell_type": "code",
   "execution_count": null,
   "metadata": {},
   "outputs": [],
   "source": [
    "import seaborn as sns\n",
    "sns.boxplot(x=z)"
   ]
  },
  {
   "cell_type": "code",
   "execution_count": null,
   "metadata": {},
   "outputs": [],
   "source": []
  },
  {
   "cell_type": "code",
   "execution_count": null,
   "metadata": {},
   "outputs": [],
   "source": []
  }
 ],
 "metadata": {
  "kernelspec": {
   "display_name": "Python 3",
   "language": "python",
   "name": "python3"
  },
  "language_info": {
   "codemirror_mode": {
    "name": "ipython",
    "version": 3
   },
   "file_extension": ".py",
   "mimetype": "text/x-python",
   "name": "python",
   "nbconvert_exporter": "python",
   "pygments_lexer": "ipython3",
   "version": "3.6.8"
  }
 },
 "nbformat": 4,
 "nbformat_minor": 4
}
