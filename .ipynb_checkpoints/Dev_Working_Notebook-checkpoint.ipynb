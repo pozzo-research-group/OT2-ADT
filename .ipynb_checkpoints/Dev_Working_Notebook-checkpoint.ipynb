{
 "cells": [
  {
   "cell_type": "markdown",
   "metadata": {
    "scrolled": false
   },
   "source": [
    "# This notebook serves as walkthrough for planning an experiment for creation through the OT2.\n",
    "### The following modules are used and should be in the same directory as this notebook: \n",
    "* **CreateSamples** is responsible for calculating sample information, which includes component weight fractions and stock volumes\n",
    "* **OT2Commands** is responsible for setting up information to be interpretted and executed by opentrons.\n",
    "* **OT2Graphing** contains graphing tools to help visualize and explore parameter spaces."
   ]
  },
  {
   "cell_type": "code",
   "execution_count": 64,
   "metadata": {},
   "outputs": [],
   "source": [
    "import CreateSamples\n",
    "import OT2Commands as ALH\n",
    "import OT2Graphing as ographing\n",
    "from opentrons import simulate, execute, protocol_api\n",
    "\n",
    "# Would not load\n",
    "import importlib # for reloading packages\n",
    "import pandas as pd\n",
    "import matplotlib.pyplot as plt"
   ]
  },
  {
   "cell_type": "code",
   "execution_count": 74,
   "metadata": {
    "scrolled": false
   },
   "outputs": [
    {
     "data": {
      "text/plain": [
       "<module 'OT2Graphing' from 'C:\\\\Users\\\\Edwin\\\\Desktop\\\\OT2Protocols\\\\ot2protocol\\\\Ouzo_OT2_Sampling\\\\OT2Graphing.py'>"
      ]
     },
     "execution_count": 74,
     "metadata": {},
     "output_type": "execute_result"
    }
   ],
   "source": [
    "importlib.reload(CreateSamples)\n",
    "importlib.reload(ALH)\n",
    "importlib.reload(ographing)"
   ]
  },
  {
   "cell_type": "markdown",
   "metadata": {},
   "source": [
    "## Step 1: Set up the experiment dictionary.\n",
    "* The first step to planning an experiment is to load the experiment variables and inputs from a csv file. Every variable should have an input with an acceptable datatype. At the moment this step is done by opening a CSV file in Excel, where the first column is the name of the variable and the adjacent column is the variable value. The default delimitter is (,). \n",
    "    * Reading directly as csv is fine but it requires you have all data values in a string so then we can use ast.literal_eval to unpack this and the appropiate datatypes. This forces you \\to put marks ('') around each variable value when planning the experiment. NOTE: You still need to place marks around anything inside a dtype i.e components inside a list.\n",
    "        * To remove this dependency we can build our own interpreters for our specfic cases such as to not use ast.literal_evals default unpacking.\n",
    "    * Loading from excel can be done in a similar manner but is avoided due not having xlrd or openpyxl depdenency native to python, and the opentrons being limited in the packages we can add/update. Hence we default to a CSV.\n",
    "* **The experiment dictionary consist of keys being the variable name and the value being the variables value.**"
   ]
  },
  {
   "cell_type": "code",
   "execution_count": 66,
   "metadata": {
    "scrolled": true
   },
   "outputs": [],
   "source": [
    "path = r\"C:\\Users\\Edwin\\Desktop\\OT2Protocols\\ot2protocol\\Ouzo_OT2_Sampling\\Testing Plans\\Example_Working_Protocol.csv\"\n",
    "experiment_csv_dict = CreateSamples.get_experiment_plan(path) "
   ]
  },
  {
   "cell_type": "markdown",
   "metadata": {},
   "source": [
    "## Step 1a Optional: Load custom labware dictionary (Remote Testing)\n",
    "* Provide the path to the directory holding all custom labware. This directory should have custom labware .json files you have previously made and tested, read more here: https://support.opentrons.com/en/articles/3136504-creating-custom-labware-definitions\n",
    "* The reason we provide this is when working on a device that is not connected to the OT2's Jupyter notebook there is no way to natively use custom labware. So we create a dictionary of custom labware so we can later load into our protocol to primarily simualte and test protocols for execution later once connnected to the OT2's notebook.\n",
    "    * When using custom labware on the OT2's notebook it pulls from a folder labeled \"labware\", which is something built into the Opentrons hardware. It has not been tested if the custom labware dictionary will superceed this directory of custom labware if used on the OT2."
   ]
  },
  {
   "cell_type": "code",
   "execution_count": 67,
   "metadata": {},
   "outputs": [],
   "source": [
    "labware_dir_path = r\"C:\\Users\\Edwin\\Desktop\\OT2Protocols\\ot2protocol\\Ouzo_OT2_Sampling\\Custom Labware\"\n",
    "custom_labware_dict = ALH.custom_labware_dict(labware_dir_path)"
   ]
  },
  {
   "cell_type": "markdown",
   "metadata": {},
   "source": [
    "## Step 2: Select and Create Sampling Space\n",
    "* Create sampling space depending on the units of concentration and method of sampling. All information is pulled from the experimental dictionary made in Step 1.\n",
    "    * Currently the only sampling method available are simple lattice and random based sampling. There are two potential ways to create samples in a system of n components which currently utilzie the linspaces of concentration. \n",
    "        * *Remember the linspace of concentration refers to [minimum concentration, maximum concentration, concentration step size]*\n",
    "    * **Case 1 (Completing case):** Specify all but one (in this case the last) component's concentrations, which with the addition of exposing the unity_filter = True, would calculate the the remaining concentraiton values using the information of the last index of all component related variables (i.e. names). This is only meant for units that require unity like volf, wtf, and molf. \n",
    "    * **Case 2 (Non-completing case):** Specify all concentration linspaces, not applying any unit based filters, meant for all other non interdepedent units like molarity and mg/mL.\n",
    "* Other things to take into consideration: All units must be the same for unity based, but not for non-unity units."
   ]
  },
  {
   "cell_type": "code",
   "execution_count": 78,
   "metadata": {
    "scrolled": false
   },
   "outputs": [
    {
     "data": {
      "text/html": [
       "<div>\n",
       "<style scoped>\n",
       "    .dataframe tbody tr th:only-of-type {\n",
       "        vertical-align: middle;\n",
       "    }\n",
       "\n",
       "    .dataframe tbody tr th {\n",
       "        vertical-align: top;\n",
       "    }\n",
       "\n",
       "    .dataframe thead th {\n",
       "        text-align: right;\n",
       "    }\n",
       "</style>\n",
       "<table border=\"1\" class=\"dataframe\">\n",
       "  <thead>\n",
       "    <tr style=\"text-align: right;\">\n",
       "      <th></th>\n",
       "      <th>dppc molf</th>\n",
       "      <th>dspepeg200 molf</th>\n",
       "      <th>pfh molf</th>\n",
       "      <th>ethanol molf</th>\n",
       "      <th>water molf</th>\n",
       "    </tr>\n",
       "  </thead>\n",
       "  <tbody>\n",
       "    <tr>\n",
       "      <th>0</th>\n",
       "      <td>0.0</td>\n",
       "      <td>0.000125</td>\n",
       "      <td>0.00</td>\n",
       "      <td>0.000000</td>\n",
       "      <td>0.999875</td>\n",
       "    </tr>\n",
       "    <tr>\n",
       "      <th>1</th>\n",
       "      <td>0.0</td>\n",
       "      <td>0.000125</td>\n",
       "      <td>0.00</td>\n",
       "      <td>0.111111</td>\n",
       "      <td>0.888764</td>\n",
       "    </tr>\n",
       "    <tr>\n",
       "      <th>2</th>\n",
       "      <td>0.0</td>\n",
       "      <td>0.000125</td>\n",
       "      <td>0.00</td>\n",
       "      <td>0.222222</td>\n",
       "      <td>0.777653</td>\n",
       "    </tr>\n",
       "    <tr>\n",
       "      <th>3</th>\n",
       "      <td>0.0</td>\n",
       "      <td>0.000125</td>\n",
       "      <td>0.00</td>\n",
       "      <td>0.333333</td>\n",
       "      <td>0.666542</td>\n",
       "    </tr>\n",
       "    <tr>\n",
       "      <th>4</th>\n",
       "      <td>0.0</td>\n",
       "      <td>0.000125</td>\n",
       "      <td>0.00</td>\n",
       "      <td>0.444444</td>\n",
       "      <td>0.555431</td>\n",
       "    </tr>\n",
       "    <tr>\n",
       "      <th>...</th>\n",
       "      <td>...</td>\n",
       "      <td>...</td>\n",
       "      <td>...</td>\n",
       "      <td>...</td>\n",
       "      <td>...</td>\n",
       "    </tr>\n",
       "    <tr>\n",
       "      <th>895</th>\n",
       "      <td>0.0</td>\n",
       "      <td>0.001250</td>\n",
       "      <td>0.07</td>\n",
       "      <td>0.444444</td>\n",
       "      <td>0.484306</td>\n",
       "    </tr>\n",
       "    <tr>\n",
       "      <th>896</th>\n",
       "      <td>0.0</td>\n",
       "      <td>0.001250</td>\n",
       "      <td>0.07</td>\n",
       "      <td>0.555556</td>\n",
       "      <td>0.373194</td>\n",
       "    </tr>\n",
       "    <tr>\n",
       "      <th>897</th>\n",
       "      <td>0.0</td>\n",
       "      <td>0.001250</td>\n",
       "      <td>0.07</td>\n",
       "      <td>0.666667</td>\n",
       "      <td>0.262083</td>\n",
       "    </tr>\n",
       "    <tr>\n",
       "      <th>898</th>\n",
       "      <td>0.0</td>\n",
       "      <td>0.001250</td>\n",
       "      <td>0.07</td>\n",
       "      <td>0.777778</td>\n",
       "      <td>0.150972</td>\n",
       "    </tr>\n",
       "    <tr>\n",
       "      <th>899</th>\n",
       "      <td>0.0</td>\n",
       "      <td>0.001250</td>\n",
       "      <td>0.07</td>\n",
       "      <td>0.888889</td>\n",
       "      <td>0.039861</td>\n",
       "    </tr>\n",
       "  </tbody>\n",
       "</table>\n",
       "<p>900 rows × 5 columns</p>\n",
       "</div>"
      ],
      "text/plain": [
       "     dppc molf  dspepeg200 molf  pfh molf  ethanol molf  water molf\n",
       "0          0.0         0.000125      0.00      0.000000    0.999875\n",
       "1          0.0         0.000125      0.00      0.111111    0.888764\n",
       "2          0.0         0.000125      0.00      0.222222    0.777653\n",
       "3          0.0         0.000125      0.00      0.333333    0.666542\n",
       "4          0.0         0.000125      0.00      0.444444    0.555431\n",
       "..         ...              ...       ...           ...         ...\n",
       "895        0.0         0.001250      0.07      0.444444    0.484306\n",
       "896        0.0         0.001250      0.07      0.555556    0.373194\n",
       "897        0.0         0.001250      0.07      0.666667    0.262083\n",
       "898        0.0         0.001250      0.07      0.777778    0.150972\n",
       "899        0.0         0.001250      0.07      0.888889    0.039861\n",
       "\n",
       "[900 rows x 5 columns]"
      ]
     },
     "execution_count": 78,
     "metadata": {},
     "output_type": "execute_result"
    }
   ],
   "source": [
    "wtf_sample_canidates = CreateSamples.generate_candidate_lattice_concentrations(experiment_csv_dict, unity_filter=True)"
   ]
  },
  {
   "cell_type": "markdown",
   "metadata": {},
   "source": [
    "## Step 3: Calculate Volumes of Stocks\n",
    "* From the concentration values calculated in Step 2, we use those along with stock concentration information to calculate the volume of required for each sample.\n",
    "\n",
    "* This is where things get less \"*general*\" each case depending on the number of stocks, common components (i.e. component A in both stock A and B) and other requirements will typically require its own function. Luckily given the commmonality of using data frames this should be quite simple. \n",
    "* Currently the only function to calculate volumes in centered around the Ouzo emulsion systems. This system consist of 3 stock with the solvent being ethanol and two pure stocks of ethanol and water. \n",
    "\n",
    "* Ideally the way volumes should calculated is simply by calculating \"*essential information*\" given the concentration of component and the systems overall mass or volume. Using this essential information and the concentration unit of the stock, it should call the appropiate function to calcualte the volume. Many issue could arise such as having a molarity and providing a mass so would need to make sure these cases are sorted and reported back\n"
   ]
  },
  {
   "cell_type": "code",
   "execution_count": 82,
   "metadata": {},
   "outputs": [],
   "source": [
    "volume_sample_canidates = CreateSamples.calculate_ouzo_volumes_from_wtf(wtf_sample_canidates, experiment_csv_dict)"
   ]
  },
  {
   "cell_type": "markdown",
   "metadata": {},
   "source": [
    "## Step 4: Create Complete Component Cocentration and Volume Dataframe and Apply Filters"
   ]
  },
  {
   "cell_type": "code",
   "execution_count": 83,
   "metadata": {},
   "outputs": [],
   "source": [
    "complete_df = CreateSamples.combine_df(wtf_sample_canidates, volume_sample_canidates) # unfiltered\n",
    "complete_df = pd.concat([complete_df]*48, ignore_index=True)\n",
    "# Step 3: Apply filters through df based logic, currently 4 filters exist (volume, total, general min and general max)\n",
    "\n",
    "# First filter for pipette volume constraints, optional Volume Restriction to select certain components for filter application (\"stock\" must be in column name)\n",
    "complete_df_f1 = CreateSamples.pipette_volume_restriction_df(complete_df, 30, 1000, experiment_csv_dict['Volume Restriction']) # last argument is optional\n",
    "\n",
    "# Second filter for overall total volume_restriction, call max destination well volume (\"Total Sample Volume\" must be in column name)\n",
    "# max_dest_well_volume = ALH.find_max_dest_volume_labware(experiment_csv_dict, custom_labware_dict)\n",
    "complete_df_f2 = CreateSamples.total_volume_restriction_df(complete_df_f1,1400)\n",
    "\n",
    "#Thrid filter for any general max or min filtering you would like\n",
    "final_complete_df = complete_df_f2#CreateSamples.general_max_restriction(complete_df_f2, 360, 'pfh-ethanol-stock uL')"
   ]
  },
  {
   "cell_type": "markdown",
   "metadata": {},
   "source": [
    "## Step 4a (Optional): Visual"
   ]
  },
  {
   "cell_type": "code",
   "execution_count": 84,
   "metadata": {},
   "outputs": [],
   "source": [
    "# ographing.xy_scatter_df_compare(complete_df, final_complete_df, 'ethanol molf', 'pfh molf')\n",
    "# ographing.xy_scatter_df(final_complete_df, 'ethanol wtf', 'pfh molf')"
   ]
  },
  {
   "cell_type": "markdown",
   "metadata": {},
   "source": [
    "## Step 5: Finalize and Call Seperate Concentration and Volume Dataframes"
   ]
  },
  {
   "cell_type": "code",
   "execution_count": 85,
   "metadata": {},
   "outputs": [
    {
     "data": {
      "text/html": [
       "<div>\n",
       "<style scoped>\n",
       "    .dataframe tbody tr th:only-of-type {\n",
       "        vertical-align: middle;\n",
       "    }\n",
       "\n",
       "    .dataframe tbody tr th {\n",
       "        vertical-align: top;\n",
       "    }\n",
       "\n",
       "    .dataframe thead th {\n",
       "        text-align: right;\n",
       "    }\n",
       "</style>\n",
       "<table border=\"1\" class=\"dataframe\">\n",
       "  <thead>\n",
       "    <tr style=\"text-align: right;\">\n",
       "      <th></th>\n",
       "    </tr>\n",
       "  </thead>\n",
       "  <tbody>\n",
       "    <tr>\n",
       "      <th>2</th>\n",
       "    </tr>\n",
       "    <tr>\n",
       "      <th>3</th>\n",
       "    </tr>\n",
       "    <tr>\n",
       "      <th>4</th>\n",
       "    </tr>\n",
       "    <tr>\n",
       "      <th>5</th>\n",
       "    </tr>\n",
       "    <tr>\n",
       "      <th>6</th>\n",
       "    </tr>\n",
       "    <tr>\n",
       "      <th>...</th>\n",
       "    </tr>\n",
       "    <tr>\n",
       "      <th>42488</th>\n",
       "    </tr>\n",
       "    <tr>\n",
       "      <th>42576</th>\n",
       "    </tr>\n",
       "    <tr>\n",
       "      <th>42577</th>\n",
       "    </tr>\n",
       "    <tr>\n",
       "      <th>42578</th>\n",
       "    </tr>\n",
       "    <tr>\n",
       "      <th>42668</th>\n",
       "    </tr>\n",
       "  </tbody>\n",
       "</table>\n",
       "<p>1008 rows × 0 columns</p>\n",
       "</div>"
      ],
      "text/plain": [
       "Empty DataFrame\n",
       "Columns: []\n",
       "Index: [2, 3, 4, 5, 6, 7, 8, 93, 94, 95, 96, 97, 98, 185, 186, 187, 188, 276, 277, 278, 368, 902, 903, 904, 905, 906, 907, 908, 993, 994, 995, 996, 997, 998, 1085, 1086, 1087, 1088, 1176, 1177, 1178, 1268, 1802, 1803, 1804, 1805, 1806, 1807, 1808, 1893, 1894, 1895, 1896, 1897, 1898, 1985, 1986, 1987, 1988, 2076, 2077, 2078, 2168, 2702, 2703, 2704, 2705, 2706, 2707, 2708, 2793, 2794, 2795, 2796, 2797, 2798, 2885, 2886, 2887, 2888, 2976, 2977, 2978, 3068, 3602, 3603, 3604, 3605, 3606, 3607, 3608, 3693, 3694, 3695, 3696, 3697, 3698, 3785, 3786, 3787, ...]\n",
       "\n",
       "[1008 rows x 0 columns]"
      ]
     },
     "execution_count": 85,
     "metadata": {},
     "output_type": "execute_result"
    }
   ],
   "source": [
    "final_wtf_df = CreateSamples.isolate_common_column(final_complete_df, 'wtf')\n",
    "final_volume_df = CreateSamples.isolate_common_column(final_complete_df, 'stock')\n",
    "final_wtf_df"
   ]
  },
  {
   "cell_type": "markdown",
   "metadata": {
    "scrolled": false
   },
   "source": [
    "## Step 6 (Optional): Calculate Stock Prep Information"
   ]
  },
  {
   "cell_type": "code",
   "execution_count": null,
   "metadata": {
    "scrolled": false
   },
   "outputs": [],
   "source": [
    "chem_database_path = r\"C:\\Users\\Edwin\\Desktop\\OT2Protocols\\ot2protocol\\Ouzo_OT2_Sampling\\Chemical Database.xlsx\"\n",
    "stock_prep_df = CreateSamples.calculate_stock_prep_df(experiment_csv_dict, final_volume_df, chem_database_path)\n",
    "# pd.set_option('display.float_format', lambda x: '%.2e' % x)\n",
    "stock_prep_df"
   ]
  },
  {
   "cell_type": "markdown",
   "metadata": {},
   "source": [
    "## Step 7: Set up Ranges for Stocks"
   ]
  },
  {
   "cell_type": "code",
   "execution_count": null,
   "metadata": {
    "scrolled": true
   },
   "outputs": [],
   "source": [
    "protocol = simulate.get_protocol_api('2.0', extra_labware=custom_labware_dict)\n",
    "max_vol = 20000 \n",
    "stock_ranges = ALH.stock_well_ranges(final_volume_df, max_vol) # set up volumes orders\n",
    "stock_ranges"
   ]
  },
  {
   "cell_type": "code",
   "execution_count": null,
   "metadata": {},
   "outputs": [],
   "source": [
    "# Step 8: Simulate/Execute"
   ]
  },
  {
   "cell_type": "code",
   "execution_count": null,
   "metadata": {
    "scrolled": true
   },
   "outputs": [],
   "source": [
    "protocol = simulate.get_protocol_api('2.0', extra_labware=custom_labware_dict)\n",
    "loaded_dict = ALH.loading_labware(protocol, experiment_csv_dict) # the protocol above has been modified globally!\n",
    "info = ALH.pipette_stock_volumes(protocol, loaded_dict, final_volume_df, stock_ranges)"
   ]
  },
  {
   "cell_type": "code",
   "execution_count": null,
   "metadata": {},
   "outputs": [],
   "source": [
    "## Step 9: Uploaded to Google Drive"
   ]
  },
  {
   "cell_type": "code",
   "execution_count": null,
   "metadata": {},
   "outputs": [],
   "source": [
    "CreateSamples.create_csv(r\"C:\\Users\\Edwin\\Desktop\\test\", info['info concat'], final_wtf_df.values, experiment_csv_dict)\n",
    "df = pd.read_csv(r\"C:\\Users\\Edwin\\Desktop\\test\")\n"
   ]
  }
 ],
 "metadata": {
  "celltoolbar": "Raw Cell Format",
  "kernelspec": {
   "display_name": "Python 3",
   "language": "python",
   "name": "python3"
  },
  "language_info": {
   "codemirror_mode": {
    "name": "ipython",
    "version": 3
   },
   "file_extension": ".py",
   "mimetype": "text/x-python",
   "name": "python",
   "nbconvert_exporter": "python",
   "pygments_lexer": "ipython3",
   "version": "3.6.8"
  }
 },
 "nbformat": 4,
 "nbformat_minor": 4
}
