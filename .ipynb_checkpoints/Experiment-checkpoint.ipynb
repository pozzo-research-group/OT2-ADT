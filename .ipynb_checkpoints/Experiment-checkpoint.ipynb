{
 "cells": [
  {
   "cell_type": "code",
   "execution_count": 10,
   "metadata": {},
   "outputs": [],
   "source": [
    "import Ouzo_Sampling_Wtf_Lattice_Volume as create\n",
    "import OT2_Ouzo_Commands as ot2_commands\n",
    "import Ouzo_Graph_Tools as ouzo_graphs\n",
    "from opentrons import simulate, execute, protocol_api\n",
    "import pandas as pd\n",
    "import numpy as np"
   ]
  },
  {
   "cell_type": "code",
   "execution_count": null,
   "metadata": {},
   "outputs": [],
   "source": [
    "## Experimental Plan\n",
    "#### Goal: To ensure that the amounts pipetted by the OT2 are expected for the designated stock liquid at the designated parameters\n",
    "General plan\n",
    "* Weigh a series of 5 vials and record their weights in a table\n",
    "* Using the appropriate code, run a series of pipetting into the vials\n",
    "* Weigh the full vials and determine difference between expected weight (calculate with density) and the actual pipetted weight \n",
    "    * If density is unknown, manually pipette desired amount and weigh, set as expected weight\n",
    "* Run the measurement 3 times total \n",
    "* Determine error from OT2 - change machine parameters and repeat as needed\n",
    "* Store required machine parameters for stock solution as a class attribute"
   ]
  },
  {
   "cell_type": "code",
   "execution_count": 4,
   "metadata": {},
   "outputs": [],
   "source": [
    "experiment_dict = create.get_experiment_plan(r\"C:\\Users\\Edwin\\Desktop\\OT2Protocols\\ot2protocol\\Ouzo_OT2_Sampling\\Testing Plans\\Testing_Example.csv\")\n",
    "wtf_sample_canidates = create.generate_candidate_lattice_concentrations(experiment_dict, filter_one=True)\n",
    "# stock_canidates = create.generate_candidate_lattice_stocks(experiment_dict) # just make it one step\n",
    "# stock_canidates, stock_text = create.prepare_stock_search(stock_canidates, experiment_dict, wtf_sample_canidates)\n",
    "# ouzo_graphs.stock_search(experiment_dict, wtf_sample_canidates, stock_canidates, stock_text)"
   ]
  },
  {
   "cell_type": "code",
   "execution_count": 5,
   "metadata": {},
   "outputs": [
    {
     "name": "stdout",
     "output_type": "stream",
     "text": [
      "Min sample volume = 1382.212824893124uL Max sample volume = 1566.6767482901187uL\n",
      "Total number of samples = 240\n",
      "25.200001463112052 mL of dppc-stock\n",
      "16.799985946811685 mL of dspe-peg-stock\n",
      "65.7584225900681 mL of ethanol-PFH-Stock\n",
      "67.84056670346966 mL of ethanol-stock\n",
      "176.76543185568602 mL of water-stock\n"
     ]
    }
   ],
   "source": [
    "volume_canidates = create.calculate_ouzo_volumes(wtf_sample_canidates, experiment_dict) # this is where you can iterate through a range of stocks and present different sets of possible volumes\n",
    "filtered_wtf_samples, filtered_volume_samples = create.filter_samples(wtf_sample_canidates, volume_canidates, 30, 1000)\n",
    "rearranged_samples_volumes = create.rearrange(filtered_volume_samples)\n",
    "print('Total number of samples =',len(filtered_wtf_samples))\n",
    "for i, stock_volumes in enumerate(rearranged_samples_volumes):\n",
    "    print(sum(stock_volumes)/1000, 'mL of ' + experiment_dict['Stock Names'][i] )"
   ]
  },
  {
   "cell_type": "code",
   "execution_count": 6,
   "metadata": {
    "scrolled": true
   },
   "outputs": [
    {
     "data": {
      "image/png": "[encoded data removed]",
      "text/plain": [
       "<Figure size 432x288 with 1 Axes>"
      ]
     },
     "metadata": {
      "needs_background": "light"
     },
     "output_type": "display_data"
    }
   ],
   "source": [
    "# since autoscaled do not plot sample list with blank\n",
    "ouzo_graphs.graph_canidates(experiment_dict, wtf_sample_canidates, filtered_wtf_samples) # add log/scinot, exclude blank by -1 on len"
   ]
  },
  {
   "cell_type": "code",
   "execution_count": 7,
   "metadata": {},
   "outputs": [],
   "source": [
    "# Optional addition of blank samples to sample volumes\n",
    "average_vol = create.average_volume(filtered_volume_samples)\n",
    "filtered_wtf_samples_b, filtered_volume_samples_b = create.add_blank(filtered_wtf_samples, filtered_volume_samples,average_vol, experiment_dict['Blank Component Concentrations'])"
   ]
  },
  {
   "cell_type": "code",
   "execution_count": 8,
   "metadata": {},
   "outputs": [
    {
     "data": {
      "text/plain": [
       "array([[105.0000061 ,  69.99994145,  31.35345667, 360.94860632,\n",
       "        997.58419515],\n",
       "       [105.0000061 ,  69.99994145,  31.35345667, 391.64093662,\n",
       "        950.94861887],\n",
       "       [105.0000061 ,  69.99994145,  31.35345667, 421.8460295 ,\n",
       "        904.31304259]])"
      ]
     },
     "execution_count": 8,
     "metadata": {},
     "output_type": "execute_result"
    }
   ],
   "source": [
    "test = filtered_volume_samples_b\n",
    "test[0:3]"
   ]
  },
  {
   "cell_type": "code",
   "execution_count": 9,
   "metadata": {
    "scrolled": true
   },
   "outputs": [
    {
     "name": "stderr",
     "output_type": "stream",
     "text": [
      "C:\\Users\\Edwin\\.opentrons\\deck_calibration.json not found. Loading defaults\n",
      "C:\\Users\\Edwin\\.opentrons\\robot_settings.json not found. Loading defaults\n"
     ]
    },
    {
     "ename": "ValueError",
     "evalue": "Too many sample for single sample plate",
     "output_type": "error",
     "traceback": [
      "\u001b[1;31m---------------------------------------------------------------------------\u001b[0m",
      "\u001b[1;31mValueError\u001b[0m                                Traceback (most recent call last)",
      "\u001b[1;32m<ipython-input-9-7e06cc18006e>\u001b[0m in \u001b[0;36m<module>\u001b[1;34m\u001b[0m\n\u001b[0;32m      1\u001b[0m \u001b[0mprotocol\u001b[0m \u001b[1;33m=\u001b[0m \u001b[0msimulate\u001b[0m\u001b[1;33m.\u001b[0m\u001b[0mget_protocol_api\u001b[0m\u001b[1;33m(\u001b[0m\u001b[1;34m'2.0'\u001b[0m\u001b[1;33m)\u001b[0m\u001b[1;33m\u001b[0m\u001b[1;33m\u001b[0m\u001b[0m\n\u001b[1;32m----> 2\u001b[1;33m \u001b[0minformation\u001b[0m \u001b[1;33m=\u001b[0m \u001b[0mot2_commands\u001b[0m\u001b[1;33m.\u001b[0m\u001b[0mrun\u001b[0m\u001b[1;33m(\u001b[0m\u001b[0mprotocol\u001b[0m\u001b[1;33m,\u001b[0m \u001b[0mexperiment_dict\u001b[0m\u001b[1;33m,\u001b[0m \u001b[0mfiltered_volume_samples_b\u001b[0m\u001b[1;33m,\u001b[0m \u001b[0mtransfer_volume\u001b[0m\u001b[1;33m=\u001b[0m\u001b[1;36m30\u001b[0m\u001b[1;33m,\u001b[0m \u001b[0mn_transfer_plates\u001b[0m\u001b[1;33m=\u001b[0m\u001b[1;36m1\u001b[0m\u001b[1;33m)\u001b[0m\u001b[1;33m\u001b[0m\u001b[1;33m\u001b[0m\u001b[0m\n\u001b[0m\u001b[0;32m      3\u001b[0m \u001b[1;31m# sort of working not really - fails when having to return tip - if cant figure out quickly just plan for experiment in crude way\u001b[0m\u001b[1;33m\u001b[0m\u001b[1;33m\u001b[0m\u001b[1;33m\u001b[0m\u001b[0m\n",
      "\u001b[1;32m~\\Desktop\\OT2Protocols\\ot2protocol\\Ouzo_OT2_Sampling\\OT2_Ouzo_Commands.py\u001b[0m in \u001b[0;36mrun\u001b[1;34m(protocol, experiment_dict, sample_volumes, transfer_volume, n_transfer_plates)\u001b[0m\n\u001b[0;32m     16\u001b[0m \u001b[1;33m\u001b[0m\u001b[0m\n\u001b[0;32m     17\u001b[0m     \u001b[1;32mif\u001b[0m \u001b[0mlen\u001b[0m\u001b[1;33m(\u001b[0m\u001b[0msample_volumes\u001b[0m\u001b[1;33m)\u001b[0m\u001b[1;33m>\u001b[0m\u001b[0mlen\u001b[0m\u001b[1;33m(\u001b[0m\u001b[0msample_plate_rows\u001b[0m\u001b[1;33m)\u001b[0m\u001b[1;33m:\u001b[0m\u001b[1;33m\u001b[0m\u001b[1;33m\u001b[0m\u001b[0m\n\u001b[1;32m---> 18\u001b[1;33m         \u001b[1;32mraise\u001b[0m \u001b[0mValueError\u001b[0m\u001b[1;33m(\u001b[0m\u001b[1;34m'Too many sample for single sample plate'\u001b[0m\u001b[1;33m)\u001b[0m\u001b[1;33m\u001b[0m\u001b[1;33m\u001b[0m\u001b[0m\n\u001b[0m\u001b[0;32m     19\u001b[0m \u001b[1;33m\u001b[0m\u001b[0m\n\u001b[0;32m     20\u001b[0m     \u001b[0mcomponent_volume_lists\u001b[0m \u001b[1;33m=\u001b[0m \u001b[1;33m[\u001b[0m\u001b[1;33m]\u001b[0m \u001b[1;31m# reordering sample list into component wise list to iterate over for pipetting\u001b[0m\u001b[1;33m\u001b[0m\u001b[1;33m\u001b[0m\u001b[0m\n",
      "\u001b[1;31mValueError\u001b[0m: Too many sample for single sample plate"
     ]
    }
   ],
   "source": [
    "protocol = simulate.get_protocol_api('2.0')\n",
    "information = ot2_commands.run(protocol, experiment_dict, filtered_volume_samples_b, transfer_volume=30, n_transfer_plates=1)\n",
    "# sort of working not really - fails when having to return tip - if cant figure out quickly just plan for experiment in crude way"
   ]
  },
  {
   "cell_type": "code",
   "execution_count": null,
   "metadata": {},
   "outputs": [],
   "source": [
    "create.create_csv(r\"C:\\Users\\Edwin\\Desktop\\cmonwidg\", information, filtered_wtf_samples_b, experiment_dict)\n",
    "df = pd.read_csv(r\"C:\\Users\\Edwin\\Desktop\\cmonwidg\")"
   ]
  },
  {
   "cell_type": "code",
   "execution_count": null,
   "metadata": {},
   "outputs": [],
   "source": [
    "df"
   ]
  },
  {
   "cell_type": "code",
   "execution_count": null,
   "metadata": {},
   "outputs": [],
   "source": []
  }
 ],
 "metadata": {
  "celltoolbar": "Raw Cell Format",
  "kernelspec": {
   "display_name": "Python 3",
   "language": "python",
   "name": "python3"
  },
  "language_info": {
   "codemirror_mode": {
    "name": "ipython",
    "version": 3
   },
   "file_extension": ".py",
   "mimetype": "text/x-python",
   "name": "python",
   "nbconvert_exporter": "python",
   "pygments_lexer": "ipython3",
   "version": "3.6.8"
  }
 },
 "nbformat": 4,
 "nbformat_minor": 4
}
