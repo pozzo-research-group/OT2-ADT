{
 "cells": [
  {
   "cell_type": "code",
   "execution_count": 31,
   "metadata": {},
   "outputs": [],
   "source": [
    "from pydrive.auth import GoogleAuth\n",
    "from pydrive.drive import GoogleDrive"
   ]
  },
  {
   "cell_type": "code",
   "execution_count": null,
   "metadata": {
    "scrolled": true
   },
   "outputs": [],
   "source": [
    "gauth = GoogleAuth()\n",
    "# gauth.LocalWebserverAuth()\n",
    "gauth.LoadCredentialsFile(\"OT2creds.txt\") \n",
    "drive = GoogleDrive(gauth)\n",
    "# seems to work once you delete client secrets so maybe can this credential file password locked after making from the pozzorg account"
   ]
  },
  {
   "cell_type": "code",
   "execution_count": 33,
   "metadata": {},
   "outputs": [
    {
     "name": "stdout",
     "output_type": "stream",
     "text": [
      "AAMC 1Sth0yBF6DbNDW3N77GHWSvvcj8GQ1pOb\n"
     ]
    }
   ],
   "source": [
    "mime_type = 'application/vnd.google-apps.folder' # would need be a in a string as the entire q is in a string \n",
    "trash = 'false'\n",
    "fullText = ''\n",
    "\n",
    "query_search = 'mimeType=' # hmm \n",
    "\n",
    "file_list = drive.ListFile({\"q\": \"mimeType='application/vnd.google-apps.folder' and trashed=false and title contains 'AAMC'\"}).GetList()\n",
    "\n",
    "for file in file_list:\n",
    "    print(file['title'], file['id'])"
   ]
  },
  {
   "cell_type": "code",
   "execution_count": null,
   "metadata": {},
   "outputs": [
    {
     "name": "stdout",
     "output_type": "stream",
     "text": [
      "Your browser has been opened to visit:\n",
      "\n",
      "    https://accounts.google.com/o/oauth2/auth?client_id=976386138783-rlb4mpjsuqi7gf8qn60elpsdt46a4srl.apps.googleusercontent.com&redirect_uri=http%3A%2F%2Flocalhost%3A8080%2F&scope=https%3A%2F%2Fwww.googleapis.com%2Fauth%2Fdrive&access_type=offline&response_type=code\n",
      "\n"
     ]
    }
   ],
   "source": [
    "file_list = drive.ListFile({'q':\"'0AHSxuxDy84zYUk9PVA' in parents and trashed=false and title contains 'Current'\", \n",
    "                            'corpora': 'teamDrive', \n",
    "                            'teamDriveId': '0AHSxuxDy84zYUk9PVA', \n",
    "                            'includeTeamDriveItems': True, \n",
    "                            'supportsTeamDrives': True}).GetList()\n",
    "for file in file_list:\n",
    "    print(file['title'], file['id'])"
   ]
  },
  {
   "cell_type": "code",
   "execution_count": null,
   "metadata": {},
   "outputs": [],
   "source": []
  }
 ],
 "metadata": {
  "kernelspec": {
   "display_name": "Python 3",
   "language": "python",
   "name": "python3"
  },
  "language_info": {
   "codemirror_mode": {
    "name": "ipython",
    "version": 3
   },
   "file_extension": ".py",
   "mimetype": "text/x-python",
   "name": "python",
   "nbconvert_exporter": "python",
   "pygments_lexer": "ipython3",
   "version": "3.6.8"
  }
 },
 "nbformat": 4,
 "nbformat_minor": 4
}
