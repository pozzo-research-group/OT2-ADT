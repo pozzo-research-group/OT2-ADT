{
 "cells": [
  {
   "cell_type": "code",
   "execution_count": 1,
   "metadata": {},
   "outputs": [],
   "source": [
    "from pydrive.auth import GoogleAuth\n",
    "from pydrive.drive import GoogleDrive"
   ]
  },
  {
   "cell_type": "code",
   "execution_count": 78,
   "metadata": {
    "scrolled": true
   },
   "outputs": [],
   "source": [
    "gauth = GoogleAuth()\n",
    "# gauth.LocalWebserverAuth()\n",
    "gauth.LoadCredentialsFile(\"OT2creds.txt\") \n",
    "drive = GoogleDrive(gauth) # seems to work once you delete client secrets so maybe can this credential file password locked after making from the pozzorg account"
   ]
  },
  {
   "cell_type": "code",
   "execution_count": 79,
   "metadata": {
    "scrolled": false
   },
   "outputs": [],
   "source": [
    "# With the team drive folder we start at the surface level with the shared team id and creating a dictionary with the \n",
    "# surface level folders and files and from here we can navigate down. \n",
    "\n",
    "def team_drive_dict(): # for now lets keep this static, will prompt to login for the team drive. \n",
    "    \"\"\"team_drive_id must be formatted with single quotations in the string, with the string datatype coming from double \n",
    "    quotation marks i.e. \"'team_drive_id'\" \"\"\" \n",
    "    \n",
    "    team_drive_folder_list = drive.ListFile({'q':\"'0AHSxuxDy84zYUk9PVA' in parents and trashed=false\", \n",
    "                                'corpora': 'teamDrive', \n",
    "                                'teamDriveId': '0AHSxuxDy84zYUk9PVA', \n",
    "                                'includeTeamDriveItems': True, \n",
    "                                'supportsTeamDrives': True}).GetList()\n",
    "\n",
    "    team_drive_id_dict = {}    \n",
    "    for file in team_drive_folder_list: # hmm the fact that this is static ID we can make into dictioanry\n",
    "        team_drive_id_dict[file['title']] =  file['id']\n",
    "    \n",
    "    return team_drive_id_dict\n",
    "\n",
    "def file_and_folder_navi(folder_id): # for now lets keep this static, will prompt to login for the team drive. \n",
    "    folder_id = '\"' + folder_id  + '\"'\n",
    "    \n",
    "    drive_list = drive.ListFile({'q':folder_id + \" in parents and trashed=false\", \n",
    "                                'corpora': 'teamDrive', \n",
    "                                'teamDriveId': '0AHSxuxDy84zYUk9PVA', \n",
    "                                'includeTeamDriveItems': True, \n",
    "                                'supportsTeamDrives': True}).GetList()\n",
    "\n",
    "    drive_dict = {}    \n",
    "    for file in drive_list: # hmm the fact that this is static ID we can make into dictioanry\n",
    "        drive_dict[file['title']] =  file['id']\n",
    "    \n",
    "    return drive_dict"
   ]
  },
  {
   "cell_type": "code",
   "execution_count": 80,
   "metadata": {
    "scrolled": false
   },
   "outputs": [
    {
     "name": "stdout",
     "output_type": "stream",
     "text": [
      "Your browser has been opened to visit:\n",
      "\n",
      "    https://accounts.google.com/o/oauth2/auth?client_id=976386138783-rlb4mpjsuqi7gf8qn60elpsdt46a4srl.apps.googleusercontent.com&redirect_uri=http%3A%2F%2Flocalhost%3A8080%2F&scope=https%3A%2F%2Fwww.googleapis.com%2Fauth%2Fdrive&access_type=offline&response_type=code\n",
      "\n",
      "Authentication successful.\n"
     ]
    },
    {
     "data": {
      "text/plain": [
       "{'Website': '1tmTZGkxJSvWx_6BCMXrkTVrVOv6tyBNy',\n",
       " 'Photos': '1jzn8Kco19sOZOX_ylvfXaXPDuyUhxeO6',\n",
       " 'Scattering Data (Zip)': '1mK7Ng9JN7QPdil97V0Qs-OD-K-_7FdnR',\n",
       " 'Current Members': '1dXYmxuESNhgmVHntEf8hnZmjK0Br8b64',\n",
       " 'Past Members': '1Vtib8bQXDWq0YcCTa2pfsdQg0TiDIo4e',\n",
       " 'Outreach': '1wFNFEO_Oh3ofvs_r_MU1srYby5g8MlTN',\n",
       " 'Lab Management': '1JO0pqhlxXKP-daj7q_vVuby_eAdqjS38',\n",
       " 'Papers and Presentations': '1HPSkjct2rMuef-M7YVd1gbNM8vXNy4zp',\n",
       " 'Collaborations': '1QNbjvEZRtFk4ftQFPWzt8kogPmvlYUc0'}"
      ]
     },
     "execution_count": 80,
     "metadata": {},
     "output_type": "execute_result"
    }
   ],
   "source": [
    "team_drive_dict() "
   ]
  },
  {
   "cell_type": "code",
   "execution_count": 81,
   "metadata": {
    "scrolled": true
   },
   "outputs": [
    {
     "data": {
      "text/plain": [
       "{'02_26_21_OuzoScan.xlsx': '1z-b9wmoc47qYw_D1OoO6wiL_x8VzKl_8',\n",
       " '02_26_21_OuzoScan.xpt': '1HAjgSXLnc85iTcZHbnURR60C9_4_2Kb8'}"
      ]
     },
     "execution_count": 81,
     "metadata": {},
     "output_type": "execute_result"
    }
   ],
   "source": [
    "file_and_folder_navi('19v4-bQnGwFyxoRpQAggCjAC4tgGVH7Fd')"
   ]
  },
  {
   "cell_type": "code",
   "execution_count": 82,
   "metadata": {},
   "outputs": [],
   "source": [
    "# Cool features to add: \n",
    "# Automatically create folder and return unique id\n",
    "# "
   ]
  },
  {
   "cell_type": "code",
   "execution_count": 83,
   "metadata": {},
   "outputs": [
    {
     "ename": "NameError",
     "evalue": "name 'gc' is not defined",
     "output_type": "error",
     "traceback": [
      "\u001b[1;31m---------------------------------------------------------------------------\u001b[0m",
      "\u001b[1;31mNameError\u001b[0m                                 Traceback (most recent call last)",
      "\u001b[1;32m<ipython-input-83-35e40ddb0381>\u001b[0m in \u001b[0;36m<module>\u001b[1;34m\u001b[0m\n\u001b[1;32m----> 1\u001b[1;33m \u001b[0mspreadsheet\u001b[0m \u001b[1;33m=\u001b[0m \u001b[0mgc\u001b[0m\u001b[1;33m.\u001b[0m\u001b[0mopen_by_key\u001b[0m\u001b[1;33m(\u001b[0m\u001b[1;34m'1vpukIbGZfK1IhCLFalBI3JT3aobySanJysv0k5A4oMg'\u001b[0m\u001b[1;33m)\u001b[0m \u001b[1;31m# use this when you have the key (the string in the url following spreadsheet/d/)\u001b[0m\u001b[1;33m\u001b[0m\u001b[1;33m\u001b[0m\u001b[0m\n\u001b[0m\u001b[0;32m      2\u001b[0m \u001b[0msheet\u001b[0m \u001b[1;33m=\u001b[0m  \u001b[0mspreadsheet\u001b[0m\u001b[1;33m.\u001b[0m\u001b[0mget_worksheet\u001b[0m\u001b[1;33m(\u001b[0m\u001b[1;36m0\u001b[0m\u001b[1;33m)\u001b[0m  \u001b[1;31m# 0 means the first sheet in the file\u001b[0m\u001b[1;33m\u001b[0m\u001b[1;33m\u001b[0m\u001b[0m\n\u001b[0;32m      3\u001b[0m \u001b[0mdf2\u001b[0m \u001b[1;33m=\u001b[0m \u001b[0mpd\u001b[0m\u001b[1;33m.\u001b[0m\u001b[0mDataFrame\u001b[0m\u001b[1;33m(\u001b[0m\u001b[0msheet\u001b[0m\u001b[1;33m.\u001b[0m\u001b[0mget_all_records\u001b[0m\u001b[1;33m(\u001b[0m\u001b[1;33m)\u001b[0m\u001b[1;33m)\u001b[0m\u001b[1;33m\u001b[0m\u001b[1;33m\u001b[0m\u001b[0m\n\u001b[0;32m      4\u001b[0m \u001b[0mdf2\u001b[0m\u001b[1;33m.\u001b[0m\u001b[0mhead\u001b[0m\u001b[1;33m(\u001b[0m\u001b[1;33m)\u001b[0m\u001b[1;33m\u001b[0m\u001b[1;33m\u001b[0m\u001b[0m\n",
      "\u001b[1;31mNameError\u001b[0m: name 'gc' is not defined"
     ]
    }
   ],
   "source": [
    "spreadsheet = gc.open_by_key('1vpukIbGZfK1IhCLFalBI3JT3aobySanJysv0k5A4oMg') # use this when you have the key (the string in the url following spreadsheet/d/)\n",
    "sheet =  spreadsheet.get_worksheet(0)  # 0 means the first sheet in the file\n",
    "df2 = pd.DataFrame(sheet.get_all_records())\n",
    "df2.head()"
   ]
  },
  {
   "cell_type": "code",
   "execution_count": 88,
   "metadata": {},
   "outputs": [
    {
     "ename": "FileNotDownloadableError",
     "evalue": "No downloadLink/exportLinks for mimetype found in metadata",
     "output_type": "error",
     "traceback": [
      "\u001b[1;31m---------------------------------------------------------------------------\u001b[0m",
      "\u001b[1;31mFileNotDownloadableError\u001b[0m                  Traceback (most recent call last)",
      "\u001b[1;32m<ipython-input-88-b8918f77d24f>\u001b[0m in \u001b[0;36m<module>\u001b[1;34m\u001b[0m\n\u001b[0;32m      5\u001b[0m                                \u001b[1;34m'includeTeamDriveItems'\u001b[0m\u001b[1;33m:\u001b[0m \u001b[1;32mTrue\u001b[0m\u001b[1;33m,\u001b[0m\u001b[1;33m\u001b[0m\u001b[1;33m\u001b[0m\u001b[0m\n\u001b[0;32m      6\u001b[0m                                'supportsTeamDrives': True})\n\u001b[1;32m----> 7\u001b[1;33m \u001b[0mdownloaded\u001b[0m\u001b[1;33m.\u001b[0m\u001b[0mGetContentFile\u001b[0m\u001b[1;33m(\u001b[0m\u001b[1;34m'Tasks'\u001b[0m\u001b[1;33m)\u001b[0m\u001b[1;33m\u001b[0m\u001b[1;33m\u001b[0m\u001b[0m\n\u001b[0m",
      "\u001b[1;32mc:\\users\\edwin\\appdata\\local\\programs\\python\\python36\\lib\\site-packages\\pydrive\\files.py\u001b[0m in \u001b[0;36mGetContentFile\u001b[1;34m(self, filename, mimetype, remove_bom)\u001b[0m\n\u001b[0;32m    208\u001b[0m                     \u001b[0mtype\u001b[0m\u001b[1;33m(\u001b[0m\u001b[0mself\u001b[0m\u001b[1;33m.\u001b[0m\u001b[0mcontent\u001b[0m\u001b[1;33m)\u001b[0m \u001b[1;32mis\u001b[0m \u001b[1;32mnot\u001b[0m \u001b[0mio\u001b[0m\u001b[1;33m.\u001b[0m\u001b[0mBytesIO\u001b[0m \u001b[1;32mor\u001b[0m\u001b[0;31m \u001b[0m\u001b[0;31m\\\u001b[0m\u001b[1;33m\u001b[0m\u001b[1;33m\u001b[0m\u001b[0m\n\u001b[0;32m    209\u001b[0m                     \u001b[0mself\u001b[0m\u001b[1;33m.\u001b[0m\u001b[0mhas_bom\u001b[0m \u001b[1;33m==\u001b[0m \u001b[0mremove_bom\u001b[0m\u001b[1;33m:\u001b[0m\u001b[1;33m\u001b[0m\u001b[1;33m\u001b[0m\u001b[0m\n\u001b[1;32m--> 210\u001b[1;33m       \u001b[0mself\u001b[0m\u001b[1;33m.\u001b[0m\u001b[0mFetchContent\u001b[0m\u001b[1;33m(\u001b[0m\u001b[0mmimetype\u001b[0m\u001b[1;33m,\u001b[0m \u001b[0mremove_bom\u001b[0m\u001b[1;33m)\u001b[0m\u001b[1;33m\u001b[0m\u001b[1;33m\u001b[0m\u001b[0m\n\u001b[0m\u001b[0;32m    211\u001b[0m     \u001b[0mf\u001b[0m \u001b[1;33m=\u001b[0m \u001b[0mopen\u001b[0m\u001b[1;33m(\u001b[0m\u001b[0mfilename\u001b[0m\u001b[1;33m,\u001b[0m \u001b[1;34m'wb'\u001b[0m\u001b[1;33m)\u001b[0m\u001b[1;33m\u001b[0m\u001b[1;33m\u001b[0m\u001b[0m\n\u001b[0;32m    212\u001b[0m     \u001b[0mf\u001b[0m\u001b[1;33m.\u001b[0m\u001b[0mwrite\u001b[0m\u001b[1;33m(\u001b[0m\u001b[0mself\u001b[0m\u001b[1;33m.\u001b[0m\u001b[0mcontent\u001b[0m\u001b[1;33m.\u001b[0m\u001b[0mgetvalue\u001b[0m\u001b[1;33m(\u001b[0m\u001b[1;33m)\u001b[0m\u001b[1;33m)\u001b[0m\u001b[1;33m\u001b[0m\u001b[1;33m\u001b[0m\u001b[0m\n",
      "\u001b[1;32mc:\\users\\edwin\\appdata\\local\\programs\\python\\python36\\lib\\site-packages\\pydrive\\files.py\u001b[0m in \u001b[0;36m_decorated\u001b[1;34m(self, *args, **kwargs)\u001b[0m\n\u001b[0;32m     41\u001b[0m     \u001b[1;32mif\u001b[0m \u001b[1;32mnot\u001b[0m \u001b[0mself\u001b[0m\u001b[1;33m.\u001b[0m\u001b[0muploaded\u001b[0m\u001b[1;33m:\u001b[0m\u001b[1;33m\u001b[0m\u001b[1;33m\u001b[0m\u001b[0m\n\u001b[0;32m     42\u001b[0m       \u001b[0mself\u001b[0m\u001b[1;33m.\u001b[0m\u001b[0mFetchMetadata\u001b[0m\u001b[1;33m(\u001b[0m\u001b[1;33m)\u001b[0m\u001b[1;33m\u001b[0m\u001b[1;33m\u001b[0m\u001b[0m\n\u001b[1;32m---> 43\u001b[1;33m     \u001b[1;32mreturn\u001b[0m \u001b[0mdecoratee\u001b[0m\u001b[1;33m(\u001b[0m\u001b[0mself\u001b[0m\u001b[1;33m,\u001b[0m \u001b[1;33m*\u001b[0m\u001b[0margs\u001b[0m\u001b[1;33m,\u001b[0m \u001b[1;33m**\u001b[0m\u001b[0mkwargs\u001b[0m\u001b[1;33m)\u001b[0m\u001b[1;33m\u001b[0m\u001b[1;33m\u001b[0m\u001b[0m\n\u001b[0m\u001b[0;32m     44\u001b[0m   \u001b[1;32mreturn\u001b[0m \u001b[0m_decorated\u001b[0m\u001b[1;33m\u001b[0m\u001b[1;33m\u001b[0m\u001b[0m\n\u001b[0;32m     45\u001b[0m \u001b[1;33m\u001b[0m\u001b[0m\n",
      "\u001b[1;32mc:\\users\\edwin\\appdata\\local\\programs\\python\\python36\\lib\\site-packages\\pydrive\\files.py\u001b[0m in \u001b[0;36mFetchContent\u001b[1;34m(self, mimetype, remove_bom)\u001b[0m\n\u001b[0;32m    263\u001b[0m     \u001b[1;32melse\u001b[0m\u001b[1;33m:\u001b[0m\u001b[1;33m\u001b[0m\u001b[1;33m\u001b[0m\u001b[0m\n\u001b[0;32m    264\u001b[0m       raise FileNotDownloadableError(\n\u001b[1;32m--> 265\u001b[1;33m         'No downloadLink/exportLinks for mimetype found in metadata')\n\u001b[0m\u001b[0;32m    266\u001b[0m \u001b[1;33m\u001b[0m\u001b[0m\n\u001b[0;32m    267\u001b[0m     \u001b[1;32mif\u001b[0m \u001b[0mmimetype\u001b[0m \u001b[1;33m==\u001b[0m \u001b[1;34m'text/plain'\u001b[0m \u001b[1;32mand\u001b[0m \u001b[0mremove_bom\u001b[0m\u001b[1;33m:\u001b[0m\u001b[1;33m\u001b[0m\u001b[1;33m\u001b[0m\u001b[0m\n",
      "\u001b[1;31mFileNotDownloadableError\u001b[0m: No downloadLink/exportLinks for mimetype found in metadata"
     ]
    }
   ],
   "source": [
    "# I am trying to open the google sheet in this but it is not allowing me \n",
    "\n",
    "file_id = '1fjYKEBBkr7bA-0Z1HdPkqqdnUv0wV10-9Q_nRuaOBVo'\n",
    "downloaded = drive.CreateFile({'id': file_id, \n",
    "                               'includeTeamDriveItems': True, \n",
    "                               'supportsTeamDrives': True})\n",
    "downloaded.GetContentFile('Tasks')"
   ]
  },
  {
   "cell_type": "code",
   "execution_count": null,
   "metadata": {},
   "outputs": [],
   "source": []
  }
 ],
 "metadata": {
  "kernelspec": {
   "display_name": "Python 3",
   "language": "python",
   "name": "python3"
  },
  "language_info": {
   "codemirror_mode": {
    "name": "ipython",
    "version": 3
   },
   "file_extension": ".py",
   "mimetype": "text/x-python",
   "name": "python",
   "nbconvert_exporter": "python",
   "pygments_lexer": "ipython3",
   "version": "3.6.8"
  }
 },
 "nbformat": 4,
 "nbformat_minor": 4
}
