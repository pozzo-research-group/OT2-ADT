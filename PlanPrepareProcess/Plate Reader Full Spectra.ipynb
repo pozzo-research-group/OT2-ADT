{
 "cells": [
  {
   "cell_type": "code",
   "execution_count": 1,
   "id": "usual-dakota",
   "metadata": {},
   "outputs": [],
   "source": [
    "import numpy as np\n",
    "import pandas as pd\n",
    "import matplotlib.pyplot as plt"
   ]
  },
  {
   "cell_type": "code",
   "execution_count": 2,
   "id": "subjective-trial",
   "metadata": {},
   "outputs": [],
   "source": [
    "full_data = pd.read_csv(r\"03_18_21_Synthesis_Plus_Spectra\")\n",
    "\n",
    "# def function identifier\n",
    "wavelength_columns = [col for col in full_data.columns if 'nm' in col]\n",
    "wavelengths = [float(wavelength.replace(\"nm\",\"\")) for wavelength in wavelength_columns]\n",
    "\n",
    "full_spectra = full_data[wavelength_columns]"
   ]
  },
  {
   "cell_type": "code",
   "execution_count": 26,
   "id": "electronic-balance",
   "metadata": {},
   "outputs": [
    {
     "name": "stderr",
     "output_type": "stream",
     "text": [
      "<ipython-input-26-37e5e5929ac1>:2: SettingWithCopyWarning: \n",
      "A value is trying to be set on a copy of a slice from a DataFrame.\n",
      "Try using .loc[row_indexer,col_indexer] = value instead\n",
      "\n",
      "See the caveats in the documentation: https://pandas.pydata.org/pandas-docs/stable/user_guide/indexing.html#returning-a-view-versus-a-copy\n",
      "  samples['ethanol wtf'] = samples['ethanol wtf'].round(3)\n",
      "<ipython-input-26-37e5e5929ac1>:6: SettingWithCopyWarning: \n",
      "A value is trying to be set on a copy of a slice from a DataFrame.\n",
      "Try using .loc[row_indexer,col_indexer] = value instead\n",
      "\n",
      "See the caveats in the documentation: https://pandas.pydata.org/pandas-docs/stable/user_guide/indexing.html#returning-a-view-versus-a-copy\n",
      "  blanks['ethanol wtf'] = blanks['ethanol wtf'].round(3)\n"
     ]
    },
    {
     "data": {
      "text/plain": [
       "(array([0.111, 0.147, 0.184, 0.221, 0.258, 0.295, 0.332, 0.368, 0.405,\n",
       "        0.442, 0.479, 0.516, 0.553, 0.589, 0.626, 0.663, 0.7  ]),\n",
       " array([0.111, 0.147, 0.184, 0.221, 0.258, 0.295, 0.332, 0.368, 0.405,\n",
       "        0.442, 0.479, 0.516, 0.553, 0.589, 0.626, 0.663, 0.7  ]))"
      ]
     },
     "execution_count": 26,
     "metadata": {},
     "output_type": "execute_result"
    }
   ],
   "source": [
    "samples = full_data[0:96]\n",
    "samples['ethanol wtf'] = samples['ethanol wtf'].round(3)\n",
    "samples_spectra = samples[wavelength_columns]\n",
    "\n",
    "blanks = full_data[(full_data['pfh wtf']==0) & (full_data['dppc wtf']==0) & (full_data['dspepeg200 wtf']==0)]\n",
    "blanks['ethanol wtf'] = blanks['ethanol wtf'].round(3)\n",
    "blanks_spectra = blanks[wavelength_columns]\n",
    "\n",
    "unique_ethanol_samples = samples['ethanol wtf'].unique()\n",
    "unique_ethanol_blanks = blanks['ethanol wtf'].unique()\n",
    "unique_ethanol_samples, unique_ethanol_blanks"
   ]
  },
  {
   "cell_type": "code",
   "execution_count": 27,
   "id": "deluxe-ethics",
   "metadata": {},
   "outputs": [],
   "source": [
    "# # If just want to look at single blanked samples \n",
    "# def plot_blanked(sample_indexes):\n",
    "#     for sample_index in sample_indexes: \n",
    "#         sample_single = samples.loc[sample_index]['ethanol wtf']\n",
    "#         sample_spec = samples_spectra.loc[sample_index].tolist()\n",
    "\n",
    "#         blank_single = blanks[blanks['ethanol wtf'].round(3) == samples.loc[sample_index]['ethanol wtf'].round(3)] \n",
    "#         blank_spec = blanks_spectra.loc[blank_single.index]\n",
    "\n",
    "#         blanked_spec = sample_spec - blank_spec\n",
    "#         plt.plot(wavelengths, blanked_spec[wavelength_columns].iloc[0])"
   ]
  },
  {
   "cell_type": "code",
   "execution_count": 28,
   "id": "indonesian-sound",
   "metadata": {},
   "outputs": [],
   "source": [
    "# plot_blanked(samples.index)"
   ]
  },
  {
   "cell_type": "code",
   "execution_count": 29,
   "id": "charming-table",
   "metadata": {
    "scrolled": true
   },
   "outputs": [
    {
     "name": "stdout",
     "output_type": "stream",
     "text": [
      "0.111 0.111\n",
      "0.147 0.147\n",
      "0.184 0.184\n",
      "0.221 0.221\n",
      "0.258 0.258\n",
      "0.295 0.295\n",
      "0.332 0.332\n",
      "0.368 0.368\n",
      "0.405 0.405\n",
      "0.442 0.442\n",
      "0.479 0.479\n",
      "0.516 0.516\n",
      "0.553 0.553\n",
      "0.589 0.589\n",
      "0.626 0.626\n",
      "0.663 0.663\n",
      "0.7 0.7\n"
     ]
    }
   ],
   "source": [
    "blanked_samples = []\n",
    "for sample_conc, blank_conc in zip(unique_ethanol_samples, unique_ethanol_blanks): #essentially to check enough blank concs exist to cover the samples\n",
    "    print(sample_conc, blank_conc)\n",
    "    if sample_conc == blank_conc: # checking to match the thing that is identifying what blank goes with what samples \n",
    "        unblanked_full = samples[samples['ethanol wtf']==blank_conc]\n",
    "        unblanked_spectra = samples_spectra.loc[unblanked_full.index]\n",
    "        \n",
    "        blank_full = blanks[blanks['ethanol wtf']==blank_conc]\n",
    "        blank_spectra = blanks_spectra.loc[blank_full.index]\n",
    "        \n",
    "        blanked_spectra = unblanked_spectra - blank_spectra.values\n",
    "        blanked_samples.append(blanked_spectra)\n",
    "    else: \n",
    "        pass\n",
    "\n",
    "blanked_samples_spectra = pd.concat(blanked_samples)\n",
    "blanked_samples = samples.copy() # making a new full one to add the new blanked spectra in\n",
    "blanked_samples[wavelength_columns] = blanked_samples_spectra"
   ]
  },
  {
   "cell_type": "code",
   "execution_count": 71,
   "id": "administrative-bolivia",
   "metadata": {
    "scrolled": true
   },
   "outputs": [
    {
     "name": "stdout",
     "output_type": "stream",
     "text": [
      "S2_B4_03-19-2021_Right\n",
      "S2_D3_03-19-2021_Right\n",
      "S2_F1_03-19-2021_Right\n",
      "S3_B8_03-19-2021_Right\n",
      "S3_D1_03-19-2021_Right\n",
      "S3_D8_03-19-2021_Right\n"
     ]
    },
    {
     "data": {
      "text/html": [
       "<div>\n",
       "<style scoped>\n",
       "    .dataframe tbody tr th:only-of-type {\n",
       "        vertical-align: middle;\n",
       "    }\n",
       "\n",
       "    .dataframe tbody tr th {\n",
       "        vertical-align: top;\n",
       "    }\n",
       "\n",
       "    .dataframe thead th {\n",
       "        text-align: right;\n",
       "    }\n",
       "</style>\n",
       "<table border=\"1\" class=\"dataframe\">\n",
       "  <thead>\n",
       "    <tr style=\"text-align: right;\">\n",
       "      <th></th>\n",
       "      <th>UID</th>\n",
       "      <th>dppc wtf</th>\n",
       "      <th>dspepeg200 wtf</th>\n",
       "      <th>pfh wtf</th>\n",
       "      <th>ethanol wtf</th>\n",
       "      <th>water wtf</th>\n",
       "      <th>Well</th>\n",
       "      <th>Labware</th>\n",
       "      <th>Slot</th>\n",
       "      <th>dppc-ethanol-stock uL</th>\n",
       "      <th>...</th>\n",
       "      <th>900.0nm</th>\n",
       "      <th>910.0nm</th>\n",
       "      <th>920.0nm</th>\n",
       "      <th>930.0nm</th>\n",
       "      <th>940.0nm</th>\n",
       "      <th>950.0nm</th>\n",
       "      <th>960.0nm</th>\n",
       "      <th>970.0nm</th>\n",
       "      <th>980.0nm</th>\n",
       "      <th>990.0nm</th>\n",
       "    </tr>\n",
       "  </thead>\n",
       "  <tbody>\n",
       "    <tr>\n",
       "      <th>11</th>\n",
       "      <td>S2_B4_03-19-2021_Right</td>\n",
       "      <td>0.000075</td>\n",
       "      <td>0.000035</td>\n",
       "      <td>0.000000</td>\n",
       "      <td>0.516</td>\n",
       "      <td>0.484101</td>\n",
       "      <td>B4</td>\n",
       "      <td>Falcon 48 Well Plate 1500 ÂµL</td>\n",
       "      <td>2</td>\n",
       "      <td>30.000002</td>\n",
       "      <td>...</td>\n",
       "      <td>0.063</td>\n",
       "      <td>0.065</td>\n",
       "      <td>0.064</td>\n",
       "      <td>0.068</td>\n",
       "      <td>0.075</td>\n",
       "      <td>0.090</td>\n",
       "      <td>0.110</td>\n",
       "      <td>0.120</td>\n",
       "      <td>0.125</td>\n",
       "      <td>0.129</td>\n",
       "    </tr>\n",
       "    <tr>\n",
       "      <th>26</th>\n",
       "      <td>S2_D3_03-19-2021_Right</td>\n",
       "      <td>0.000075</td>\n",
       "      <td>0.000035</td>\n",
       "      <td>0.000417</td>\n",
       "      <td>0.516</td>\n",
       "      <td>0.483684</td>\n",
       "      <td>D3</td>\n",
       "      <td>Falcon 48 Well Plate 1500 ÂµL</td>\n",
       "      <td>2</td>\n",
       "      <td>30.000002</td>\n",
       "      <td>...</td>\n",
       "      <td>0.061</td>\n",
       "      <td>0.063</td>\n",
       "      <td>0.061</td>\n",
       "      <td>0.065</td>\n",
       "      <td>0.071</td>\n",
       "      <td>0.085</td>\n",
       "      <td>0.103</td>\n",
       "      <td>0.113</td>\n",
       "      <td>0.118</td>\n",
       "      <td>0.121</td>\n",
       "    </tr>\n",
       "    <tr>\n",
       "      <th>40</th>\n",
       "      <td>S2_F1_03-19-2021_Right</td>\n",
       "      <td>0.000075</td>\n",
       "      <td>0.000035</td>\n",
       "      <td>0.000833</td>\n",
       "      <td>0.516</td>\n",
       "      <td>0.483267</td>\n",
       "      <td>F1</td>\n",
       "      <td>Falcon 48 Well Plate 1500 ÂµL</td>\n",
       "      <td>2</td>\n",
       "      <td>30.000002</td>\n",
       "      <td>...</td>\n",
       "      <td>0.061</td>\n",
       "      <td>0.064</td>\n",
       "      <td>0.063</td>\n",
       "      <td>0.067</td>\n",
       "      <td>0.073</td>\n",
       "      <td>0.087</td>\n",
       "      <td>0.105</td>\n",
       "      <td>0.115</td>\n",
       "      <td>0.120</td>\n",
       "      <td>0.123</td>\n",
       "    </tr>\n",
       "    <tr>\n",
       "      <th>63</th>\n",
       "      <td>S3_B8_03-19-2021_Right</td>\n",
       "      <td>0.000075</td>\n",
       "      <td>0.000035</td>\n",
       "      <td>0.001667</td>\n",
       "      <td>0.516</td>\n",
       "      <td>0.482434</td>\n",
       "      <td>B8</td>\n",
       "      <td>Falcon 48 Well Plate 1500 ÂµL</td>\n",
       "      <td>3</td>\n",
       "      <td>30.000002</td>\n",
       "      <td>...</td>\n",
       "      <td>0.061</td>\n",
       "      <td>0.063</td>\n",
       "      <td>0.062</td>\n",
       "      <td>0.066</td>\n",
       "      <td>0.072</td>\n",
       "      <td>0.086</td>\n",
       "      <td>0.103</td>\n",
       "      <td>0.113</td>\n",
       "      <td>0.119</td>\n",
       "      <td>0.123</td>\n",
       "    </tr>\n",
       "    <tr>\n",
       "      <th>72</th>\n",
       "      <td>S3_D1_03-19-2021_Right</td>\n",
       "      <td>0.000075</td>\n",
       "      <td>0.000035</td>\n",
       "      <td>0.002083</td>\n",
       "      <td>0.516</td>\n",
       "      <td>0.482017</td>\n",
       "      <td>D1</td>\n",
       "      <td>Falcon 48 Well Plate 1500 ÂµL</td>\n",
       "      <td>3</td>\n",
       "      <td>30.000002</td>\n",
       "      <td>...</td>\n",
       "      <td>0.066</td>\n",
       "      <td>0.069</td>\n",
       "      <td>0.067</td>\n",
       "      <td>0.071</td>\n",
       "      <td>0.077</td>\n",
       "      <td>0.092</td>\n",
       "      <td>0.110</td>\n",
       "      <td>0.120</td>\n",
       "      <td>0.125</td>\n",
       "      <td>0.130</td>\n",
       "    </tr>\n",
       "    <tr>\n",
       "      <th>79</th>\n",
       "      <td>S3_D8_03-19-2021_Right</td>\n",
       "      <td>0.000075</td>\n",
       "      <td>0.000035</td>\n",
       "      <td>0.002500</td>\n",
       "      <td>0.516</td>\n",
       "      <td>0.481601</td>\n",
       "      <td>D8</td>\n",
       "      <td>Falcon 48 Well Plate 1500 ÂµL</td>\n",
       "      <td>3</td>\n",
       "      <td>30.000002</td>\n",
       "      <td>...</td>\n",
       "      <td>0.060</td>\n",
       "      <td>0.062</td>\n",
       "      <td>0.061</td>\n",
       "      <td>0.065</td>\n",
       "      <td>0.071</td>\n",
       "      <td>0.085</td>\n",
       "      <td>0.103</td>\n",
       "      <td>0.112</td>\n",
       "      <td>0.118</td>\n",
       "      <td>0.122</td>\n",
       "    </tr>\n",
       "  </tbody>\n",
       "</table>\n",
       "<p>6 rows × 94 columns</p>\n",
       "</div>"
      ],
      "text/plain": [
       "                       UID  dppc wtf  dspepeg200 wtf   pfh wtf  ethanol wtf  \\\n",
       "11  S2_B4_03-19-2021_Right  0.000075        0.000035  0.000000        0.516   \n",
       "26  S2_D3_03-19-2021_Right  0.000075        0.000035  0.000417        0.516   \n",
       "40  S2_F1_03-19-2021_Right  0.000075        0.000035  0.000833        0.516   \n",
       "63  S3_B8_03-19-2021_Right  0.000075        0.000035  0.001667        0.516   \n",
       "72  S3_D1_03-19-2021_Right  0.000075        0.000035  0.002083        0.516   \n",
       "79  S3_D8_03-19-2021_Right  0.000075        0.000035  0.002500        0.516   \n",
       "\n",
       "    water wtf Well                        Labware  Slot  \\\n",
       "11   0.484101   B4  Falcon 48 Well Plate 1500 ÂµL     2   \n",
       "26   0.483684   D3  Falcon 48 Well Plate 1500 ÂµL     2   \n",
       "40   0.483267   F1  Falcon 48 Well Plate 1500 ÂµL     2   \n",
       "63   0.482434   B8  Falcon 48 Well Plate 1500 ÂµL     3   \n",
       "72   0.482017   D1  Falcon 48 Well Plate 1500 ÂµL     3   \n",
       "79   0.481601   D8  Falcon 48 Well Plate 1500 ÂµL     3   \n",
       "\n",
       "    dppc-ethanol-stock uL  ...  900.0nm  910.0nm  920.0nm  930.0nm  940.0nm  \\\n",
       "11              30.000002  ...    0.063    0.065    0.064    0.068    0.075   \n",
       "26              30.000002  ...    0.061    0.063    0.061    0.065    0.071   \n",
       "40              30.000002  ...    0.061    0.064    0.063    0.067    0.073   \n",
       "63              30.000002  ...    0.061    0.063    0.062    0.066    0.072   \n",
       "72              30.000002  ...    0.066    0.069    0.067    0.071    0.077   \n",
       "79              30.000002  ...    0.060    0.062    0.061    0.065    0.071   \n",
       "\n",
       "    950.0nm  960.0nm  970.0nm  980.0nm  990.0nm  \n",
       "11    0.090    0.110    0.120    0.125    0.129  \n",
       "26    0.085    0.103    0.113    0.118    0.121  \n",
       "40    0.087    0.105    0.115    0.120    0.123  \n",
       "63    0.086    0.103    0.113    0.119    0.123  \n",
       "72    0.092    0.110    0.120    0.125    0.130  \n",
       "79    0.085    0.103    0.112    0.118    0.122  \n",
       "\n",
       "[6 rows x 94 columns]"
      ]
     },
     "execution_count": 71,
     "metadata": {},
     "output_type": "execute_result"
    }
   ],
   "source": [
    "UID_of_interest = []\n",
    "for i, row in blanked_samples.iterrows():\n",
    "    UID = row['UID']\n",
    "    absorbs = row[wavelength_columns]\n",
    "    absorb_nm = absorbs.loc['500.0nm']\n",
    "    if absorb_nm < -0.01:\n",
    "        print(UID)\n",
    "        UID_of_interest.append(UID)\n",
    "samples[samples['UID'].isin(UID_of_interest)]"
   ]
  },
  {
   "cell_type": "code",
   "execution_count": 55,
   "id": "changed-cartridge",
   "metadata": {
    "scrolled": true
   },
   "outputs": [
    {
     "data": {
      "text/plain": [
       "(-0.1, 0.1)"
      ]
     },
     "execution_count": 55,
     "metadata": {},
     "output_type": "execute_result"
    },
    {
     "data": {
      "image/png": "[encoded data removed]",
      "text/plain": [
       "<Figure size 432x288 with 1 Axes>"
      ]
     },
     "metadata": {
      "needs_background": "light"
     },
     "output_type": "display_data"
    }
   ],
   "source": [
    "for i, row in blanked_samples_spectra.loc[8:].iterrows():\n",
    "    absorbances = list(row) \n",
    "    plt.plot(wavelengths, absorbances)\n",
    "    \n",
    "plt.xlim(300,900)\n",
    "plt.xlabel('Wavelength nm')\n",
    "plt.ylabel('AU')\n",
    "plt.ylim(-0.1, 0.1)"
   ]
  },
  {
   "cell_type": "code",
   "execution_count": 52,
   "id": "mobile-arrow",
   "metadata": {},
   "outputs": [
    {
     "data": {
      "text/plain": [
       "Text(0, 0.5, 'AU')"
      ]
     },
     "execution_count": 52,
     "metadata": {},
     "output_type": "execute_result"
    },
    {
     "data": {
      "image/png": "[encoded data removed]",
      "text/plain": [
       "<Figure size 432x288 with 1 Axes>"
      ]
     },
     "metadata": {
      "needs_background": "light"
     },
     "output_type": "display_data"
    }
   ],
   "source": [
    "for i, row in blanks_spectra.iterrows():\n",
    "    absorbances = list(row) \n",
    "    plt.plot(wavelengths, absorbances)\n",
    "plt.xlim(200,900)\n",
    "plt.xlabel('Wavelength nm')\n",
    "plt.ylabel('AU')"
   ]
  },
  {
   "cell_type": "code",
   "execution_count": 48,
   "id": "worth-video",
   "metadata": {},
   "outputs": [
    {
     "data": {
      "text/plain": [
       "Text(0, 0.5, 'AU')"
      ]
     },
     "execution_count": 48,
     "metadata": {},
     "output_type": "execute_result"
    },
    {
     "data": {
      "image/png": "[encoded data removed]",
      "text/plain": [
       "<Figure size 432x288 with 1 Axes>"
      ]
     },
     "metadata": {
      "needs_background": "light"
     },
     "output_type": "display_data"
    }
   ],
   "source": [
    "for i, row in full_data[0:len(blanked_samples_spectra)][wavelength_columns].iterrows():\n",
    "    absorbances = list(row) \n",
    "    plt.plot(wavelengths, absorbances)\n",
    "plt.xlim(200, 900)\n",
    "plt.xlabel('Wavelength nm')\n",
    "plt.ylabel('AU')"
   ]
  }
 ],
 "metadata": {
  "kernelspec": {
   "display_name": "Python 3",
   "language": "python",
   "name": "python3"
  },
  "language_info": {
   "codemirror_mode": {
    "name": "ipython",
    "version": 3
   },
   "file_extension": ".py",
   "mimetype": "text/x-python",
   "name": "python",
   "nbconvert_exporter": "python",
   "pygments_lexer": "ipython3",
   "version": "3.9.1"
  }
 },
 "nbformat": 4,
 "nbformat_minor": 5
}
