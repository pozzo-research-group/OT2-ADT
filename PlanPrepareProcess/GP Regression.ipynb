{
 "cells": [
  {
   "cell_type": "code",
   "execution_count": 1,
   "id": "capable-newman",
   "metadata": {},
   "outputs": [],
   "source": [
    "from Process import GPModeling as gpm\n",
    "import numpy as np\n",
    "\n",
    "from sklearn.gaussian_process import GaussianProcessRegressor\n",
    "from sklearn.gaussian_process.kernels import RBF, WhiteKernel, ConstantKernel as C\n",
    "from sklearn import preprocessing\n",
    "import matplotlib.pyplot as plt\n",
    "import matplotlib.colors as colors"
   ]
  },
  {
   "cell_type": "markdown",
   "id": "complex-tablet",
   "metadata": {},
   "source": [
    "# Step 1: Load Data Providing Path\n"
   ]
  },
  {
   "cell_type": "code",
   "execution_count": 2,
   "id": "aquatic-monroe",
   "metadata": {
    "scrolled": true
   },
   "outputs": [],
   "source": [
    "path1 = r\"C:\\Users\\Edwin\\Desktop\\OT2-DOE\\PlanPrepareProcess\\Temp or Working\\06_28_21_ODE_SDS_Blanked_Abs\"\n",
    "# path1 = r\"C:\\Users\\Edwin\\Desktop\\OT2-DOE\\PlanPrepareProcess\\Temp or Working\\06_08_21_5CB_Blanked_Abs_POTFIX\""
   ]
  },
  {
   "cell_type": "code",
   "execution_count": 3,
   "id": "architectural-thickness",
   "metadata": {},
   "outputs": [],
   "source": [
    "full_data = gpm.load_datadf(path1)\n",
    "# SDS = full_data['SDS concentration wtf'].unique()[1]\n",
    "# full_data =  full_data[full_data['SDS concentration wtf']==SDS]"
   ]
  },
  {
   "cell_type": "markdown",
   "id": "secure-cooking",
   "metadata": {},
   "source": [
    "# Step 2: Apply any filters due to errors (i.e. foaming or other notable observation)\n"
   ]
  },
  {
   "cell_type": "code",
   "execution_count": 4,
   "id": "hazardous-stand",
   "metadata": {
    "scrolled": true
   },
   "outputs": [],
   "source": [
    "# full_data = full_data # [full_data['400.0nm']<0.2]\n",
    "# full_data = full_data[full_data['450.0nm']>0]\n",
    "# full_data = full_data[full_data['400.0nm']<0.10]"
   ]
  },
  {
   "cell_type": "markdown",
   "id": "warming-definition",
   "metadata": {},
   "source": [
    "# Step 3: Extract Spectras"
   ]
  },
  {
   "cell_type": "code",
   "execution_count": 5,
   "id": "native-reality",
   "metadata": {
    "scrolled": true
   },
   "outputs": [],
   "source": [
    "wavelength_columns = [col for col in full_data.columns if 'nm' in col]\n",
    "wavelengths = [float(wavelength.replace(\"nm\",\"\")) for wavelength in wavelength_columns]\n",
    "full_spectra_data = full_data[wavelength_columns]\n",
    "full_spectra_data = full_spectra_data.round(3)"
   ]
  },
  {
   "cell_type": "code",
   "execution_count": 6,
   "id": "worse-spirit",
   "metadata": {
    "scrolled": true
   },
   "outputs": [
    {
     "data": {
      "text/plain": [
       "<matplotlib.colorbar.Colorbar at 0x1b19d146b80>"
      ]
     },
     "execution_count": 6,
     "metadata": {},
     "output_type": "execute_result"
    },
    {
     "data": {
      "image/png": "[encoded data removed]",
      "text/plain": [
       "<Figure size 432x288 with 2 Axes>"
      ]
     },
     "metadata": {
      "needs_background": "light"
     },
     "output_type": "display_data"
    }
   ],
   "source": [
    "x_data = full_data['ethanol concentration wtf'].tolist()\n",
    "y_data = full_data['ODE concentration wtf'].tolist()\n",
    "z_data = full_spectra_data['400.0nm'].tolist()\n",
    "\n",
    "plt.scatter(x_data, y_data, c = z_data)\n",
    "plt.colorbar()\n",
    "\n",
    "# for i, row in full_spectra_data.iterrows():\n",
    "#     row = list(row)\n",
    "#     plt.plot(wavelengths,row)\n",
    "# plt.xlabel('Wavelength nm')\n",
    "# plt.ylabel('AU')"
   ]
  },
  {
   "cell_type": "code",
   "execution_count": 7,
   "id": "extensive-updating",
   "metadata": {},
   "outputs": [],
   "source": [
    "# load and standardize data\n",
    "x1_training = np.asarray(x_data)\n",
    "x2_training = np.asarray(y_data)\n",
    "y_training = np.asarray(z_data)\n",
    "\n",
    "x1_training_scaled, x1_scaler = gpm.standardize_training(x1_training)\n",
    "x2_training_scaled, x2_scaler = gpm.standardize_training(x2_training)\n",
    "y_training_scaled, y_scaler = gpm.standardize_training(y_training)\n",
    "x1x2_training_scaled = np.asarray([x1_training_scaled[:,0], x2_training_scaled[:,0]]).T"
   ]
  },
  {
   "cell_type": "code",
   "execution_count": 8,
   "id": "intelligent-island",
   "metadata": {
    "scrolled": true
   },
   "outputs": [
    {
     "data": {
      "text/plain": [
       "0.8976880522347107"
      ]
     },
     "execution_count": 8,
     "metadata": {},
     "output_type": "execute_result"
    }
   ],
   "source": [
    "# set min/max\n",
    "scale = 1.5\n",
    "x1_sct_min = min(x1_training_scaled) + min(x1_training_scaled)*scale\n",
    "x1_sct_max = max(x1_training_scaled) + max(x1_training_scaled)*scale\n",
    "x2_sct_min = min(x2_training_scaled) + min(x2_training_scaled)*scale\n",
    "x2_sct_max = max(x2_training_scaled) + max(x2_training_scaled)*scale\n",
    "\n",
    "\n",
    "# Create the model and fit the data \n",
    "# kernal = 1.0 * RBF(length_scale=1, length_scale_bounds=(1E-6,10)) \\\n",
    "#     + WhiteKernel(noise_level=1, noise_level_bounds=(1e-10, 1e+1)) \n",
    "kernal = 1.0 * RBF(length_scale=60, length_scale_bounds=(1e-3, 1)) \\\n",
    "    + WhiteKernel(noise_level=1, noise_level_bounds=(1e-10, 1e+1)) \n",
    "\n",
    "gpmodel = GaussianProcessRegressor(kernel=kernal, n_restarts_optimizer=10,alpha=0.05, normalize_y=True) # random_state=42\n",
    "gpmodel.fit(x1x2_training_scaled, y_training_scaled)\n",
    "\n",
    "# test data is inherently scaled given the inputs, if not then would need to rescale\n",
    "x1_test = np.linspace(x1_sct_min,x1_sct_max,100)\n",
    "x2_test = np.linspace(x2_sct_min,x2_sct_max,100)\n",
    "x1x2_test = gpm.create_product_mesh(x1_test, x2_test)\n",
    "\n",
    "# Run the test data through and convert results back from standardized to original units\n",
    "x1_test_ex = x1x2_test[:,0][:,0]\n",
    "x2_test_ex = x1x2_test[:,1][:,0]\n",
    "x1x2_test_reform = np.asarray([x1_test_ex, x2_test_ex]).T\n",
    "y_pred, MSE = gpmodel.predict(x1x2_test_reform, return_std=True) \n",
    "\n",
    "x1_test_org = x1_scaler.inverse_transform(x1x2_test[:,0]) \n",
    "x2_test_org = x2_scaler.inverse_transform(x1x2_test[:,1])\n",
    "y_pred_org = y_scaler.inverse_transform(y_pred)\n",
    "\n",
    "# Select data of interst and create meshes\n",
    "x1 = x1_training\n",
    "x2 = x2_training\n",
    "y = y_training\n",
    "\n",
    "dim_x1_test = x1_test.shape[0] # diff\n",
    "dim_x2_test = x2_test.shape[0]\n",
    "\n",
    "x1_mesh_prep = np.asarray([round(i,12) for i in x1_test_org[:,0]])\n",
    "x2_mesh_prep = np.asarray([round(i,12) for i in x2_test_org[:,0]])\n",
    "y_mesh_prep = np.asarray([round(i,5) for i in y_pred_org[:,0]])\n",
    "\n",
    "X1 = x1_mesh_prep.reshape(dim_x2_test, dim_x1_test)\n",
    "X2 = x2_mesh_prep.reshape(dim_x2_test, dim_x1_test)\n",
    "Y = np.reshape(y_mesh_prep,(dim_x2_test, dim_x1_test))\n",
    "\n",
    "gpmodel.score(x1x2_training_scaled, y_training_scaled)\n",
    "\n",
    "# hmm play with this score and see what you can change in your kernal to modify it"
   ]
  },
  {
   "cell_type": "code",
   "execution_count": 9,
   "id": "stupid-tomato",
   "metadata": {
    "scrolled": false
   },
   "outputs": [
    {
     "data": {
      "text/plain": [
       "(-0.0001, 0.0011)"
      ]
     },
     "execution_count": 9,
     "metadata": {},
     "output_type": "execute_result"
    },
    {
     "data": {
      "image/png": "[encoded data removed]",
      "text/plain": [
       "<Figure size 432x288 with 2 Axes>"
      ]
     },
     "metadata": {
      "needs_background": "light"
     },
     "output_type": "display_data"
    }
   ],
   "source": [
    "fig, ax = plt.subplots(1)\n",
    "vmin = min(z_data)#Y.min()\n",
    "vmax = 1#Y.max()\n",
    "norm =colors.Normalize(vmin=vmin,vmax=vmax) \n",
    "\n",
    "mappable = ax.pcolormesh(X1,X2,Y, norm=norm, shading = 'auto',cmap='jet')\n",
    "cbar = fig.colorbar(mappable)\n",
    "cbar.ax.set_ylabel('AU at 400nm')\n",
    "ax.scatter(x1,x2,c=y, norm=norm, edgecolors='k',cmap='jet')\n",
    "ax.set_xlabel('Ethanol wtf')\n",
    "ax.set_ylabel('ODE wtf')\n",
    "ax.set_xlim(0.15,0.85)\n",
    "ax.set_ylim(-0.0001,0.0011)\n",
    "# plt.plot([0,1],[,0.05], c='r')\n",
    "# ax.plot([0,1],[0,0.05], c='r')\n",
    "# ax.set_title('SDS '+str(SDS) + ' wtf')\n",
    "# x1a, x2a, y2a = gpm.xyz_in_between_z(vmin+vmax/2,vmax, x1_mesh_prep,x2_mesh_prep,y_mesh_prep)\n",
    "# gpm.create_hull(x1a, x2a, graph=True)\n"
   ]
  },
  {
   "cell_type": "code",
   "execution_count": 33,
   "id": "african-northeast",
   "metadata": {},
   "outputs": [
    {
     "data": {
      "text/plain": [
       "<scipy.spatial.qhull.ConvexHull at 0x24fee126d30>"
      ]
     },
     "execution_count": 33,
     "metadata": {},
     "output_type": "execute_result"
    },
    {
     "data": {
      "image/png": "[encoded data removed]",
      "text/plain": [
       "<Figure size 432x288 with 2 Axes>"
      ]
     },
     "metadata": {
      "needs_background": "light"
     },
     "output_type": "display_data"
    }
   ],
   "source": [
    "\n",
    "# Scatter plots for contour plot\n",
    "fig, ax = plt.subplots(1)\n",
    "\n",
    "vmin = min(y) \n",
    "vmax = max(y)\n",
    "\n",
    "norm =colors.Normalize(vmin=vmin,vmax=vmax) \n",
    "cs = ax.contourf(X1,X2,Y, cmap='jet', norm=norm)\n",
    "cbar = fig.colorbar(cs)\n",
    "\n",
    "cbar.ax.set_ylabel('AU at 400nm')\n",
    "ax.set_xlabel('Ethanol wtf')\n",
    "ax.set_ylabel('PFH wtf')\n",
    "\n",
    "ax.set_xlim(0.4,1)\n",
    "ax.set_ylim(0, 0.0025)\n",
    "ax.scatter(x1,x2,c=y, norm=norm, edgecolors='k',cmap='jet')\n",
    "\n",
    "ax.set_xlim(0.05,0.85)\n",
    "ax.set_ylim(-0.0001,0.0011)\n",
    "\n",
    "x1a, x2a, y2a = gpm.xyz_in_between_z(0.8,2, x1_mesh_prep,x2_mesh_prep,y_mesh_prep)\n",
    "gpm.create_hull(x1a, x2a, graph=True)\n",
    "\n",
    "# x1b, x2b, y2b = gpm.xyz_in_between_z(0.03,0.050, x1_mesh_prep,x2_mesh_prep,y_mesh_prep)\n",
    "# gpm.create_hull(x1b, x2b, graph=True)"
   ]
  },
  {
   "cell_type": "code",
   "execution_count": null,
   "id": "worthy-promise",
   "metadata": {},
   "outputs": [],
   "source": [
    "# BROKEN BELOW"
   ]
  },
  {
   "cell_type": "code",
   "execution_count": 10,
   "id": "offensive-little",
   "metadata": {},
   "outputs": [
    {
     "ename": "NameError",
     "evalue": "name 'comp1' is not defined",
     "output_type": "error",
     "traceback": [
      "\u001b[1;31m---------------------------------------------------------------------------\u001b[0m",
      "\u001b[1;31mNameError\u001b[0m                                 Traceback (most recent call last)",
      "\u001b[1;32m<ipython-input-10-63096f184a19>\u001b[0m in \u001b[0;36m<module>\u001b[1;34m\u001b[0m\n\u001b[1;32m----> 1\u001b[1;33m \u001b[0mdppc_conc\u001b[0m \u001b[1;33m=\u001b[0m \u001b[0mcomp1\u001b[0m\u001b[1;33m[\u001b[0m\u001b[1;36m0\u001b[0m\u001b[1;33m]\u001b[0m\u001b[1;33m\u001b[0m\u001b[1;33m\u001b[0m\u001b[0m\n\u001b[0m\u001b[0;32m      2\u001b[0m \u001b[0mdspepef_conc\u001b[0m \u001b[1;33m=\u001b[0m \u001b[0mcomp2\u001b[0m\u001b[1;33m[\u001b[0m\u001b[1;36m0\u001b[0m\u001b[1;33m]\u001b[0m\u001b[1;33m\u001b[0m\u001b[1;33m\u001b[0m\u001b[0m\n\u001b[0;32m      3\u001b[0m \u001b[1;31m# Scatter plots for contour plot\u001b[0m\u001b[1;33m\u001b[0m\u001b[1;33m\u001b[0m\u001b[1;33m\u001b[0m\u001b[0m\n\u001b[0;32m      4\u001b[0m \u001b[0mfig\u001b[0m\u001b[1;33m,\u001b[0m \u001b[0max\u001b[0m \u001b[1;33m=\u001b[0m \u001b[0mplt\u001b[0m\u001b[1;33m.\u001b[0m\u001b[0msubplots\u001b[0m\u001b[1;33m(\u001b[0m\u001b[1;36m1\u001b[0m\u001b[1;33m)\u001b[0m\u001b[1;33m\u001b[0m\u001b[1;33m\u001b[0m\u001b[0m\n\u001b[0;32m      5\u001b[0m \u001b[1;33m\u001b[0m\u001b[0m\n",
      "\u001b[1;31mNameError\u001b[0m: name 'comp1' is not defined"
     ]
    }
   ],
   "source": [
    "dppc_conc = comp1[0]\n",
    "dspepef_conc = comp2[0]\n",
    "# Scatter plots for contour plot\n",
    "fig, ax = plt.subplots(1)\n",
    "\n",
    "vmin = min(y) \n",
    "vmax = max(y)\n",
    "\n",
    "norm =colors.Normalize(vmin=vmin,vmax=vmax) \n",
    "# cs = ax.contourf(X1,X2,Y, cmap='jet', norm=norm)\n",
    "# cbar = fig.colorbar(cs)\n",
    "\n",
    "# cbar.ax.set_ylabel('AU at 400nm')\n",
    "ax.set_xlabel('Ethanol wtf')\n",
    "ax.set_ylabel('PFH wtf')\n",
    "ax.set_title(str(percent_random)+' Percent of Original Samples')\n",
    "# ax.text(0.4,0.0025, 'HII)\n",
    "ax.set_xlim(0.6,0.8)\n",
    "ax.set_ylim(0, 0.0015)\n",
    "total = ax.scatter(x1,x2,c='blue', norm=norm, edgecolors='k',cmap='jet')\n",
    "x1a, x2a, y2a = xyz_in_between_z(0.065,0.11, x1_mesh_prep,x2_mesh_prep,y_mesh_prep)\n",
    "x1b, x2b, y2b = xyz_in_between_z(0.03,0.050, x1_mesh_prep,x2_mesh_prep,y_mesh_prep)\n",
    "\n",
    "hulla = create_hull(x1a, x2a, graph=True)\n",
    "hull_2d_pointsa = np.asarray([x1a, x2a]).T[0]\n",
    "hullb = create_hull(x1b, x2b, graph=True)\n",
    "hull_2d_pointsb = np.asarray([x1b, x2b]).T[0]\n",
    "\n",
    "hull_1scatter =[]\n",
    "for x1i,x2i in zip(x1,x2):\n",
    "    if point_in_hull(hulla,hull_2d_pointsa,x1i,x2i) == True:\n",
    "        hull_1scatter.append([x1i,x2i])\n",
    "hull_1scatter = np.asarray(hull_1scatter)        \n",
    "plt.fill(hull_2d_pointsa[hulla.vertices,0], hull_2d_pointsa[hulla.vertices,1], 'aqua', alpha=0.3)\n",
    "a = plt.scatter(hull_1scatter[:,0],hull_1scatter[:,1] , c='red',edgecolors='k')\n",
    "\n",
    "hull_2scatter =[]\n",
    "for x1i,x2i in zip(x1,x2):\n",
    "    if point_in_hull(hullb,hull_2d_pointsb,x1i,x2i) == True:\n",
    "        hull_2scatter.append([x1i,x2i])\n",
    "hull_2scatter = np.asarray(hull_2scatter)        \n",
    "b = plt.scatter(hull_2scatter[:,0],hull_2scatter[:,1],c='grey', linewidth=0)\n",
    "\n",
    "\n",
    "plt.legend((total, a, b),\n",
    "           ('Classification A', 'Classification B', 'Classification C'),\n",
    "           scatterpoints=1,\n",
    "           loc='upper left',\n",
    "           ncol=1,\n",
    "           fontsize=8)\n",
    "\n",
    "# classify select if greater than x value, then draw convex hull"
   ]
  },
  {
   "cell_type": "code",
   "execution_count": null,
   "id": "oriental-notebook",
   "metadata": {
    "scrolled": true
   },
   "outputs": [],
   "source": [
    "# Scatter plots for contour plot\n",
    "fig, ax = plt.subplots(1)\n",
    "\n",
    "\n",
    "\n",
    "vmin = min(y) \n",
    "vmax = max(y)\n",
    "norm =colors.Normalize(vmin=vmin,vmax=vmax) \n",
    "# mappable = ax.pcolormesh(X1,X2,Y, norm=norm, shading = 'auto',cmap='jet')\n",
    "cs = ax.contourf(X1,X2,Y, cmap='jet', norm=norm)\n",
    "cbar = fig.colorbar(mappable)\n",
    "cbar.ax.set_ylabel('AU at 400nm')\n",
    "\n",
    "ax.set_xlabel('Ethanol wtf')\n",
    "ax.set_ylabel('PFH wtf')\n",
    "# ax.set_xlim([0.5,1])\n",
    "# ax.set_ylim(0, 0.0025)\n",
    "for coll in cs.collections:\n",
    "    coll.set_clip_path(p)\n",
    "    \n",
    "    \n",
    "# ax.scatter(x1,x2,c=y, norm=norm, edgecolors='k',cmap='jet')"
   ]
  },
  {
   "cell_type": "code",
   "execution_count": null,
   "id": "awful-roman",
   "metadata": {},
   "outputs": [],
   "source": [
    "fig, ax = plt.subplots(1)\n",
    "ax.tricontour(x1, x2, levels=14, linewidths=0.5, colors='k')"
   ]
  },
  {
   "cell_type": "code",
   "execution_count": null,
   "id": "regulation-finnish",
   "metadata": {},
   "outputs": [],
   "source": [
    "# Scatter plots for contour plot\n",
    "fig, ax = plt.subplots(1)\n",
    "\n",
    "vmin = min(y) \n",
    "vmax = max(y)\n",
    "norm =colors.Normalize(vmin=vmin,vmax=vmax) \n",
    "cs = ax.contourf(X1,X2,Y, cmap='jet', norm=norm)\n",
    "cbar = fig.colorbar(cs)\n",
    "# mappable = ax.pcolormesh(X1,X2,Y, norm=norm, shading = 'auto',cmap='jet')\n",
    "cbar.ax.set_ylabel('AU at 400nm')\n",
    "ax.scatter(x1,x2,c=y, norm=norm, edgecolors='k',cmap='jet')\n",
    "ax.set_xlabel('Ethanol wtf')\n",
    "ax.set_ylabel('PFH wtf')\n",
    "ax.set_xlim(0.4, 1)\n",
    "ax.set_ylim(0, 0.0025)\n",
    "ax.scatter(x1,x2,c=y, norm=norm,cmap='jet')"
   ]
  },
  {
   "cell_type": "code",
   "execution_count": null,
   "id": "guilty-monte",
   "metadata": {},
   "outputs": [],
   "source": []
  },
  {
   "cell_type": "code",
   "execution_count": null,
   "id": "clear-comfort",
   "metadata": {
    "scrolled": true
   },
   "outputs": [],
   "source": [
    "%matplotlib qt\n",
    "# populate outline with expl. of what you are doing here: What is robust scalar, fundamentals of model and limitations. \n",
    "# Contour plot, with convex hull\n",
    "\n",
    "fig = plt.figure()\n",
    "ax = fig.add_subplot(111, projection='3d')\n",
    "ax.scatter(x1,x2,y, c=y, norm=norm, cmap='jet')\n",
    "ax.plot_surface(X=X1, Y=X2, Z=Y, norm=norm, rstride=1, alpha =0.1, cstride=1, cmap='jet', linewidth=0, antialiased=False)\n",
    "\n",
    "cbaxes = fig.add_axes([0.7, 0.85, 0.2, 0.03]) \n",
    "cb = fig.colorbar(cm.ScalarMappable(norm=norm,cmap='jet'), shrink=0.3, aspect=5, cax = cbaxes, orientation='horizontal')\n",
    "cb.ax.set_title('AU at 400nm', rotation=0)\n",
    "\n",
    "ax.set_xlabel('Ethanol (wtf)')\n",
    "ax.set_ylabel('Perfluorocarbon (wtf)')\n",
    "ax.set_zlabel('AU at 400nm')\n",
    "# ax.set_zlim(0.0,0.1)\n",
    "\n",
    "# ax.contourf(X1,X2,Y, zdir='z',offset=0.04, cmap='jet', norm=norm)\n",
    "# for coll in cs.collections:\n",
    "#     coll.set_clip_path(p)"
   ]
  },
  {
   "cell_type": "code",
   "execution_count": null,
   "id": "mental-viking",
   "metadata": {
    "scrolled": true
   },
   "outputs": [],
   "source": [
    "xI = x1_mesh_prep[:,0].tolist()\n",
    "yI = x2_mesh_prep[:,0].tolist()\n",
    "zI = y_mesh_prep[:,0].tolist()\n",
    "\n",
    "fig = plt.figure()\n",
    "ax = fig.gca(projection='3d')\n",
    "ax.plot_trisurf(xI,yI,zI)\n",
    "ax.scatter(x1,x2,y, c=y, norm=norm, cmap='jet')\n"
   ]
  },
  {
   "cell_type": "code",
   "execution_count": null,
   "id": "significant-portrait",
   "metadata": {},
   "outputs": [],
   "source": [
    "from mpl_toolkits.mplot3d import Axes3D\n",
    "import matplotlib.pyplot as plt\n",
    "import numpy as np\n",
    "\n",
    "\n",
    "n_radii = 8\n",
    "n_angles = 36\n",
    "\n",
    "# Make radii and angles spaces (radius r=0 omitted to eliminate duplication).\n",
    "radii = np.linspace(0.125, 1.0, n_radii)\n",
    "angles = np.linspace(0, 2*np.pi, n_angles, endpoint=False)\n",
    "\n",
    "# Repeat all angles for each radius.\n",
    "angles = np.repeat(angles[..., np.newaxis], n_radii, axis=1)\n",
    "\n",
    "# Convert polar (radii, angles) coords to cartesian (x, y) coords.\n",
    "# (0, 0) is manually added at this stage,  so there will be no duplicate\n",
    "# points in the (x, y) plane.\n",
    "x = np.append(0, (radii*np.cos(angles)).flatten())\n",
    "y = np.append(0, (radii*np.sin(angles)).flatten())\n",
    "\n",
    "# Compute z to make the pringle surface.\n",
    "z = np.sin(-x*y)\n",
    "\n",
    "fig = plt.figure()\n",
    "ax = fig.gca(projection='3d')\n",
    "\n",
    "ax.plot_trisurf(x, y, z, linewidth=0.2, antialiased=True)\n",
    "\n",
    "plt.show()\n",
    "x.shape"
   ]
  },
  {
   "cell_type": "code",
   "execution_count": null,
   "id": "armed-socket",
   "metadata": {},
   "outputs": [],
   "source": [
    "y_mesh_prep.shape"
   ]
  },
  {
   "cell_type": "code",
   "execution_count": null,
   "id": "knowing-generation",
   "metadata": {
    "scrolled": true
   },
   "outputs": [],
   "source": [
    "# plot with MSE\n",
    "# populate outline with expl. of what you are doing here: What is robust scalar, fundamentals of model and limitations. \n",
    "# Contour plot, with convex hull\n",
    "\n",
    "fig = plt.figure()\n",
    "ax = fig.add_subplot(111, projection='3d')\n",
    "ax.scatter(x1,x2,y, c=y, norm=norm, cmap='jet')\n",
    "surf = ax.plot_surface(X=X1, Y=X2, Z=Y, norm=norm, rstride=1, alpha =0.1, cstride=1, cmap='jet', linewidth=0, antialiased=False)\n",
    "\n",
    "cbaxes = fig.add_axes([0.7, 0.85, 0.2, 0.03]) \n",
    "cb = fig.colorbar(cm.ScalarMappable(norm=norm,cmap='jet'), shrink=0.3, aspect=5, cax = cbaxes, orientation='horizontal')\n",
    "cb.ax.set_title('AU at 400nm', rotation=0)\n",
    "\n",
    "ax.set_xlabel('Ethanol (wtf)')\n",
    "ax.set_ylabel('Perfluorocarbon (wtf)')\n",
    "ax.set_zlabel('AU at 400nm')\n",
    "# ax.set_zlim(0.0,0.1)\n",
    "\n",
    "\n",
    "for coll in surf.collections:\n",
    "    coll.set_clip_path(p)"
   ]
  },
  {
   "cell_type": "code",
   "execution_count": null,
   "id": "thorough-unemployment",
   "metadata": {},
   "outputs": [],
   "source": [
    "hull = create_hull(x1_training[:, np.newaxis],x2_training[:, np.newaxis], graph=True)    \n",
    "\n",
    "hull_indices = hull.vertices\n",
    "hull_pts = pts[hull_indices, :]\n",
    "\n",
    "\n",
    "y = hull_pts\n",
    "\n",
    "p = Polygon(y, facecolor = 'k')\n",
    "\n",
    "fig,ax = plt.subplots()\n",
    "\n",
    "ax.add_patch(p)\n",
    "ax.set_xlim(0.4, 1)\n",
    "ax.set_ylim(0, 0.0025)\n",
    "plt.show()\n",
    "\n",
    "# Scatter plots for contour plot\n",
    "fig, ax = plt.subplots(1)\n",
    "\n",
    "cs = ax.contourf(X1,X2,Y)\n",
    "ax.scatter(x1_training,x2_training)\n",
    "ax.set_xlabel('Ethanol wtf')\n",
    "ax.set_ylabel('PFH wtf')\n",
    "\n",
    "ax.set_xlim(0.4, 1)\n",
    "ax.set_ylim(0, 0.0025)\n",
    "for coll in cs.collections:\n",
    "    coll.set_clip_path(p)"
   ]
  },
  {
   "cell_type": "code",
   "execution_count": null,
   "id": "accompanied-plenty",
   "metadata": {},
   "outputs": [],
   "source": [
    "\n",
    "import matplotlib.pyplot as plt\n",
    "from matplotlib.path import Path\n",
    "from matplotlib.patches import PathPatch\n",
    "from matplotlib.mlab import griddata\n",
    "import numpy as np\n",
    "import pandas as pd\n",
    "\n",
    "df = pd.DataFrame({'x':[0, 0, 1, 1, 3, 3, 3, 4, 4, 4], \n",
    "                   'y':[0, 1, 0, 1, 0.2, 0.7, 1.4, 0.2, 1.4, 2], \n",
    "                   'z':[50, 40, 40, 30, 30, 30, 20, 20, 20, 10]})\n",
    "\n",
    "x = df['x']\n",
    "y = df['y']\n",
    "z = df['z']\n",
    "\n",
    "xi = np.linspace(x.min(), x.max(), 100)\n",
    "yi = np.linspace(y.min(), y.max(), 100)\n",
    "z_grid = griddata(x, y, z, xi, yi, interp='linear')\n",
    "\n",
    "clipindex = [ [0,2,4,7,8,9,6,3,1,0],\n",
    "              [0,2,4,7,5,8,9,6,3,1,0],\n",
    "              [0,2,4,7,8,9,6,5,3,1,0]]\n",
    "\n",
    "fig, axes = plt.subplots(ncols=3, sharey=True)\n",
    "for i, ax in enumerate(axes):\n",
    "    cont = ax.contourf(xi, yi, z_grid, 15)\n",
    "    ax.scatter(x, y, color='k') # The original data points\n",
    "    ax.plot(x[clipindex[i]], y[clipindex[i]], color=\"crimson\")\n",
    "\n",
    "    clippath = Path(np.c_[x[clipindex[i]], y[clipindex[i]]])\n",
    "    patch = PathPatch(clippath, facecolor='none')\n",
    "    ax.add_patch(patch)\n",
    "    for c in cont.collections:\n",
    "        c.set_clip_path(patch)\n",
    "\n",
    "plt.show()"
   ]
  },
  {
   "cell_type": "code",
   "execution_count": null,
   "id": "pending-enclosure",
   "metadata": {
    "scrolled": true
   },
   "outputs": [],
   "source": [
    "import numpy as np\n",
    "import matplotlib.pyplot as plt\n",
    "from scipy.interpolate import griddata\n",
    "import matplotlib.patches as patches\n",
    "\n",
    "def func(x, y):\n",
    "  return x*(1-x)*np.cos(4*np.pi*x) * np.sin(4*np.pi*y**2)**2\n",
    "\n",
    "grid_x, grid_y = np.mgrid[0:1:100j, 0:1:200j]\n",
    "\n",
    "points = np.random.rand(1000, 2)\n",
    "values = func(points[:,0], points[:,1])\n",
    "\n",
    "grid_z0 = griddata(points, values, (grid_x, grid_y), method='nearest')\n",
    "\n",
    "fig, ax = plt.subplots()\n",
    "cs = ax.contourf(grid_x,grid_y,grid_z0)\n",
    "\n",
    "circ = patches.Circle((0.6, 0.4), 0.3, transform=ax.transData)\n",
    "\n",
    "for coll in cs.collections:\n",
    "    coll.set_clip_path(p)\n",
    "\n",
    "plt.show()"
   ]
  },
  {
   "cell_type": "code",
   "execution_count": null,
   "id": "enclosed-listening",
   "metadata": {},
   "outputs": [],
   "source": [
    "import matplotlib.pyplot as plt\n",
    "from mpl_toolkits.mplot3d import Axes3D\n",
    "import numpy as np\n",
    "\n",
    "\n",
    "Z = np.array([\n",
    "    [ 1, 1, 1, 1, 1, ],\n",
    "    [ 1, 1, 1, 1, 1, ],\n",
    "    [ 1, 1, 1, 1, 1, ],\n",
    "    [ 1, 1, 1, 1, 1, ],\n",
    "    [ 1, 1, 1, 1, 1, ],\n",
    "    ])\n",
    "\n",
    "x, y = Z.shape\n",
    "\n",
    "xs = np.arange(x)\n",
    "ys = np.arange(y)\n",
    "X, Y = np.meshgrid(xs, ys)\n",
    "\n",
    "\n",
    "R = np.where(X>=Y, Z, np.nan)\n",
    "\n",
    "fig = plt.figure()\n",
    "ax = fig.add_subplot(111, projection='3d')\n",
    "ax.plot_surface(X, Y, Z, rstride=1, linewidth=0)\n",
    "\n",
    "fig.show()\n",
    "R"
   ]
  },
  {
   "cell_type": "code",
   "execution_count": null,
   "id": "inner-bookmark",
   "metadata": {},
   "outputs": [],
   "source": [
    "hull = create_hull(x1_training_scaled,x2_training_scaled, graph=True)    \n",
    "\n",
    "# x1_hull = []\n",
    "# x2_hull = []\n",
    "# for x1,x2 in zip(x1_test_ex, x2_test_ex):\n",
    "#     if point_in_hull(hull, x1,x2) == True:\n",
    "#         x1_hull.append(x1)\n",
    "#         x2_hull.append(x2)\n",
    "#         plt.plot(x1,x2,'o',c='r')\n",
    "        \n",
    "# x1_hull = np.asarray(x1_hull)\n",
    "# x2_hull = np.asarray(x2_hull)"
   ]
  },
  {
   "cell_type": "code",
   "execution_count": null,
   "id": "small-sixth",
   "metadata": {},
   "outputs": [],
   "source": []
  },
  {
   "cell_type": "code",
   "execution_count": null,
   "id": "vital-grove",
   "metadata": {
    "scrolled": true
   },
   "outputs": [],
   "source": [
    "x1 = x1_training[:, np.newaxis]\n",
    "x2 = x2_training[:, np.newaxis]\n",
    "\n",
    "pts = np.asarray([x1,x2]).T[0]\n",
    "ch = ConvexHull(pts)\n",
    "hull_indices = ch.vertices\n",
    "hull_pts = pts[hull_indices, :]\n",
    "\n",
    "plt.plot(pts[:, 0], pts[:, 1], 'ko', markersize=10)\n",
    "plt.plot(hull_pts[:, 0], hull_pts[:, 1], 'ro', alpha=.25, markersize=20)\n",
    "\n",
    "plt.show()\n",
    "\n",
    "print(hull_pts[0:5])\n",
    "print(ch.simplices)"
   ]
  },
  {
   "cell_type": "code",
   "execution_count": null,
   "id": "declared-rainbow",
   "metadata": {},
   "outputs": [],
   "source": [
    "hull_pts"
   ]
  },
  {
   "cell_type": "code",
   "execution_count": null,
   "id": "female-willow",
   "metadata": {
    "scrolled": true
   },
   "outputs": [],
   "source": [
    "import matplotlib.pyplot as plt\n",
    "from matplotlib.path import Path\n",
    "import matplotlib.patches as patches\n",
    "\n",
    "verts = hull_pts[0:8]\n",
    "\n",
    "codes = [\n",
    "    Path.MOVETO,\n",
    "    Path.LINETO, # add more to more complex\n",
    "    Path.LINETO,\n",
    "    Path.LINETO,\n",
    "    Path.LINETO,\n",
    "    Path.CLOSEPOLY,\n",
    "]\n",
    "\n",
    "path = Path(verts, codes)\n",
    "\n",
    "fig, ax = plt.subplots()\n",
    "patch = patches.PathPatch(path, facecolor='orange', lw=2)\n",
    "ax.add_patch(patch)\n",
    "# ax.set_xlim(-2, 2)\n",
    "ax.set_ylim(0, 0.003)\n",
    "plt.show()\n",
    "print(patch)"
   ]
  },
  {
   "cell_type": "code",
   "execution_count": null,
   "id": "smoking-michigan",
   "metadata": {},
   "outputs": [],
   "source": [
    "verts = hull_pts[0:6]\n",
    "\n",
    "codes = [\n",
    "    Path.MOVETO,\n",
    "    Path.CURVE3,\n",
    "    Path.CURVE3,\n",
    "    Path.CURVE3,\n",
    "    Path.CURVE3,\n",
    "    Path.CLOSEPOLY\n",
    "]\n",
    "\n",
    "path = Path(verts, codes)\n",
    "\n",
    "fig, ax = plt.subplots()\n",
    "patch = patches.PathPatch(path, facecolor='none', lw=2)\n",
    "ax.add_patch(patch)\n",
    "\n",
    "xs, ys = zip(*verts)\n",
    "# ax.plot(xs, ys, 'x--', lw=2, color='black', ms=10)\n",
    "ax.set_ylim(0,0.0025)\n",
    "ax.set_xlim(0.4,1)\n",
    "plt.scatter(x1_training, x2_training)\n",
    "plt.show()"
   ]
  },
  {
   "cell_type": "code",
   "execution_count": null,
   "id": "literary-buffer",
   "metadata": {},
   "outputs": [],
   "source": [
    "import numpy as np\n",
    "from matplotlib import pyplot as plt\n",
    "from matplotlib import animation\n",
    "from mpl_toolkits.mplot3d import Axes3D\n",
    "import os\n",
    "import subprocess"
   ]
  },
  {
   "cell_type": "code",
   "execution_count": null,
   "id": "hindu-defendant",
   "metadata": {
    "scrolled": true
   },
   "outputs": [],
   "source": [
    "X = np.arange(-5, 5, 0.25)\n",
    "Y = np.arange(-5, 5, 0.25)\n",
    "X, Y = np.meshgrid(X, Y)\n",
    "R = np.sqrt(X**2 + Y**2)\n",
    "Z = np.sin(R)\n",
    "\n",
    "# Create a figure and a 3D Axes\n",
    "fig = plt.figure()\n",
    "ax = fig.add_subplot(111, projection='3d')\n",
    "\n",
    "def init():\n",
    "    # Plot the surface.\n",
    "    ax.plot_surface(X, Y, Z, cmap=cm.coolwarm,\n",
    "                       linewidth=0, antialiased=False)\n",
    "    return fig,\n",
    "\n",
    "def animate(i):\n",
    "    # azimuth angle : 0 deg to 360 deg\n",
    "    ax.view_init(elev=10, azim=i)\n",
    "    return fig,\n",
    "\n",
    "# Animate\n",
    "ani = animation.FuncAnimation(fig, animate, init_func=init,\n",
    "                               frames=90, interval=50, blit=True)"
   ]
  },
  {
   "cell_type": "code",
   "execution_count": null,
   "id": "hispanic-progressive",
   "metadata": {},
   "outputs": [],
   "source": [
    "os.getcwd()\n",
    "fn = 'rotate_azimuth_angle_3d_surf_slow'\n",
    "ani.save(fn+'.gif',writer='imagemagick',fps=1000/50)"
   ]
  },
  {
   "cell_type": "code",
   "execution_count": null,
   "id": "growing-popularity",
   "metadata": {},
   "outputs": [],
   "source": [
    "cmd = 'magick convert %s.gif -fuzz 5%% -layers Optimize %s_r.gif'%(fn,fn)# #this saves it/stitches it together\n",
    "# plt.rcParams['animation.html'] = 'html5'\n",
    "# ani"
   ]
  }
 ],
 "metadata": {
  "kernelspec": {
   "display_name": "Python 3",
   "language": "python",
   "name": "python3"
  },
  "language_info": {
   "codemirror_mode": {
    "name": "ipython",
    "version": 3
   },
   "file_extension": ".py",
   "mimetype": "text/x-python",
   "name": "python",
   "nbconvert_exporter": "python",
   "pygments_lexer": "ipython3",
   "version": "3.9.1"
  }
 },
 "nbformat": 4,
 "nbformat_minor": 5
}
