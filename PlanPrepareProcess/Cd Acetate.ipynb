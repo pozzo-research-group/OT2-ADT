{
 "cells": [
  {
   "cell_type": "code",
   "execution_count": 1,
   "id": "sticky-cannon",
   "metadata": {},
   "outputs": [],
   "source": [
    "from Plan import CreateSamples_renewed\n",
    "from Prepare import OT2Commands as ALH\n",
    "from Prepare import OT2Graphing as ographing\n",
    "from opentrons import simulate, execute, protocol_api\n",
    "import importlib\n",
    "import pandas as pd"
   ]
  },
  {
   "cell_type": "code",
   "execution_count": 2,
   "id": "prostate-chuck",
   "metadata": {
    "scrolled": false
   },
   "outputs": [
    {
     "data": {
      "text/plain": [
       "<module 'Prepare.OT2Commands' from 'C:\\\\Users\\\\Edwin\\\\Desktop\\\\OT2-DOE\\\\PlanPrepareProcess\\\\Prepare\\\\OT2Commands.py'>"
      ]
     },
     "execution_count": 2,
     "metadata": {},
     "output_type": "execute_result"
    }
   ],
   "source": [
    "importlib.reload(CreateSamples_renewed)\n",
    "importlib.reload(ALH)"
   ]
  },
  {
   "cell_type": "code",
   "execution_count": 3,
   "id": "consolidated-contact",
   "metadata": {},
   "outputs": [],
   "source": [
    "path = r\"Testing Plans\\05_10_21_CdSe_Ligand_Study.csv\"\n",
    "chem_path = r\"Chemical Database.csv\"\n",
    "plan = CreateSamples_renewed.get_experiment_plan(path, chem_path)"
   ]
  },
  {
   "cell_type": "code",
   "execution_count": 4,
   "id": "coastal-creek",
   "metadata": {
    "scrolled": true
   },
   "outputs": [
    {
     "data": {
      "text/html": [
       "<div>\n",
       "<style scoped>\n",
       "    .dataframe tbody tr th:only-of-type {\n",
       "        vertical-align: middle;\n",
       "    }\n",
       "\n",
       "    .dataframe tbody tr th {\n",
       "        vertical-align: top;\n",
       "    }\n",
       "\n",
       "    .dataframe thead th {\n",
       "        text-align: right;\n",
       "    }\n",
       "</style>\n",
       "<table border=\"1\" class=\"dataframe\">\n",
       "  <thead>\n",
       "    <tr style=\"text-align: right;\">\n",
       "      <th></th>\n",
       "      <th>CdAc concentration molarity</th>\n",
       "      <th>Se concentration molarity</th>\n",
       "      <th>OleicAc concentration molarity</th>\n",
       "      <th>Oleylamine concentration molarity</th>\n",
       "    </tr>\n",
       "  </thead>\n",
       "  <tbody>\n",
       "    <tr>\n",
       "      <th>0</th>\n",
       "      <td>0.0</td>\n",
       "      <td>0.0</td>\n",
       "      <td>0.00</td>\n",
       "      <td>0.00</td>\n",
       "    </tr>\n",
       "    <tr>\n",
       "      <th>1</th>\n",
       "      <td>0.0</td>\n",
       "      <td>0.0</td>\n",
       "      <td>0.00</td>\n",
       "      <td>0.25</td>\n",
       "    </tr>\n",
       "    <tr>\n",
       "      <th>2</th>\n",
       "      <td>0.0</td>\n",
       "      <td>0.0</td>\n",
       "      <td>0.00</td>\n",
       "      <td>0.50</td>\n",
       "    </tr>\n",
       "    <tr>\n",
       "      <th>3</th>\n",
       "      <td>0.0</td>\n",
       "      <td>0.0</td>\n",
       "      <td>0.25</td>\n",
       "      <td>0.00</td>\n",
       "    </tr>\n",
       "    <tr>\n",
       "      <th>4</th>\n",
       "      <td>0.0</td>\n",
       "      <td>0.0</td>\n",
       "      <td>0.25</td>\n",
       "      <td>0.25</td>\n",
       "    </tr>\n",
       "    <tr>\n",
       "      <th>...</th>\n",
       "      <td>...</td>\n",
       "      <td>...</td>\n",
       "      <td>...</td>\n",
       "      <td>...</td>\n",
       "    </tr>\n",
       "    <tr>\n",
       "      <th>76</th>\n",
       "      <td>0.1</td>\n",
       "      <td>0.1</td>\n",
       "      <td>0.25</td>\n",
       "      <td>0.25</td>\n",
       "    </tr>\n",
       "    <tr>\n",
       "      <th>77</th>\n",
       "      <td>0.1</td>\n",
       "      <td>0.1</td>\n",
       "      <td>0.25</td>\n",
       "      <td>0.50</td>\n",
       "    </tr>\n",
       "    <tr>\n",
       "      <th>78</th>\n",
       "      <td>0.1</td>\n",
       "      <td>0.1</td>\n",
       "      <td>0.50</td>\n",
       "      <td>0.00</td>\n",
       "    </tr>\n",
       "    <tr>\n",
       "      <th>79</th>\n",
       "      <td>0.1</td>\n",
       "      <td>0.1</td>\n",
       "      <td>0.50</td>\n",
       "      <td>0.25</td>\n",
       "    </tr>\n",
       "    <tr>\n",
       "      <th>80</th>\n",
       "      <td>0.1</td>\n",
       "      <td>0.1</td>\n",
       "      <td>0.50</td>\n",
       "      <td>0.50</td>\n",
       "    </tr>\n",
       "  </tbody>\n",
       "</table>\n",
       "<p>81 rows × 4 columns</p>\n",
       "</div>"
      ],
      "text/plain": [
       "    CdAc concentration molarity  Se concentration molarity  \\\n",
       "0                           0.0                        0.0   \n",
       "1                           0.0                        0.0   \n",
       "2                           0.0                        0.0   \n",
       "3                           0.0                        0.0   \n",
       "4                           0.0                        0.0   \n",
       "..                          ...                        ...   \n",
       "76                          0.1                        0.1   \n",
       "77                          0.1                        0.1   \n",
       "78                          0.1                        0.1   \n",
       "79                          0.1                        0.1   \n",
       "80                          0.1                        0.1   \n",
       "\n",
       "    OleicAc concentration molarity  Oleylamine concentration molarity  \n",
       "0                             0.00                               0.00  \n",
       "1                             0.00                               0.25  \n",
       "2                             0.00                               0.50  \n",
       "3                             0.25                               0.00  \n",
       "4                             0.25                               0.25  \n",
       "..                             ...                                ...  \n",
       "76                            0.25                               0.25  \n",
       "77                            0.25                               0.50  \n",
       "78                            0.50                               0.00  \n",
       "79                            0.50                               0.25  \n",
       "80                            0.50                               0.50  \n",
       "\n",
       "[81 rows x 4 columns]"
      ]
     },
     "execution_count": 4,
     "metadata": {},
     "output_type": "execute_result"
    }
   ],
   "source": [
    "concentration_df = CreateSamples_renewed.concentration_from_linspace(plan['Component Shorthand Names'], \n",
    "                                                                     plan['Component Concentration Linspaces [min, max, n]'],\n",
    "                                                                     plan['Component Concentration Units'],\n",
    "                                                                     unity_filter=False)\n",
    "concentration_df"
   ]
  },
  {
   "cell_type": "code",
   "execution_count": 12,
   "id": "prostate-cement",
   "metadata": {
    "scrolled": false
   },
   "outputs": [
    {
     "name": "stdout",
     "output_type": "stream",
     "text": [
      "You calculated for component masses given the provided units\n",
      "You calculated for component masses given the provided units\n",
      "You calculated for component masses given the provided units\n",
      "You calculated for component masses given the provided units\n"
     ]
    }
   ],
   "source": [
    "complete_amounts_added = CreateSamples_renewed.determine_component_amounts(plan, concentration_df, nan_fill_value=0)\n",
    "stock_dict = CreateSamples_renewed.stock_dictionary(plan['Stock Names'], plan['Stock Concentration Units'], plan['Stock Concentrations'])\n",
    "complete_df = CreateSamples_renewed.calculate_stock_volumes_from_component_concs(plan, complete_amounts_added, stock_dict)\n",
    "complete_df= CreateSamples_renewed.complete_missing_volume_with_commmon_solvent(plan['Sample Amount'], complete_df, stock_dict, 'Octadecene')\n",
    "complete_df_uL = CreateSamples_renewed.convert_mL_to_uL(complete_df)\n",
    "stock_volumes = CreateSamples_renewed.isolate_common_column(complete_df_uL, 'stock')"
   ]
  },
  {
   "cell_type": "code",
   "execution_count": 6,
   "id": "vital-resistance",
   "metadata": {
    "scrolled": true
   },
   "outputs": [
    {
     "name": "stderr",
     "output_type": "stream",
     "text": [
      "C:\\Users\\Edwin\\.opentrons\\robot_settings.json not found. Loading defaults\n",
      "C:\\Users\\Edwin\\.opentrons\\deck_calibration.json not found. Loading defaults\n"
     ]
    }
   ],
   "source": [
    "labware_dir_path = r\"Custom Labware\"\n",
    "custom_labware_dict = ALH.custom_labware_dict(labware_dir_path)\n",
    "protocol = simulate.get_protocol_api('2.3', extra_labware=custom_labware_dict) # make note this must be run constantly ~ if say making loaded dict twice\n",
    "loaded_dict = ALH.loading_labware(protocol, plan)"
   ]
  },
  {
   "cell_type": "code",
   "execution_count": 7,
   "id": "supreme-oriental",
   "metadata": {
    "scrolled": true
   },
   "outputs": [
    {
     "data": {
      "text/plain": [
       "{'octadecene-stock': {'Ranges': [[0, 66], [66, 81]],\n",
       "  'Stock Wells': [A1 of 20mLscintillation 12 Well Plate 18000 ÂµL on 1,\n",
       "   A2 of 20mLscintillation 12 Well Plate 18000 ÂµL on 1]}}"
      ]
     },
     "execution_count": 7,
     "metadata": {},
     "output_type": "execute_result"
    }
   ],
   "source": [
    "max_source_vol = 18000 # if the list index reports out of range most likely not enough slots aka too much volume,\n",
    "# make it so you can mix labwares max volumes should be automatic in checking, maybe use the end the labware name to grab the uL\n",
    "# like it would see that the volume uses more than one entire well plate for stocks then would reccomend and use the larger well plate, wont use it if no necessary\n",
    "stock_position_info = ALH.stock_well_ranges(stock_volumes, loaded_dict, max_source_vol) \n",
    "# len(stock_position_info['Octadecene-stock volume uL']['Ranges'])\n",
    "stock_position_info"
   ]
  },
  {
   "cell_type": "code",
   "execution_count": 8,
   "id": "headed-presence",
   "metadata": {
    "scrolled": true
   },
   "outputs": [],
   "source": [
    "directions = ALH.create_sample_making_directions(stock_volumes, stock_position_info, loaded_dict) \n",
    "# these directions should be used to make the df, unless there is a final move??"
   ]
  },
  {
   "cell_type": "code",
   "execution_count": 15,
   "id": "serious-brown",
   "metadata": {},
   "outputs": [],
   "source": [
    "sample_info_df = CreateSamples_renewed.add_final_location(directions, complete_df_uL, 'CdSe')\n",
    "sample_info_df.to_csv('05_11_21_CdSe_Sample_Info', index=False)"
   ]
  }
 ],
 "metadata": {
  "kernelspec": {
   "display_name": "Python 3",
   "language": "python",
   "name": "python3"
  },
  "language_info": {
   "codemirror_mode": {
    "name": "ipython",
    "version": 3
   },
   "file_extension": ".py",
   "mimetype": "text/x-python",
   "name": "python",
   "nbconvert_exporter": "python",
   "pygments_lexer": "ipython3",
   "version": "3.9.1"
  }
 },
 "nbformat": 4,
 "nbformat_minor": 5
}
