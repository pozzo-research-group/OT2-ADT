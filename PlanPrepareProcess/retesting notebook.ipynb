{
 "cells": [
  {
   "cell_type": "code",
   "execution_count": 1,
   "id": "continent-limit",
   "metadata": {},
   "outputs": [],
   "source": [
    "import pandas as pd\n",
    "import csv\n",
    "from Plan import CreateSamples_renewed\n",
    "import importlib"
   ]
  },
  {
   "cell_type": "code",
   "execution_count": 22,
   "id": "encouraging-shore",
   "metadata": {
    "scrolled": true
   },
   "outputs": [
    {
     "data": {
      "text/plain": [
       "<module 'Plan.CreateSamples_renewed' from 'C:\\\\Users\\\\Edwin\\\\Desktop\\\\OT2-DOE\\\\PlanPrepareProcess\\\\Plan\\\\CreateSamples_renewed.py'>"
      ]
     },
     "execution_count": 22,
     "metadata": {},
     "output_type": "execute_result"
    }
   ],
   "source": [
    "importlib.reload(CreateSamples_renewed)"
   ]
  },
  {
   "cell_type": "code",
   "execution_count": 23,
   "id": "listed-rubber",
   "metadata": {},
   "outputs": [],
   "source": [
    "path = r\"C:\\Users\\Edwin\\Desktop\\OT2-DOE\\PlanPrepareProcess\\New_Testing_Protocol_Generalized.csv\"\n",
    "chem_path = r\"C:\\Users\\Edwin\\Desktop\\OT2-DOE\\PlanPrepareProcess\\Chemical Database.csv\""
   ]
  },
  {
   "cell_type": "code",
   "execution_count": 24,
   "id": "other-illness",
   "metadata": {},
   "outputs": [],
   "source": [
    "plan = CreateSamples_renewed.get_experiment_plan(path, chem_path)"
   ]
  },
  {
   "cell_type": "code",
   "execution_count": 32,
   "id": "threatened-perspective",
   "metadata": {},
   "outputs": [],
   "source": [
    "df = CreateSamples_renewed.concentration_from_linspace(plan, unity_filter=True)"
   ]
  },
  {
   "cell_type": "code",
   "execution_count": 37,
   "id": "alive-harris",
   "metadata": {},
   "outputs": [
    {
     "data": {
      "text/plain": [
       "['wtf', 'wtf', 'wtf', 'wtf', 'wtf']"
      ]
     },
     "execution_count": 37,
     "metadata": {},
     "output_type": "execute_result"
    }
   ],
   "source": [
    "component_units = plan['Component Concentration Units']\n",
    "total_sample_amount_unit = plan['Sample Unit']\n",
    "total_sample_amount = plan['Sample Amount']\n",
    "component_units"
   ]
  },
  {
   "cell_type": "code",
   "execution_count": 40,
   "id": "upset-covering",
   "metadata": {},
   "outputs": [],
   "source": [
    "for col, unit in zip(component_units,df):\n",
    "    if total_sample_amount_unit == 'g':\n",
    "        if unit == 'wtf':\n",
    "            mass = total_sample_amount*df[col] # you could raise a notification on what info is needed for stock with wtf\n",
    "        if unit == 'mgpermL'\n",
    "    if total_sample_amount_unit =='mL':\n",
    "        if unit == 'mgpermL':\n",
    "            # so when being labeled in the dataframe just make it clear that it is a mass of the component\n",
    "        if unit == 'volf'\n",
    "            # make it clear it is a volume"
   ]
  }
 ],
 "metadata": {
  "kernelspec": {
   "display_name": "Python 3",
   "language": "python",
   "name": "python3"
  },
  "language_info": {
   "codemirror_mode": {
    "name": "ipython",
    "version": 3
   },
   "file_extension": ".py",
   "mimetype": "text/x-python",
   "name": "python",
   "nbconvert_exporter": "python",
   "pygments_lexer": "ipython3",
   "version": "3.9.1"
  }
 },
 "nbformat": 4,
 "nbformat_minor": 5
}
