{
 "cells": [
  {
   "cell_type": "code",
   "execution_count": 1,
   "id": "declared-mainland",
   "metadata": {},
   "outputs": [],
   "source": [
    "import pandas as pd\n",
    "import csv\n",
    "from Plan import CreateSamples_renewed\n",
    "import importlib\n",
    "import numpy as np"
   ]
  },
  {
   "cell_type": "code",
   "execution_count": 2,
   "id": "breathing-mouse",
   "metadata": {
    "scrolled": true
   },
   "outputs": [
    {
     "data": {
      "text/plain": [
       "<module 'Plan.CreateSamples_renewed' from 'C:\\\\Users\\\\Edwin\\\\Desktop\\\\OT2-DOE\\\\PlanPrepareProcess\\\\Plan\\\\CreateSamples_renewed.py'>"
      ]
     },
     "execution_count": 2,
     "metadata": {},
     "output_type": "execute_result"
    }
   ],
   "source": [
    "importlib.reload(CreateSamples_renewed)"
   ]
  },
  {
   "cell_type": "code",
   "execution_count": 3,
   "id": "associate-iceland",
   "metadata": {},
   "outputs": [],
   "source": [
    "path = r\"New_Testing_Protocol_Generalized.csv\"\n",
    "chem_path = r\"Chemical Database.csv\""
   ]
  },
  {
   "cell_type": "code",
   "execution_count": 4,
   "id": "polar-waterproof",
   "metadata": {},
   "outputs": [],
   "source": [
    "plan = CreateSamples_renewed.get_experiment_plan(path, chem_path)"
   ]
  },
  {
   "cell_type": "code",
   "execution_count": 5,
   "id": "flexible-detection",
   "metadata": {},
   "outputs": [],
   "source": [
    "# the goal is to keep the concentration df the same format as all others, hence if you want to do other method you can \n",
    "# just need to slightly modify functions. "
   ]
  },
  {
   "cell_type": "code",
   "execution_count": 6,
   "id": "charitable-blood",
   "metadata": {},
   "outputs": [],
   "source": [
    "# ideally build a function that will pull a component name from a column this would lead to not needing anything provided in the plan if importing!\n",
    "# but potential issue when calulating volumes say if you need a stock density (well no cause thats shoudl be stock order specific)\n",
    "# so everything should be order specfic if inputting from plan and using order from there does that make snes"
   ]
  },
  {
   "cell_type": "code",
   "execution_count": 7,
   "id": "welcome-practitioner",
   "metadata": {
    "scrolled": true
   },
   "outputs": [
    {
     "name": "stdout",
     "output_type": "stream",
     "text": [
      "You calculated for component masses given the provided units\n",
      "You calculated for component masses given the provided units\n",
      "You calculated for component masses given the provided units\n",
      "You calculated for component masses given the provided units\n",
      "You calculated for component masses given the provided units\n",
      "You calculated component volumes from a component mass using dppc density of nan g/mL\n",
      "You calculated component volumes from a component mass using dspepeg2000 density of nan g/mL\n",
      "You calculated component volumes from a component mass using pfh density of 1.691 g/mL\n",
      "You calculated component volumes from a component mass using ethanol density of 0.7893 g/mL\n",
      "You calculated component volumes from a component mass using water density of 1.0 g/mL\n"
     ]
    }
   ],
   "source": [
    "concentration_df = CreateSamples_renewed.concentration_from_linspace(plan, unity_filter=True) # for now lets work wit this caase and go back and edit\n",
    "amounts_added = CreateSamples_renewed.determine_component_amounts(concentration_df, plan)\n",
    "complete_amounts_added = CreateSamples_renewed.calculate_component_amount_missing(amounts_added, plan)\n",
    "complete_amounts_added_zeroed = CreateSamples_renewed.nan_amounts(complete_amounts_added)"
   ]
  },
  {
   "cell_type": "code",
   "execution_count": 8,
   "id": "stuck-crowd",
   "metadata": {},
   "outputs": [],
   "source": [
    "def stock_dictionary(stock_name, stock_unit, stock_value):\n",
    "    \"\"\"The stock name is required to be in the form 'solute n-solvent-stock' where the entry prior to the keyword stock are solvent\n",
    "    and anything prior to that is assumed a solute. Will return a dictionary of the solvent and solute while pulling information from \"\"\"\n",
    "    stock_components = stock_name.split('-')\n",
    "    stock_solutes = stock_components[:-2] # will always be a list\n",
    "    stock_solvent = stock_components[-2]\n",
    "    \n",
    "    return {'solutes': stock_solutes, 'solvents':stock_solvent, 'unit': stock_unit, 'value': stock_value}\n",
    "\n",
    "def match_component_to_stock(component_name, stock_names_dict): # how will this deal with other names which contain or multiple instances \n",
    "    for key in stock_names_dict.keys():\n",
    "        if component_name in key:\n",
    "            return stock_names_dict[key]\n",
    "        else:\n",
    "            return AssertionError(\"Component not present in any stock.\")\n",
    "        \n",
    "def identify_common_solvents(stocks_dict):\n",
    "    solvents = [stock_info['solvents'] for stock_name, stock_info in stock_dict.items()]\n",
    "    common_solvents = list(set([x for x in solvents if solvents.count(x) > 1]))\n",
    "    for stock_name, stock_info in stock_dict.items(): # make into identify_stocks_solvent_solutes()\n",
    "        solutes = stock_info['solutes']\n",
    "        solvents = stock_info['solvents']\n",
    "        \n",
    "        for common_solvent in common_solvents:\n",
    "            if len(solutes) == 0 and common_solvent==solvents:\n",
    "                stock_dict[stock_name]['Common Solvent'] = 'Pure'\n",
    "            elif len(solutes) > 0 and common_solvent == solvents:\n",
    "                stock_dict[stock_name]['Common Solvent'] = 'Mixture'\n",
    "            else:     \n",
    "                stock_dict[stock_name]['Common Solvent'] = 'None'\n",
    "    return stock_dict\n",
    "\n",
    "def isolate_common_column(df, common_string):\n",
    "    cols = df.columns\n",
    "    common_string_cols = [col for col in cols if common_string in col]\n",
    "    final_df = df.copy()[common_string_cols]\n",
    "    return final_df"
   ]
  },
  {
   "cell_type": "code",
   "execution_count": null,
   "id": "psychological-document",
   "metadata": {},
   "outputs": [],
   "source": []
  },
  {
   "cell_type": "code",
   "execution_count": 9,
   "id": "forbidden-eugene",
   "metadata": {
    "scrolled": false
   },
   "outputs": [],
   "source": [
    "stock_names = plan['Stock Names'] \n",
    "stock_units = plan['Stock Concentration Units']\n",
    "stock_concs = plan['Stock Concentrations']\n",
    "stock_dict = {stock_name:stock_dictionary(stock_name, stock_unit, stock_conc) for stock_name, stock_unit, stock_conc in zip(stock_names, stock_units, stock_concs)}\n",
    "stock_dict = identify_common_solvents(stock_dict)\n",
    "\n",
    "# this failed, just pick how you want to either mass or volume and then do it from there "
   ]
  },
  {
   "cell_type": "code",
   "execution_count": 23,
   "id": "trying-feelings",
   "metadata": {},
   "outputs": [
    {
     "name": "stdout",
     "output_type": "stream",
     "text": [
      "dppc dict_keys(['dppc-ethanol-stock', 'dspepeg2000-ethanol-stock', 'pfh-ethanol-stock', 'ethanol-stock', 'water-stock'])\n",
      "dspepeg2000 dict_keys(['dppc-ethanol-stock', 'dspepeg2000-ethanol-stock', 'pfh-ethanol-stock', 'ethanol-stock', 'water-stock'])\n",
      "pfh dict_keys(['dppc-ethanol-stock', 'dspepeg2000-ethanol-stock', 'pfh-ethanol-stock', 'ethanol-stock', 'water-stock'])\n",
      "ethanol dict_keys(['dppc-ethanol-stock', 'dspepeg2000-ethanol-stock', 'pfh-ethanol-stock', 'ethanol-stock', 'water-stock'])\n",
      "water dict_keys(['dppc-ethanol-stock', 'dspepeg2000-ethanol-stock', 'pfh-ethanol-stock', 'ethanol-stock', 'water-stock'])\n"
     ]
    }
   ],
   "source": [
    "components_df = complete_amounts_added_zeroed\n",
    "component_masses = isolate_common_column(components_df, 'mass')\n",
    "component_volumes = isolate_common_column(components_df, 'volume')\n",
    "\n",
    "# so based on what you total_sample_unit is and what you orignially calculated_proceed differently\n",
    "\n",
    "for col_name in component_masses:\n",
    "    component_mass = component_masses[col_name]\n",
    "    component_name = CreateSamples_renewed.identify_component_name(col_name)\n",
    "    component_unit = CreateSamples_renewed.identify_unit(col_name)\n",
    "    stock_info = match_component_to_stock(component_name, stock_dict)\n",
    "    print(component_name, stock_dict.keys())"
   ]
  },
  {
   "cell_type": "code",
   "execution_count": null,
   "id": "modified-berkeley",
   "metadata": {},
   "outputs": [],
   "source": [
    "def calculate_volumes_from_component_mass(component_mass, component_info, stock_info): \n",
    "    \n",
    "# so create a function for mass based calculation (this will work for sole wtf and volf items)\n",
    "# grab all masses \n",
    "# grab masses component name and unit\n",
    "# grab the appropiate stock from stock dictionary \n",
    "# grab stock value and unit,\n",
    "# with stock value and unit and component value and unit determeine the correct pathway to calculate and return volume\n",
    "# Once volumes are caclulated, subtract the component volume if available\n",
    "\n",
    "    "
   ]
  },
  {
   "cell_type": "code",
   "execution_count": null,
   "id": "divided-result",
   "metadata": {},
   "outputs": [],
   "source": [
    "def calculate_volumes_from_component_volumes():"
   ]
  }
 ],
 "metadata": {
  "kernelspec": {
   "display_name": "Python 3",
   "language": "python",
   "name": "python3"
  },
  "language_info": {
   "codemirror_mode": {
    "name": "ipython",
    "version": 3
   },
   "file_extension": ".py",
   "mimetype": "text/x-python",
   "name": "python",
   "nbconvert_exporter": "python",
   "pygments_lexer": "ipython3",
   "version": "3.9.1"
  }
 },
 "nbformat": 4,
 "nbformat_minor": 5
}
