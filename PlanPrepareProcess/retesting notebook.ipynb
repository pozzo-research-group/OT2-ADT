{
 "cells": [
  {
   "cell_type": "code",
   "execution_count": 4,
   "id": "continent-limit",
   "metadata": {},
   "outputs": [],
   "source": [
    "import pandas as pd\n",
    "import csv\n",
    "from Plan import CreateSamples_renewed\n",
    "import importlib"
   ]
  },
  {
   "cell_type": "code",
   "execution_count": 5,
   "id": "encouraging-shore",
   "metadata": {
    "scrolled": true
   },
   "outputs": [
    {
     "data": {
      "text/plain": [
       "<module 'Plan.CreateSamples_renewed' from 'C:\\\\Users\\\\Edwin\\\\Desktop\\\\OT2-DOE\\\\PlanPrepareProcess\\\\Plan\\\\CreateSamples_renewed.py'>"
      ]
     },
     "execution_count": 5,
     "metadata": {},
     "output_type": "execute_result"
    }
   ],
   "source": [
    "importlib.reload(CreateSamples_renewed)"
   ]
  },
  {
   "cell_type": "code",
   "execution_count": 6,
   "id": "listed-rubber",
   "metadata": {},
   "outputs": [],
   "source": [
    "path = r\"C:\\Users\\Edwin\\Desktop\\OT2-DOE\\PlanPrepareProcess\\New_Testing_Protocol_Generalized.csv\"\n",
    "chem_path = r\"C:\\Users\\Edwin\\Desktop\\OT2-DOE\\PlanPrepareProcess\\Chemical Database.csv\""
   ]
  },
  {
   "cell_type": "code",
   "execution_count": 7,
   "id": "other-illness",
   "metadata": {},
   "outputs": [],
   "source": [
    "plan = CreateSamples_renewed.get_experiment_plan(path, chem_path)"
   ]
  },
  {
   "cell_type": "code",
   "execution_count": 24,
   "id": "threatened-perspective",
   "metadata": {},
   "outputs": [
    {
     "data": {
      "text/html": [
       "<div>\n",
       "<style scoped>\n",
       "    .dataframe tbody tr th:only-of-type {\n",
       "        vertical-align: middle;\n",
       "    }\n",
       "\n",
       "    .dataframe tbody tr th {\n",
       "        vertical-align: top;\n",
       "    }\n",
       "\n",
       "    .dataframe thead th {\n",
       "        text-align: right;\n",
       "    }\n",
       "</style>\n",
       "<table border=\"1\" class=\"dataframe\">\n",
       "  <thead>\n",
       "    <tr style=\"text-align: right;\">\n",
       "      <th></th>\n",
       "      <th>dppc concentration wtf</th>\n",
       "      <th>dspepeg2000 concentration wtf</th>\n",
       "      <th>pfh concentration wtf</th>\n",
       "      <th>ethanol concentration wtf</th>\n",
       "      <th>water concentration wtf</th>\n",
       "    </tr>\n",
       "  </thead>\n",
       "  <tbody>\n",
       "    <tr>\n",
       "      <th>0</th>\n",
       "      <td>0.000075</td>\n",
       "      <td>0.000035</td>\n",
       "      <td>0.00</td>\n",
       "      <td>0.000000</td>\n",
       "      <td>0.999890</td>\n",
       "    </tr>\n",
       "    <tr>\n",
       "      <th>1</th>\n",
       "      <td>0.000075</td>\n",
       "      <td>0.000035</td>\n",
       "      <td>0.00</td>\n",
       "      <td>0.036842</td>\n",
       "      <td>0.963048</td>\n",
       "    </tr>\n",
       "    <tr>\n",
       "      <th>2</th>\n",
       "      <td>0.000075</td>\n",
       "      <td>0.000035</td>\n",
       "      <td>0.00</td>\n",
       "      <td>0.073684</td>\n",
       "      <td>0.926206</td>\n",
       "    </tr>\n",
       "    <tr>\n",
       "      <th>3</th>\n",
       "      <td>0.000075</td>\n",
       "      <td>0.000035</td>\n",
       "      <td>0.00</td>\n",
       "      <td>0.110526</td>\n",
       "      <td>0.889364</td>\n",
       "    </tr>\n",
       "    <tr>\n",
       "      <th>4</th>\n",
       "      <td>0.000075</td>\n",
       "      <td>0.000035</td>\n",
       "      <td>0.00</td>\n",
       "      <td>0.147368</td>\n",
       "      <td>0.852522</td>\n",
       "    </tr>\n",
       "    <tr>\n",
       "      <th>...</th>\n",
       "      <td>...</td>\n",
       "      <td>...</td>\n",
       "      <td>...</td>\n",
       "      <td>...</td>\n",
       "      <td>...</td>\n",
       "    </tr>\n",
       "    <tr>\n",
       "      <th>495</th>\n",
       "      <td>0.000075</td>\n",
       "      <td>0.000035</td>\n",
       "      <td>0.01</td>\n",
       "      <td>0.552632</td>\n",
       "      <td>0.437258</td>\n",
       "    </tr>\n",
       "    <tr>\n",
       "      <th>496</th>\n",
       "      <td>0.000075</td>\n",
       "      <td>0.000035</td>\n",
       "      <td>0.01</td>\n",
       "      <td>0.589474</td>\n",
       "      <td>0.400416</td>\n",
       "    </tr>\n",
       "    <tr>\n",
       "      <th>497</th>\n",
       "      <td>0.000075</td>\n",
       "      <td>0.000035</td>\n",
       "      <td>0.01</td>\n",
       "      <td>0.626316</td>\n",
       "      <td>0.363574</td>\n",
       "    </tr>\n",
       "    <tr>\n",
       "      <th>498</th>\n",
       "      <td>0.000075</td>\n",
       "      <td>0.000035</td>\n",
       "      <td>0.01</td>\n",
       "      <td>0.663158</td>\n",
       "      <td>0.326732</td>\n",
       "    </tr>\n",
       "    <tr>\n",
       "      <th>499</th>\n",
       "      <td>0.000075</td>\n",
       "      <td>0.000035</td>\n",
       "      <td>0.01</td>\n",
       "      <td>0.700000</td>\n",
       "      <td>0.289890</td>\n",
       "    </tr>\n",
       "  </tbody>\n",
       "</table>\n",
       "<p>500 rows × 5 columns</p>\n",
       "</div>"
      ],
      "text/plain": [
       "     dppc concentration wtf  dspepeg2000 concentration wtf  \\\n",
       "0                  0.000075                       0.000035   \n",
       "1                  0.000075                       0.000035   \n",
       "2                  0.000075                       0.000035   \n",
       "3                  0.000075                       0.000035   \n",
       "4                  0.000075                       0.000035   \n",
       "..                      ...                            ...   \n",
       "495                0.000075                       0.000035   \n",
       "496                0.000075                       0.000035   \n",
       "497                0.000075                       0.000035   \n",
       "498                0.000075                       0.000035   \n",
       "499                0.000075                       0.000035   \n",
       "\n",
       "     pfh concentration wtf  ethanol concentration wtf  water concentration wtf  \n",
       "0                     0.00                   0.000000                 0.999890  \n",
       "1                     0.00                   0.036842                 0.963048  \n",
       "2                     0.00                   0.073684                 0.926206  \n",
       "3                     0.00                   0.110526                 0.889364  \n",
       "4                     0.00                   0.147368                 0.852522  \n",
       "..                     ...                        ...                      ...  \n",
       "495                   0.01                   0.552632                 0.437258  \n",
       "496                   0.01                   0.589474                 0.400416  \n",
       "497                   0.01                   0.626316                 0.363574  \n",
       "498                   0.01                   0.663158                 0.326732  \n",
       "499                   0.01                   0.700000                 0.289890  \n",
       "\n",
       "[500 rows x 5 columns]"
      ]
     },
     "execution_count": 24,
     "metadata": {},
     "output_type": "execute_result"
    }
   ],
   "source": [
    "df = CreateSamples_renewed.concentration_from_linspace(plan, unity_filter=True)\n",
    "df"
   ]
  },
  {
   "cell_type": "code",
   "execution_count": 9,
   "id": "alive-harris",
   "metadata": {},
   "outputs": [
    {
     "data": {
      "text/plain": [
       "['wtf', 'wtf', 'wtf', 'wtf', 'wtf']"
      ]
     },
     "execution_count": 9,
     "metadata": {},
     "output_type": "execute_result"
    }
   ],
   "source": [
    "component_units = plan['Component Concentration Units']\n",
    "total_sample_amount_unit = plan['Sample Unit']\n",
    "total_sample_amount = plan['Sample Amount']\n",
    "component_units"
   ]
  },
  {
   "cell_type": "code",
   "execution_count": 10,
   "id": "upset-covering",
   "metadata": {},
   "outputs": [
    {
     "ename": "SyntaxError",
     "evalue": "invalid syntax (<ipython-input-10-6caff74dd94d>, line 5)",
     "output_type": "error",
     "traceback": [
      "\u001b[1;36m  File \u001b[1;32m\"<ipython-input-10-6caff74dd94d>\"\u001b[1;36m, line \u001b[1;32m5\u001b[0m\n\u001b[1;33m    if unit == 'mgpermL'\u001b[0m\n\u001b[1;37m                        ^\u001b[0m\n\u001b[1;31mSyntaxError\u001b[0m\u001b[1;31m:\u001b[0m invalid syntax\n"
     ]
    }
   ],
   "source": [
    "for col, unit in zip(component_units,df):\n",
    "    if total_sample_amount_unit == 'g':\n",
    "        if unit == 'wtf':\n",
    "            mass = total_sample_amount*df[col] # you could raise a notification on what info is needed for stock with wtf\n",
    "        if unit == 'mgpermL'\n",
    "    if total_sample_amount_unit =='mL':\n",
    "        if unit == 'mgpermL':\n",
    "            # so when being labeled in the dataframe just make it clear that it is a mass of the component\n",
    "        if unit == 'volf'\n",
    "            # make it clear it is a volume"
   ]
  },
  {
   "cell_type": "code",
   "execution_count": 11,
   "id": "distinguished-stream",
   "metadata": {},
   "outputs": [],
   "source": [
    "# need to split up based on what it will return and not what it starts with"
   ]
  },
  {
   "cell_type": "code",
   "execution_count": 19,
   "id": "weekly-monster",
   "metadata": {},
   "outputs": [],
   "source": [
    "def identify_unit(string):\n",
    "    list_units = ['wtf','volf','molf','mgpermL','molarity']\n",
    "    for unit in list_units:\n",
    "        if unit in string:\n",
    "            return unit"
   ]
  },
  {
   "cell_type": "code",
   "execution_count": 23,
   "id": "phantom-recovery",
   "metadata": {
    "scrolled": true
   },
   "outputs": [
    {
     "name": "stdout",
     "output_type": "stream",
     "text": [
      "mom\n",
      "mom\n",
      "mom\n",
      "mom\n",
      "mom\n"
     ]
    }
   ],
   "source": [
    "for column_name in df:\n",
    "    component_unit = identify_unit(column_name)\n",
    "    if component_unit == 'wtf' or 'mgpermL' or 'molarity': # these are the unit that lead to mass outcomes\n",
    "        component_masses = \n",
    "        \n",
    "    "
   ]
  },
  {
   "cell_type": "code",
   "execution_count": null,
   "id": "funky-latter",
   "metadata": {},
   "outputs": [],
   "source": [
    "def determine_component_mass(component_unit, component_values, sample_amount_unit, sample_amount):\n",
    "    if sample_amount_unit == 'g' and component_unit = 'wtf':\n",
    "        component_masses = sample_amount*component_values\n",
    "        \n",
    "    if sample_amount_unit == 'mL' and component_unit = 'mgpermL':\n",
    "        component_masses = sample_amount*component_values/1000 # for now default mass = g, volume = mL\n",
    "\n",
    "    if sample_amount_unit == 'mL' and component_unit = 'molarity':\n",
    "        molecular_weight = \n",
    "        component_masses = sample_amount*component_values/1000\n",
    "        \n",
    "    return component_masses\n"
   ]
  }
 ],
 "metadata": {
  "kernelspec": {
   "display_name": "Python 3",
   "language": "python",
   "name": "python3"
  },
  "language_info": {
   "codemirror_mode": {
    "name": "ipython",
    "version": 3
   },
   "file_extension": ".py",
   "mimetype": "text/x-python",
   "name": "python",
   "nbconvert_exporter": "python",
   "pygments_lexer": "ipython3",
   "version": "3.9.1"
  }
 },
 "nbformat": 4,
 "nbformat_minor": 5
}
