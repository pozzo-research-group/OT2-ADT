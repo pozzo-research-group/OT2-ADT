{
 "cells": [
  {
   "cell_type": "code",
   "execution_count": 352,
   "id": "sticky-cannon",
   "metadata": {},
   "outputs": [],
   "source": [
    "import pandas as pd\n",
    "import csv\n",
    "from Plan import CreateSamples_renewed\n",
    "import importlib\n",
    "import numpy as np"
   ]
  },
  {
   "cell_type": "code",
   "execution_count": 376,
   "id": "prostate-chuck",
   "metadata": {
    "scrolled": true
   },
   "outputs": [
    {
     "data": {
      "text/plain": [
       "<module 'Plan.CreateSamples_renewed' from 'C:\\\\Users\\\\Edwin\\\\Desktop\\\\OT2-DOE\\\\PlanPrepareProcess\\\\Plan\\\\CreateSamples_renewed.py'>"
      ]
     },
     "execution_count": 376,
     "metadata": {},
     "output_type": "execute_result"
    }
   ],
   "source": [
    "importlib.reload(CreateSamples_renewed)"
   ]
  },
  {
   "cell_type": "code",
   "execution_count": 377,
   "id": "consolidated-contact",
   "metadata": {},
   "outputs": [],
   "source": [
    "path = r\"C:\\Users\\Edwin\\Desktop\\OT2-DOE\\PlanPrepareProcess\\04_28_21_Yttrium_Test.csv\"\n",
    "chem_path = r\"Chemical Database.csv\""
   ]
  },
  {
   "cell_type": "code",
   "execution_count": 378,
   "id": "coastal-creek",
   "metadata": {},
   "outputs": [],
   "source": [
    "plan = CreateSamples_renewed.get_experiment_plan(path, chem_path)"
   ]
  },
  {
   "cell_type": "code",
   "execution_count": 379,
   "id": "sonic-hydrogen",
   "metadata": {
    "scrolled": true
   },
   "outputs": [
    {
     "data": {
      "text/html": [
       "<div>\n",
       "<style scoped>\n",
       "    .dataframe tbody tr th:only-of-type {\n",
       "        vertical-align: middle;\n",
       "    }\n",
       "\n",
       "    .dataframe tbody tr th {\n",
       "        vertical-align: top;\n",
       "    }\n",
       "\n",
       "    .dataframe thead th {\n",
       "        text-align: right;\n",
       "    }\n",
       "</style>\n",
       "<table border=\"1\" class=\"dataframe\">\n",
       "  <thead>\n",
       "    <tr style=\"text-align: right;\">\n",
       "      <th></th>\n",
       "      <th>Y(NO3)3 concentration molarity</th>\n",
       "      <th>KBF4 concentration molarity</th>\n",
       "    </tr>\n",
       "  </thead>\n",
       "  <tbody>\n",
       "    <tr>\n",
       "      <th>0</th>\n",
       "      <td>0.015</td>\n",
       "      <td>0.03</td>\n",
       "    </tr>\n",
       "  </tbody>\n",
       "</table>\n",
       "</div>"
      ],
      "text/plain": [
       "   Y(NO3)3 concentration molarity  KBF4 concentration molarity\n",
       "0                           0.015                         0.03"
      ]
     },
     "execution_count": 379,
     "metadata": {},
     "output_type": "execute_result"
    }
   ],
   "source": [
    "concentration_df = CreateSamples_renewed.concentration_from_linspace(plan['Component Shorthand Names'], \n",
    "                                                                     plan['Component Concentration Linspaces [min, max, n]'],\n",
    "                                                                     plan['Component Concentration Units'],\n",
    "                                                                     unity_filter=False)\n",
    "\n",
    "concentration_df"
   ]
  },
  {
   "cell_type": "code",
   "execution_count": 380,
   "id": "apart-corps",
   "metadata": {
    "scrolled": true
   },
   "outputs": [
    {
     "name": "stdout",
     "output_type": "stream",
     "text": [
      "You calculated for component masses given the provided units\n",
      "You calculated for component masses given the provided units\n"
     ]
    },
    {
     "data": {
      "text/html": [
       "<div>\n",
       "<style scoped>\n",
       "    .dataframe tbody tr th:only-of-type {\n",
       "        vertical-align: middle;\n",
       "    }\n",
       "\n",
       "    .dataframe tbody tr th {\n",
       "        vertical-align: top;\n",
       "    }\n",
       "\n",
       "    .dataframe thead th {\n",
       "        text-align: right;\n",
       "    }\n",
       "</style>\n",
       "<table border=\"1\" class=\"dataframe\">\n",
       "  <thead>\n",
       "    <tr style=\"text-align: right;\">\n",
       "      <th></th>\n",
       "      <th>Y(NO3)3 concentration molarity</th>\n",
       "      <th>KBF4 concentration molarity</th>\n",
       "      <th>Y(NO3)3 amount mass g</th>\n",
       "      <th>Y(NO3)3 amount volume mL</th>\n",
       "      <th>KBF4 amount mass g</th>\n",
       "      <th>KBF4 amount volume mL</th>\n",
       "    </tr>\n",
       "  </thead>\n",
       "  <tbody>\n",
       "    <tr>\n",
       "      <th>0</th>\n",
       "      <td>0.015</td>\n",
       "      <td>0.03</td>\n",
       "      <td>0.028726</td>\n",
       "      <td>0.010711</td>\n",
       "      <td>0.018885</td>\n",
       "      <td>0.007539</td>\n",
       "    </tr>\n",
       "  </tbody>\n",
       "</table>\n",
       "</div>"
      ],
      "text/plain": [
       "   Y(NO3)3 concentration molarity  KBF4 concentration molarity  \\\n",
       "0                           0.015                         0.03   \n",
       "\n",
       "   Y(NO3)3 amount mass g  Y(NO3)3 amount volume mL  KBF4 amount mass g  \\\n",
       "0               0.028726                  0.010711            0.018885   \n",
       "\n",
       "   KBF4 amount volume mL  \n",
       "0               0.007539  "
      ]
     },
     "execution_count": 380,
     "metadata": {},
     "output_type": "execute_result"
    }
   ],
   "source": [
    "complete_amounts_added = CreateSamples_renewed.determine_component_amounts(plan, concentration_df)\n",
    "complete_amounts_added"
   ]
  },
  {
   "cell_type": "code",
   "execution_count": 381,
   "id": "satisfactory-pennsylvania",
   "metadata": {
    "scrolled": false
   },
   "outputs": [],
   "source": [
    "stock_dict = CreateSamples_renewed.stock_dictionary(plan['Stock Names'], plan['Stock Concentration Units'], plan['Stock Concentrations'])\n",
    "# make it so when creating a stock_dict that if missing anything just raise an but still allow and fill missing with nan"
   ]
  },
  {
   "cell_type": "code",
   "execution_count": 382,
   "id": "instant-relaxation",
   "metadata": {
    "scrolled": true
   },
   "outputs": [
    {
     "data": {
      "text/html": [
       "<div>\n",
       "<style scoped>\n",
       "    .dataframe tbody tr th:only-of-type {\n",
       "        vertical-align: middle;\n",
       "    }\n",
       "\n",
       "    .dataframe tbody tr th {\n",
       "        vertical-align: top;\n",
       "    }\n",
       "\n",
       "    .dataframe thead th {\n",
       "        text-align: right;\n",
       "    }\n",
       "</style>\n",
       "<table border=\"1\" class=\"dataframe\">\n",
       "  <thead>\n",
       "    <tr style=\"text-align: right;\">\n",
       "      <th></th>\n",
       "      <th>Y(NO3)3 concentration molarity</th>\n",
       "      <th>KBF4 concentration molarity</th>\n",
       "      <th>Y(NO3)3 amount mass g</th>\n",
       "      <th>Y(NO3)3 amount volume mL</th>\n",
       "      <th>KBF4 amount mass g</th>\n",
       "      <th>KBF4 amount volume mL</th>\n",
       "      <th>Y(NO3)3-water-stock amount volume mL</th>\n",
       "      <th>KBF4-water-stock amount volume mL</th>\n",
       "    </tr>\n",
       "  </thead>\n",
       "  <tbody>\n",
       "    <tr>\n",
       "      <th>0</th>\n",
       "      <td>0.015</td>\n",
       "      <td>0.03</td>\n",
       "      <td>0.028726</td>\n",
       "      <td>0.010711</td>\n",
       "      <td>0.018885</td>\n",
       "      <td>0.007539</td>\n",
       "      <td>0.075</td>\n",
       "      <td>4.213483</td>\n",
       "    </tr>\n",
       "  </tbody>\n",
       "</table>\n",
       "</div>"
      ],
      "text/plain": [
       "   Y(NO3)3 concentration molarity  KBF4 concentration molarity  \\\n",
       "0                           0.015                         0.03   \n",
       "\n",
       "   Y(NO3)3 amount mass g  Y(NO3)3 amount volume mL  KBF4 amount mass g  \\\n",
       "0               0.028726                  0.010711            0.018885   \n",
       "\n",
       "   KBF4 amount volume mL  Y(NO3)3-water-stock amount volume mL  \\\n",
       "0               0.007539                                 0.075   \n",
       "\n",
       "   KBF4-water-stock amount volume mL  \n",
       "0                           4.213483  "
      ]
     },
     "execution_count": 382,
     "metadata": {},
     "output_type": "execute_result"
    }
   ],
   "source": [
    "complete_df = CreateSamples_renewed.calculate_stock_volumes_from_component_masses(plan, complete_amounts_added, stock_dict)\n",
    "complete_df"
   ]
  },
  {
   "cell_type": "code",
   "execution_count": 386,
   "id": "grand-answer",
   "metadata": {
    "scrolled": true
   },
   "outputs": [
    {
     "data": {
      "text/plain": [
       "0    8.687827\n",
       "dtype: float64"
      ]
     },
     "execution_count": 386,
     "metadata": {},
     "output_type": "execute_result"
    }
   ],
   "source": [
    "complete_df = CreateSamples_renewed.calculate_common_solvent_residual_volumes(complete_df, stock_dict)\n",
    "complete_df = CreateSamples_renewed.calculate_total_stock_volumes(complete_df)\n",
    "complete_df.sum(axis=1)"
   ]
  },
  {
   "cell_type": "code",
   "execution_count": 387,
   "id": "entire-confidentiality",
   "metadata": {},
   "outputs": [],
   "source": [
    "def missing_volume(total_sample_volume, complete_df):\n",
    "    stock_df = CreateSamples_renewed.isolate_common_column(complete_df, 'stock')\n",
    "    total_stock_volume = stock_df.sum(axis=1)\n",
    "    missing_volume = total_sample_volume-total_stock_volume\n",
    "    complete_df['Missing Sample Volume mL'] = missing_volume\n",
    "    return complete_df"
   ]
  },
  {
   "cell_type": "code",
   "execution_count": 389,
   "id": "hybrid-chicago",
   "metadata": {
    "scrolled": true
   },
   "outputs": [
    {
     "data": {
      "text/html": [
       "<div>\n",
       "<style scoped>\n",
       "    .dataframe tbody tr th:only-of-type {\n",
       "        vertical-align: middle;\n",
       "    }\n",
       "\n",
       "    .dataframe tbody tr th {\n",
       "        vertical-align: top;\n",
       "    }\n",
       "\n",
       "    .dataframe thead th {\n",
       "        text-align: right;\n",
       "    }\n",
       "</style>\n",
       "<table border=\"1\" class=\"dataframe\">\n",
       "  <thead>\n",
       "    <tr style=\"text-align: right;\">\n",
       "      <th></th>\n",
       "      <th>Y(NO3)3 concentration molarity</th>\n",
       "      <th>KBF4 concentration molarity</th>\n",
       "      <th>Y(NO3)3 amount mass g</th>\n",
       "      <th>Y(NO3)3 amount volume mL</th>\n",
       "      <th>KBF4 amount mass g</th>\n",
       "      <th>KBF4 amount volume mL</th>\n",
       "      <th>Y(NO3)3-water-stock amount volume mL</th>\n",
       "      <th>KBF4-water-stock amount volume mL</th>\n",
       "      <th>Total Volume mL</th>\n",
       "      <th>Missing Sample Volume mL</th>\n",
       "    </tr>\n",
       "  </thead>\n",
       "  <tbody>\n",
       "    <tr>\n",
       "      <th>0</th>\n",
       "      <td>0.015</td>\n",
       "      <td>0.03</td>\n",
       "      <td>0.028726</td>\n",
       "      <td>0.010711</td>\n",
       "      <td>0.018885</td>\n",
       "      <td>0.007539</td>\n",
       "      <td>0.075</td>\n",
       "      <td>4.213483</td>\n",
       "      <td>4.288483</td>\n",
       "      <td>0.711517</td>\n",
       "    </tr>\n",
       "  </tbody>\n",
       "</table>\n",
       "</div>"
      ],
      "text/plain": [
       "   Y(NO3)3 concentration molarity  KBF4 concentration molarity  \\\n",
       "0                           0.015                         0.03   \n",
       "\n",
       "   Y(NO3)3 amount mass g  Y(NO3)3 amount volume mL  KBF4 amount mass g  \\\n",
       "0               0.028726                  0.010711            0.018885   \n",
       "\n",
       "   KBF4 amount volume mL  Y(NO3)3-water-stock amount volume mL  \\\n",
       "0               0.007539                                 0.075   \n",
       "\n",
       "   KBF4-water-stock amount volume mL  Total Volume mL  \\\n",
       "0                           4.213483         4.288483   \n",
       "\n",
       "   Missing Sample Volume mL  \n",
       "0                  0.711517  "
      ]
     },
     "execution_count": 389,
     "metadata": {},
     "output_type": "execute_result"
    }
   ],
   "source": [
    "complete_df = missing_volume(plan['Sample Amount'], complete_df)\n",
    "complete_df"
   ]
  },
  {
   "cell_type": "code",
   "execution_count": null,
   "id": "latter-entrance",
   "metadata": {},
   "outputs": [],
   "source": [
    "def complete_missing_volume_with_commmon_solvent(complete_df, solvent=None):\n",
    "#     if solvent:\n",
    "#         solvent = solvent\n",
    "    stock_volumes = CreateSamples_renewed.isolate_common_column(complete_df, 'stock')\n",
    "    stock_names = [identify_component_name(col) for col in stock_volumes if 'stock' in col] # this is seperate from the dict since your dict can have more stocks just need ot have the same name\n",
    "    pure_common_solvent_stocks = [stock_name for stock_name in stock_names if stock_dict[stock_name]['Common Solvent'] == 'Pure']\n",
    "    mixture_common_solvent_stocks = [stock_name for stock_name in stock_names if stock_dict[stock_name]['Common Solvent'] == 'Mixture']\n",
    "    assert not len(pure_common_solvent_stocks) > 1, 'Too many common solvents, select one.'\n",
    "    \n",
    "    if len(pure_common_solvent_stocks) == 1:\n",
    "        # then select one and compelte/relpace the missing sampel volume and then if the solvent is provided then that superceeds\n",
    "        \n",
    "\n"
   ]
  },
  {
   "cell_type": "code",
   "execution_count": null,
   "id": "critical-clark",
   "metadata": {},
   "outputs": [],
   "source": [
    "total_sample_unit = plan['Sample Unit']\n",
    "total_sample_amount = plan['Sample Amount']\n",
    "if total_sample_unit = 'mL' : # the completing things of volume will only be for mgpermL if using wtf or volf then should be completeed from unity filter, but no necesarrily can also be done down here\n",
    "    if total_sample_amount < complete_df['Total Volume mL']:\n",
    "        print('do')"
   ]
  }
 ],
 "metadata": {
  "kernelspec": {
   "display_name": "Python 3",
   "language": "python",
   "name": "python3"
  },
  "language_info": {
   "codemirror_mode": {
    "name": "ipython",
    "version": 3
   },
   "file_extension": ".py",
   "mimetype": "text/x-python",
   "name": "python",
   "nbconvert_exporter": "python",
   "pygments_lexer": "ipython3",
   "version": "3.9.1"
  }
 },
 "nbformat": 4,
 "nbformat_minor": 5
}
