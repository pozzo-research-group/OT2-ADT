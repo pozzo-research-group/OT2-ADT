{
 "cells": [
  {
   "cell_type": "code",
   "execution_count": 676,
   "id": "capable-newman",
   "metadata": {},
   "outputs": [
    {
     "data": {
      "text/plain": [
       "<module 'Process.GPModeling' from 'C:\\\\Users\\\\Edwin\\\\Desktop\\\\OT2-DOE\\\\PlanPrepareProcess\\\\Process\\\\GPModeling.py'>"
      ]
     },
     "execution_count": 676,
     "metadata": {},
     "output_type": "execute_result"
    }
   ],
   "source": [
    "from Process import GPModeling as gpm\n",
    "import numpy as np\n",
    "\n",
    "from sklearn.gaussian_process import GaussianProcessRegressor\n",
    "from sklearn.gaussian_process.kernels import RBF, WhiteKernel, ConstantKernel as C\n",
    "from sklearn import preprocessing\n",
    "import matplotlib.pyplot as plt\n",
    "import matplotlib.colors as colors\n",
    "import pandas as pd\n",
    "from scipy.interpolate import interp1d\n",
    "\n",
    "import importlib\n",
    "importlib.reload(gpm)"
   ]
  },
  {
   "cell_type": "markdown",
   "id": "complex-tablet",
   "metadata": {},
   "source": [
    "# Step 1: Load Data Providing Path\n"
   ]
  },
  {
   "cell_type": "code",
   "execution_count": 693,
   "id": "aquatic-monroe",
   "metadata": {
    "scrolled": true
   },
   "outputs": [],
   "source": [
    "path1 = r\"C:\\Users\\Edwin\\Desktop\\OT2-DOE\\PlanPrepareProcess\\Temp or Working\\DLS\\07_29_21_Dls_Viscosity_Corrected_Complete\"\n",
    "full_data = gpm.load_datadf(path1)"
   ]
  },
  {
   "cell_type": "markdown",
   "id": "secure-cooking",
   "metadata": {},
   "source": [
    "# Step 2: Apply any filters due to errors (i.e. foaming or other notable observation)\n"
   ]
  },
  {
   "cell_type": "code",
   "execution_count": 694,
   "id": "hazardous-stand",
   "metadata": {
    "scrolled": true
   },
   "outputs": [],
   "source": [
    "full_data = full_data[full_data['Run']==1]\n",
    "# full_data_2 = full_data[full_data['Run']==2]"
   ]
  },
  {
   "cell_type": "markdown",
   "id": "recent-repeat",
   "metadata": {},
   "source": [
    "# Step 3: Visualize"
   ]
  },
  {
   "cell_type": "code",
   "execution_count": 695,
   "id": "worse-spirit",
   "metadata": {
    "scrolled": false
   },
   "outputs": [
    {
     "data": {
      "text/plain": [
       "<matplotlib.colorbar.Colorbar at 0x1eb29054550>"
      ]
     },
     "execution_count": 695,
     "metadata": {},
     "output_type": "execute_result"
    },
    {
     "data": {
      "image/png": "[encoded data removed]",
      "text/plain": [
       "<Figure size 432x288 with 2 Axes>"
      ]
     },
     "metadata": {
      "needs_background": "light"
     },
     "output_type": "display_data"
    }
   ],
   "source": [
    "x_data = full_data['ethanol concentration wtf'].tolist()\n",
    "y_data = full_data['Octadecane concentration wtf'].tolist()\n",
    "z_data = full_data['Derived Count Rate (kcps)'].tolist()\n",
    "\n",
    "plt.scatter(x_data, y_data, c = z_data)\n",
    "plt.colorbar()\n"
   ]
  },
  {
   "cell_type": "code",
   "execution_count": 696,
   "id": "diverse-devices",
   "metadata": {},
   "outputs": [],
   "source": [
    "# Step 4: Place data for selection and standardize the data, in addition to formatting in the correct array shape"
   ]
  },
  {
   "cell_type": "code",
   "execution_count": 697,
   "id": "extensive-updating",
   "metadata": {},
   "outputs": [],
   "source": [
    "# load and standardize data\n",
    "x1_training = np.asarray(x_data) # simple n x 1\n",
    "x2_training = np.asarray(y_data)\n",
    "y_training = np.asarray(z_data)\n",
    "\n",
    "x1_training_scaled, x1_scaler = gpm.standardize_training(x1_training) # create n x 1 x 1 [[x11],[x12]]\n",
    "x2_training_scaled, x2_scaler = gpm.standardize_training(x2_training)\n",
    "y_training_scaled, y_scaler = gpm.standardize_training(y_training)\n",
    "x1x2_training_scaled = coupled_two_arrays(x1_training_scaled, x2_training_scaled) # creates [[x11, x21],[x12, x22]]\n"
   ]
  },
  {
   "cell_type": "code",
   "execution_count": 710,
   "id": "differential-frame",
   "metadata": {},
   "outputs": [
    {
     "data": {
      "text/plain": [
       "{'length_scale': [0.1, 0.0001],\n",
       " 'length_scale_bounds': [(0.001, 1000), (0.0001, 1)]}"
      ]
     },
     "execution_count": 710,
     "metadata": {},
     "output_type": "execute_result"
    }
   ],
   "source": [
    "# Create the model and fit the data \n",
    "\n",
    "kernel = RBF(length_scale=[0.1, 0.0001], length_scale_bounds=[(0.001, 1000), (0.0001, 1)]) # so sometimes even with the same hyperparameters \n",
    "\n",
    "gpmodel = GaussianProcessRegressor(kernel=kernel, n_restarts_optimizer=10,alpha=0.05, normalize_y=True) # random_state=42\n",
    "gpmodel.fit(x1x2_training_scaled, y_training_scaled)\n",
    "# gpmodel.kernel.length_scale, gpmodel.kernel.length_scale_bounds\n",
    "gpmodel.kernel.get_params()"
   ]
  },
  {
   "cell_type": "code",
   "execution_count": 711,
   "id": "intelligent-island",
   "metadata": {
    "scrolled": false
   },
   "outputs": [
    {
     "data": {
      "text/plain": [
       "0.9967791679985311"
      ]
     },
     "execution_count": 711,
     "metadata": {},
     "output_type": "execute_result"
    }
   ],
   "source": [
    "# Set the scale for how big you want the mesh to extend from\n",
    "x1x2_test, x1_test, x2_test = gpm.create_mesh_from_min_max(x1_training_scaled, x2_training_scaled, scale = 1.5)\n",
    "\n",
    "# Run the test data through and convert results back from standardized to original units\n",
    "x1_test_ex = x1x2_test[:,0][:,0]\n",
    "x2_test_ex = x1x2_test[:,1][:,0]\n",
    "x1x2_test_reform = np.asarray([x1_test_ex, x2_test_ex]).T\n",
    "y_pred, MSE = gpmodel.predict(x1x2_test_reform, return_std=True) \n",
    "\n",
    "x1_test_org = gpm.reverse_standardization(x1_scaler, x1x2_test[:,0])\n",
    "x2_test_org = gpm.reverse_standardization(x2_scaler, x1x2_test[:,1])\n",
    "y_pred_org =  gpm.reverse_standardization(y_scaler, y_pred)\n",
    "\n",
    "# Select data of interst and create meshes\n",
    "x1 = x1_training\n",
    "x2 = x2_training\n",
    "y = y_training\n",
    "\n",
    "dim_x1_test = x1_test.shape[0] \n",
    "dim_x2_test = x2_test.shape[0]\n",
    "\n",
    "x1_mesh_prep = np.asarray([round(i,12) for i in x1_test_org[:,0]])\n",
    "x2_mesh_prep = np.asarray([round(i,12) for i in x2_test_org[:,0]])\n",
    "y_mesh_prep = np.asarray([round(i,5) for i in y_pred_org[:,0]])\n",
    "\n",
    "X1 = x1_mesh_prep.reshape(dim_x2_test, dim_x1_test)\n",
    "X2 = x2_mesh_prep.reshape(dim_x2_test, dim_x1_test)\n",
    "Y = np.reshape(y_mesh_prep,(dim_x2_test, dim_x1_test))\n",
    "\n",
    "gpmodel.score(x1x2_training_scaled, y_training_scaled, [1]*len(y_training_scaled))\n",
    "# gpmodel.log_marginal_likelihood\n",
    "# # hmm play with this score and see what you can change in your kernal to modify it\n",
    "# MSE"
   ]
  },
  {
   "cell_type": "code",
   "execution_count": 712,
   "id": "stupid-tomato",
   "metadata": {
    "scrolled": false
   },
   "outputs": [
    {
     "data": {
      "text/plain": [
       "(-0.0001, 0.0011)"
      ]
     },
     "execution_count": 712,
     "metadata": {},
     "output_type": "execute_result"
    },
    {
     "data": {
      "image/png": "[encoded data removed]",
      "text/plain": [
       "<Figure size 432x288 with 2 Axes>"
      ]
     },
     "metadata": {
      "needs_background": "light"
     },
     "output_type": "display_data"
    }
   ],
   "source": [
    "fig, ax = plt.subplots(1)\n",
    "vmin = 0 \n",
    "vmax = 30000\n",
    "norm =colors.Normalize(vmin=vmin,vmax=vmax) \n",
    "\n",
    "mappable = ax.pcolormesh(X1,X2,Y, norm=norm, shading = 'auto',cmap='jet')\n",
    "cbar = fig.colorbar(mappable)\n",
    "cbar.ax.set_ylabel('Derived Count Rate (kcps)')\n",
    "ax.scatter(x1,x2,c=y, norm=norm, edgecolors='k',cmap='jet')\n",
    "ax.set_xlabel('Ethanol wtf')\n",
    "ax.set_ylabel('Octadecane wtf')\n",
    "ax.set_xlim(0.05,0.85)\n",
    "ax.set_ylim(-0.0001,0.0011)\n",
    "\n",
    "# plt.plot(ex_new, f(ex_new), '-', label='10C')\n",
    "# plt.plot(ex_new_30, f30(ex_new), '-', label='30C')\n",
    "# plt.plot(ex_new_60, f60(ex_new), '-', label='60C')\n",
    "# plt.legend()"
   ]
  },
  {
   "cell_type": "code",
   "execution_count": null,
   "id": "weekly-microwave",
   "metadata": {},
   "outputs": [],
   "source": [
    "solubility_data = pd.read_excel(r\"C:\\Users\\Edwin\\Desktop\\octadecene\\octadecene solubility.xlsx\")\n",
    "solubility_data.columns = solubility_data.loc[0]\n",
    "solubility_data = solubility_data.drop(0)\n",
    "etoh = solubility_data['Ethanol wt% ']/100\n",
    "ode_30 = solubility_data['30 C ']/100\n",
    "ode_10 = solubility_data['10 C ']/100\n",
    "ode_60 = solubility_data['60 C']/100\n",
    "\n",
    "selected = ode_10\n",
    "ex = etoh[selected.notnull()]\n",
    "oy = selected[selected.notnull()]\n",
    "plt.scatter(ex, oy)\n",
    "f = interp1d(ex, oy, kind='linear')\n",
    "ex_new = np.linspace(0, 1, num=20, endpoint=True)\n",
    "plt.plot(ex, oy, 'o', ex_new, f(ex_new), '-')\n",
    "\n",
    "selected = ode_30\n",
    "ex = etoh[selected.notnull()]\n",
    "oy = selected[selected.notnull()]\n",
    "plt.scatter(ex, oy)\n",
    "f30 = interp1d(ex, oy, kind='linear')\n",
    "ex_new_30 = np.linspace(0, 1, num=20, endpoint=True)\n",
    "plt.plot(ex, oy, 'o', ex_new_30, f30(ex_new), '-')\n",
    "\n",
    "selected = ode_60\n",
    "ex = etoh[selected.notnull()]\n",
    "oy = selected[selected.notnull()]\n",
    "plt.scatter(ex, oy)\n",
    "f60 = interp1d(ex, oy, kind='linear')\n",
    "ex_new_60 = np.linspace(0, 1, num=20, endpoint=True)\n",
    "plt.plot(ex, oy, 'o', ex_new_60, f60(ex_new), '-')"
   ]
  }
 ],
 "metadata": {
  "kernelspec": {
   "display_name": "Python 3",
   "language": "python",
   "name": "python3"
  },
  "language_info": {
   "codemirror_mode": {
    "name": "ipython",
    "version": 3
   },
   "file_extension": ".py",
   "mimetype": "text/x-python",
   "name": "python",
   "nbconvert_exporter": "python",
   "pygments_lexer": "ipython3",
   "version": "3.9.1"
  }
 },
 "nbformat": 4,
 "nbformat_minor": 5
}
