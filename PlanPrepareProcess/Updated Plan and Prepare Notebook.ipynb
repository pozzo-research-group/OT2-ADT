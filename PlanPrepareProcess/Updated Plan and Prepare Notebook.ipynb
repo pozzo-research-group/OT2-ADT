{
 "cells": [
  {
   "cell_type": "code",
   "execution_count": 8,
   "id": "sticky-cannon",
   "metadata": {},
   "outputs": [],
   "source": [
    "from Plan import CreateSamples_renewed\n",
    "from Prepare import OT2Commands as ALH\n",
    "from Prepare import OT2Graphing as ographing\n",
    "from opentrons import simulate, execute, protocol_api\n",
    "import importlib"
   ]
  },
  {
   "cell_type": "code",
   "execution_count": 212,
   "id": "prostate-chuck",
   "metadata": {
    "scrolled": false
   },
   "outputs": [
    {
     "data": {
      "text/plain": [
       "<module 'Prepare.OT2Commands' from 'C:\\\\Users\\\\Edwin\\\\Desktop\\\\OT2-DOE\\\\PlanPrepareProcess\\\\Prepare\\\\OT2Commands.py'>"
      ]
     },
     "execution_count": 212,
     "metadata": {},
     "output_type": "execute_result"
    }
   ],
   "source": [
    "importlib.reload(CreateSamples_renewed)\n",
    "importlib.reload(ALH)"
   ]
  },
  {
   "cell_type": "code",
   "execution_count": 205,
   "id": "consolidated-contact",
   "metadata": {},
   "outputs": [],
   "source": [
    "path = r\"C:\\Users\\Edwin\\Desktop\\OT2-DOE\\PlanPrepareProcess\\04_28_21_Yttrium_Test.csv\"\n",
    "chem_path = r\"Chemical Database.csv\"\n",
    "plan = CreateSamples_renewed.get_experiment_plan(path, chem_path)"
   ]
  },
  {
   "cell_type": "code",
   "execution_count": 206,
   "id": "coastal-creek",
   "metadata": {
    "scrolled": true
   },
   "outputs": [
    {
     "data": {
      "text/html": [
       "<div>\n",
       "<style scoped>\n",
       "    .dataframe tbody tr th:only-of-type {\n",
       "        vertical-align: middle;\n",
       "    }\n",
       "\n",
       "    .dataframe tbody tr th {\n",
       "        vertical-align: top;\n",
       "    }\n",
       "\n",
       "    .dataframe thead th {\n",
       "        text-align: right;\n",
       "    }\n",
       "</style>\n",
       "<table border=\"1\" class=\"dataframe\">\n",
       "  <thead>\n",
       "    <tr style=\"text-align: right;\">\n",
       "      <th></th>\n",
       "      <th>Y(NO3)3 concentration molarity</th>\n",
       "      <th>KBF4 concentration molarity</th>\n",
       "    </tr>\n",
       "  </thead>\n",
       "  <tbody>\n",
       "    <tr>\n",
       "      <th>0</th>\n",
       "      <td>0.015</td>\n",
       "      <td>0.03</td>\n",
       "    </tr>\n",
       "  </tbody>\n",
       "</table>\n",
       "</div>"
      ],
      "text/plain": [
       "   Y(NO3)3 concentration molarity  KBF4 concentration molarity\n",
       "0                           0.015                         0.03"
      ]
     },
     "execution_count": 206,
     "metadata": {},
     "output_type": "execute_result"
    }
   ],
   "source": [
    "concentration_df = CreateSamples_renewed.concentration_from_linspace(plan['Component Shorthand Names'], \n",
    "                                                                     plan['Component Concentration Linspaces [min, max, n]'],\n",
    "                                                                     plan['Component Concentration Units'],\n",
    "                                                                     unity_filter=False)\n",
    "concentration_df"
   ]
  },
  {
   "cell_type": "code",
   "execution_count": 214,
   "id": "apart-corps",
   "metadata": {
    "scrolled": true
   },
   "outputs": [
    {
     "name": "stdout",
     "output_type": "stream",
     "text": [
      "You calculated for component masses given the provided units\n",
      "You calculated for component masses given the provided units\n"
     ]
    }
   ],
   "source": [
    "complete_amounts_added = CreateSamples_renewed.determine_component_amounts(plan, concentration_df, nan_fill_value=0)\n",
    "stock_dict = CreateSamples_renewed.stock_dictionary(plan['Stock Names'], plan['Stock Concentration Units'], plan['Stock Concentrations'], plan['Stock Density (g/mL) (only for wtf)']) # make it so when creating a stock_dict that if missing anything just raise an but still allow and fill missing with nan\n",
    "complete_df = CreateSamples_renewed.calculate_stock_volumes_from_component_masses(plan, complete_amounts_added, stock_dict)\n",
    "complete_df = CreateSamples_renewed.calculate_common_solvent_residual_volumes(complete_df, stock_dict)"
   ]
  },
  {
   "cell_type": "code",
   "execution_count": 215,
   "id": "satisfactory-pennsylvania",
   "metadata": {
    "scrolled": false
   },
   "outputs": [],
   "source": [
    "stock_volumes = CreateSamples_renewed.isolate_common_column(complete_df,'stock')"
   ]
  },
  {
   "cell_type": "code",
   "execution_count": 216,
   "id": "romance-looking",
   "metadata": {},
   "outputs": [],
   "source": [
    "stock_volumes = CreateSamples_renewed.complete_missing_volume_with_commmon_solvent(plan['Sample Amount'], stock_volumes, stock_dict, 'water')"
   ]
  },
  {
   "cell_type": "code",
   "execution_count": 218,
   "id": "answering-broad",
   "metadata": {
    "scrolled": true
   },
   "outputs": [
    {
     "data": {
      "text/html": [
       "<div>\n",
       "<style scoped>\n",
       "    .dataframe tbody tr th:only-of-type {\n",
       "        vertical-align: middle;\n",
       "    }\n",
       "\n",
       "    .dataframe tbody tr th {\n",
       "        vertical-align: top;\n",
       "    }\n",
       "\n",
       "    .dataframe thead th {\n",
       "        text-align: right;\n",
       "    }\n",
       "</style>\n",
       "<table border=\"1\" class=\"dataframe\">\n",
       "  <thead>\n",
       "    <tr style=\"text-align: right;\">\n",
       "      <th></th>\n",
       "      <th>Y(NO3)3 amount volume uL</th>\n",
       "      <th>KBF4 amount volume uL</th>\n",
       "      <th>Y(NO3)3-water-stock amount volume uL</th>\n",
       "      <th>KBF4-water-stock amount volume uL</th>\n",
       "    </tr>\n",
       "  </thead>\n",
       "  <tbody>\n",
       "    <tr>\n",
       "      <th>0</th>\n",
       "      <td>10.71057</td>\n",
       "      <td>7.538922</td>\n",
       "      <td>75.0</td>\n",
       "      <td>4213.483146</td>\n",
       "    </tr>\n",
       "  </tbody>\n",
       "</table>\n",
       "</div>"
      ],
      "text/plain": [
       "   Y(NO3)3 amount volume uL  KBF4 amount volume uL  \\\n",
       "0                  10.71057               7.538922   \n",
       "\n",
       "   Y(NO3)3-water-stock amount volume uL  KBF4-water-stock amount volume uL  \n",
       "0                                  75.0                        4213.483146  "
      ]
     },
     "execution_count": 218,
     "metadata": {},
     "output_type": "execute_result"
    }
   ],
   "source": [
    "CreateSamples_renewed.convert_mL_to_uL(complete_df)"
   ]
  },
  {
   "cell_type": "code",
   "execution_count": 199,
   "id": "vital-resistance",
   "metadata": {
    "scrolled": false
   },
   "outputs": [
    {
     "name": "stderr",
     "output_type": "stream",
     "text": [
      "C:\\Users\\Edwin\\.opentrons\\robot_settings.json not found. Loading defaults\n",
      "C:\\Users\\Edwin\\.opentrons\\deck_calibration.json not found. Loading defaults\n"
     ]
    }
   ],
   "source": [
    "labware_dir_path = r\"Custom Labware\"\n",
    "custom_labware_dict = ALH.custom_labware_dict(labware_dir_path)\n",
    "protocol = simulate.get_protocol_api('2.3', extra_labware=custom_labware_dict) # make note this must be run constantly ~ if say making loaded dict twice"
   ]
  },
  {
   "cell_type": "code",
   "execution_count": 200,
   "id": "rubber-kinase",
   "metadata": {
    "scrolled": true
   },
   "outputs": [],
   "source": [
    "loaded_dict = ALH.loading_labware(protocol, plan)\n",
    "loaded_dict = ALH.determine_pipette_resolution(loaded_dict) # this should just be automatically called move into function"
   ]
  },
  {
   "cell_type": "code",
   "execution_count": 201,
   "id": "supreme-oriental",
   "metadata": {},
   "outputs": [
    {
     "data": {
      "text/plain": [
       "{'Y(NO3)3-water-stock amount volume mL': {'Ranges': [[0, 1]],\n",
       "  'Stock Wells': [A1 of 20mLscintillation 12 Well Plate 18000 ÂµL on 1]},\n",
       " 'KBF4-water-stock amount volume mL': {'Ranges': [[0, 1]],\n",
       "  'Stock Wells': [A2 of 20mLscintillation 12 Well Plate 18000 ÂµL on 1]},\n",
       " 'water-stock volume mL': {'Ranges': [[0, 1]],\n",
       "  'Stock Wells': [A3 of 20mLscintillation 12 Well Plate 18000 ÂµL on 1]}}"
      ]
     },
     "execution_count": 201,
     "metadata": {},
     "output_type": "execute_result"
    }
   ],
   "source": [
    "max_source_vol = 15000\n",
    "stock_position_info = ALH.stock_well_ranges(stock_volumes, loaded_dict, max_source_vol) \n",
    "stock_position_info"
   ]
  },
  {
   "cell_type": "code",
   "execution_count": 202,
   "id": "headed-presence",
   "metadata": {},
   "outputs": [
    {
     "ename": "AssertionError",
     "evalue": "Sample volumes are exceeding max destination well volume of 1500.0 uL",
     "output_type": "error",
     "traceback": [
      "\u001b[1;31m---------------------------------------------------------------------------\u001b[0m",
      "\u001b[1;31mAssertionError\u001b[0m                            Traceback (most recent call last)",
      "\u001b[1;32m<ipython-input-202-e71ef39eea5d>\u001b[0m in \u001b[0;36m<module>\u001b[1;34m\u001b[0m\n\u001b[1;32m----> 1\u001b[1;33m \u001b[0mdirections\u001b[0m \u001b[1;33m=\u001b[0m \u001b[0mALH\u001b[0m\u001b[1;33m.\u001b[0m\u001b[0mcreate_sample_making_directions\u001b[0m\u001b[1;33m(\u001b[0m\u001b[0mstock_volumes\u001b[0m\u001b[1;33m,\u001b[0m \u001b[0mstock_position_info\u001b[0m\u001b[1;33m,\u001b[0m \u001b[0mloaded_dict\u001b[0m\u001b[1;33m)\u001b[0m\u001b[1;33m\u001b[0m\u001b[1;33m\u001b[0m\u001b[0m\n\u001b[0m\u001b[0;32m      2\u001b[0m \u001b[0mdirections\u001b[0m\u001b[1;33m\u001b[0m\u001b[1;33m\u001b[0m\u001b[0m\n",
      "\u001b[1;32m~\\Desktop\\OT2-DOE\\PlanPrepareProcess\\Prepare\\OT2Commands.py\u001b[0m in \u001b[0;36mcreate_sample_making_directions\u001b[1;34m(volume_df, stock_position_info, loaded_labware_dict)\u001b[0m\n\u001b[0;32m    147\u001b[0m     \u001b[1;31m# checking if labware and pipette is appropiate before moving forward\u001b[0m\u001b[1;33m\u001b[0m\u001b[1;33m\u001b[0m\u001b[1;33m\u001b[0m\u001b[0m\n\u001b[0;32m    148\u001b[0m     \u001b[0mlabware_check_enough_wells\u001b[0m\u001b[1;33m(\u001b[0m\u001b[0mvolume_df\u001b[0m\u001b[1;33m,\u001b[0m \u001b[0mloaded_labware_dict\u001b[0m\u001b[1;33m)\u001b[0m\u001b[1;33m\u001b[0m\u001b[1;33m\u001b[0m\u001b[0m\n\u001b[1;32m--> 149\u001b[1;33m     \u001b[0mlabware_check_enough_volume\u001b[0m\u001b[1;33m(\u001b[0m\u001b[0mvolume_df\u001b[0m\u001b[1;33m,\u001b[0m \u001b[0mloaded_labware_dict\u001b[0m\u001b[1;33m)\u001b[0m\u001b[1;33m\u001b[0m\u001b[1;33m\u001b[0m\u001b[0m\n\u001b[0m\u001b[0;32m    150\u001b[0m     \u001b[0mpipette_check\u001b[0m\u001b[1;33m(\u001b[0m\u001b[0mvolume_df\u001b[0m\u001b[1;33m,\u001b[0m \u001b[0mloaded_labware_dict\u001b[0m\u001b[1;33m[\u001b[0m\u001b[1;34m'Left Pipette'\u001b[0m\u001b[1;33m]\u001b[0m\u001b[1;33m,\u001b[0m \u001b[0mloaded_labware_dict\u001b[0m\u001b[1;33m[\u001b[0m\u001b[1;34m'Right Pipette'\u001b[0m\u001b[1;33m]\u001b[0m\u001b[1;33m)\u001b[0m\u001b[1;33m\u001b[0m\u001b[1;33m\u001b[0m\u001b[0m\n\u001b[0;32m    151\u001b[0m \u001b[1;33m\u001b[0m\u001b[0m\n",
      "\u001b[1;32m~\\Desktop\\OT2-DOE\\PlanPrepareProcess\\Prepare\\OT2Commands.py\u001b[0m in \u001b[0;36mlabware_check_enough_volume\u001b[1;34m(volumes_df, loaded_labware_dict)\u001b[0m\n\u001b[0;32m    371\u001b[0m     \u001b[0mtotal_sample_volumes\u001b[0m \u001b[1;33m=\u001b[0m \u001b[0mvolumes_df\u001b[0m\u001b[1;33m.\u001b[0m\u001b[0msum\u001b[0m\u001b[1;33m(\u001b[0m\u001b[0maxis\u001b[0m\u001b[1;33m=\u001b[0m\u001b[1;36m1\u001b[0m\u001b[1;33m)\u001b[0m\u001b[1;33m\u001b[0m\u001b[1;33m\u001b[0m\u001b[0m\n\u001b[0;32m    372\u001b[0m \u001b[1;33m\u001b[0m\u001b[0m\n\u001b[1;32m--> 373\u001b[1;33m     \u001b[1;32massert\u001b[0m \u001b[1;33m(\u001b[0m\u001b[0mtotal_sample_volumes\u001b[0m \u001b[1;33m<\u001b[0m \u001b[0mwell_volume\u001b[0m\u001b[1;33m)\u001b[0m\u001b[1;33m.\u001b[0m\u001b[0mall\u001b[0m\u001b[1;33m(\u001b[0m\u001b[1;33m)\u001b[0m\u001b[1;33m,\u001b[0m \u001b[1;34m'Sample volumes are exceeding max destination well volume of '\u001b[0m \u001b[1;33m+\u001b[0m \u001b[0mstr\u001b[0m\u001b[1;33m(\u001b[0m\u001b[0mwell_volume\u001b[0m\u001b[1;33m)\u001b[0m \u001b[1;33m+\u001b[0m \u001b[1;34m' uL'\u001b[0m\u001b[1;33m\u001b[0m\u001b[1;33m\u001b[0m\u001b[0m\n\u001b[0m\u001b[0;32m    374\u001b[0m \u001b[1;33m\u001b[0m\u001b[0m\n\u001b[0;32m    375\u001b[0m \u001b[1;32mdef\u001b[0m \u001b[0mdetermine_well_volume\u001b[0m\u001b[1;33m(\u001b[0m\u001b[0mwell\u001b[0m\u001b[1;33m)\u001b[0m\u001b[1;33m:\u001b[0m\u001b[1;33m\u001b[0m\u001b[1;33m\u001b[0m\u001b[0m\n",
      "\u001b[1;31mAssertionError\u001b[0m: Sample volumes are exceeding max destination well volume of 1500.0 uL"
     ]
    }
   ],
   "source": [
    "directions = ALH.create_sample_making_directions(stock_volumes, stock_position_info, loaded_dict)\n",
    "directions"
   ]
  },
  {
   "cell_type": "code",
   "execution_count": 178,
   "id": "northern-invite",
   "metadata": {},
   "outputs": [
    {
     "name": "stdout",
     "output_type": "stream",
     "text": [
      "Picking up tip from A1 of Opentrons 96 Tip Rack 300 µL on 10\n",
      "Transferring 30.000042611565522 from A1 of 20mLscintillation 12 Well Plate 18000 ÂµL on 1 to A5 of Falcon 48 Well Plate 1500 ÂµL on 2\n",
      "Aspirating 30.000042611565522 uL from A1 of 20mLscintillation 12 Well Plate 18000 ÂµL on 1 at 50.0 uL/sec\n",
      "Dispensing 30.000042611565522 uL into A5 of Falcon 48 Well Plate 1500 ÂµL on 2 at 300.0 uL/sec\n",
      "Returning tip\n",
      "Dropping tip into A1 of Opentrons 96 Tip Rack 300 µL on 10\n",
      "Picking up tip from A2 of Opentrons 96 Tip Rack 300 µL on 10\n",
      "Transferring 33.44656189053347 from A2 of 20mLscintillation 12 Well Plate 18000 ÂµL on 1 to A5 of Falcon 48 Well Plate 1500 ÂµL on 2\n",
      "Aspirating 33.44656189053347 uL from A2 of 20mLscintillation 12 Well Plate 18000 ÂµL on 1 at 50.0 uL/sec\n",
      "Dispensing 33.44656189053347 uL into A5 of Falcon 48 Well Plate 1500 ÂµL on 2 at 300.0 uL/sec\n",
      "Returning tip\n",
      "Dropping tip into A2 of Opentrons 96 Tip Rack 300 µL on 10\n",
      "Picking up tip from A3 of Opentrons 96 Tip Rack 300 µL on 10\n",
      "Transferring 0.0 from A3 of 20mLscintillation 12 Well Plate 18000 ÂµL on 1 to A5 of Falcon 48 Well Plate 1500 ÂµL on 2\n",
      "Returning tip\n",
      "Dropping tip into A3 of Opentrons 96 Tip Rack 300 µL on 10\n",
      "Picking up tip from A4 of Opentrons 96 Tip Rack 300 µL on 10\n",
      "Transferring 85.78723960183171 from A4 of 20mLscintillation 12 Well Plate 18000 ÂµL on 1 to A5 of Falcon 48 Well Plate 1500 ÂµL on 2\n",
      "Aspirating 85.78723960183171 uL from A4 of 20mLscintillation 12 Well Plate 18000 ÂµL on 1 at 50.0 uL/sec\n",
      "Dispensing 85.78723960183171 uL into A5 of Falcon 48 Well Plate 1500 ÂµL on 2 at 300.0 uL/sec\n",
      "Returning tip\n",
      "Dropping tip into A4 of Opentrons 96 Tip Rack 300 µL on 10\n",
      "Picking up tip from A5 of Opentrons 96 Tip Rack 1000 µL on 11\n",
      "Transferring 682.0172631578948 from B1 of 20mLscintillation 12 Well Plate 18000 ÂµL on 1 to A5 of Falcon 48 Well Plate 1500 ÂµL on 2\n",
      "Aspirating 682.0172631578948 uL from B1 of 20mLscintillation 12 Well Plate 18000 ÂµL on 1 at 500.0 uL/sec\n",
      "Dispensing 682.0172631578948 uL into A5 of Falcon 48 Well Plate 1500 ÂµL on 2 at 1000.0 uL/sec\n",
      "Returning tip\n",
      "Dropping tip into A5 of Opentrons 96 Tip Rack 1000 µL on 11\n",
      "Picking up tip from A1 of Opentrons 96 Tip Rack 300 µL on 10\n",
      "Transferring 30.000042611565522 from A1 of 20mLscintillation 12 Well Plate 18000 ÂµL on 1 to A6 of Falcon 48 Well Plate 1500 ÂµL on 2\n",
      "Aspirating 30.000042611565522 uL from A1 of 20mLscintillation 12 Well Plate 18000 ÂµL on 1 at 50.0 uL/sec\n",
      "Dispensing 30.000042611565522 uL into A6 of Falcon 48 Well Plate 1500 ÂµL on 2 at 300.0 uL/sec\n",
      "Returning tip\n",
      "Dropping tip into A1 of Opentrons 96 Tip Rack 300 µL on 10\n",
      "Picking up tip from A2 of Opentrons 96 Tip Rack 300 µL on 10\n",
      "Transferring 33.44656189053347 from A2 of 20mLscintillation 12 Well Plate 18000 ÂµL on 1 to A6 of Falcon 48 Well Plate 1500 ÂµL on 2\n",
      "Aspirating 33.44656189053347 uL from A2 of 20mLscintillation 12 Well Plate 18000 ÂµL on 1 at 50.0 uL/sec\n",
      "Dispensing 33.44656189053347 uL into A6 of Falcon 48 Well Plate 1500 ÂµL on 2 at 300.0 uL/sec\n",
      "Returning tip\n",
      "Dropping tip into A2 of Opentrons 96 Tip Rack 300 µL on 10\n",
      "Picking up tip from A3 of Opentrons 96 Tip Rack 300 µL on 10\n",
      "Transferring 0.0 from A3 of 20mLscintillation 12 Well Plate 18000 ÂµL on 1 to A6 of Falcon 48 Well Plate 1500 ÂµL on 2\n",
      "Returning tip\n",
      "Dropping tip into A3 of Opentrons 96 Tip Rack 300 µL on 10\n",
      "Picking up tip from A4 of Opentrons 96 Tip Rack 300 µL on 10\n",
      "Transferring 123.09570062781438 from A4 of 20mLscintillation 12 Well Plate 18000 ÂµL on 1 to A6 of Falcon 48 Well Plate 1500 ÂµL on 2\n",
      "Aspirating 123.09570062781438 uL from A4 of 20mLscintillation 12 Well Plate 18000 ÂµL on 1 at 50.0 uL/sec\n",
      "Dispensing 123.09570062781438 uL into A6 of Falcon 48 Well Plate 1500 ÂµL on 2 at 300.0 uL/sec\n",
      "Returning tip\n",
      "Dropping tip into A4 of Opentrons 96 Tip Rack 300 µL on 10\n",
      "Picking up tip from A5 of Opentrons 96 Tip Rack 1000 µL on 11\n",
      "Transferring 652.5435789473685 from B1 of 20mLscintillation 12 Well Plate 18000 ÂµL on 1 to A6 of Falcon 48 Well Plate 1500 ÂµL on 2\n",
      "Aspirating 652.5435789473685 uL from B1 of 20mLscintillation 12 Well Plate 18000 ÂµL on 1 at 500.0 uL/sec\n",
      "Dispensing 652.5435789473685 uL into A6 of Falcon 48 Well Plate 1500 ÂµL on 2 at 1000.0 uL/sec\n",
      "Returning tip\n",
      "Dropping tip into A5 of Opentrons 96 Tip Rack 1000 µL on 11\n"
     ]
    }
   ],
   "source": [
    "transfer_info = ALH.pipette_volumes_sample_wise(protocol, directions, loaded_dict)"
   ]
  },
  {
   "cell_type": "code",
   "execution_count": null,
   "id": "played-college",
   "metadata": {},
   "outputs": [],
   "source": [
    "directions[0].keys()"
   ]
  }
 ],
 "metadata": {
  "kernelspec": {
   "display_name": "Python 3",
   "language": "python",
   "name": "python3"
  }
 },
 "nbformat": 4,
 "nbformat_minor": 5
}
