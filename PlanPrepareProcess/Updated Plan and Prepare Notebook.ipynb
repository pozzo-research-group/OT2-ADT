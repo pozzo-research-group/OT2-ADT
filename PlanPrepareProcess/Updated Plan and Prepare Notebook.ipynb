{
 "cells": [
  {
   "cell_type": "code",
   "execution_count": 5,
   "id": "sticky-cannon",
   "metadata": {},
   "outputs": [],
   "source": [
    "from Plan import CreateSamples_renewed\n",
    "from Prepare import OT2Commands as ALH\n",
    "from Prepare import OT2Graphing as ographing\n",
    "from opentrons import simulate, execute, protocol_api\n",
    "import importlib"
   ]
  },
  {
   "cell_type": "code",
   "execution_count": 12,
   "id": "prostate-chuck",
   "metadata": {
    "scrolled": false
   },
   "outputs": [
    {
     "data": {
      "text/plain": [
       "<module 'Prepare.OT2Commands' from 'C:\\\\Users\\\\Edwin\\\\Desktop\\\\OT2-DOE\\\\PlanPrepareProcess\\\\Prepare\\\\OT2Commands.py'>"
      ]
     },
     "execution_count": 12,
     "metadata": {},
     "output_type": "execute_result"
    }
   ],
   "source": [
    "importlib.reload(CreateSamples_renewed)\n",
    "importlib.reload(ALH)"
   ]
  },
  {
   "cell_type": "code",
   "execution_count": 14,
   "id": "consolidated-contact",
   "metadata": {},
   "outputs": [
    {
     "data": {
      "text/plain": [
       "{'Sample Amount': 5,\n",
       " 'Sample Unit': 'mL',\n",
       " 'Component Shorthand Names': ['CdAc', 'Se', 'OleicAc', 'Oleylamine'],\n",
       " 'Component Concentration Units': ['molarity',\n",
       "  'molarity',\n",
       "  'molarity',\n",
       "  'molarity'],\n",
       " 'Component Concentration Linspaces [min, max, n]': [[0.06286, 0.06286, 1],\n",
       "  [0.25167, 0.25167, 1],\n",
       "  [0.258, 0.258, 1],\n",
       "  [0.124, 0.124, 1]],\n",
       " 'Stock Names': ['CdAc-TOP-stock',\n",
       "  'Se-TOP-stock',\n",
       "  'OleicAc-stock',\n",
       "  'Oleylamine-stock'],\n",
       " 'Stock Concentration Units': ['molarity', 'molarity', 'volf', 'volf'],\n",
       " 'Stock Concentrations': [0.5, 1, 1, 1],\n",
       " 'OT2 Destination Labwares': ['falcon_48_wellplate_1500ul',\n",
       "  'falcon_48_wellplate_1500ul',\n",
       "  'falcon_48_wellplate_1500ul'],\n",
       " 'OT2 Destination Labware Slots': ['2', '3', '5'],\n",
       " 'OT2 Sample Labware Start': 0,\n",
       " 'OT2 Stock Labwares': ['20mlscintillation_12_wellplate_18000ul',\n",
       "  '20mlscintillation_12_wellplate_18000ul'],\n",
       " 'OT2 Stock Labware Slots': ['1', '4'],\n",
       " 'OT2 Stock Labware Stock Order': [1, 2, 3, 4, 5],\n",
       " 'OT2 Left Pipette': 'p300_single_gen2',\n",
       " 'OT2 Left Pipette Aspiration Rate (uL/sec)': 50,\n",
       " 'OT2 Left Pipette Dispense Rate (uL/sec)': 300,\n",
       " 'OT2 Left Tipracks': ['opentrons_96_tiprack_300ul',\n",
       "  'opentrons_96_tiprack_300ul'],\n",
       " 'OT2 Left Tiprack Slots': ['10', '7'],\n",
       " 'OT2 Right Pipette': 'p1000_single',\n",
       " 'OT2 Right Pipette Aspiration Rate (uL/sec)': 500,\n",
       " 'OT2 Right Pipette Dispense Rate (uL/sec)': 1000,\n",
       " 'OT2 Right Tipracks': ['opentrons_96_tiprack_1000ul',\n",
       "  'opentrons_96_tiprack_1000ul'],\n",
       " 'OT2 Right Tiprack Slots': ['11', '8'],\n",
       " 'OT2 Bottom Dispensing Clearance (mm)': 30,\n",
       " 'OT2 Single Transfer From Dest Volume (uL)': 300,\n",
       " 'OT2 Single Transfer From Dest Labwares': ['corning_96_wellplate_360ul_flat',\n",
       "  'corning_96_wellplate_360ul_flat'],\n",
       " 'OT2 Single Transfer From Dest Slots': ['6', '9'],\n",
       " 'OT2 Single Transfer Pipette Dispense Rate (uL/sec)': 51,\n",
       " 'OT2 Single Transfer Pipette Aspiration Rate (uL/sec)': 123,\n",
       " 'OT2 Single Transfer From Dest Bottom Dispensing Clearance (mm)': 15,\n",
       " 'OT2 Single Transfer From Dest Bottom Aspirating Clearance (mm)': 1,\n",
       " 'Chemical Database': {'dppc': {'Component Abbreviation': 'dppc',\n",
       "   'Component Full Name': '1,2-dipalmitoyl-sn-glycero-3-phosphocholine',\n",
       "   'Molecular Weight (g/mol)': 734.039,\n",
       "   'Density (g/mL)': nan,\n",
       "   'Source': 'https://avantilipids.com/product/850355'},\n",
       "  'dspepeg2000': {'Component Abbreviation': 'dspepeg2000',\n",
       "   'Component Full Name': '1,2-distearoyl-sn-glycero-3-phosphoethanolamine-N-[amino(polyethylene glycol)-2000]',\n",
       "   'Molecular Weight (g/mol)': 2790.521,\n",
       "   'Density (g/mL)': nan,\n",
       "   'Source': 'https://avantilipids.com/product/880128'},\n",
       "  'pfh': {'Component Abbreviation': 'pfh',\n",
       "   'Component Full Name': 'Perfluorohexane',\n",
       "   'Molecular Weight (g/mol)': 338.041845,\n",
       "   'Density (g/mL)': 1.691,\n",
       "   'Source': 'https://www.sigmaaldrich.com/catalog/product/aldrich/281042?lang=en&region=US'},\n",
       "  'ethanol': {'Component Abbreviation': 'ethanol',\n",
       "   'Component Full Name': 'Ethanol',\n",
       "   'Molecular Weight (g/mol)': 46.069,\n",
       "   'Density (g/mL)': 0.7893,\n",
       "   'Source': 'https://www.sigmaaldrich.com/catalog/search?interface=All&term=ethanol&N=0&focus=product&lang=en&region=US'},\n",
       "  'water': {'Component Abbreviation': 'water',\n",
       "   'Component Full Name': 'Water',\n",
       "   'Molecular Weight (g/mol)': 18.01528,\n",
       "   'Density (g/mL)': 1.0,\n",
       "   'Source': 'god'},\n",
       "  'Y(NO3)3': {'Component Abbreviation': 'Y(NO3)3',\n",
       "   'Component Full Name': 'yttrium nitrate hexahydrate',\n",
       "   'Molecular Weight (g/mol)': 383.01,\n",
       "   'Density (g/mL)': 2.682,\n",
       "   'Source': 'https://www.sigmaaldrich.com/catalog/product/aldrich/237957?lang=en&region=US'},\n",
       "  'KBF4': {'Component Abbreviation': 'KBF4',\n",
       "   'Component Full Name': 'potassium tetrafluoroborate',\n",
       "   'Molecular Weight (g/mol)': 125.9,\n",
       "   'Density (g/mL)': 2.505,\n",
       "   'Source': 'https://www.sigmaaldrich.com/catalog/product/aldrich/455903?lang=en&region=US'},\n",
       "  'TOP': {'Component Abbreviation': 'TOP',\n",
       "   'Component Full Name': 'Trioctylphosphine',\n",
       "   'Molecular Weight (g/mol)': 370.64,\n",
       "   'Density (g/mL)': 0.831,\n",
       "   'Source': 'https://www.sigmaaldrich.com/catalog/product/aldrich/718165?lang=en&region=US'},\n",
       "  'ODE': {'Component Abbreviation': 'ODE',\n",
       "   'Component Full Name': 'Octadecene',\n",
       "   'Molecular Weight (g/mol)': 252.48,\n",
       "   'Density (g/mL)': 0.789,\n",
       "   'Source': 'https://www.sigmaaldrich.com/catalog/product/aldrich/o806?lang=en&region=US&cm_sp=Insite-_-caContent_prodMerch_gruCrossEntropy-_-prodMerch10-2'},\n",
       "  'Oleylamine': {'Component Abbreviation': 'Oleylamine',\n",
       "   'Component Full Name': 'Oleylamine',\n",
       "   'Molecular Weight (g/mol)': 267.49,\n",
       "   'Density (g/mL)': 0.813,\n",
       "   'Source': 'https://www.sigmaaldrich.com/catalog/product/aldrich/909831?lang=en&region=US&cm_sp=Insite-_-caContent_prodMerch_gruCrossEntropy-_-prodMerch10-1'},\n",
       "  'OleicAc': {'Component Abbreviation': 'OleicAc',\n",
       "   'Component Full Name': 'Oleic acid',\n",
       "   'Molecular Weight (g/mol)': 282.46,\n",
       "   'Density (g/mL)': 0.89,\n",
       "   'Source': 'https://www.sigmaaldrich.com/catalog/product/sial/o1008?lang=en&region=US&cm_sp=Insite-_-caRecBlock_recBlock_cooccuranceModel-_-recBlock5-3'},\n",
       "  'CdAc': {'Component Abbreviation': 'CdAc',\n",
       "   'Component Full Name': 'Cadmium(II) acetate',\n",
       "   'Molecular Weight (g/mol)': 230.5,\n",
       "   'Density (g/mL)': 2.34,\n",
       "   'Source': 'https://www.sigmaaldrich.com/catalog/product/aldrich/755087?lang=en&region=US'},\n",
       "  'Se': {'Component Abbreviation': 'Se',\n",
       "   'Component Full Name': 'Selenium',\n",
       "   'Molecular Weight (g/mol)': 78.96,\n",
       "   'Density (g/mL)': 4.81,\n",
       "   'Source': 'https://www.sigmaaldrich.com/catalog/product/aldrich/209651?lang=en&region=US&gclid=Cj0KCQjwp86EBhD7ARIsAFkgakihPD8ZygXInYJ7c05jpDLyDJHDnGjFBW6hQpSGUrogVONetIIOv9caAmYfEALw_wcB'}}}"
      ]
     },
     "execution_count": 14,
     "metadata": {},
     "output_type": "execute_result"
    }
   ],
   "source": [
    "path = r\"Testing Plans\\04_28_21_CdSe_Ligand_Study.csv\"\n",
    "chem_path = r\"Chemical Database.csv\"\n",
    "plan = CreateSamples_renewed.get_experiment_plan(path, chem_path)\n",
    "plan"
   ]
  },
  {
   "cell_type": "code",
   "execution_count": 15,
   "id": "coastal-creek",
   "metadata": {
    "scrolled": true
   },
   "outputs": [
    {
     "data": {
      "text/html": [
       "<div>\n",
       "<style scoped>\n",
       "    .dataframe tbody tr th:only-of-type {\n",
       "        vertical-align: middle;\n",
       "    }\n",
       "\n",
       "    .dataframe tbody tr th {\n",
       "        vertical-align: top;\n",
       "    }\n",
       "\n",
       "    .dataframe thead th {\n",
       "        text-align: right;\n",
       "    }\n",
       "</style>\n",
       "<table border=\"1\" class=\"dataframe\">\n",
       "  <thead>\n",
       "    <tr style=\"text-align: right;\">\n",
       "      <th></th>\n",
       "      <th>CdAc concentration molarity</th>\n",
       "      <th>Se concentration molarity</th>\n",
       "      <th>OleicAc concentration molarity</th>\n",
       "      <th>Oleylamine concentration molarity</th>\n",
       "    </tr>\n",
       "  </thead>\n",
       "  <tbody>\n",
       "    <tr>\n",
       "      <th>0</th>\n",
       "      <td>0.06286</td>\n",
       "      <td>0.25167</td>\n",
       "      <td>0.258</td>\n",
       "      <td>0.124</td>\n",
       "    </tr>\n",
       "  </tbody>\n",
       "</table>\n",
       "</div>"
      ],
      "text/plain": [
       "   CdAc concentration molarity  Se concentration molarity  \\\n",
       "0                      0.06286                    0.25167   \n",
       "\n",
       "   OleicAc concentration molarity  Oleylamine concentration molarity  \n",
       "0                           0.258                              0.124  "
      ]
     },
     "execution_count": 15,
     "metadata": {},
     "output_type": "execute_result"
    }
   ],
   "source": [
    "concentration_df = CreateSamples_renewed.concentration_from_linspace(plan['Component Shorthand Names'], \n",
    "                                                                     plan['Component Concentration Linspaces [min, max, n]'],\n",
    "                                                                     plan['Component Concentration Units'],\n",
    "                                                                     unity_filter=False)\n",
    "concentration_df"
   ]
  },
  {
   "cell_type": "code",
   "execution_count": 214,
   "id": "apart-corps",
   "metadata": {
    "scrolled": true
   },
   "outputs": [
    {
     "name": "stdout",
     "output_type": "stream",
     "text": [
      "You calculated for component masses given the provided units\n",
      "You calculated for component masses given the provided units\n"
     ]
    }
   ],
   "source": [
    "complete_amounts_added = CreateSamples_renewed.determine_component_amounts(plan, concentration_df, nan_fill_value=0)\n",
    "stock_dict = CreateSamples_renewed.stock_dictionary(plan['Stock Names'], plan['Stock Concentration Units'], plan['Stock Concentrations'], plan['Stock Density (g/mL) (only for wtf)']) # make it so when creating a stock_dict that if missing anything just raise an but still allow and fill missing with nan\n",
    "complete_df = CreateSamples_renewed.calculate_stock_volumes_from_component_masses(plan, complete_amounts_added, stock_dict)\n",
    "complete_df = CreateSamples_renewed.calculate_common_solvent_residual_volumes(complete_df, stock_dict)"
   ]
  },
  {
   "cell_type": "code",
   "execution_count": 215,
   "id": "satisfactory-pennsylvania",
   "metadata": {
    "scrolled": false
   },
   "outputs": [],
   "source": [
    "stock_volumes = CreateSamples_renewed.isolate_common_column(complete_df,'stock')"
   ]
  },
  {
   "cell_type": "code",
   "execution_count": 216,
   "id": "romance-looking",
   "metadata": {},
   "outputs": [],
   "source": [
    "stock_volumes = CreateSamples_renewed.complete_missing_volume_with_commmon_solvent(plan['Sample Amount'], stock_volumes, stock_dict, 'water')"
   ]
  },
  {
   "cell_type": "code",
   "execution_count": 218,
   "id": "answering-broad",
   "metadata": {
    "scrolled": true
   },
   "outputs": [
    {
     "data": {
      "text/html": [
       "<div>\n",
       "<style scoped>\n",
       "    .dataframe tbody tr th:only-of-type {\n",
       "        vertical-align: middle;\n",
       "    }\n",
       "\n",
       "    .dataframe tbody tr th {\n",
       "        vertical-align: top;\n",
       "    }\n",
       "\n",
       "    .dataframe thead th {\n",
       "        text-align: right;\n",
       "    }\n",
       "</style>\n",
       "<table border=\"1\" class=\"dataframe\">\n",
       "  <thead>\n",
       "    <tr style=\"text-align: right;\">\n",
       "      <th></th>\n",
       "      <th>Y(NO3)3 amount volume uL</th>\n",
       "      <th>KBF4 amount volume uL</th>\n",
       "      <th>Y(NO3)3-water-stock amount volume uL</th>\n",
       "      <th>KBF4-water-stock amount volume uL</th>\n",
       "    </tr>\n",
       "  </thead>\n",
       "  <tbody>\n",
       "    <tr>\n",
       "      <th>0</th>\n",
       "      <td>10.71057</td>\n",
       "      <td>7.538922</td>\n",
       "      <td>75.0</td>\n",
       "      <td>4213.483146</td>\n",
       "    </tr>\n",
       "  </tbody>\n",
       "</table>\n",
       "</div>"
      ],
      "text/plain": [
       "   Y(NO3)3 amount volume uL  KBF4 amount volume uL  \\\n",
       "0                  10.71057               7.538922   \n",
       "\n",
       "   Y(NO3)3-water-stock amount volume uL  KBF4-water-stock amount volume uL  \n",
       "0                                  75.0                        4213.483146  "
      ]
     },
     "execution_count": 218,
     "metadata": {},
     "output_type": "execute_result"
    }
   ],
   "source": [
    "CreateSamples_renewed.convert_mL_to_uL(complete_df)"
   ]
  },
  {
   "cell_type": "code",
   "execution_count": 199,
   "id": "vital-resistance",
   "metadata": {
    "scrolled": false
   },
   "outputs": [
    {
     "name": "stderr",
     "output_type": "stream",
     "text": [
      "C:\\Users\\Edwin\\.opentrons\\robot_settings.json not found. Loading defaults\n",
      "C:\\Users\\Edwin\\.opentrons\\deck_calibration.json not found. Loading defaults\n"
     ]
    }
   ],
   "source": [
    "labware_dir_path = r\"Custom Labware\"\n",
    "custom_labware_dict = ALH.custom_labware_dict(labware_dir_path)\n",
    "protocol = simulate.get_protocol_api('2.3', extra_labware=custom_labware_dict) # make note this must be run constantly ~ if say making loaded dict twice"
   ]
  },
  {
   "cell_type": "code",
   "execution_count": 200,
   "id": "rubber-kinase",
   "metadata": {
    "scrolled": true
   },
   "outputs": [],
   "source": [
    "loaded_dict = ALH.loading_labware(protocol, plan)\n",
    "loaded_dict = ALH.determine_pipette_resolution(loaded_dict) # this should just be automatically called move into function"
   ]
  },
  {
   "cell_type": "code",
   "execution_count": 201,
   "id": "supreme-oriental",
   "metadata": {},
   "outputs": [
    {
     "data": {
      "text/plain": [
       "{'Y(NO3)3-water-stock amount volume mL': {'Ranges': [[0, 1]],\n",
       "  'Stock Wells': [A1 of 20mLscintillation 12 Well Plate 18000 ÂµL on 1]},\n",
       " 'KBF4-water-stock amount volume mL': {'Ranges': [[0, 1]],\n",
       "  'Stock Wells': [A2 of 20mLscintillation 12 Well Plate 18000 ÂµL on 1]},\n",
       " 'water-stock volume mL': {'Ranges': [[0, 1]],\n",
       "  'Stock Wells': [A3 of 20mLscintillation 12 Well Plate 18000 ÂµL on 1]}}"
      ]
     },
     "execution_count": 201,
     "metadata": {},
     "output_type": "execute_result"
    }
   ],
   "source": [
    "max_source_vol = 15000\n",
    "stock_position_info = ALH.stock_well_ranges(stock_volumes, loaded_dict, max_source_vol) \n",
    "stock_position_info"
   ]
  },
  {
   "cell_type": "code",
   "execution_count": 202,
   "id": "headed-presence",
   "metadata": {},
   "outputs": [
    {
     "ename": "AssertionError",
     "evalue": "Sample volumes are exceeding max destination well volume of 1500.0 uL",
     "output_type": "error",
     "traceback": [
      "\u001b[1;31m---------------------------------------------------------------------------\u001b[0m",
      "\u001b[1;31mAssertionError\u001b[0m                            Traceback (most recent call last)",
      "\u001b[1;32m<ipython-input-202-e71ef39eea5d>\u001b[0m in \u001b[0;36m<module>\u001b[1;34m\u001b[0m\n\u001b[1;32m----> 1\u001b[1;33m \u001b[0mdirections\u001b[0m \u001b[1;33m=\u001b[0m \u001b[0mALH\u001b[0m\u001b[1;33m.\u001b[0m\u001b[0mcreate_sample_making_directions\u001b[0m\u001b[1;33m(\u001b[0m\u001b[0mstock_volumes\u001b[0m\u001b[1;33m,\u001b[0m \u001b[0mstock_position_info\u001b[0m\u001b[1;33m,\u001b[0m \u001b[0mloaded_dict\u001b[0m\u001b[1;33m)\u001b[0m\u001b[1;33m\u001b[0m\u001b[1;33m\u001b[0m\u001b[0m\n\u001b[0m\u001b[0;32m      2\u001b[0m \u001b[0mdirections\u001b[0m\u001b[1;33m\u001b[0m\u001b[1;33m\u001b[0m\u001b[0m\n",
      "\u001b[1;32m~\\Desktop\\OT2-DOE\\PlanPrepareProcess\\Prepare\\OT2Commands.py\u001b[0m in \u001b[0;36mcreate_sample_making_directions\u001b[1;34m(volume_df, stock_position_info, loaded_labware_dict)\u001b[0m\n\u001b[0;32m    147\u001b[0m     \u001b[1;31m# checking if labware and pipette is appropiate before moving forward\u001b[0m\u001b[1;33m\u001b[0m\u001b[1;33m\u001b[0m\u001b[1;33m\u001b[0m\u001b[0m\n\u001b[0;32m    148\u001b[0m     \u001b[0mlabware_check_enough_wells\u001b[0m\u001b[1;33m(\u001b[0m\u001b[0mvolume_df\u001b[0m\u001b[1;33m,\u001b[0m \u001b[0mloaded_labware_dict\u001b[0m\u001b[1;33m)\u001b[0m\u001b[1;33m\u001b[0m\u001b[1;33m\u001b[0m\u001b[0m\n\u001b[1;32m--> 149\u001b[1;33m     \u001b[0mlabware_check_enough_volume\u001b[0m\u001b[1;33m(\u001b[0m\u001b[0mvolume_df\u001b[0m\u001b[1;33m,\u001b[0m \u001b[0mloaded_labware_dict\u001b[0m\u001b[1;33m)\u001b[0m\u001b[1;33m\u001b[0m\u001b[1;33m\u001b[0m\u001b[0m\n\u001b[0m\u001b[0;32m    150\u001b[0m     \u001b[0mpipette_check\u001b[0m\u001b[1;33m(\u001b[0m\u001b[0mvolume_df\u001b[0m\u001b[1;33m,\u001b[0m \u001b[0mloaded_labware_dict\u001b[0m\u001b[1;33m[\u001b[0m\u001b[1;34m'Left Pipette'\u001b[0m\u001b[1;33m]\u001b[0m\u001b[1;33m,\u001b[0m \u001b[0mloaded_labware_dict\u001b[0m\u001b[1;33m[\u001b[0m\u001b[1;34m'Right Pipette'\u001b[0m\u001b[1;33m]\u001b[0m\u001b[1;33m)\u001b[0m\u001b[1;33m\u001b[0m\u001b[1;33m\u001b[0m\u001b[0m\n\u001b[0;32m    151\u001b[0m \u001b[1;33m\u001b[0m\u001b[0m\n",
      "\u001b[1;32m~\\Desktop\\OT2-DOE\\PlanPrepareProcess\\Prepare\\OT2Commands.py\u001b[0m in \u001b[0;36mlabware_check_enough_volume\u001b[1;34m(volumes_df, loaded_labware_dict)\u001b[0m\n\u001b[0;32m    371\u001b[0m     \u001b[0mtotal_sample_volumes\u001b[0m \u001b[1;33m=\u001b[0m \u001b[0mvolumes_df\u001b[0m\u001b[1;33m.\u001b[0m\u001b[0msum\u001b[0m\u001b[1;33m(\u001b[0m\u001b[0maxis\u001b[0m\u001b[1;33m=\u001b[0m\u001b[1;36m1\u001b[0m\u001b[1;33m)\u001b[0m\u001b[1;33m\u001b[0m\u001b[1;33m\u001b[0m\u001b[0m\n\u001b[0;32m    372\u001b[0m \u001b[1;33m\u001b[0m\u001b[0m\n\u001b[1;32m--> 373\u001b[1;33m     \u001b[1;32massert\u001b[0m \u001b[1;33m(\u001b[0m\u001b[0mtotal_sample_volumes\u001b[0m \u001b[1;33m<\u001b[0m \u001b[0mwell_volume\u001b[0m\u001b[1;33m)\u001b[0m\u001b[1;33m.\u001b[0m\u001b[0mall\u001b[0m\u001b[1;33m(\u001b[0m\u001b[1;33m)\u001b[0m\u001b[1;33m,\u001b[0m \u001b[1;34m'Sample volumes are exceeding max destination well volume of '\u001b[0m \u001b[1;33m+\u001b[0m \u001b[0mstr\u001b[0m\u001b[1;33m(\u001b[0m\u001b[0mwell_volume\u001b[0m\u001b[1;33m)\u001b[0m \u001b[1;33m+\u001b[0m \u001b[1;34m' uL'\u001b[0m\u001b[1;33m\u001b[0m\u001b[1;33m\u001b[0m\u001b[0m\n\u001b[0m\u001b[0;32m    374\u001b[0m \u001b[1;33m\u001b[0m\u001b[0m\n\u001b[0;32m    375\u001b[0m \u001b[1;32mdef\u001b[0m \u001b[0mdetermine_well_volume\u001b[0m\u001b[1;33m(\u001b[0m\u001b[0mwell\u001b[0m\u001b[1;33m)\u001b[0m\u001b[1;33m:\u001b[0m\u001b[1;33m\u001b[0m\u001b[1;33m\u001b[0m\u001b[0m\n",
      "\u001b[1;31mAssertionError\u001b[0m: Sample volumes are exceeding max destination well volume of 1500.0 uL"
     ]
    }
   ],
   "source": [
    "directions = ALH.create_sample_making_directions(stock_volumes, stock_position_info, loaded_dict)\n",
    "directions"
   ]
  },
  {
   "cell_type": "code",
   "execution_count": 178,
   "id": "northern-invite",
   "metadata": {},
   "outputs": [
    {
     "name": "stdout",
     "output_type": "stream",
     "text": [
      "Picking up tip from A1 of Opentrons 96 Tip Rack 300 µL on 10\n",
      "Transferring 30.000042611565522 from A1 of 20mLscintillation 12 Well Plate 18000 ÂµL on 1 to A5 of Falcon 48 Well Plate 1500 ÂµL on 2\n",
      "Aspirating 30.000042611565522 uL from A1 of 20mLscintillation 12 Well Plate 18000 ÂµL on 1 at 50.0 uL/sec\n",
      "Dispensing 30.000042611565522 uL into A5 of Falcon 48 Well Plate 1500 ÂµL on 2 at 300.0 uL/sec\n",
      "Returning tip\n",
      "Dropping tip into A1 of Opentrons 96 Tip Rack 300 µL on 10\n",
      "Picking up tip from A2 of Opentrons 96 Tip Rack 300 µL on 10\n",
      "Transferring 33.44656189053347 from A2 of 20mLscintillation 12 Well Plate 18000 ÂµL on 1 to A5 of Falcon 48 Well Plate 1500 ÂµL on 2\n",
      "Aspirating 33.44656189053347 uL from A2 of 20mLscintillation 12 Well Plate 18000 ÂµL on 1 at 50.0 uL/sec\n",
      "Dispensing 33.44656189053347 uL into A5 of Falcon 48 Well Plate 1500 ÂµL on 2 at 300.0 uL/sec\n",
      "Returning tip\n",
      "Dropping tip into A2 of Opentrons 96 Tip Rack 300 µL on 10\n",
      "Picking up tip from A3 of Opentrons 96 Tip Rack 300 µL on 10\n",
      "Transferring 0.0 from A3 of 20mLscintillation 12 Well Plate 18000 ÂµL on 1 to A5 of Falcon 48 Well Plate 1500 ÂµL on 2\n",
      "Returning tip\n",
      "Dropping tip into A3 of Opentrons 96 Tip Rack 300 µL on 10\n",
      "Picking up tip from A4 of Opentrons 96 Tip Rack 300 µL on 10\n",
      "Transferring 85.78723960183171 from A4 of 20mLscintillation 12 Well Plate 18000 ÂµL on 1 to A5 of Falcon 48 Well Plate 1500 ÂµL on 2\n",
      "Aspirating 85.78723960183171 uL from A4 of 20mLscintillation 12 Well Plate 18000 ÂµL on 1 at 50.0 uL/sec\n",
      "Dispensing 85.78723960183171 uL into A5 of Falcon 48 Well Plate 1500 ÂµL on 2 at 300.0 uL/sec\n",
      "Returning tip\n",
      "Dropping tip into A4 of Opentrons 96 Tip Rack 300 µL on 10\n",
      "Picking up tip from A5 of Opentrons 96 Tip Rack 1000 µL on 11\n",
      "Transferring 682.0172631578948 from B1 of 20mLscintillation 12 Well Plate 18000 ÂµL on 1 to A5 of Falcon 48 Well Plate 1500 ÂµL on 2\n",
      "Aspirating 682.0172631578948 uL from B1 of 20mLscintillation 12 Well Plate 18000 ÂµL on 1 at 500.0 uL/sec\n",
      "Dispensing 682.0172631578948 uL into A5 of Falcon 48 Well Plate 1500 ÂµL on 2 at 1000.0 uL/sec\n",
      "Returning tip\n",
      "Dropping tip into A5 of Opentrons 96 Tip Rack 1000 µL on 11\n",
      "Picking up tip from A1 of Opentrons 96 Tip Rack 300 µL on 10\n",
      "Transferring 30.000042611565522 from A1 of 20mLscintillation 12 Well Plate 18000 ÂµL on 1 to A6 of Falcon 48 Well Plate 1500 ÂµL on 2\n",
      "Aspirating 30.000042611565522 uL from A1 of 20mLscintillation 12 Well Plate 18000 ÂµL on 1 at 50.0 uL/sec\n",
      "Dispensing 30.000042611565522 uL into A6 of Falcon 48 Well Plate 1500 ÂµL on 2 at 300.0 uL/sec\n",
      "Returning tip\n",
      "Dropping tip into A1 of Opentrons 96 Tip Rack 300 µL on 10\n",
      "Picking up tip from A2 of Opentrons 96 Tip Rack 300 µL on 10\n",
      "Transferring 33.44656189053347 from A2 of 20mLscintillation 12 Well Plate 18000 ÂµL on 1 to A6 of Falcon 48 Well Plate 1500 ÂµL on 2\n",
      "Aspirating 33.44656189053347 uL from A2 of 20mLscintillation 12 Well Plate 18000 ÂµL on 1 at 50.0 uL/sec\n",
      "Dispensing 33.44656189053347 uL into A6 of Falcon 48 Well Plate 1500 ÂµL on 2 at 300.0 uL/sec\n",
      "Returning tip\n",
      "Dropping tip into A2 of Opentrons 96 Tip Rack 300 µL on 10\n",
      "Picking up tip from A3 of Opentrons 96 Tip Rack 300 µL on 10\n",
      "Transferring 0.0 from A3 of 20mLscintillation 12 Well Plate 18000 ÂµL on 1 to A6 of Falcon 48 Well Plate 1500 ÂµL on 2\n",
      "Returning tip\n",
      "Dropping tip into A3 of Opentrons 96 Tip Rack 300 µL on 10\n",
      "Picking up tip from A4 of Opentrons 96 Tip Rack 300 µL on 10\n",
      "Transferring 123.09570062781438 from A4 of 20mLscintillation 12 Well Plate 18000 ÂµL on 1 to A6 of Falcon 48 Well Plate 1500 ÂµL on 2\n",
      "Aspirating 123.09570062781438 uL from A4 of 20mLscintillation 12 Well Plate 18000 ÂµL on 1 at 50.0 uL/sec\n",
      "Dispensing 123.09570062781438 uL into A6 of Falcon 48 Well Plate 1500 ÂµL on 2 at 300.0 uL/sec\n",
      "Returning tip\n",
      "Dropping tip into A4 of Opentrons 96 Tip Rack 300 µL on 10\n",
      "Picking up tip from A5 of Opentrons 96 Tip Rack 1000 µL on 11\n",
      "Transferring 652.5435789473685 from B1 of 20mLscintillation 12 Well Plate 18000 ÂµL on 1 to A6 of Falcon 48 Well Plate 1500 ÂµL on 2\n",
      "Aspirating 652.5435789473685 uL from B1 of 20mLscintillation 12 Well Plate 18000 ÂµL on 1 at 500.0 uL/sec\n",
      "Dispensing 652.5435789473685 uL into A6 of Falcon 48 Well Plate 1500 ÂµL on 2 at 1000.0 uL/sec\n",
      "Returning tip\n",
      "Dropping tip into A5 of Opentrons 96 Tip Rack 1000 µL on 11\n"
     ]
    }
   ],
   "source": [
    "transfer_info = ALH.pipette_volumes_sample_wise(protocol, directions, loaded_dict)"
   ]
  },
  {
   "cell_type": "code",
   "execution_count": null,
   "id": "played-college",
   "metadata": {},
   "outputs": [],
   "source": [
    "directions[0].keys()"
   ]
  }
 ],
 "metadata": {
  "kernelspec": {
   "display_name": "Python 3",
   "language": "python",
   "name": "python3"
  },
  "language_info": {
   "codemirror_mode": {
    "name": "ipython",
    "version": 3
   },
   "file_extension": ".py",
   "mimetype": "text/x-python",
   "name": "python",
   "nbconvert_exporter": "python",
   "pygments_lexer": "ipython3",
   "version": "3.9.1"
  }
 },
 "nbformat": 4,
 "nbformat_minor": 5
}
