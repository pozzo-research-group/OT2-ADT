{
 "cells": [
  {
   "cell_type": "code",
   "execution_count": 2,
   "id": "lasting-member",
   "metadata": {},
   "outputs": [],
   "source": [
    "import numpy as np \n",
    "from Plan import CreateSamples_renewed as create"
   ]
  },
  {
   "cell_type": "code",
   "execution_count": 5,
   "id": "professional-significance",
   "metadata": {},
   "outputs": [],
   "source": [
    " volumes = [[131.25,\n",
    "                 190.90909090909585,\n",
    "                 225.0,\n",
    "                 247.05882352962666,\n",
    "                 262.5000000000002,\n",
    "                 273.9130434782609,\n",
    "                 282.6923076923077,\n",
    "                 289.6551724137931],\n",
    "                [168.75,\n",
    "                 109.09090909090412,\n",
    "                 74.99999999999999,\n",
    "                 52.94117647037336,\n",
    "                 37.499999999999766,\n",
    "                 26.08695652173913,\n",
    "                 17.30769230769231,\n",
    "                 10.344827586206895]]"
   ]
  },
  {
   "cell_type": "code",
   "execution_count": 6,
   "id": "mathematical-processor",
   "metadata": {},
   "outputs": [
    {
     "data": {
      "text/plain": [
       "[[131.25,\n",
       "  190.90909090909585,\n",
       "  225.0,\n",
       "  247.05882352962666,\n",
       "  262.5000000000002,\n",
       "  273.9130434782609,\n",
       "  282.6923076923077,\n",
       "  289.6551724137931],\n",
       " [168.75,\n",
       "  109.09090909090412,\n",
       "  74.99999999999999,\n",
       "  52.94117647037336,\n",
       "  37.499999999999766,\n",
       "  26.08695652173913,\n",
       "  17.30769230769231,\n",
       "  10.344827586206895]]"
      ]
     },
     "execution_count": 6,
     "metadata": {},
     "output_type": "execute_result"
    }
   ],
   "source": [
    "volumes[0]"
   ]
  }
 ],
 "metadata": {
  "kernelspec": {
   "display_name": "Python 3",
   "language": "python",
   "name": "python3"
  },
  "language_info": {
   "codemirror_mode": {
    "name": "ipython",
    "version": 3
   },
   "file_extension": ".py",
   "mimetype": "text/x-python",
   "name": "python",
   "nbconvert_exporter": "python",
   "pygments_lexer": "ipython3",
   "version": "3.9.1"
  }
 },
 "nbformat": 4,
 "nbformat_minor": 5
}
