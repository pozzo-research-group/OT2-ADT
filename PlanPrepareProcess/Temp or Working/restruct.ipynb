{
 "cells": [
  {
   "cell_type": "code",
   "execution_count": 28,
   "id": "compact-literacy",
   "metadata": {},
   "outputs": [],
   "source": [
    "import numpy as np\n",
    "import pandas as pd\n",
    "from Plan import CreateSamples as create\n",
    "import matplotlib.pyplot as plt"
   ]
  },
  {
   "cell_type": "code",
   "execution_count": 29,
   "id": "entertaining-darwin",
   "metadata": {},
   "outputs": [
    {
     "data": {
      "text/html": [
       "<div>\n",
       "<style scoped>\n",
       "    .dataframe tbody tr th:only-of-type {\n",
       "        vertical-align: middle;\n",
       "    }\n",
       "\n",
       "    .dataframe tbody tr th {\n",
       "        vertical-align: top;\n",
       "    }\n",
       "\n",
       "    .dataframe thead th {\n",
       "        text-align: right;\n",
       "    }\n",
       "</style>\n",
       "<table border=\"1\" class=\"dataframe\">\n",
       "  <thead>\n",
       "    <tr style=\"text-align: right;\">\n",
       "      <th></th>\n",
       "      <th>5CB concentration wtf</th>\n",
       "      <th>5CB amount mass g</th>\n",
       "      <th>5CB amount volume uL</th>\n",
       "      <th>5CB-ethanol-stock amount volume uL</th>\n",
       "    </tr>\n",
       "  </thead>\n",
       "  <tbody>\n",
       "    <tr>\n",
       "      <th>0</th>\n",
       "      <td>0.00025</td>\n",
       "      <td>0.000162</td>\n",
       "      <td>0.160891</td>\n",
       "      <td>65.0</td>\n",
       "    </tr>\n",
       "    <tr>\n",
       "      <th>1</th>\n",
       "      <td>0.00025</td>\n",
       "      <td>0.000162</td>\n",
       "      <td>0.160891</td>\n",
       "      <td>65.0</td>\n",
       "    </tr>\n",
       "    <tr>\n",
       "      <th>2</th>\n",
       "      <td>0.00025</td>\n",
       "      <td>0.000162</td>\n",
       "      <td>0.160891</td>\n",
       "      <td>65.0</td>\n",
       "    </tr>\n",
       "    <tr>\n",
       "      <th>3</th>\n",
       "      <td>0.00025</td>\n",
       "      <td>0.000162</td>\n",
       "      <td>0.160891</td>\n",
       "      <td>65.0</td>\n",
       "    </tr>\n",
       "    <tr>\n",
       "      <th>4</th>\n",
       "      <td>0.00025</td>\n",
       "      <td>0.000162</td>\n",
       "      <td>0.160891</td>\n",
       "      <td>65.0</td>\n",
       "    </tr>\n",
       "    <tr>\n",
       "      <th>...</th>\n",
       "      <td>...</td>\n",
       "      <td>...</td>\n",
       "      <td>...</td>\n",
       "      <td>...</td>\n",
       "    </tr>\n",
       "    <tr>\n",
       "      <th>92</th>\n",
       "      <td>0.00100</td>\n",
       "      <td>0.000650</td>\n",
       "      <td>0.643564</td>\n",
       "      <td>260.0</td>\n",
       "    </tr>\n",
       "    <tr>\n",
       "      <th>93</th>\n",
       "      <td>0.00100</td>\n",
       "      <td>0.000650</td>\n",
       "      <td>0.643564</td>\n",
       "      <td>260.0</td>\n",
       "    </tr>\n",
       "    <tr>\n",
       "      <th>94</th>\n",
       "      <td>0.00100</td>\n",
       "      <td>0.000650</td>\n",
       "      <td>0.643564</td>\n",
       "      <td>260.0</td>\n",
       "    </tr>\n",
       "    <tr>\n",
       "      <th>95</th>\n",
       "      <td>0.00100</td>\n",
       "      <td>0.000650</td>\n",
       "      <td>0.643564</td>\n",
       "      <td>260.0</td>\n",
       "    </tr>\n",
       "    <tr>\n",
       "      <th>96</th>\n",
       "      <td>0.00100</td>\n",
       "      <td>0.000650</td>\n",
       "      <td>0.643564</td>\n",
       "      <td>260.0</td>\n",
       "    </tr>\n",
       "  </tbody>\n",
       "</table>\n",
       "<p>97 rows × 4 columns</p>\n",
       "</div>"
      ],
      "text/plain": [
       "    5CB concentration wtf  5CB amount mass g  5CB amount volume uL  \\\n",
       "0                 0.00025           0.000162              0.160891   \n",
       "1                 0.00025           0.000162              0.160891   \n",
       "2                 0.00025           0.000162              0.160891   \n",
       "3                 0.00025           0.000162              0.160891   \n",
       "4                 0.00025           0.000162              0.160891   \n",
       "..                    ...                ...                   ...   \n",
       "92                0.00100           0.000650              0.643564   \n",
       "93                0.00100           0.000650              0.643564   \n",
       "94                0.00100           0.000650              0.643564   \n",
       "95                0.00100           0.000650              0.643564   \n",
       "96                0.00100           0.000650              0.643564   \n",
       "\n",
       "    5CB-ethanol-stock amount volume uL  \n",
       "0                                 65.0  \n",
       "1                                 65.0  \n",
       "2                                 65.0  \n",
       "3                                 65.0  \n",
       "4                                 65.0  \n",
       "..                                 ...  \n",
       "92                               260.0  \n",
       "93                               260.0  \n",
       "94                               260.0  \n",
       "95                               260.0  \n",
       "96                               260.0  \n",
       "\n",
       "[97 rows x 4 columns]"
      ]
     },
     "execution_count": 29,
     "metadata": {},
     "output_type": "execute_result"
    }
   ],
   "source": [
    "path1 = r\"C:\\Users\\Edwin\\Desktop\\OT2-DOE\\PlanPrepareProcess\\Temp or Working\\06_03_21_5CB_SDS_Blanked\"\n",
    "full_data = pd.read_csv(path1)\n",
    "full_data['Total Volume uL'] = create.isolate_common_column(full_data, 'stock').sum(axis=1)\n",
    "stock_volumes = create.isolate_common_column(full_data, 'stock')\n",
    "component_concentrations = create.isolate_common_column(full_data, 'concentration')\n",
    "stock_concentrations = [2.5, 1.75, 0.5, 1] # the 0.5 was wrong\n",
    "create.isolate_common_column(full_data,'5CB')"
   ]
  },
  {
   "cell_type": "code",
   "execution_count": 41,
   "id": "concrete-director",
   "metadata": {
    "scrolled": true
   },
   "outputs": [
    {
     "data": {
      "text/plain": [
       "0     0.000000\n",
       "1     0.000000\n",
       "2     0.000000\n",
       "3     0.000000\n",
       "4     0.000000\n",
       "        ...   \n",
       "92    0.000325\n",
       "93    0.000325\n",
       "94    0.000325\n",
       "95    0.000325\n",
       "96    0.000325\n",
       "Name: SDS-ethanol-stock amount volume uL, Length: 97, dtype: float64"
      ]
     },
     "execution_count": 41,
     "metadata": {},
     "output_type": "execute_result"
    }
   ],
   "source": [
    "# need to calculate everything from volumes\n",
    "cb_grams = (stock_volumes['5CB-ethanol-stock amount volume uL']/1000)*2.5/1000\n",
    "sds_grams = (stock_volumes['SDS-ethanol-stock amount volume uL']/1000)*1.75/1000\n",
    "ethanol_grams = 0.789*((stock_volumes['ethanol-stock amount volume uL'] + stock_volumes['5CB-ethanol-stock amount volume uL'] + stock_volumes['SDS-ethanol-stock amount volume uL'] - cb_grams - sds_grams)/1000)\n",
    "water_grams = 1*stock_volumes['water-stock amount volume uL']/1000\n",
    "total_mass = cb_grams + sds_grams + ethanol_grams + water_grams\n",
    "sds_grams"
   ]
  },
  {
   "cell_type": "code",
   "execution_count": 56,
   "id": "abroad-lancaster",
   "metadata": {},
   "outputs": [
    {
     "data": {
      "text/plain": [
       "0     0.000000\n",
       "1     0.000000\n",
       "2     0.000000\n",
       "3     0.000000\n",
       "4     0.000000\n",
       "        ...   \n",
       "92    0.000325\n",
       "93    0.000325\n",
       "94    0.000325\n",
       "95    0.000325\n",
       "96    0.000325\n",
       "Name: SDS amount mass g, Length: 97, dtype: float64"
      ]
     },
     "execution_count": 56,
     "metadata": {},
     "output_type": "execute_result"
    }
   ],
   "source": [
    "full_data['SDS amount mass g']"
   ]
  },
  {
   "cell_type": "code",
   "execution_count": 75,
   "id": "intermediate-fields",
   "metadata": {},
   "outputs": [
    {
     "data": {
      "text/plain": [
       "0     0.817998\n",
       "1     0.666631\n",
       "2     0.538503\n",
       "3     0.428643\n",
       "4     0.333405\n",
       "        ...   \n",
       "92    0.427452\n",
       "93    0.332354\n",
       "94    0.249117\n",
       "95    0.175650\n",
       "96    0.110330\n",
       "Length: 97, dtype: float64"
      ]
     },
     "execution_count": 75,
     "metadata": {},
     "output_type": "execute_result"
    }
   ],
   "source": [
    "cb_wtf = cb_grams/total_mass\n",
    "sds_wtf = sds_grams/total_mass\n",
    "ethanol_wtf = ethanol_grams/total_mass\n",
    "water_wtf = water_grams/total_mass\n",
    "water_wtf"
   ]
  },
  {
   "cell_type": "code",
   "execution_count": 82,
   "id": "greater-reform",
   "metadata": {},
   "outputs": [
    {
     "data": {
      "text/plain": [
       "Text(0.5, 0, 'SDS')"
      ]
     },
     "execution_count": 82,
     "metadata": {},
     "output_type": "execute_result"
    }
   ],
   "source": [
    "%matplotlib qt\n",
    "fig = plt.figure()\n",
    "ax = fig.add_subplot(projection='3d')\n",
    "ax.scatter(ethanol_wtf, cb_wtf, sds_wtf, c = full_data_res['400.0nm'])\n",
    "ax.set_xlabel('ethanol')\n",
    "ax.set_ylabel('5CB')\n",
    "ax.set_zlabel('SDS')"
   ]
  },
  {
   "cell_type": "code",
   "execution_count": 51,
   "id": "described-denver",
   "metadata": {},
   "outputs": [],
   "source": [
    "full_data_res = full_data.copy()\n",
    "full_data_res['5CB concentration wtf'] = cb_wtf\n",
    "full_data_res['SDS concentration wtf'] = sds_wtf\n",
    "full_data_res['ethanol concentration wtf'] = ethanol_wtf\n",
    "full_data_res['water concentration wtf'] = water_wtf\n",
    "full_data_res['5CB amount mass g'] = cb_grams\n",
    "full_data_res['SDS amount mass g'] = sds_grams\n",
    "full_data_res['ethanol amount mass g'] = ethanol_grams\n",
    "full_data_res['water amount mass g'] = water_grams"
   ]
  },
  {
   "cell_type": "code",
   "execution_count": 53,
   "id": "noble-register",
   "metadata": {},
   "outputs": [],
   "source": [
    "full_data_res.to_csv('06_03_21_5CB_SDS_Corrected')"
   ]
  },
  {
   "cell_type": "code",
   "execution_count": 55,
   "id": "aggregate-senegal",
   "metadata": {},
   "outputs": [
    {
     "data": {
      "text/plain": [
       "0     0.000227\n",
       "1     0.000208\n",
       "2     0.000192\n",
       "3     0.000179\n",
       "4     0.000167\n",
       "        ...   \n",
       "92    0.000714\n",
       "93    0.000667\n",
       "94    0.000625\n",
       "95    0.000588\n",
       "96    0.000556\n",
       "Length: 97, dtype: float64"
      ]
     },
     "execution_count": 55,
     "metadata": {},
     "output_type": "execute_result"
    }
   ],
   "source": [
    "cb_wtf"
   ]
  },
  {
   "cell_type": "code",
   "execution_count": 50,
   "id": "clean-guatemala",
   "metadata": {},
   "outputs": [
    {
     "data": {
      "text/plain": [
       "<matplotlib.collections.PathCollection at 0x183e9e3e6d0>"
      ]
     },
     "execution_count": 50,
     "metadata": {},
     "output_type": "execute_result"
    },
    {
     "data": {
      "image/png": "[encoded data removed]",
      "text/plain": [
       "<Figure size 432x288 with 1 Axes>"
      ]
     },
     "metadata": {
      "needs_background": "light"
     },
     "output_type": "display_data"
    }
   ],
   "source": [
    "plt.scatter(full_data_res['ethanol concentration wtf'], full_data_res['5CB concentration wtf'])"
   ]
  }
 ],
 "metadata": {
  "kernelspec": {
   "display_name": "Python 3",
   "language": "python",
   "name": "python3"
  },
  "language_info": {
   "codemirror_mode": {
    "name": "ipython",
    "version": 3
   },
   "file_extension": ".py",
   "mimetype": "text/x-python",
   "name": "python",
   "nbconvert_exporter": "python",
   "pygments_lexer": "ipython3",
   "version": "3.9.1"
  }
 },
 "nbformat": 4,
 "nbformat_minor": 5
}
