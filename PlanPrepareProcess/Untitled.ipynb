{
 "cells": [
  {
   "cell_type": "code",
   "execution_count": null,
   "metadata": {},
   "outputs": [],
   "source": [
    "def grab_single_component_concentration_info(component_conc_df, component_index):\n",
    "    component_name_column = 'Component ' + str(component_index) + ' Name'\n",
    "    component_unit_column = 'Component ' + str(component_index) + ' Concentration Unit'\n",
    "    component_value_column = 'Component ' + str(component_index) + ' Concentration Value'\n",
    "    \n",
    "    component_name = component_conc_df[component_name_column]\n",
    "    component_concentration = component_conc_df[component_unit_column]\n",
    "    component_unit = component_conc_df[component_value_column]\n",
    "    return component_name, component_concentration, component_unit\n",
    "\n",
    "total_n_components = len([col for col in concentration_df.columns if 'Concentration Value' in col])\n",
    "component_info = plan['Chemical Database']\n",
    "for i, sample in concentration_df.iterrows():\n",
    "    total_sample_amount = sample['Total Sample Amount']\n",
    "    total_sample_amount_unit = sample['Total Sample Amount Unit']\n",
    "#     # note iterate though what? like the length of components???\n",
    "    for i in range(total_n_components): \n",
    "        component_name, component_concentration, component_unit = grab_single_component_concentration_info(concentration_df, i)\n",
    "        mass = # yeah I think just go back to the original way of doing it, only because you know the entire column will be the same unit there is no other way todo it '\n",
    "        # unless you are okay with making a list and then adding that to the existing or new df' "
   ]
  },
  {
   "cell_type": "code",
   "execution_count": null,
   "metadata": {},
   "outputs": [],
   "source": [
    "def calculate_component_amount_missing(component_amounts_df, plan):\n",
    "    chemical_database = plan['Chemical Database']\n",
    "    \n",
    "    volumes = component_amounts_df[[col for col in component_amounts_df.columns if 'volume' in col]]\n",
    "    masses = component_amounts_df[[col for col in component_amounts_df.columns if 'mass' in col]]\n",
    "    \n",
    "    if masses.empty==False and volumes.empty == True: # masses present\n",
    "        for col_name in masses:\n",
    "            component_masses = masses[col_name]\n",
    "            component = identify_component_name(col_name)\n",
    "            component_unit = identify_unit(col_name)\n",
    "            component_info = chemical_database[component]\n",
    "            component_density = component_info['Density (g/mL)']\n",
    "            component_volumes = component_masses/component_density\n",
    "            masses[col_name.replace('mass '+ component_unit, 'volume mL')] = component_volumes\n",
    "            \n",
    "    elif masses.empty==True and volumes.empty == False: # volumes present\n",
    "        for col_name in volumes:\n",
    "            component = identify_component_name(col_name)\n",
    "            component_unit = identify_unit(col_name)\n",
    "            component_info = chemical_database[component]\n",
    "            \n",
    "    else: \n",
    "        raise AssertionError('Component amounts not present. Component amount headers need to be formatted as ComponentName_amount_volumeormass_unit')\n",
    "            \n",
    "    # could instead take that inner loop and just do indivdual check for mass and volume and create it based that way\n",
    "    return masses"
   ]
  },
  {
   "cell_type": "code",
   "execution_count": null,
   "metadata": {},
   "outputs": [],
   "source": [
    "def completing_volume_component(volumes_added, completing_component_name, plan):\n",
    "    \"\"\"This is only to be used when working with units which do not sum to one, if units do sum to one then \n",
    "    the completing unit should be added as a concentration back in the concentration design space and be included in plan such \n",
    "    that its name and unit is at the end of respective list entries. \"\"\"\n",
    "    volumes_added_amount_columns = [col for col in volumes_added if 'amount' in col]\n",
    "    #assert all the same\n",
    "    amount_unit = identify_unit(volumes_added_amount_columns[0])\n",
    "    # amounts = sum volumes and subtract from total\n",
    "    if amount_unit = 'volume':\n",
    "        volumes = amounts\n",
    "    if amount_unit = 'mass':\n",
    "        plan['Chemical Database'][completing_component_name][DEnsity]"
   ]
  },
  {
   "cell_type": "code",
   "execution_count": null,
   "metadata": {},
   "outputs": [],
   "source": [
    "# def calculate_volumes_from_component_mass(component_mass, component_info, stock_info): \n",
    "# let do it for mass units first "
   ]
  },
  {
   "cell_type": "code",
   "execution_count": null,
   "metadata": {},
   "outputs": [],
   "source": [
    "# the biggest issue comes from the fact of that no easy way to call for the commmon solvent stock \\\n",
    "# we can do if the common solvent = pure then it has to be exactly equal\n",
    "# for col in complete_component_df: \n",
    "#     if 'stock' in col:\n",
    "#         stock_name = col.split(' ')[0]\n",
    "#         solutes = stock_dict[stock_name]['solutes'] # solutes no issue of doublets since each unique \n",
    "#         solvents = stock_dict\n",
    "        \n",
    "#         stock_dict[stock_name]['volume header'] = col\n",
    "#         stock_dict[stock_name]['solute volume header'] = find_best_column_match(complete_component_df, solutes[0])\n"
   ]
  }
 ],
 "metadata": {
  "kernelspec": {
   "display_name": "Python 3",
   "language": "python",
   "name": "python3"
  },
  "language_info": {
   "codemirror_mode": {
    "name": "ipython",
    "version": 3
   },
   "file_extension": ".py",
   "mimetype": "text/x-python",
   "name": "python",
   "nbconvert_exporter": "python",
   "pygments_lexer": "ipython3",
   "version": "3.6.8"
  }
 },
 "nbformat": 4,
 "nbformat_minor": 5
}
