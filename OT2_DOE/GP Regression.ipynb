{
 "cells": [
  {
   "cell_type": "markdown",
   "id": "70bacea4",
   "metadata": {},
   "source": [
    "- The following packages are needed: numpy, pandas, matplotlib, scipy, sklearn "
   ]
  },
  {
   "cell_type": "code",
   "execution_count": null,
   "id": "03f7a5cc",
   "metadata": {},
   "outputs": [],
   "source": [
    "from Process import GPModeling as gpm\n",
    "import numpy as np\n",
    "\n",
    "from sklearn.gaussian_process import GaussianProcessRegressor\n",
    "from sklearn.gaussian_process.kernels import RBF, WhiteKernel, ConstantKernel as C\n",
    "from sklearn import preprocessing\n",
    "import matplotlib.pyplot as plt\n",
    "import matplotlib.colors as colors\n",
    "import pandas as pd\n",
    "\n",
    "import importlib\n",
    "importlib.reload(gpm)"
   ]
  },
  {
   "cell_type": "markdown",
   "id": "complex-tablet",
   "metadata": {},
   "source": [
    "# Step 1: Load Data \n",
    "- The simpliest way to load in data is by providing the path of a txt or csv file which will be formatted as a dataframe.\n",
    "- The miniumum information needed in these dataframes is three variables, often 2 compositions concentrations and a single measurment value. \n",
    "- Utilize the gpm.load_data_df() function."
   ]
  },
  {
   "cell_type": "code",
   "execution_count": 10,
   "id": "aquatic-monroe",
   "metadata": {
    "scrolled": true
   },
   "outputs": [
    {
     "data": {
      "text/html": [
       "<div>\n",
       "<style scoped>\n",
       "    .dataframe tbody tr th:only-of-type {\n",
       "        vertical-align: middle;\n",
       "    }\n",
       "\n",
       "    .dataframe tbody tr th {\n",
       "        vertical-align: top;\n",
       "    }\n",
       "\n",
       "    .dataframe thead th {\n",
       "        text-align: right;\n",
       "    }\n",
       "</style>\n",
       "<table border=\"1\" class=\"dataframe\">\n",
       "  <thead>\n",
       "    <tr style=\"text-align: right;\">\n",
       "      <th></th>\n",
       "      <th>UID</th>\n",
       "      <th>Labware</th>\n",
       "      <th>Slot</th>\n",
       "      <th>Well</th>\n",
       "      <th>Octadecane concentration wtf</th>\n",
       "      <th>SDS concentration wtf</th>\n",
       "      <th>ethanol concentration wtf</th>\n",
       "      <th>water concentration wtf</th>\n",
       "      <th>Octadecane amount mass g</th>\n",
       "      <th>Octadecane amount volume uL</th>\n",
       "      <th>...</th>\n",
       "      <th>755.0nm</th>\n",
       "      <th>760.0nm</th>\n",
       "      <th>765.0nm</th>\n",
       "      <th>770.0nm</th>\n",
       "      <th>775.0nm</th>\n",
       "      <th>780.0nm</th>\n",
       "      <th>785.0nm</th>\n",
       "      <th>790.0nm</th>\n",
       "      <th>795.0nm</th>\n",
       "      <th>800.0nm</th>\n",
       "    </tr>\n",
       "  </thead>\n",
       "  <tbody>\n",
       "    <tr>\n",
       "      <th>0</th>\n",
       "      <td>S2_A1_07-30-2021</td>\n",
       "      <td>Abgene 96 Well Plate 2200 ÂµL</td>\n",
       "      <td>2.0</td>\n",
       "      <td>A1</td>\n",
       "      <td>0.000000</td>\n",
       "      <td>0.0005</td>\n",
       "      <td>0.2</td>\n",
       "      <td>0.799500</td>\n",
       "      <td>0.000000</td>\n",
       "      <td>0.000000</td>\n",
       "      <td>...</td>\n",
       "      <td>0.000</td>\n",
       "      <td>0.000</td>\n",
       "      <td>0.000</td>\n",
       "      <td>0.000</td>\n",
       "      <td>0.000</td>\n",
       "      <td>0.000</td>\n",
       "      <td>0.000</td>\n",
       "      <td>0.000</td>\n",
       "      <td>0.000</td>\n",
       "      <td>0.000</td>\n",
       "    </tr>\n",
       "    <tr>\n",
       "      <th>1</th>\n",
       "      <td>S2_A2_07-30-2021</td>\n",
       "      <td>Abgene 96 Well Plate 2200 ÂµL</td>\n",
       "      <td>2.0</td>\n",
       "      <td>A2</td>\n",
       "      <td>0.000000</td>\n",
       "      <td>0.0005</td>\n",
       "      <td>0.4</td>\n",
       "      <td>0.599500</td>\n",
       "      <td>0.000000</td>\n",
       "      <td>0.000000</td>\n",
       "      <td>...</td>\n",
       "      <td>0.000</td>\n",
       "      <td>0.000</td>\n",
       "      <td>0.000</td>\n",
       "      <td>0.000</td>\n",
       "      <td>0.000</td>\n",
       "      <td>0.000</td>\n",
       "      <td>0.000</td>\n",
       "      <td>0.000</td>\n",
       "      <td>0.000</td>\n",
       "      <td>0.000</td>\n",
       "    </tr>\n",
       "    <tr>\n",
       "      <th>2</th>\n",
       "      <td>S2_A3_07-30-2021</td>\n",
       "      <td>Abgene 96 Well Plate 2200 ÂµL</td>\n",
       "      <td>2.0</td>\n",
       "      <td>A3</td>\n",
       "      <td>0.000000</td>\n",
       "      <td>0.0005</td>\n",
       "      <td>0.6</td>\n",
       "      <td>0.399500</td>\n",
       "      <td>0.000000</td>\n",
       "      <td>0.000000</td>\n",
       "      <td>...</td>\n",
       "      <td>0.000</td>\n",
       "      <td>0.000</td>\n",
       "      <td>0.000</td>\n",
       "      <td>0.000</td>\n",
       "      <td>0.000</td>\n",
       "      <td>0.000</td>\n",
       "      <td>0.000</td>\n",
       "      <td>0.000</td>\n",
       "      <td>0.000</td>\n",
       "      <td>0.000</td>\n",
       "    </tr>\n",
       "    <tr>\n",
       "      <th>3</th>\n",
       "      <td>S2_A4_07-30-2021</td>\n",
       "      <td>Abgene 96 Well Plate 2200 ÂµL</td>\n",
       "      <td>2.0</td>\n",
       "      <td>A4</td>\n",
       "      <td>0.000000</td>\n",
       "      <td>0.0005</td>\n",
       "      <td>0.8</td>\n",
       "      <td>0.199500</td>\n",
       "      <td>0.000000</td>\n",
       "      <td>0.000000</td>\n",
       "      <td>...</td>\n",
       "      <td>0.000</td>\n",
       "      <td>0.000</td>\n",
       "      <td>0.000</td>\n",
       "      <td>0.000</td>\n",
       "      <td>0.000</td>\n",
       "      <td>0.000</td>\n",
       "      <td>0.000</td>\n",
       "      <td>0.000</td>\n",
       "      <td>0.000</td>\n",
       "      <td>0.000</td>\n",
       "    </tr>\n",
       "    <tr>\n",
       "      <th>4</th>\n",
       "      <td>S2_A5_07-30-2021</td>\n",
       "      <td>Abgene 96 Well Plate 2200 ÂµL</td>\n",
       "      <td>2.0</td>\n",
       "      <td>A5</td>\n",
       "      <td>0.000111</td>\n",
       "      <td>0.0005</td>\n",
       "      <td>0.3</td>\n",
       "      <td>0.699389</td>\n",
       "      <td>0.000133</td>\n",
       "      <td>0.171600</td>\n",
       "      <td>...</td>\n",
       "      <td>-0.003</td>\n",
       "      <td>-0.003</td>\n",
       "      <td>-0.003</td>\n",
       "      <td>-0.003</td>\n",
       "      <td>-0.003</td>\n",
       "      <td>-0.003</td>\n",
       "      <td>-0.003</td>\n",
       "      <td>-0.003</td>\n",
       "      <td>-0.003</td>\n",
       "      <td>-0.003</td>\n",
       "    </tr>\n",
       "    <tr>\n",
       "      <th>...</th>\n",
       "      <td>...</td>\n",
       "      <td>...</td>\n",
       "      <td>...</td>\n",
       "      <td>...</td>\n",
       "      <td>...</td>\n",
       "      <td>...</td>\n",
       "      <td>...</td>\n",
       "      <td>...</td>\n",
       "      <td>...</td>\n",
       "      <td>...</td>\n",
       "      <td>...</td>\n",
       "      <td>...</td>\n",
       "      <td>...</td>\n",
       "      <td>...</td>\n",
       "      <td>...</td>\n",
       "      <td>...</td>\n",
       "      <td>...</td>\n",
       "      <td>...</td>\n",
       "      <td>...</td>\n",
       "      <td>...</td>\n",
       "      <td>...</td>\n",
       "    </tr>\n",
       "    <tr>\n",
       "      <th>64</th>\n",
       "      <td>S2_F6_07-30-2021</td>\n",
       "      <td>Abgene 96 Well Plate 2200 ÂµL</td>\n",
       "      <td>2.0</td>\n",
       "      <td>F6</td>\n",
       "      <td>0.000889</td>\n",
       "      <td>0.0005</td>\n",
       "      <td>0.5</td>\n",
       "      <td>0.498611</td>\n",
       "      <td>0.001067</td>\n",
       "      <td>1.372801</td>\n",
       "      <td>...</td>\n",
       "      <td>0.477</td>\n",
       "      <td>0.472</td>\n",
       "      <td>0.467</td>\n",
       "      <td>0.462</td>\n",
       "      <td>0.457</td>\n",
       "      <td>0.453</td>\n",
       "      <td>0.449</td>\n",
       "      <td>0.444</td>\n",
       "      <td>0.439</td>\n",
       "      <td>0.434</td>\n",
       "    </tr>\n",
       "    <tr>\n",
       "      <th>65</th>\n",
       "      <td>S2_F7_07-30-2021</td>\n",
       "      <td>Abgene 96 Well Plate 2200 ÂµL</td>\n",
       "      <td>2.0</td>\n",
       "      <td>F7</td>\n",
       "      <td>0.000889</td>\n",
       "      <td>0.0005</td>\n",
       "      <td>0.7</td>\n",
       "      <td>0.298611</td>\n",
       "      <td>0.001067</td>\n",
       "      <td>1.372801</td>\n",
       "      <td>...</td>\n",
       "      <td>0.083</td>\n",
       "      <td>0.083</td>\n",
       "      <td>0.084</td>\n",
       "      <td>0.084</td>\n",
       "      <td>0.085</td>\n",
       "      <td>0.086</td>\n",
       "      <td>0.086</td>\n",
       "      <td>0.086</td>\n",
       "      <td>0.087</td>\n",
       "      <td>0.087</td>\n",
       "    </tr>\n",
       "    <tr>\n",
       "      <th>66</th>\n",
       "      <td>S2_F8_07-30-2021</td>\n",
       "      <td>Abgene 96 Well Plate 2200 ÂµL</td>\n",
       "      <td>2.0</td>\n",
       "      <td>F8</td>\n",
       "      <td>0.001000</td>\n",
       "      <td>0.0005</td>\n",
       "      <td>0.3</td>\n",
       "      <td>0.698500</td>\n",
       "      <td>0.001200</td>\n",
       "      <td>1.544402</td>\n",
       "      <td>...</td>\n",
       "      <td>0.299</td>\n",
       "      <td>0.295</td>\n",
       "      <td>0.291</td>\n",
       "      <td>0.287</td>\n",
       "      <td>0.283</td>\n",
       "      <td>0.279</td>\n",
       "      <td>0.275</td>\n",
       "      <td>0.272</td>\n",
       "      <td>0.268</td>\n",
       "      <td>0.264</td>\n",
       "    </tr>\n",
       "    <tr>\n",
       "      <th>67</th>\n",
       "      <td>S2_F9_07-30-2021</td>\n",
       "      <td>Abgene 96 Well Plate 2200 ÂµL</td>\n",
       "      <td>2.0</td>\n",
       "      <td>F9</td>\n",
       "      <td>0.001000</td>\n",
       "      <td>0.0005</td>\n",
       "      <td>0.5</td>\n",
       "      <td>0.498500</td>\n",
       "      <td>0.001200</td>\n",
       "      <td>1.544402</td>\n",
       "      <td>...</td>\n",
       "      <td>0.624</td>\n",
       "      <td>0.618</td>\n",
       "      <td>0.612</td>\n",
       "      <td>0.606</td>\n",
       "      <td>0.599</td>\n",
       "      <td>0.594</td>\n",
       "      <td>0.588</td>\n",
       "      <td>0.581</td>\n",
       "      <td>0.576</td>\n",
       "      <td>0.570</td>\n",
       "    </tr>\n",
       "    <tr>\n",
       "      <th>68</th>\n",
       "      <td>S2_F10_07-30-2021</td>\n",
       "      <td>Abgene 96 Well Plate 2200 ÂµL</td>\n",
       "      <td>2.0</td>\n",
       "      <td>F10</td>\n",
       "      <td>0.001000</td>\n",
       "      <td>0.0005</td>\n",
       "      <td>0.7</td>\n",
       "      <td>0.298500</td>\n",
       "      <td>0.001200</td>\n",
       "      <td>1.544402</td>\n",
       "      <td>...</td>\n",
       "      <td>0.072</td>\n",
       "      <td>0.072</td>\n",
       "      <td>0.072</td>\n",
       "      <td>0.071</td>\n",
       "      <td>0.072</td>\n",
       "      <td>0.073</td>\n",
       "      <td>0.072</td>\n",
       "      <td>0.072</td>\n",
       "      <td>0.072</td>\n",
       "      <td>0.073</td>\n",
       "    </tr>\n",
       "  </tbody>\n",
       "</table>\n",
       "<p>69 rows × 122 columns</p>\n",
       "</div>"
      ],
      "text/plain": [
       "                  UID                        Labware  Slot Well  \\\n",
       "0    S2_A1_07-30-2021  Abgene 96 Well Plate 2200 ÂµL   2.0   A1   \n",
       "1    S2_A2_07-30-2021  Abgene 96 Well Plate 2200 ÂµL   2.0   A2   \n",
       "2    S2_A3_07-30-2021  Abgene 96 Well Plate 2200 ÂµL   2.0   A3   \n",
       "3    S2_A4_07-30-2021  Abgene 96 Well Plate 2200 ÂµL   2.0   A4   \n",
       "4    S2_A5_07-30-2021  Abgene 96 Well Plate 2200 ÂµL   2.0   A5   \n",
       "..                ...                            ...   ...  ...   \n",
       "64   S2_F6_07-30-2021  Abgene 96 Well Plate 2200 ÂµL   2.0   F6   \n",
       "65   S2_F7_07-30-2021  Abgene 96 Well Plate 2200 ÂµL   2.0   F7   \n",
       "66   S2_F8_07-30-2021  Abgene 96 Well Plate 2200 ÂµL   2.0   F8   \n",
       "67   S2_F9_07-30-2021  Abgene 96 Well Plate 2200 ÂµL   2.0   F9   \n",
       "68  S2_F10_07-30-2021  Abgene 96 Well Plate 2200 ÂµL   2.0  F10   \n",
       "\n",
       "    Octadecane concentration wtf  SDS concentration wtf  \\\n",
       "0                       0.000000                 0.0005   \n",
       "1                       0.000000                 0.0005   \n",
       "2                       0.000000                 0.0005   \n",
       "3                       0.000000                 0.0005   \n",
       "4                       0.000111                 0.0005   \n",
       "..                           ...                    ...   \n",
       "64                      0.000889                 0.0005   \n",
       "65                      0.000889                 0.0005   \n",
       "66                      0.001000                 0.0005   \n",
       "67                      0.001000                 0.0005   \n",
       "68                      0.001000                 0.0005   \n",
       "\n",
       "    ethanol concentration wtf  water concentration wtf  \\\n",
       "0                         0.2                 0.799500   \n",
       "1                         0.4                 0.599500   \n",
       "2                         0.6                 0.399500   \n",
       "3                         0.8                 0.199500   \n",
       "4                         0.3                 0.699389   \n",
       "..                        ...                      ...   \n",
       "64                        0.5                 0.498611   \n",
       "65                        0.7                 0.298611   \n",
       "66                        0.3                 0.698500   \n",
       "67                        0.5                 0.498500   \n",
       "68                        0.7                 0.298500   \n",
       "\n",
       "    Octadecane amount mass g  Octadecane amount volume uL  ...  755.0nm  \\\n",
       "0                   0.000000                     0.000000  ...    0.000   \n",
       "1                   0.000000                     0.000000  ...    0.000   \n",
       "2                   0.000000                     0.000000  ...    0.000   \n",
       "3                   0.000000                     0.000000  ...    0.000   \n",
       "4                   0.000133                     0.171600  ...   -0.003   \n",
       "..                       ...                          ...  ...      ...   \n",
       "64                  0.001067                     1.372801  ...    0.477   \n",
       "65                  0.001067                     1.372801  ...    0.083   \n",
       "66                  0.001200                     1.544402  ...    0.299   \n",
       "67                  0.001200                     1.544402  ...    0.624   \n",
       "68                  0.001200                     1.544402  ...    0.072   \n",
       "\n",
       "    760.0nm  765.0nm  770.0nm  775.0nm  780.0nm  785.0nm  790.0nm  795.0nm  \\\n",
       "0     0.000    0.000    0.000    0.000    0.000    0.000    0.000    0.000   \n",
       "1     0.000    0.000    0.000    0.000    0.000    0.000    0.000    0.000   \n",
       "2     0.000    0.000    0.000    0.000    0.000    0.000    0.000    0.000   \n",
       "3     0.000    0.000    0.000    0.000    0.000    0.000    0.000    0.000   \n",
       "4    -0.003   -0.003   -0.003   -0.003   -0.003   -0.003   -0.003   -0.003   \n",
       "..      ...      ...      ...      ...      ...      ...      ...      ...   \n",
       "64    0.472    0.467    0.462    0.457    0.453    0.449    0.444    0.439   \n",
       "65    0.083    0.084    0.084    0.085    0.086    0.086    0.086    0.087   \n",
       "66    0.295    0.291    0.287    0.283    0.279    0.275    0.272    0.268   \n",
       "67    0.618    0.612    0.606    0.599    0.594    0.588    0.581    0.576   \n",
       "68    0.072    0.072    0.071    0.072    0.073    0.072    0.072    0.072   \n",
       "\n",
       "    800.0nm  \n",
       "0     0.000  \n",
       "1     0.000  \n",
       "2     0.000  \n",
       "3     0.000  \n",
       "4    -0.003  \n",
       "..      ...  \n",
       "64    0.434  \n",
       "65    0.087  \n",
       "66    0.264  \n",
       "67    0.570  \n",
       "68    0.073  \n",
       "\n",
       "[69 rows x 122 columns]"
      ]
     },
     "execution_count": 10,
     "metadata": {},
     "output_type": "execute_result"
    }
   ],
   "source": [
    "path1 = r\"C:\\Users\\anton\\Desktop\\OT2-DOE\\PlanPrepareProcess\\Temp or Working\\07_29_21_Ocatdecane_Blanked_Abs_Complete\"\n",
    "full_data = gpm.load_datadf(path1)\n",
    "full_data"
   ]
  },
  {
   "cell_type": "markdown",
   "id": "secure-cooking",
   "metadata": {},
   "source": [
    "# Step 2: Select samples for analysis \n",
    " - Some samples are not suitable for analysis if there is no meaningful data present, and could actually lead to misinterpretation given the forced fitting (GP can only ignore so much). This could be due to noticing foaming, settling or other impairments to measurements. These impairments should be qualified by some measurements such as a lack of a signficant count rate with a high level of turbidity (an indictor of something besides dispersions scattering light). For the case of dispersions, derived count rate below 5000 is a starting point to consider for unmeaningful data.\n",
    " - The easiest way to filter or remove these samples from your analysis set is by using dataframe logic to select the samples you want. \n"
   ]
  },
  {
   "cell_type": "code",
   "execution_count": 23,
   "id": "hazardous-stand",
   "metadata": {
    "scrolled": true
   },
   "outputs": [],
   "source": [
    "full_data = full_data\n",
    "# full_data = full_data[full_data['Run']==2]\n",
    "\n",
    "x_data = full_data['ethanol concentration wtf'].tolist()\n",
    "y_data = full_data['Octadecane concentration wtf'].tolist()\n",
    "z_data = full_data['400.0nm'].tolist()"
   ]
  },
  {
   "cell_type": "markdown",
   "id": "recent-repeat",
   "metadata": {},
   "source": [
    "# Step 3: Visualize\n",
    "- An easy way to see how the measurment variable is varying across the 2 compositional variables. Simply a quick check. "
   ]
  },
  {
   "cell_type": "code",
   "execution_count": 25,
   "id": "worse-spirit",
   "metadata": {
    "scrolled": true
   },
   "outputs": [
    {
     "data": {
      "text/plain": [
       "(<matplotlib.collections.PathCollection at 0x186ceb62748>,\n",
       " <matplotlib.colorbar.Colorbar at 0x186ceba79b0>)"
      ]
     },
     "execution_count": 25,
     "metadata": {},
     "output_type": "execute_result"
    },
    {
     "data": {
      "image/png": "[encoded data removed]",
      "text/plain": [
       "<Figure size 432x288 with 2 Axes>"
      ]
     },
     "metadata": {
      "needs_background": "light"
     },
     "output_type": "display_data"
    }
   ],
   "source": [
    "plt.scatter(x_data, y_data, c = z_data), plt.colorbar()"
   ]
  },
  {
   "cell_type": "markdown",
   "id": "33d5df65",
   "metadata": {},
   "source": [
    "# Step 4: Standardizing and Setting Data for GP\n",
    "- The main reason we standardize the data is to ensure wildly different scales of composition or measurment variables get weighted equally under GP modeling resolution conditions.\n",
    "- GP modeling relies on traning data which we set as x1, x2, y variables = x, y, z in cartesian coordinates.\n",
    "- When we standardize with need to save the scaler used for the standardization as to convert back to the original units once done with out modeling, we designated this as \"variable_scalar\".\n",
    "- Once data has been scaled, we need to group x1 and x2 data into a single array grouped into a (1, n, 2) fashion."
   ]
  },
  {
   "cell_type": "code",
   "execution_count": 29,
   "id": "extensive-updating",
   "metadata": {},
   "outputs": [],
   "source": [
    "x1_training = np.asarray(x_data)\n",
    "x2_training = np.asarray(y_data)\n",
    "y_training = np.asarray(z_data)\n",
    "\n",
    "x1_training_scaled, x1_scalar = gpm.standardize_training(x1_training) # create n x 1 x 1 [[x11],[x12]]\n",
    "x2_training_scaled, x2_scalar = gpm.standardize_training(x2_training)\n",
    "y_training_scaled, y_scalar = gpm.standardize_training(y_training)\n",
    "x1x2_training_scaled = gpm.coupled_two_arrays(x1_training_scaled, x2_training_scaled) # creates [[x11, x21],[x12, x22]]"
   ]
  },
  {
   "cell_type": "markdown",
   "id": "204e5eea",
   "metadata": {},
   "source": [
    "# Step 5: Creating Modeling Parameters and Fitting Data\n",
    "- We utilize the *GaussianProcessRegressor* modeling function from sklearn along with the RBF kernel to model dispersion measurements. A kernel is the blueprints telling a GP model how to converge and handle data, there are plenty of process specfic kernels out there and one can build their own, however RBF proves time and time again to be suitable for many cases. Simply put the RBF uses the distance between two points and determines a level of similarity, and aims to maximize this similarity. Therefore, it is important to ensure any outliers (true outliers like a huge jump in absorbance surronded by low absorbance) are removed. There could potentially be an issue with this if there is a start drop in measurment values such as in a boundary, however most boundaries encountered in reality have some sort of transition state. \n",
    "\n",
    "- RBF Specfic Parameters\n",
    "    - length_scale = can be isotropic or specific to each parameter, often lower length = less complex model (aka less fitting).\n",
    "    - length_scale_bounds = length scale search for optimized length scale\n",
    "    - WhiteKernel = added noise in order to muddle out any remaining outliers and prevent overfitting\n",
    "\n",
    "- Once the kernel is created we can feed it through the *GaussianProcessRegressor* to create the gpmodel function. \n",
    "    - n_restart_optimizers = how many times to attempt optimization\n",
    "    - alpha = parameter tied to length scale that adds in noise.\n",
    "  \n",
    "- Finally we can fit model function by feeding in the x1_x2 and y data."
   ]
  },
  {
   "cell_type": "code",
   "execution_count": 31,
   "id": "differential-frame",
   "metadata": {
    "scrolled": true
   },
   "outputs": [
    {
     "data": {
      "text/plain": [
       "{'k1': 1**2 * RBF(length_scale=1),\n",
       " 'k2': WhiteKernel(noise_level=1),\n",
       " 'k1__k1': 1**2,\n",
       " 'k1__k2': RBF(length_scale=1),\n",
       " 'k1__k1__constant_value': 1.0,\n",
       " 'k1__k1__constant_value_bounds': (1e-05, 100000.0),\n",
       " 'k1__k2__length_scale': 1,\n",
       " 'k1__k2__length_scale_bounds': (0.001, 1000.0),\n",
       " 'k2__noise_level': 1,\n",
       " 'k2__noise_level_bounds': (1e-10, 10.0)}"
      ]
     },
     "execution_count": 31,
     "metadata": {},
     "output_type": "execute_result"
    }
   ],
   "source": [
    "kernel = 1.0 * RBF(length_scale=1, length_scale_bounds=(1e-3, 1e3)) \\\n",
    "    + WhiteKernel(noise_level=1, noise_level_bounds=(1e-10, 1e+1)) \n",
    "\n",
    "gpmodel = GaussianProcessRegressor(kernel=kernel, n_restarts_optimizer=10, alpha=0.05, normalize_y=True) # random_state=42\n",
    "gpmodel.fit(x1x2_training_scaled, y_training_scaled)\n",
    "gpmodel.kernel.get_params()"
   ]
  },
  {
   "cell_type": "markdown",
   "id": "a79e8058",
   "metadata": {},
   "source": [
    "# Step 6: Testing Mesh and Running through GP-Model \n",
    "- We create a mesh that spans the distance of the minimum and maximum of the two compositonal variables (x1, x2, after being standardized) using gpm.create_mesh_from_min_max() with the scaling factor seeing how far out to create the mesh (scale = 1 means 0% expansion). \n",
    "- We then grab the new x1 abnd x2 created by the mesh to run through the gpmodel \n",
    "    - Remember the gpmodel will need to have the x1 and x2 input variables in the same formate as the (1,n,2) training data. "
   ]
  },
  {
   "cell_type": "code",
   "execution_count": 40,
   "id": "intelligent-island",
   "metadata": {
    "scrolled": false
   },
   "outputs": [],
   "source": [
    "# Mesh\n",
    "x1x2_test, x1_test, x2_test = gpm.create_mesh_from_min_max(x1_training_scaled, x2_training_scaled, scale = 1.5)\n",
    "\n",
    "# Run mesh through GP model\n",
    "x1_test_ex = x1x2_test[:,0][:,0]\n",
    "x2_test_ex = x1x2_test[:,1][:,0]\n",
    "x1x2_test_reform = np.asarray([x1_test_ex, x2_test_ex]).T\n",
    "y_pred, MSE = gpmodel.predict(x1x2_test_reform, return_std=True) "
   ]
  },
  {
   "cell_type": "markdown",
   "id": "7414a49e",
   "metadata": {},
   "source": [
    "# Step 7: Setup variables for plotting. \n",
    "- Now we finally select our final x1, x2, and y variables that we will use for plotting the scatter plot, this is simple.\n",
    "- The final step before plotting is to convert our new x1, x2, and y predictions back into original scales via the scaler we saved when standardizing.\n"
   ]
  },
  {
   "cell_type": "code",
   "execution_count": 43,
   "id": "fa517922",
   "metadata": {},
   "outputs": [
    {
     "data": {
      "text/plain": [
       "0.9843021186514122"
      ]
     },
     "execution_count": 43,
     "metadata": {},
     "output_type": "execute_result"
    }
   ],
   "source": [
    "# Select scatter plot points\n",
    "x1 = x1_training\n",
    "x2 = x2_training\n",
    "y = y_training\n",
    "\n",
    "# Revert back to original units and create mesh for plotting\n",
    "x1_test_org = gpm.reverse_standardization(x1_scaler, x1x2_test[:,0])\n",
    "x2_test_org = gpm.reverse_standardization(x2_scaler, x1x2_test[:,1])\n",
    "y_pred_org =  gpm.reverse_standardization(y_scaler, y_pred)\n",
    "\n",
    "# Just creating a 1xn array\n",
    "x1_mesh_prep = np.asarray([round(i,12) for i in x1_test_org[:,0]])\n",
    "x2_mesh_prep = np.asarray([round(i,12) for i in x2_test_org[:,0]])\n",
    "y_mesh_prep = np.asarray([round(i,5) for i in y_pred_org[:,0]])\n",
    "\n",
    "# Finding dimensions of original made mesh in order to create matching mesh and have y map values.\n",
    "dim_x1_test = x1_test.shape[0] \n",
    "dim_x2_test = x2_test.shape[0]\n",
    "\n",
    "X1 = x1_mesh_prep.reshape(dim_x2_test, dim_x1_test)\n",
    "X2 = x2_mesh_prep.reshape(dim_x2_test, dim_x1_test)\n",
    "Y = np.reshape(y_mesh_prep,(dim_x2_test, dim_x1_test))\n",
    "\n",
    "gpmodel.score(x1x2_training_scaled, y_training_scaled, sample_weight=None)\n",
    "# gpmodel.log_marginal_likelihood"
   ]
  },
  {
   "cell_type": "markdown",
   "id": "49a3e33e",
   "metadata": {},
   "source": [
    "# Step 8: Plotting\n",
    "- Plotting is initiated by fig, ax = plt.subplots(1)\n",
    "- Color normalization is typically done by the vmin and vmax arguments which are the min and maximium color values which in reality should be the min and max of the predication or training Y values. \n",
    "- mappable is where our prepared mesh of x1 and x2 with our predicated y being mapped/reshaped to the values is fed and plotted. "
   ]
  },
  {
   "cell_type": "code",
   "execution_count": 34,
   "id": "stupid-tomato",
   "metadata": {
    "scrolled": true
   },
   "outputs": [
    {
     "data": {
      "text/plain": [
       "(-0.0001, 0.0011)"
      ]
     },
     "execution_count": 34,
     "metadata": {},
     "output_type": "execute_result"
    },
    {
     "data": {
      "image/png": "[encoded data removed]",
      "text/plain": [
       "<Figure size 432x288 with 2 Axes>"
      ]
     },
     "metadata": {
      "needs_background": "light"
     },
     "output_type": "display_data"
    }
   ],
   "source": [
    "fig, ax = plt.subplots(1)\n",
    "vmin = Y.min()\n",
    "vmax = Y.max()\n",
    "norm = colors.Normalize(vmin=vmin,vmax=vmax) \n",
    "\n",
    "mappable = ax.pcolormesh(X1,X2,Y, norm=norm, shading = 'auto',cmap='jet')\n",
    "cbar = fig.colorbar(mappable)\n",
    "cbar.ax.set_ylabel('Derived Count Rate (kcps)')\n",
    "ax.scatter(x1,x2,c=y, norm=norm, edgecolors='k',cmap='jet')\n",
    "ax.set_xlabel('Ethanol wtf')\n",
    "ax.set_ylabel('Octadecane wtf')\n",
    "ax.set_xlim(0.05,0.85)\n",
    "ax.set_ylim(-0.0001,0.0011)\n",
    "\n",
    "# plt.plot(ex_new, f(ex_new), '-', label='10C')\n",
    "# plt.plot(ex_new_30, f30(ex_new), '-', label='30C')\n",
    "# plt.plot(ex_new_60, f60(ex_new), '-', label='60C')\n",
    "# plt.legend()"
   ]
  },
  {
   "cell_type": "markdown",
   "id": "d80795ee",
   "metadata": {},
   "source": [
    "# Solubility data, ignore but do not delete"
   ]
  },
  {
   "cell_type": "code",
   "execution_count": 44,
   "id": "weekly-microwave",
   "metadata": {},
   "outputs": [
    {
     "ename": "ImportError",
     "evalue": "Missing optional dependency 'xlrd'. Install xlrd >= 1.0.0 for Excel support Use pip or conda to install xlrd.",
     "output_type": "error",
     "traceback": [
      "\u001b[1;31m---------------------------------------------------------------------------\u001b[0m",
      "\u001b[1;31mImportError\u001b[0m                               Traceback (most recent call last)",
      "\u001b[1;32m~\\AppData\\Local\\Temp/ipykernel_4700/4132653632.py\u001b[0m in \u001b[0;36m<module>\u001b[1;34m\u001b[0m\n\u001b[1;32m----> 1\u001b[1;33m \u001b[0msolubility_data\u001b[0m \u001b[1;33m=\u001b[0m \u001b[0mpd\u001b[0m\u001b[1;33m.\u001b[0m\u001b[0mread_excel\u001b[0m\u001b[1;33m(\u001b[0m\u001b[1;34mr\"C:\\Users\\Edwin\\Desktop\\octadecene\\octadecene solubility.xlsx\"\u001b[0m\u001b[1;33m)\u001b[0m\u001b[1;33m\u001b[0m\u001b[0m\n\u001b[0m\u001b[0;32m      2\u001b[0m \u001b[0msolubility_data\u001b[0m\u001b[1;33m.\u001b[0m\u001b[0mcolumns\u001b[0m \u001b[1;33m=\u001b[0m \u001b[0msolubility_data\u001b[0m\u001b[1;33m.\u001b[0m\u001b[0mloc\u001b[0m\u001b[1;33m[\u001b[0m\u001b[1;36m0\u001b[0m\u001b[1;33m]\u001b[0m\u001b[1;33m\u001b[0m\u001b[0m\n\u001b[0;32m      3\u001b[0m \u001b[0msolubility_data\u001b[0m \u001b[1;33m=\u001b[0m \u001b[0msolubility_data\u001b[0m\u001b[1;33m.\u001b[0m\u001b[0mdrop\u001b[0m\u001b[1;33m(\u001b[0m\u001b[1;36m0\u001b[0m\u001b[1;33m)\u001b[0m\u001b[1;33m\u001b[0m\u001b[0m\n\u001b[0;32m      4\u001b[0m \u001b[0metoh\u001b[0m \u001b[1;33m=\u001b[0m \u001b[0msolubility_data\u001b[0m\u001b[1;33m[\u001b[0m\u001b[1;34m'Ethanol wt% '\u001b[0m\u001b[1;33m]\u001b[0m\u001b[1;33m/\u001b[0m\u001b[1;36m100\u001b[0m\u001b[1;33m\u001b[0m\u001b[0m\n\u001b[0;32m      5\u001b[0m \u001b[0mode_30\u001b[0m \u001b[1;33m=\u001b[0m \u001b[0msolubility_data\u001b[0m\u001b[1;33m[\u001b[0m\u001b[1;34m'30 C '\u001b[0m\u001b[1;33m]\u001b[0m\u001b[1;33m/\u001b[0m\u001b[1;36m100\u001b[0m\u001b[1;33m\u001b[0m\u001b[0m\n",
      "\u001b[1;32mc:\\users\\anton\\appdata\\local\\programs\\python\\python37\\lib\\site-packages\\pandas\\util\\_decorators.py\u001b[0m in \u001b[0;36mwrapper\u001b[1;34m(*args, **kwargs)\u001b[0m\n\u001b[0;32m    294\u001b[0m                 )\n\u001b[0;32m    295\u001b[0m                 \u001b[0mwarnings\u001b[0m\u001b[1;33m.\u001b[0m\u001b[0mwarn\u001b[0m\u001b[1;33m(\u001b[0m\u001b[0mmsg\u001b[0m\u001b[1;33m,\u001b[0m \u001b[0mFutureWarning\u001b[0m\u001b[1;33m,\u001b[0m \u001b[0mstacklevel\u001b[0m\u001b[1;33m=\u001b[0m\u001b[0mstacklevel\u001b[0m\u001b[1;33m)\u001b[0m\u001b[1;33m\u001b[0m\u001b[0m\n\u001b[1;32m--> 296\u001b[1;33m             \u001b[1;32mreturn\u001b[0m \u001b[0mfunc\u001b[0m\u001b[1;33m(\u001b[0m\u001b[1;33m*\u001b[0m\u001b[0margs\u001b[0m\u001b[1;33m,\u001b[0m \u001b[1;33m**\u001b[0m\u001b[0mkwargs\u001b[0m\u001b[1;33m)\u001b[0m\u001b[1;33m\u001b[0m\u001b[0m\n\u001b[0m\u001b[0;32m    297\u001b[0m \u001b[1;33m\u001b[0m\u001b[0m\n\u001b[0;32m    298\u001b[0m         \u001b[1;32mreturn\u001b[0m \u001b[0mwrapper\u001b[0m\u001b[1;33m\u001b[0m\u001b[0m\n",
      "\u001b[1;32mc:\\users\\anton\\appdata\\local\\programs\\python\\python37\\lib\\site-packages\\pandas\\io\\excel\\_base.py\u001b[0m in \u001b[0;36mread_excel\u001b[1;34m(io, sheet_name, header, names, index_col, usecols, squeeze, dtype, engine, converters, true_values, false_values, skiprows, nrows, na_values, keep_default_na, na_filter, verbose, parse_dates, date_parser, thousands, comment, skipfooter, convert_float, mangle_dupe_cols)\u001b[0m\n\u001b[0;32m    302\u001b[0m \u001b[1;33m\u001b[0m\u001b[0m\n\u001b[0;32m    303\u001b[0m     \u001b[1;32mif\u001b[0m \u001b[1;32mnot\u001b[0m \u001b[0misinstance\u001b[0m\u001b[1;33m(\u001b[0m\u001b[0mio\u001b[0m\u001b[1;33m,\u001b[0m \u001b[0mExcelFile\u001b[0m\u001b[1;33m)\u001b[0m\u001b[1;33m:\u001b[0m\u001b[1;33m\u001b[0m\u001b[0m\n\u001b[1;32m--> 304\u001b[1;33m         \u001b[0mio\u001b[0m \u001b[1;33m=\u001b[0m \u001b[0mExcelFile\u001b[0m\u001b[1;33m(\u001b[0m\u001b[0mio\u001b[0m\u001b[1;33m,\u001b[0m \u001b[0mengine\u001b[0m\u001b[1;33m=\u001b[0m\u001b[0mengine\u001b[0m\u001b[1;33m)\u001b[0m\u001b[1;33m\u001b[0m\u001b[0m\n\u001b[0m\u001b[0;32m    305\u001b[0m     \u001b[1;32melif\u001b[0m \u001b[0mengine\u001b[0m \u001b[1;32mand\u001b[0m \u001b[0mengine\u001b[0m \u001b[1;33m!=\u001b[0m \u001b[0mio\u001b[0m\u001b[1;33m.\u001b[0m\u001b[0mengine\u001b[0m\u001b[1;33m:\u001b[0m\u001b[1;33m\u001b[0m\u001b[0m\n\u001b[0;32m    306\u001b[0m         raise ValueError(\n",
      "\u001b[1;32mc:\\users\\anton\\appdata\\local\\programs\\python\\python37\\lib\\site-packages\\pandas\\io\\excel\\_base.py\u001b[0m in \u001b[0;36m__init__\u001b[1;34m(self, path_or_buffer, engine)\u001b[0m\n\u001b[0;32m    865\u001b[0m         \u001b[0mself\u001b[0m\u001b[1;33m.\u001b[0m\u001b[0m_io\u001b[0m \u001b[1;33m=\u001b[0m \u001b[0mstringify_path\u001b[0m\u001b[1;33m(\u001b[0m\u001b[0mpath_or_buffer\u001b[0m\u001b[1;33m)\u001b[0m\u001b[1;33m\u001b[0m\u001b[0m\n\u001b[0;32m    866\u001b[0m \u001b[1;33m\u001b[0m\u001b[0m\n\u001b[1;32m--> 867\u001b[1;33m         \u001b[0mself\u001b[0m\u001b[1;33m.\u001b[0m\u001b[0m_reader\u001b[0m \u001b[1;33m=\u001b[0m \u001b[0mself\u001b[0m\u001b[1;33m.\u001b[0m\u001b[0m_engines\u001b[0m\u001b[1;33m[\u001b[0m\u001b[0mengine\u001b[0m\u001b[1;33m]\u001b[0m\u001b[1;33m(\u001b[0m\u001b[0mself\u001b[0m\u001b[1;33m.\u001b[0m\u001b[0m_io\u001b[0m\u001b[1;33m)\u001b[0m\u001b[1;33m\u001b[0m\u001b[0m\n\u001b[0m\u001b[0;32m    868\u001b[0m \u001b[1;33m\u001b[0m\u001b[0m\n\u001b[0;32m    869\u001b[0m     \u001b[1;32mdef\u001b[0m \u001b[0m__fspath__\u001b[0m\u001b[1;33m(\u001b[0m\u001b[0mself\u001b[0m\u001b[1;33m)\u001b[0m\u001b[1;33m:\u001b[0m\u001b[1;33m\u001b[0m\u001b[0m\n",
      "\u001b[1;32mc:\\users\\anton\\appdata\\local\\programs\\python\\python37\\lib\\site-packages\\pandas\\io\\excel\\_xlrd.py\u001b[0m in \u001b[0;36m__init__\u001b[1;34m(self, filepath_or_buffer)\u001b[0m\n\u001b[0;32m     19\u001b[0m         \"\"\"\n\u001b[0;32m     20\u001b[0m         \u001b[0merr_msg\u001b[0m \u001b[1;33m=\u001b[0m \u001b[1;34m\"Install xlrd >= 1.0.0 for Excel support\"\u001b[0m\u001b[1;33m\u001b[0m\u001b[0m\n\u001b[1;32m---> 21\u001b[1;33m         \u001b[0mimport_optional_dependency\u001b[0m\u001b[1;33m(\u001b[0m\u001b[1;34m\"xlrd\"\u001b[0m\u001b[1;33m,\u001b[0m \u001b[0mextra\u001b[0m\u001b[1;33m=\u001b[0m\u001b[0merr_msg\u001b[0m\u001b[1;33m)\u001b[0m\u001b[1;33m\u001b[0m\u001b[0m\n\u001b[0m\u001b[0;32m     22\u001b[0m         \u001b[0msuper\u001b[0m\u001b[1;33m(\u001b[0m\u001b[1;33m)\u001b[0m\u001b[1;33m.\u001b[0m\u001b[0m__init__\u001b[0m\u001b[1;33m(\u001b[0m\u001b[0mfilepath_or_buffer\u001b[0m\u001b[1;33m)\u001b[0m\u001b[1;33m\u001b[0m\u001b[0m\n\u001b[0;32m     23\u001b[0m \u001b[1;33m\u001b[0m\u001b[0m\n",
      "\u001b[1;32mc:\\users\\anton\\appdata\\local\\programs\\python\\python37\\lib\\site-packages\\pandas\\compat\\_optional.py\u001b[0m in \u001b[0;36mimport_optional_dependency\u001b[1;34m(name, extra, raise_on_missing, on_version)\u001b[0m\n\u001b[0;32m    108\u001b[0m     \u001b[1;32mexcept\u001b[0m \u001b[0mImportError\u001b[0m\u001b[1;33m:\u001b[0m\u001b[1;33m\u001b[0m\u001b[0m\n\u001b[0;32m    109\u001b[0m         \u001b[1;32mif\u001b[0m \u001b[0mraise_on_missing\u001b[0m\u001b[1;33m:\u001b[0m\u001b[1;33m\u001b[0m\u001b[0m\n\u001b[1;32m--> 110\u001b[1;33m             \u001b[1;32mraise\u001b[0m \u001b[0mImportError\u001b[0m\u001b[1;33m(\u001b[0m\u001b[0mmsg\u001b[0m\u001b[1;33m)\u001b[0m \u001b[1;32mfrom\u001b[0m \u001b[1;32mNone\u001b[0m\u001b[1;33m\u001b[0m\u001b[0m\n\u001b[0m\u001b[0;32m    111\u001b[0m         \u001b[1;32melse\u001b[0m\u001b[1;33m:\u001b[0m\u001b[1;33m\u001b[0m\u001b[0m\n\u001b[0;32m    112\u001b[0m             \u001b[1;32mreturn\u001b[0m \u001b[1;32mNone\u001b[0m\u001b[1;33m\u001b[0m\u001b[0m\n",
      "\u001b[1;31mImportError\u001b[0m: Missing optional dependency 'xlrd'. Install xlrd >= 1.0.0 for Excel support Use pip or conda to install xlrd."
     ]
    }
   ],
   "source": [
    "solubility_data = pd.read_excel(r\"C:\\Users\\Edwin\\Desktop\\octadecene\\octadecene solubility.xlsx\")\n",
    "solubility_data.columns = solubility_data.loc[0]\n",
    "solubility_data = solubility_data.drop(0)\n",
    "etoh = solubility_data['Ethanol wt% ']/100\n",
    "ode_30 = solubility_data['30 C ']/100\n",
    "ode_10 = solubility_data['10 C ']/100\n",
    "ode_60 = solubility_data['60 C']/100\n",
    "\n",
    "selected = ode_10\n",
    "ex = etoh[selected.notnull()]\n",
    "oy = selected[selected.notnull()]\n",
    "plt.scatter(ex, oy)\n",
    "f = interp1d(ex, oy, kind='linear')\n",
    "ex_new = np.linspace(0, 1, num=20, endpoint=True)\n",
    "plt.plot(ex, oy, 'o', ex_new, f(ex_new), '-')\n",
    "\n",
    "selected = ode_30\n",
    "ex = etoh[selected.notnull()]\n",
    "oy = selected[selected.notnull()]\n",
    "plt.scatter(ex, oy)\n",
    "f30 = interp1d(ex, oy, kind='linear')\n",
    "ex_new_30 = np.linspace(0, 1, num=20, endpoint=True)\n",
    "plt.plot(ex, oy, 'o', ex_new_30, f30(ex_new), '-')\n",
    "\n",
    "selected = ode_60\n",
    "ex = etoh[selected.notnull()]\n",
    "oy = selected[selected.notnull()]\n",
    "plt.scatter(ex, oy)\n",
    "f60 = interp1d(ex, oy, kind='linear')\n",
    "ex_new_60 = np.linspace(0, 1, num=20, endpoint=True)\n",
    "plt.plot(ex, oy, 'o', ex_new_60, f60(ex_new), '-')"
   ]
  },
  {
   "cell_type": "code",
   "execution_count": null,
   "id": "e70ec3f0",
   "metadata": {},
   "outputs": [],
   "source": []
  }
 ],
 "metadata": {
  "kernelspec": {
   "display_name": "Python 3 (ipykernel)",
   "language": "python",
   "name": "python3"
  },
  "language_info": {
   "codemirror_mode": {
    "name": "ipython",
    "version": 3
   },
   "file_extension": ".py",
   "mimetype": "text/x-python",
   "name": "python",
   "nbconvert_exporter": "python",
   "pygments_lexer": "ipython3",
   "version": "3.7.0"
  }
 },
 "nbformat": 4,
 "nbformat_minor": 5
}
