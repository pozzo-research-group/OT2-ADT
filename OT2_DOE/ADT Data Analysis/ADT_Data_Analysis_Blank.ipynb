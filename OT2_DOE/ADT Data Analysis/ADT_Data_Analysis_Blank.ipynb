{
 "cells": [
  {
   "cell_type": "markdown",
   "id": "4ec1d882",
   "metadata": {},
   "source": [
    "### Imports"
   ]
  },
  {
   "cell_type": "code",
   "execution_count": 1,
   "id": "ef5774d5",
   "metadata": {},
   "outputs": [],
   "source": [
    "import pandas as pd\n",
    "import matplotlib.pyplot as plt\n",
    "import numpy as np\n",
    "\n",
    "import matplotlib.patches as mpatches\n",
    "import matplotlib.lines as mlines\n",
    "from matplotlib.ticker import AutoMinorLocator, MultipleLocator\n",
    "\n",
    "import ADT_OT2_Analysis as AD"
   ]
  },
  {
   "cell_type": "markdown",
   "id": "682fd6d1",
   "metadata": {},
   "source": [
    "### Variables\n",
    "\n",
    "Membrane Thickness:\n",
    "\n",
    "| Sample | Before (mm) | After (mm) |\n",
    "| --- | --- | --- |\n",
    "| S1 |  |  |\n",
    "| S2 |  |  |\n",
    "| S3 |  |  |\n",
    "| S4 |  |  |"
   ]
  },
  {
   "cell_type": "code",
   "execution_count": 2,
   "id": "f1a46a36",
   "metadata": {},
   "outputs": [],
   "source": [
    "# Testing Details\n",
    "\n",
    "Date = 'YYYYMMDD'\n",
    "Membrane = 'membrane'\n",
    "Dye_name = 'Dye_name'\n",
    "dye_sh = 'dye_shorthand'\n",
    "dilution_factor = 10\n",
    "\n",
    "# Membrane sample names (in order of H1, H2, H3, H4)\n",
    "# membrane_L is membrane thickness (in microns). Default is 110\n",
    "H_cells = { }\n",
    " \n",
    "H_cells['H1'] = {'sample':'S1', 'membrane_L': 110}\n",
    "H_cells['H2'] = {'sample':'S2', 'membrane_L': 110}\n",
    "H_cells['H3'] = {'sample':'S3', 'membrane_L': 110}\n",
    "H_cells['H4'] = {'sample':'S4', 'membrane_L': 110}"
   ]
  },
  {
   "cell_type": "code",
   "execution_count": 3,
   "id": "4ee72ceb",
   "metadata": {},
   "outputs": [],
   "source": [
    "#experiment_handle = '20250412_ot2_PES_P40G00_RB'\n",
    "experiment_handle = Date + '_ot2_PES_' + Membrane + '_' + dye_sh\n",
    "\n",
    "# Files to read\n",
    "calibration_curve_csv = 'OT2_Data/'+ Date + '_ot2_calibration_' + dye_sh + '.csv'\n",
    "longform_filename = 'OT2_Data/' + experiment_handle + '_long.csv'\n",
    "shortform_filename = 'OT2_Data/' + experiment_handle + '_short.csv'\n",
    "\n",
    "# What you want to name the files that will be saved\n",
    "longform_save_name = 'Results/' + experiment_handle + '_metadata.csv'\n",
    "full_df_save_name ='Results/' + experiment_handle + '.csv'\n",
    "\n",
    "# Diffusion parameters\n",
    "total_vol = 2.2e13 #(um^3)\n",
    "area = np.pi*(16000/2)**2 #(um^2)"
   ]
  },
  {
   "cell_type": "code",
   "execution_count": 3,
   "id": "127c8d3f",
   "metadata": {
    "scrolled": true
   },
   "outputs": [],
   "source": [
    "# Labels for plot legends\n",
    "plot_H1 = Membrane + ' ' + H_cells['H1']['sample']\n",
    "plot_H2 = Membrane + ' ' + H_cells['H2']['sample']\n",
    "plot_H3 = Membrane + ' ' + H_cells['H3']['sample']\n",
    "plot_H4 = Membrane + ' ' + H_cells['H4']['sample']\n",
    "plot_labels = [plot_H1, plot_H2, plot_H3, plot_H4]\n",
    "\n",
    "max_t = 50 #max time (hrs)\n",
    "\n",
    "# Colors by dye type\n",
    "rb = 'palevioletred'\n",
    "mb = 'rebeccapurple'\n",
    "bb = 'royalblue'\n",
    "ao = 'darkorange'\n",
    "contrast = 'dimgrey'\n",
    "DT_suite = [rb, mb, bb, ao]\n",
    "\n",
    "dye = bb\n",
    "\n",
    "# comparison options\n",
    "contrast_A = 'cornflowerblue'\n",
    "contrast_B = 'forestgreen'\n",
    "contrast_C = 'violet'\n",
    "\n",
    "#colorblind suite\n",
    "color_A = (0,0.306,0.920) #blue\n",
    "color_B = (0,0.5,0) #green\n",
    "color_C = (0.73,0.33,0.83) #fuschia\n",
    "color_D = (0.88,0.55,0) #orange\n",
    "CB_suite = [color_A, color_B, color_C, color_D]\n",
    "\n",
    "# Original suite\n",
    "OG_A = 'cornflowerblue'\n",
    "OG_B = 'forestgreen'\n",
    "OG_C = 'peru'\n",
    "OG_D = 'palevioletred'\n",
    "OG_suite = [OG_A, OG_B, OG_C, OG_D]"
   ]
  },
  {
   "cell_type": "markdown",
   "id": "272febe0",
   "metadata": {},
   "source": [
    "## Calibration Curve\n",
    "\n",
    "typical abs slope per dye:\n",
    "\n",
    "| Dye | Abs | or |\n",
    "| --- | --- | --- |\n",
    "| BB | 0.069 | 0.0723 | \n",
    "| AO | 0.0135 |  |\n",
    "| RB | 0.0589 | 0.058 |\n",
    "| MB | 0.0327 | 0.035 |"
   ]
  },
  {
   "cell_type": "code",
   "execution_count": null,
   "id": "8db4daf8",
   "metadata": {},
   "outputs": [],
   "source": [
    "#absorption coefficient dertermined from Calibration section\n",
    "m, b = AD.absorptivity(calibration_curve_csv)\n",
    "absorptivity = round(m,4)\n",
    "\n",
    "print('absorptivity = ', absorptivity)"
   ]
  },
  {
   "cell_type": "code",
   "execution_count": null,
   "id": "dcb22431",
   "metadata": {},
   "outputs": [],
   "source": [
    "# plotting the calibration curve for a sanity check (optional)\n",
    "calibration_curve_df = pd.read_csv(calibration_curve_csv)\n",
    "X = calibration_curve_df['C_uM']\n",
    "Y = calibration_curve_df['Abs']\n",
    "yfit = [b + m * xi for xi in X]\n",
    "\n",
    "fig, ax = plt.subplots(figsize=(3.5,3.5))\n",
    "\n",
    "ax.plot(X, Y, ms=6, marker='o', linewidth=0, color='black')\n",
    "ax.plot(X, yfit, linewidth=2, color = 'darkorange')\n",
    "ax.set_xlabel(r'Concentration ($\\mu M$)', fontsize=12)\n",
    "ax.set_ylabel('Abs', fontsize=12)\n",
    "ax.tick_params(labelsize=11)\n",
    "\n",
    "plt.tight_layout()\n",
    "plt.show();"
   ]
  },
  {
   "cell_type": "markdown",
   "id": "efb5d060",
   "metadata": {},
   "source": [
    "## Analysis"
   ]
  },
  {
   "cell_type": "markdown",
   "id": "6a4a1861",
   "metadata": {},
   "source": [
    "### Part 1: Longform .csv"
   ]
  },
  {
   "cell_type": "code",
   "execution_count": null,
   "id": "513a9b62",
   "metadata": {},
   "outputs": [],
   "source": [
    "longform = AD.longform_record(longform_filename, absorptivity, dilution_factor)\n",
    "longform"
   ]
  },
  {
   "cell_type": "markdown",
   "id": "fc518974",
   "metadata": {},
   "source": [
    "### Save the metadata file:"
   ]
  },
  {
   "cell_type": "code",
   "execution_count": null,
   "id": "8b4aa3fd",
   "metadata": {},
   "outputs": [],
   "source": [
    "longform.to_csv(longform_save_name, index=False)"
   ]
  },
  {
   "cell_type": "markdown",
   "id": "fa0f1dad",
   "metadata": {},
   "source": [
    "### Part 2: Shortform .csv (Concentrations, Averages, and Diffusion Coefficients)\n",
    "This is where the shortform file is converted to a new df with the original dye concentrations (instead of UV-Vis absorbances)\n",
    "\n",
    "The concentration data for each sample is then used to determine:\n",
    "- Diffusion coefficients calculated at each time point per membrane sample\n",
    "- overall diffusion coefficient for each individual sample, averaged over the given index range"
   ]
  },
  {
   "cell_type": "code",
   "execution_count": null,
   "id": "924e995e",
   "metadata": {},
   "outputs": [],
   "source": [
    "full_df, D_aves = AD.data_calculations(shortform_filename, absorptivity, dilution_factor, \n",
    "                     total_vol, area, H_cells=H_cells, index_range=[1,2,3,4,5,6,7,8,9,10,11])"
   ]
  },
  {
   "cell_type": "code",
   "execution_count": null,
   "id": "625c5a46",
   "metadata": {},
   "outputs": [],
   "source": [
    "full_df"
   ]
  },
  {
   "cell_type": "code",
   "execution_count": null,
   "id": "1a85c57e",
   "metadata": {},
   "outputs": [],
   "source": [
    "D_aves"
   ]
  },
  {
   "cell_type": "markdown",
   "id": "374dfc3b",
   "metadata": {},
   "source": [
    "If each sample is behaving differently and you want to calculate the averages separately, use the following:"
   ]
  },
  {
   "cell_type": "code",
   "execution_count": null,
   "id": "d186e4d8",
   "metadata": {},
   "outputs": [],
   "source": [
    "H1_index_range = [1,2,3,4,5,6,7,8,9,10,11]\n",
    "H2_index_range = [1,2,3,4,5,6,7,8,9,10,11]\n",
    "H3_index_range = [1,2,3,4,5,6,7,8,9,10,11]\n",
    "H4_index_range = [1,2,3,4,5,6,7,8,9,10,11]\n",
    "\n",
    "H1_D_ave = full_df[H_cells['H1']['sample']].iloc[H1_index_range].mean()\n",
    "H2_D_ave = full_df[H_cells['H2']['sample']].iloc[H2_index_range].mean()\n",
    "H3_D_ave = full_df[H_cells['H3']['sample']].iloc[H3_index_range].mean()\n",
    "H4_D_ave = full_df[H_cells['H4']['sample']].iloc[H4_index_range].mean()\n",
    "H1_D_std = full_df[H_cells['H1']['sample']].iloc[H1_index_range].std()\n",
    "H2_D_std = full_df[H_cells['H2']['sample']].iloc[H2_index_range].std()\n",
    "H3_D_std = full_df[H_cells['H3']['sample']].iloc[H3_index_range].std()\n",
    "H4_D_std = full_df[H_cells['H4']['sample']].iloc[H4_index_range].std()\n",
    "\n",
    "print(str(H_cells['H1']['sample']), '=', H1_D_ave.round(3), '+/-', H1_D_std.round(3))\n",
    "print(str(H_cells['H2']['sample']), '=', H2_D_ave.round(3), '+/-', H2_D_std.round(3))\n",
    "print(str(H_cells['H3']['sample']), '=', H3_D_ave.round(3), '+/-', H3_D_std.round(3))\n",
    "print(str(H_cells['H4']['sample']), '=', H4_D_ave.round(3), '+/-', H4_D_std.round(3))"
   ]
  },
  {
   "cell_type": "markdown",
   "id": "892768b7",
   "metadata": {},
   "source": [
    "### Save the final DF"
   ]
  },
  {
   "cell_type": "code",
   "execution_count": null,
   "id": "49cca178",
   "metadata": {},
   "outputs": [],
   "source": [
    "full_df.to_csv(full_df_save_name, index=False)"
   ]
  },
  {
   "cell_type": "markdown",
   "id": "f583e160",
   "metadata": {},
   "source": [
    "# Plots\n",
    "\n",
    "### Concentration vs Time\n",
    "\n",
    "If using all 8 H-cells, use the `AD.progress_plots_8` function instead."
   ]
  },
  {
   "cell_type": "code",
   "execution_count": null,
   "id": "c738300a",
   "metadata": {},
   "outputs": [],
   "source": [
    "AD.progress_plots_4(full_df, sample_names=H_cells, max_time=max_t, max_D = 60, color_set=OG_suite, font=18)"
   ]
  },
  {
   "cell_type": "markdown",
   "id": "7f75112e",
   "metadata": {},
   "source": [
    "### Total Concentration vs Time\n",
    "\n",
    "Sum the concentrations in Cells 1 and 2 to keep track of total C (in case of partitioning/evaporation)"
   ]
  },
  {
   "cell_type": "code",
   "execution_count": null,
   "id": "0ff8b219",
   "metadata": {},
   "outputs": [],
   "source": [
    "sum_df = pd.DataFrame(data=full_df)\n",
    "sum_df['H1_sum'] = sum_df['H1_C1']+sum_df['H1_C2']\n",
    "sum_df['H2_sum'] = sum_df['H2_C1']+sum_df['H2_C2']\n",
    "sum_df['H3_sum'] = sum_df['H3_C1']+sum_df['H3_C2']\n",
    "sum_df['H4_sum'] = sum_df['H4_C1']+sum_df['H4_C2']\n",
    "\n",
    "\n",
    "fig, ax = plt.subplots(figsize=(6,5))\n",
    "\n",
    "ax.plot(sum_df['Time'], sum_df['H1_sum'], label=H_cells['H1']['sample'], ms=8, marker='o',\n",
    "        color=CB_suite[0], linewidth=0)\n",
    "ax.plot(sum_df['Time'], sum_df['H2_sum'], label=H_cells['H2']['sample'], ms=8, marker='o',\n",
    "        color=CB_suite[1], linewidth=0)\n",
    "ax.plot(sum_df['Time'], sum_df['H3_sum'], label=H_cells['H3']['sample'], ms=8, marker='o',\n",
    "        color=CB_suite[2], linewidth=0)\n",
    "ax.plot(sum_df['Time'], sum_df['H4_sum'], label=H_cells['H4']['sample'], ms=8, marker='o',\n",
    "        color=CB_suite[3], linewidth=0)\n",
    "ax.set_xlabel('Time (hr)', fontsize=16)\n",
    "ax.set_ylabel(r'Concentration ($\\mu M$)', fontsize=16)\n",
    "#ax.set_ylim(0,df['H1_C1'][0]+25)\n",
    "ax.set_ylim(0,450)\n",
    "ax.set_xlim(-2,70)\n",
    "ax.legend(loc='upper right', ncols=2, fontsize=12, edgecolor='inherit')\n",
    "ax.tick_params(labelsize=16)\n",
    "\n",
    "plt.tight_layout()\n",
    "#plt.savefig('../Figures/'+ Date + 'fig_name.csv', dpi=300)\n",
    "plt.show();"
   ]
  },
  {
   "cell_type": "code",
   "execution_count": null,
   "id": "ff6085c4",
   "metadata": {},
   "outputs": [],
   "source": []
  },
  {
   "cell_type": "markdown",
   "id": "02aa750e",
   "metadata": {},
   "source": [
    "### Comparison Plot\n",
    "\n",
    "Compare two (or more) samples from different experiments"
   ]
  },
  {
   "cell_type": "code",
   "execution_count": null,
   "id": "22228c51",
   "metadata": {},
   "outputs": [],
   "source": [
    "df1 = pd.read_csv('Results/20250603_manual_PES_P25G00_AO.csv')\n",
    "df2 = pd.read_csv('Results/20250505_ot2_PES_P25G00_AO.csv')\n",
    "\n",
    "fig2, (ax3,ax4) = plt.subplots(nrows=1, ncols=2, figsize=(12,6), layout='constrained')\n",
    "#fig2.suptitle('Manual vs Automated Sampling', fontsize=20)\n",
    "\n",
    "donor = mlines.Line2D([], [], color='black', ls='', marker='v',\n",
    "                          markersize=8, label='Donor Chamber (Cell 1)')\n",
    "receptor = mlines.Line2D([], [], color='black', ls='', marker='s',\n",
    "                          markersize=8, label='Receptor Chamber (Cell 2)')\n",
    "diffusivity = mlines.Line2D([], [], color='black', ls='', marker='o',\n",
    "                          markersize=8, label='Diffusion Coefficient')\n",
    "\n",
    "sample_1 = mpatches.Patch(color='#332288', label='By Hand')\n",
    "sample_2 = mpatches.Patch(color='#44AA99', label='Automated')\n",
    "\n",
    "\n",
    "ax3.plot(df2['Time'], df2['H3_C1']/df2['H3_C1'][0], label='Automated (Cell 1)', ms=9, \n",
    "         marker='v', color='#44AA99', linewidth=0)\n",
    "ax3.plot(df2['Time'], df2['H3_C2']/df2['H3_C1'][0], label='Automated (Cell 2)', ms=9, \n",
    "         marker='s', color='#44AA99', linewidth=0)\n",
    "ax3.plot(df1['Time'], df1['H1_C1']/df1['H1_C1'][0], label='By Hand (Cell 1)',\n",
    "         ms=9, marker='v', color='#332288', linewidth=0)\n",
    "ax3.plot(df1['Time'], df1['H1_C2']/df1['H1_C1'][0], label='By Hand (Cell 2)',\n",
    "         ms=9, marker='s', color='#332288', linewidth=0)\n",
    "\n",
    "ax3.set_xlabel('Time (hr)', fontsize=18)\n",
    "ax3.set_ylabel('RB Concentration (normalized)', fontsize=18)\n",
    "ax3.set_ylim(0,1.1)\n",
    "ax3.set_xlim(-2,70)\n",
    "ax3.xaxis.set_minor_locator(MultipleLocator(2))\n",
    "ax3.legend(handles=[donor, receptor], fontsize=14, edgecolor='inherit')\n",
    "#ax3.legend(loc='upper right', ncols=1, fontsize=16, edgecolor='inherit')\n",
    "ax3.tick_params(labelsize=18)\n",
    "\n",
    "\n",
    "ax4.plot(df2['Time'], df2['S3'], label='Automated (P25G00)', ms=10, marker='o', color='#44AA99', linewidth=0)\n",
    "ax4.plot(df1['Time'], df1['S1'], label='By Hand (P25G00)', ms=10, marker='o', color='#332288', linewidth=0)\n",
    "ax4.set_xlabel('Time (hr)', fontsize=18)\n",
    "ax4.set_ylabel('Diffusivity ($\\mu m^2/s$)', fontsize=18)\n",
    "ax4.set_ylim(0,60)\n",
    "ax4.set_xlim(0,70)\n",
    "ax4.xaxis.set_minor_locator(MultipleLocator(2))\n",
    "ax4.legend(handles=[diffusivity], fontsize=14, edgecolor='inherit')\n",
    "#ax4.legend(loc='upper right', ncols=1, fontsize=16, edgecolor='inherit')\n",
    "ax4.tick_params(labelsize=18)\n",
    "\n",
    "fig2.legend(handles=[sample_1, sample_2], loc='outside lower center', ncols=4,\n",
    "           fontsize=16, edgecolor='inherit')\n",
    "\n",
    "#plt.tight_layout()\n",
    "plt.show();"
   ]
  }
 ],
 "metadata": {
  "kernelspec": {
   "display_name": "research",
   "language": "python",
   "name": "research"
  },
  "language_info": {
   "codemirror_mode": {
    "name": "ipython",
    "version": 3
   },
   "file_extension": ".py",
   "mimetype": "text/x-python",
   "name": "python",
   "nbconvert_exporter": "python",
   "pygments_lexer": "ipython3",
   "version": "3.11.3"
  }
 },
 "nbformat": 4,
 "nbformat_minor": 5
}
