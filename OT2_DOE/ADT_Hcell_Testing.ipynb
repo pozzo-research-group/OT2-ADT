{
 "cells": [
  {
   "cell_type": "code",
   "execution_count": null,
   "id": "82089b3e",
   "metadata": {},
   "outputs": [],
   "source": [
    "from Plan import CreateSamples\n",
    "from Prepare import OT2Commands as ALH\n",
    "from opentrons import simulate, execute, protocol_api\n",
    "from Prepare import OT2_Hcell_commands as HC\n",
    "\n",
    "import pandas as pd\n",
    "import time \n",
    "import numpy as np\n",
    "\n",
    "import string"
   ]
  },
  {
   "cell_type": "code",
   "execution_count": null,
   "id": "a49a3bcf",
   "metadata": {},
   "outputs": [],
   "source": [
    "#if needed\n",
    "#import importlib\n",
    "#importlib.reload(HC)"
   ]
  },
  {
   "cell_type": "code",
   "execution_count": null,
   "id": "4893fdbc",
   "metadata": {},
   "outputs": [],
   "source": [
    "labware_dir_path = r\"./Custom Labware/\"\n",
    "custom_labware_dict = ALH.custom_labware_dict(labware_dir_path)"
   ]
  },
  {
   "cell_type": "code",
   "execution_count": null,
   "id": "c184b60a",
   "metadata": {},
   "outputs": [],
   "source": [
    "path = \"./H_cell_protocol.csv\"\n",
    "chem_path = r\"Chemical Database.csv\"\n",
    "plan = CreateSamples.get_experiment_plan(path, chem_path)"
   ]
  },
  {
   "cell_type": "markdown",
   "id": "acb41bbf",
   "metadata": {},
   "source": [
    "## Experiment"
   ]
  },
  {
   "cell_type": "code",
   "execution_count": null,
   "id": "d8300388",
   "metadata": {},
   "outputs": [],
   "source": [
    "protocol = execute.get_protocol_api('2.8', extra_labware=custom_labware_dict)\n",
    "loaded_dict = ALH.loading_labware(protocol, plan, well_order='row')"
   ]
  },
  {
   "cell_type": "code",
   "execution_count": null,
   "id": "71088d02",
   "metadata": {},
   "outputs": [],
   "source": [
    "#if using 8 h-cells, add sample names for H5, H6, H7, H8\n",
    "\n",
    "log_metadata={\n",
    "    'author': 'Author Name',\n",
    "    'sample_name':'Analyte Name',\n",
    "    'hcell_membrane':'H1: sample_1_name, H2: sample_2_name, H3: sample_3_name, H4: sample_4_name',\n",
    "    'solvent':'water',\n",
    "    'restock_solvent':'water'\n",
    "}"
   ]
  },
  {
   "cell_type": "code",
   "execution_count": null,
   "id": "6765147a",
   "metadata": {},
   "outputs": [],
   "source": [
    "aliquot_volume= 20 # uL\n",
    "sample_dilution_volume = 180 #uL\n",
    "time_schedule, delay_time = HC.get_time_schedule(66, [66], [6]) # in hrs\n",
    "\n",
    "h_cell, wellplates= HC.get_Hcell_labware(loaded_dict)\n",
    "h_cell_name , h_cell_dict = HC.get_hcell_name(h_cell)\n",
    "\n",
    "sample_schedule = HC.get_sample_schedule(h_cell_name, wellplates, time_schedule, delay_time)"
   ]
  },
  {
   "cell_type": "code",
   "execution_count": null,
   "id": "c316252b",
   "metadata": {},
   "outputs": [],
   "source": [
    "HC.H_cell_protocol(protocol, loaded_dict,\n",
    "                    sample_schedule, h_cell_dict, aliquot_volume=aliquot_volume,\n",
    "                    sample_dilution_volume=sample_dilution_volume,\n",
    "                    max_stock_vol= 17000, log_file_info= log_metadata, log_filename= 'name_of_experiment')"
   ]
  }
 ],
 "metadata": {
  "kernelspec": {
   "display_name": "dcsp",
   "language": "python",
   "name": "dcsp"
  },
  "language_info": {
   "codemirror_mode": {
    "name": "ipython",
    "version": 3
   },
   "file_extension": ".py",
   "mimetype": "text/x-python",
   "name": "python",
   "nbconvert_exporter": "python",
   "pygments_lexer": "ipython3",
   "version": "3.12.4"
  }
 },
 "nbformat": 4,
 "nbformat_minor": 5
}
