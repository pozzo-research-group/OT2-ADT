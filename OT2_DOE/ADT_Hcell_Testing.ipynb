{
 "cells": [
  {
   "cell_type": "markdown",
   "id": "7a4cc911",
   "metadata": {},
   "source": [
    "### Automated Sample Collection for Diffusion Testing\n",
    "\n",
    "Use this notebook to interact with the Opentrons OT2 using the Advanced Control option on the robotic platform."
   ]
  },
  {
   "cell_type": "code",
   "execution_count": null,
   "id": "82089b3e",
   "metadata": {},
   "outputs": [],
   "source": [
    "from Plan import CreateSamples\n",
    "from Prepare import OT2Commands as ALH\n",
    "from opentrons import simulate, execute, protocol_api\n",
    "from Prepare import OT2_Hcell_commands as HC\n",
    "\n",
    "import pandas as pd\n",
    "import time \n",
    "import numpy as np\n",
    "\n",
    "import string"
   ]
  },
  {
   "cell_type": "code",
   "execution_count": null,
   "id": "a49a3bcf",
   "metadata": {},
   "outputs": [],
   "source": [
    "#if needed\n",
    "#import importlib\n",
    "#importlib.reload(HC)"
   ]
  },
  {
   "cell_type": "markdown",
   "id": "235424a9",
   "metadata": {},
   "source": [
    "Paths may vary depending on file organization. All custom hardware must be available in the Custom Labware folder."
   ]
  },
  {
   "cell_type": "code",
   "execution_count": null,
   "id": "4893fdbc",
   "metadata": {},
   "outputs": [],
   "source": [
    "labware_dir_path = r\"./Custom Labware/\"\n",
    "custom_labware_dict = ALH.custom_labware_dict(labware_dir_path)"
   ]
  },
  {
   "cell_type": "code",
   "execution_count": null,
   "id": "c184b60a",
   "metadata": {},
   "outputs": [],
   "source": [
    "path = \"./H_cell_protocol.csv\"\n",
    "chem_path = r\"Chemical Database.csv\"\n",
    "plan = CreateSamples.get_experiment_plan(path, chem_path)"
   ]
  },
  {
   "cell_type": "markdown",
   "id": "acb41bbf",
   "metadata": {},
   "source": [
    "## Experiment\n",
    "\n",
    "The following cells are used to execute the workflow. To test the workflow without physically executing it on the OT2, you can replace the `execute.get_protocol_api()` function with `simulate.get_protocol_api()`. \n",
    "\n",
    "Note: warnings may appear while running the following cell. As long as the pipettes with tips have clearance over the tops of the dual H-cell assemblies (check before executing), this should not be a problem."
   ]
  },
  {
   "cell_type": "code",
   "execution_count": null,
   "id": "d8300388",
   "metadata": {},
   "outputs": [],
   "source": [
    "protocol = execute.get_protocol_api('2.8', extra_labware=custom_labware_dict)\n",
    "loaded_dict = ALH.loading_labware(protocol, plan, well_order='row')"
   ]
  },
  {
   "cell_type": "markdown",
   "id": "ebe0c392",
   "metadata": {},
   "source": [
    "The following cell allows you to record any metadata with the log files output from the experiment. H1, H2, H3, etc refer to H-cell 1, H-cell 2, H-cell 3, etc. If using all 8 spots, add H5, H6, H7, H8 to the list."
   ]
  },
  {
   "cell_type": "code",
   "execution_count": null,
   "id": "71088d02",
   "metadata": {},
   "outputs": [],
   "source": [
    "#if using 8 h-cells, add sample names for H5, H6, H7, H8\n",
    "\n",
    "log_metadata={\n",
    "    'author': 'Author Name',\n",
    "    'sample_name':'Analyte Name',\n",
    "    'hcell_membrane':'H1: sample_1_name, H2: sample_2_name, H3: sample_3_name, H4: sample_4_name',\n",
    "    'solvent':'water',\n",
    "    'restock_solvent':'water'\n",
    "}"
   ]
  },
  {
   "cell_type": "markdown",
   "id": "c36543dc",
   "metadata": {},
   "source": [
    "The following cell is where you define the experimental parameters.\n",
    "\n",
    "Aliquot volume: volume of extraction from each half-cell, to be mixed with the sample_dilution_volume in the sample well plate. Maximum sample volume is 300 uL for a standard flat-bottom 96-well plate.\n",
    "\n",
    "For the `HC.get_time_schedule(66, [66], [6])` function, the order is `(total experiment time, [length of variable delay A, B], [variable time delay between samples A, B])`. A 66 hour experiment, in which samples are collected every 6 hours for the entire experiment time would be written as `(66,[66],[6])`. Alternatively, the experimental time could be split into different sample frequencies. For example: an 84-hour experiment in which samples are collected every 3 hours for the first 12 hours, then every 6 hours for the next 12 hours, and every 12 hours until the end of the experiment would be `(96,[12,12,60],[3,6,12])`."
   ]
  },
  {
   "cell_type": "code",
   "execution_count": null,
   "id": "6765147a",
   "metadata": {},
   "outputs": [],
   "source": [
    "aliquot_volume= 20 # uL\n",
    "sample_dilution_volume = 180 #uL\n",
    "time_schedule, delay_time = HC.get_time_schedule(66, [66], [6]) # in hrs\n",
    "\n",
    "h_cell, wellplates= HC.get_Hcell_labware(loaded_dict)\n",
    "h_cell_name , h_cell_dict = HC.get_hcell_name(h_cell)\n",
    "\n",
    "sample_schedule = HC.get_sample_schedule(h_cell_name, wellplates, time_schedule, delay_time)"
   ]
  },
  {
   "cell_type": "markdown",
   "id": "cdccb6ce",
   "metadata": {},
   "source": [
    "Running the following cell will begin the actual workflow execution. The only variables that may change between runs are `max_stock_vol` and `log_filename=''`. \n",
    "\n",
    "`max_stock_vol` is the amount of restock solution (water) in the 20-mL scintillation vials, in uL. It is recommended to report a lower volume than is actually present (i.e., 17000 uL rather than 20000 uL) so that the robot will move to the secondary vial before the primary vial is completely emptied. Since the pipette tip aspirates at 5 mm from the bottom of the vial, this will prevent potentially pipetting air instead of solvent.\n",
    "\n",
    "`log_filename` is what the output log file will be saved as."
   ]
  },
  {
   "cell_type": "code",
   "execution_count": null,
   "id": "c316252b",
   "metadata": {},
   "outputs": [],
   "source": [
    "HC.H_cell_protocol(protocol, loaded_dict,\n",
    "                    sample_schedule, h_cell_dict, aliquot_volume=aliquot_volume,\n",
    "                    sample_dilution_volume=sample_dilution_volume,\n",
    "                    max_stock_vol= 17000, log_file_info= log_metadata, log_filename= 'name_of_experiment')"
   ]
  }
 ],
 "metadata": {
  "kernelspec": {
   "display_name": "dcsp",
   "language": "python",
   "name": "dcsp"
  },
  "language_info": {
   "codemirror_mode": {
    "name": "ipython",
    "version": 3
   },
   "file_extension": ".py",
   "mimetype": "text/x-python",
   "name": "python",
   "nbconvert_exporter": "python",
   "pygments_lexer": "ipython3",
   "version": "3.12.4"
  }
 },
 "nbformat": 4,
 "nbformat_minor": 5
}
