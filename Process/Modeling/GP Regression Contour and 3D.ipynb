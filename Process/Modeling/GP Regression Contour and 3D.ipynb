{
 "cells": [
  {
   "cell_type": "code",
   "execution_count": 7,
   "metadata": {},
   "outputs": [],
   "source": [
    "import numpy as np\n",
    "import pandas as pd\n",
    "import matplotlib.pyplot as plt\n",
    "import matplotlib.colors as colors\n",
    "import matplotlib.cm as cm\n",
    "from matplotlib.path import Path\n",
    "from mpl_toolkits.mplot3d import Axes3D\n",
    "from sklearn.gaussian_process import GaussianProcessRegressor\n",
    "from sklearn.gaussian_process.kernels import RBF, ConstantKernel as C\n",
    "from sklearn import preprocessing\n",
    "from itertools import product\n",
    "from scipy import interpolate, stats\n",
    "from scipy.spatial import ConvexHull, convex_hull_plot_2d\n",
    "from matplotlib import animation\n",
    "import math\n",
    "from matplotlib.patches import Polygon\n",
    "from random import randrange\n"
   ]
  },
  {
   "cell_type": "code",
   "execution_count": 8,
   "metadata": {},
   "outputs": [],
   "source": [
    "# Finish google drive integration: organize it so no longer need to pull test cases and transfer them constantly\n",
    "# better saving name system once merged to distnguish ?\n",
    "# make a quick little code for navigating back from a directory when doing test cases\n",
    "# Sort code structure and do test cases\n",
    "# work on outline for paper\n",
    "# Push commits for sonication station\n",
    "# QD updates "
   ]
  },
  {
   "cell_type": "code",
   "execution_count": 9,
   "metadata": {},
   "outputs": [],
   "source": [
    "def load_datadf(path):\n",
    "    df = pd.read_csv(path) \n",
    "    return df\n",
    "def apply_column_filter(df, column_name, min=None, max=None): \n",
    "    pass\n",
    "\n",
    "def standardize_training(data_list):\n",
    "    data_reshaped = data_list[:, np.newaxis]\n",
    "    scaler = preprocessing.RobustScaler().fit(data_reshaped)\n",
    "    data_scaled = scaler.transform(data_reshaped)\n",
    "    \n",
    "    return data_scaled, scaler\n",
    "\n",
    "def create_product_mesh(x1,x2):\n",
    "    x1x2 = np.array(list(product(x1, x2)))\n",
    "    x1_expanded = x1x2[:,0][:,0]\n",
    "    x2_expanded = x1x2[:,1][:,0]\n",
    "    return x1x2\n",
    "\n",
    "def create_hull(x1,x2, graph = False):# inputs must be (1,n)\n",
    "    hull_1 = x1[:,0]\n",
    "    hull_2 = x2[:,0]\n",
    "    hull_2d_points = np.asarray([hull_1, hull_2]).T\n",
    "    hull = ConvexHull(hull_2d_points)\n",
    "    \n",
    "    if graph == True:\n",
    "        for simplex in hull.simplices:\n",
    "            plt.plot(hull_2d_points[simplex, 0], hull_2d_points[simplex, 1], 'k-')\n",
    "    \n",
    "    return hull\n",
    "\n",
    "def point_in_hull(hull,x1,x2,graph=False):\n",
    "    hull_path = Path(hull_2d_points[hull.vertices])\n",
    "    if hull_path.contains_point((x1,x2)) == True:\n",
    "        if graph == True:\n",
    "            plt.plot(x1,x2,'o',c='r')\n",
    "        return True\n",
    "    else:\n",
    "        return False"
   ]
  },
  {
   "cell_type": "code",
   "execution_count": 10,
   "metadata": {},
   "outputs": [],
   "source": [
    "from random import randint\n",
    "\n",
    "def lcg_params(u, v):\n",
    "    # Generate parameters for an LCG that produces a maximal length sequence\n",
    "    # of numbers in the range (u..v)\n",
    "    diff = v - u\n",
    "    if diff < 4:\n",
    "         raise ValueError(\"Sorry, range must be at least 4.\")\n",
    "    m = 2 ** diff.bit_length()              # Modulus\n",
    "    a = (randint(1, (m >> 2) - 1) * 4) + 1  # Random odd integer, (a-1) divisible by 4\n",
    "    c = randint(3, m) | 1                   # Any odd integer will do\n",
    "    return (m, a, c, u, diff + 1)\n",
    "\n",
    "def generate_pseudorandom_sequence(rmin, rmax):\n",
    "    (m, a, c, offset, seqlength) = lcg_params(rmin, rmax)\n",
    "    x = 1         # Start with a seed value of 1\n",
    "    result = []   # Create empty list for output values\n",
    "    for i in range(seqlength):\n",
    "        # To generate numbers on the fly without storing them in an array,\n",
    "        # just run the following while loop to fetch a new number\n",
    "        while True:\n",
    "            x = (x * a + c) % m             # Iterate LCG until we get a value in the\n",
    "            if x < seqlength: break         # required range\n",
    "        result.append(x + offset)           # Add this value to the list\n",
    "    return result"
   ]
  },
  {
   "cell_type": "code",
   "execution_count": 11,
   "metadata": {
    "scrolled": true
   },
   "outputs": [],
   "source": [
    "path1 = r\"C:\\Users\\Edwin\\Downloads\\test_df\"\n",
    "data = load_datadf(path1)\n",
    "data = data[data['400.0nm'] < 0.2] \n",
    "\n",
    "indexes = data.index.to_list()\n",
    "random_assigned = np.random.randint(low=0, high=len(indexes)-1, size=(len(indexes),))#generate_pseudorandom_sequence(0, len(indexes)-1)\n",
    "data.index = random_assigned\n",
    "n = 50\n",
    "random_value = np.random.randint(low=0, high=len(indexes)-1, size=(n,))\n",
    "data = data.iloc[random_value]\n",
    "\n",
    "absorbance_400 = np.asarray(pd.to_numeric(data['400.0nm'] , errors='coerce')[1:-1])\n",
    "comp1 = np.asarray(pd.to_numeric(data['Component 1 wtf'] , errors='coerce')[1:-1]) # -1 removes the blank\n",
    "comp2 = np.asarray(pd.to_numeric(data['Component 2 wtf'] , errors='coerce')[1:-1]) \n",
    "comp3 = np.asarray(pd.to_numeric(data['Component 3 wtf'] , errors='coerce')[1:-1])\n",
    "comp4 = np.asarray(pd.to_numeric(data['Component 4 wtf'] , errors='coerce')[1:-1])\n",
    "comp5 = np.asarray(pd.to_numeric(data['Component 5 wtf'] , errors='coerce')[1:-1])"
   ]
  },
  {
   "cell_type": "code",
   "execution_count": 12,
   "metadata": {
    "scrolled": true
   },
   "outputs": [
    {
     "data": {
      "text/plain": [
       "<matplotlib.collections.PathCollection at 0x1c33bfc8390>"
      ]
     },
     "execution_count": 12,
     "metadata": {},
     "output_type": "execute_result"
    },
    {
     "data": {
      "image/png": "[encoded data removed]",
      "text/plain": [
       "<Figure size 432x288 with 1 Axes>"
      ]
     },
     "metadata": {
      "needs_background": "light"
     },
     "output_type": "display_data"
    }
   ],
   "source": [
    "# load and standardize data\n",
    "x1_training = comp4\n",
    "x2_training = comp3\n",
    "y_training = absorbance_400\n",
    "\n",
    "x1_training_scaled, x1_scaler = standardize_training(x1_training)\n",
    "x2_training_scaled, x2_scaler = standardize_training(x2_training)\n",
    "y_training_scaled, y_scaler = standardize_training(y_training)\n",
    "x1x2_training_scaled = np.asarray([x1_training_scaled[:,0], x2_training_scaled[:,0]]).T\n",
    "\n",
    "# set min/max\n",
    "\n",
    "scale = 1\n",
    "x1_sct_min = min(x1_training_scaled) + min(x1_training_scaled)*scale\n",
    "x1_sct_max = max(x1_training_scaled) + max(x1_training_scaled)*scale\n",
    "x2_sct_min = min(x2_training_scaled) + min(x2_training_scaled)*scale\n",
    "x2_sct_max = max(x2_training_scaled) + max(x2_training_scaled)*scale\n",
    "\n",
    "plt.scatter(x1_training, x2_training, c = y_training, cmap='jet')"
   ]
  },
  {
   "cell_type": "code",
   "execution_count": 13,
   "metadata": {
    "scrolled": true
   },
   "outputs": [
    {
     "data": {
      "text/plain": [
       "GaussianProcessRegressor(alpha=0.05, kernel=1**2 * RBF(length_scale=1),\n",
       "                         n_restarts_optimizer=10, normalize_y=True)"
      ]
     },
     "execution_count": 13,
     "metadata": {},
     "output_type": "execute_result"
    }
   ],
   "source": [
    "# Create the model and fit the data \n",
    "kernal = C(1, (1e-1, 1e3)) * RBF(1, (1e-3, 1e3)) \n",
    "gpmodel = GaussianProcessRegressor(kernel=kernal, n_restarts_optimizer=10,alpha=0.05, normalize_y=True) # random_state=42\n",
    "gpmodel.fit(x1x2_training_scaled, y_training_scaled)"
   ]
  },
  {
   "cell_type": "code",
   "execution_count": 14,
   "metadata": {
    "scrolled": false
   },
   "outputs": [],
   "source": [
    "# test data is inherently scaled given the inputs, if not then would need to rescale\n",
    "x1_test = np.linspace(x1_sct_min,x1_sct_max,100)\n",
    "x2_test = np.linspace(x2_sct_min,x2_sct_max,100)\n",
    "x1x2_test = create_product_mesh(x1_test, x2_test)"
   ]
  },
  {
   "cell_type": "code",
   "execution_count": 15,
   "metadata": {},
   "outputs": [
    {
     "data": {
      "text/plain": [
       "<matplotlib.collections.PathCollection at 0x1c33c03d9b0>"
      ]
     },
     "execution_count": 15,
     "metadata": {},
     "output_type": "execute_result"
    },
    {
     "data": {
      "image/png": "[encoded data removed]",
      "text/plain": [
       "<Figure size 432x288 with 1 Axes>"
      ]
     },
     "metadata": {
      "needs_background": "light"
     },
     "output_type": "display_data"
    }
   ],
   "source": [
    "# verifying test arrays and resulting mesh are in range of test data\n",
    "plt.scatter(x1_training_scaled, x2_training_scaled)\n",
    "plt.scatter(x1x2_test[:,0][:,0], x1x2_test[:,1][:,0], alpha = 0.03)"
   ]
  },
  {
   "cell_type": "code",
   "execution_count": 16,
   "metadata": {},
   "outputs": [],
   "source": [
    "# Run the test data through and convert results back from standardized to original units\n",
    "x1_test_ex = x1x2_test[:,0][:,0]\n",
    "x2_test_ex = x1x2_test[:,1][:,0]\n",
    "x1x2_test_reform = np.asarray([x1_test_ex, x2_test_ex]).T\n",
    "y_pred, MSE = gpmodel.predict(x1x2_test_reform, return_std=True) \n",
    "\n",
    "x1_test_org = x1_scaler.inverse_transform(x1x2_test[:,0]) \n",
    "x2_test_org = x2_scaler.inverse_transform(x1x2_test[:,1])\n",
    "y_pred_org = y_scaler.inverse_transform(y_pred)"
   ]
  },
  {
   "cell_type": "code",
   "execution_count": 17,
   "metadata": {
    "scrolled": false
   },
   "outputs": [
    {
     "name": "stdout",
     "output_type": "stream",
     "text": [
      "(100, 100) (100, 100) (100, 100) (10000, 1)\n"
     ]
    }
   ],
   "source": [
    "# Select data of interst and create meshes\n",
    "x1 = x1_training\n",
    "x2 = x2_training\n",
    "y = y_training\n",
    "\n",
    "dim_x1_test = x1_test.shape[0] # diff\n",
    "dim_x2_test = x2_test.shape[0]\n",
    "\n",
    "x1_mesh_prep = x1_test_org\n",
    "x2_mesh_prep = x2_test_org\n",
    "y_mesh_prep = y_pred_org\n",
    "\n",
    "X1 = x1_mesh_prep.reshape(dim_x2_test, dim_x1_test)\n",
    "X2 = x2_mesh_prep.reshape(dim_x2_test, dim_x1_test)\n",
    "Y = np.reshape(y_mesh_prep,(dim_x2_test, dim_x1_test))\n",
    "print(X1.shape, X2.shape, Y.shape, y_mesh_prep.shape)"
   ]
  },
  {
   "cell_type": "code",
   "execution_count": 19,
   "metadata": {},
   "outputs": [
    {
     "name": "stdout",
     "output_type": "stream",
     "text": [
      "[[9.13636364e-01 7.05128205e-04]\n",
      " [7.40909091e-01 5.53846154e-04]\n",
      " [7.40909091e-01 1.31025641e-03]\n",
      " [8.92045455e-01 8.56410256e-04]\n",
      " [6.32954545e-01 1.15897436e-03]\n",
      " [5.25000000e-01 4.02564103e-04]\n",
      " [5.89772727e-01 1.00769231e-03]\n",
      " [9.35227273e-01 2.06666667e-03]\n",
      " [6.97727273e-01 7.05128205e-04]\n",
      " [9.35227273e-01 2.51282051e-04]\n",
      " [7.62500000e-01 5.53846154e-04]\n",
      " [8.92045455e-01 8.56410256e-04]\n",
      " [9.56818182e-01 8.56410256e-04]\n",
      " [8.48863636e-01 1.15897436e-03]\n",
      " [7.19318182e-01 4.02564103e-04]\n",
      " [6.97727273e-01 5.53846154e-04]\n",
      " [9.56818182e-01 1.46153846e-03]\n",
      " [8.48863636e-01 1.31025641e-03]\n",
      " [7.19318182e-01 5.53846154e-04]\n",
      " [8.05681818e-01 8.56410256e-04]\n",
      " [5.03409091e-01 2.51282051e-04]\n",
      " [8.05681818e-01 1.00769231e-03]\n",
      " [5.68181818e-01 8.56410256e-04]\n",
      " [6.32954545e-01 4.02564103e-04]\n",
      " [7.62500000e-01 7.05128205e-04]\n",
      " [8.92045455e-01 1.46153846e-03]\n",
      " [7.19318182e-01 1.31025641e-03]\n",
      " [9.56818182e-01 1.91538462e-03]\n",
      " [8.92045455e-01 1.76410256e-03]\n",
      " [6.11363636e-01 7.05128205e-04]\n",
      " [7.84090909e-01 2.51282051e-04]\n",
      " [7.19318182e-01 5.53846154e-04]\n",
      " [9.13636364e-01 1.46153846e-03]\n",
      " [8.05681818e-01 1.61282051e-03]\n",
      " [9.35227273e-01 7.05128205e-04]\n",
      " [6.76136364e-01 7.05128205e-04]\n",
      " [5.25000000e-01 4.02564103e-04]\n",
      " [9.56818182e-01 1.31025641e-03]\n",
      " [6.76136364e-01 5.53846154e-04]\n",
      " [6.54545455e-01 2.51282051e-04]\n",
      " [8.05681818e-01 1.00769231e-03]\n",
      " [8.05681818e-01 2.51282051e-04]\n",
      " [6.54545455e-01 5.53846154e-04]\n",
      " [5.46590909e-01 2.51282051e-04]\n",
      " [5.68181818e-01 5.53846154e-04]\n",
      " [7.62500000e-01 1.00769231e-03]\n",
      " [8.70454545e-01 1.46153846e-03]\n",
      " [8.05681818e-01 1.31025641e-03]]\n"
     ]
    }
   ],
   "source": [
    "hull_1 = x1_training\n",
    "hull_2 = x2_training\n",
    "hull_2d_points = np.asarray([hull_1, hull_2]).T\n",
    "hull = ConvexHull(hull_2d_points)\n",
    "\n",
    "hull_indices = hull.vertices\n",
    "pts = np.asarray([x1_training[:, np.newaxis],x2_training[:, np.newaxis]]).T[0]\n",
    "hull_pts = pts[hull_indices, :]\n",
    "p = Polygon(hull_pts , facecolor = 'k')\n",
    "# figure out a better way to cut contour plots and begin classification protocol\n",
    "print(hull_2d_points)"
   ]
  },
  {
   "cell_type": "code",
   "execution_count": null,
   "metadata": {},
   "outputs": [],
   "source": []
  },
  {
   "cell_type": "code",
   "execution_count": 129,
   "metadata": {
    "scrolled": false
   },
   "outputs": [
    {
     "data": {
      "image/png": "[encoded data removed]",
      "text/plain": [
       "<Figure size 432x288 with 1 Axes>"
      ]
     },
     "metadata": {
      "needs_background": "light"
     },
     "output_type": "display_data"
    }
   ],
   "source": [
    "# The following are tied together I believe due to flipmasking\n",
    "\n",
    "hull = create_hull(x1_training[:, np.newaxis],x2_training[:, np.newaxis], graph=False)    \n",
    "hull_indices = hull.vertices\n",
    "hull_pts = pts[hull_indices, :]\n",
    "\n",
    "d = hull_pts\n",
    "d = [(di*1) for di in d]\n",
    "p = Polygon(d, facecolor = 'k')\n",
    "ax.add_patch(p)\n",
    "\n",
    "# Scatter plots for contour plot\n",
    "fig, ax = plt.subplots(1)\n",
    "ax.set_xlim(0.4,1)\n",
    "ax.set_ylim(0,0.0025)\n",
    "# ax.scatter(x1_training,x2_training)\n",
    "ax.set_xlabel('Ethanol wtf')\n",
    "ax.set_ylabel('PFH wtf')\n",
    "cs = ax.contourf(X1,X2,Y)\n",
    "\n",
    "for coll in cs.collections:\n",
    "    coll.set_clip_path(p)\n",
    "\n"
   ]
  },
  {
   "cell_type": "code",
   "execution_count": 130,
   "metadata": {},
   "outputs": [],
   "source": [
    "%matplotlib inline"
   ]
  },
  {
   "cell_type": "code",
   "execution_count": 132,
   "metadata": {},
   "outputs": [
    {
     "data": {
      "text/plain": [
       "Text(0, 0.5, 'PFH wtf')"
      ]
     },
     "execution_count": 132,
     "metadata": {},
     "output_type": "execute_result"
    },
    {
     "data": {
      "image/png": "[encoded data removed]",
      "text/plain": [
       "<Figure size 432x288 with 2 Axes>"
      ]
     },
     "metadata": {
      "needs_background": "light"
     },
     "output_type": "display_data"
    }
   ],
   "source": [
    "# Scatter plots for contour plot\n",
    "fig, ax = plt.subplots(1)\n",
    "\n",
    "vmin = min(y) \n",
    "vmax = max(y)\n",
    "\n",
    "norm =colors.Normalize(vmin=vmin,vmax=vmax) \n",
    "cs = ax.contourf(X1,X2,Y, cmap='jet', norm=norm)\n",
    "cbar = fig.colorbar(cs)\n",
    "\n",
    "cbar.ax.set_ylabel('AU at 400nm')\n",
    "ax.set_xlabel('Ethanol wtf')\n",
    "ax.set_ylabel('PFH wtf')\n",
    "\n",
    "# for coll in cs.collections:\n",
    "#     coll.set_clip_path(p)\n",
    "\n",
    "# odd patch behavior, it is not relative, and will not show when doing random test"
   ]
  },
  {
   "cell_type": "code",
   "execution_count": null,
   "metadata": {},
   "outputs": [],
   "source": [
    "p.facecolor"
   ]
  },
  {
   "cell_type": "code",
   "execution_count": null,
   "metadata": {},
   "outputs": [],
   "source": [
    "print(d)"
   ]
  },
  {
   "cell_type": "code",
   "execution_count": null,
   "metadata": {
    "scrolled": false
   },
   "outputs": [],
   "source": [
    "# Scatter plots for contour plot\n",
    "fig, ax = plt.subplots(1)\n",
    "\n",
    "vmin = min(y) \n",
    "vmax = max(y)\n",
    "norm =colors.Normalize(vmin=vmin,vmax=vmax) \n",
    "\n",
    "mappable = ax.pcolormesh(X1,X2,Y, norm=norm, shading = 'auto',cmap='jet')\n",
    "cbar = fig.colorbar(mappable)\n",
    "cbar.ax.set_ylabel('AU at 400nm')\n",
    "ax.scatter(x1,x2,c=y, norm=norm, edgecolors='k',cmap='jet')\n",
    "ax.set_xlabel('Ethanol wtf')\n",
    "ax.set_ylabel('PFH wtf')\n",
    "ax.set_xlim(0.4, 1)\n",
    "\n",
    "# ax.set_ylim(0, 0.0025)\n",
    "\n",
    "\n"
   ]
  },
  {
   "cell_type": "code",
   "execution_count": null,
   "metadata": {
    "scrolled": true
   },
   "outputs": [],
   "source": [
    "# Scatter plots for contour plot\n",
    "fig, ax = plt.subplots(1)\n",
    "\n",
    "\n",
    "\n",
    "vmin = min(y) \n",
    "vmax = max(y)\n",
    "norm =colors.Normalize(vmin=vmin,vmax=vmax) \n",
    "# mappable = ax.pcolormesh(X1,X2,Y, norm=norm, shading = 'auto',cmap='jet')\n",
    "cs = ax.contourf(X1,X2,Y, cmap='jet', norm=norm)\n",
    "cbar = fig.colorbar(mappable)\n",
    "cbar.ax.set_ylabel('AU at 400nm')\n",
    "\n",
    "ax.set_xlabel('Ethanol wtf')\n",
    "ax.set_ylabel('PFH wtf')\n",
    "# ax.set_xlim([0.5,1])\n",
    "# ax.set_ylim(0, 0.0025)\n",
    "for coll in cs.collections:\n",
    "    coll.set_clip_path(p)\n",
    "    \n",
    "    \n",
    "# ax.scatter(x1,x2,c=y, norm=norm, edgecolors='k',cmap='jet')"
   ]
  },
  {
   "cell_type": "code",
   "execution_count": null,
   "metadata": {},
   "outputs": [],
   "source": [
    "fig, ax = plt.subplots(1)\n",
    "ax.tricontour(x1, x2, levels=14, linewidths=0.5, colors='k')"
   ]
  },
  {
   "cell_type": "code",
   "execution_count": null,
   "metadata": {},
   "outputs": [],
   "source": [
    "# Scatter plots for contour plot\n",
    "fig, ax = plt.subplots(1)\n",
    "\n",
    "vmin = min(y) \n",
    "vmax = max(y)\n",
    "norm =colors.Normalize(vmin=vmin,vmax=vmax) \n",
    "\n",
    "mappable = ax.pcolormesh(X1,X2,Y, norm=norm, shading = 'auto',cmap='jet')\n",
    "cbar = fig.colorbar(mappable)\n",
    "cbar.ax.set_ylabel('AU at 400nm')\n",
    "ax.scatter(x1,x2,c=y, norm=norm, edgecolors='k',cmap='jet')\n",
    "ax.set_xlabel('Ethanol wtf')\n",
    "ax.set_ylabel('PFH wtf')\n",
    "# ax.set_xlim(0.4, 1)\n",
    "# ax.set_ylim(0, 0.0025)\n",
    "cs = ax.contourf(X1,X2,Y, cmap='jet', norm=norm)\n",
    "ax.scatter(x1,x2,c=y, norm=norm,cmap='jet')\n",
    "\n"
   ]
  },
  {
   "cell_type": "code",
   "execution_count": null,
   "metadata": {},
   "outputs": [],
   "source": []
  },
  {
   "cell_type": "code",
   "execution_count": null,
   "metadata": {
    "scrolled": true
   },
   "outputs": [],
   "source": [
    "\n",
    "# populate outline with expl. of what you are doing here: What is robust scalar, fundamentals of model and limitations. \n",
    "# Contour plot, with convex hull\n",
    "\n",
    "fig = plt.figure()\n",
    "ax = fig.add_subplot(111, projection='3d')\n",
    "ax.scatter(x1,x2,y, c=y, norm=norm, cmap='jet')\n",
    "ax.plot_surface(X=X1, Y=X2, Z=Y, norm=norm, rstride=1, alpha =0.1, cstride=1, cmap='jet', linewidth=0, antialiased=False)\n",
    "\n",
    "cbaxes = fig.add_axes([0.7, 0.85, 0.2, 0.03]) \n",
    "cb = fig.colorbar(cm.ScalarMappable(norm=norm,cmap='jet'), shrink=0.3, aspect=5, cax = cbaxes, orientation='horizontal')\n",
    "cb.ax.set_title('AU at 400nm', rotation=0)\n",
    "\n",
    "ax.set_xlabel('Ethanol (wtf)')\n",
    "ax.set_ylabel('Perfluorocarbon (wtf)')\n",
    "ax.set_zlabel('AU at 400nm')\n",
    "# ax.set_zlim(0.0,0.1)\n",
    "\n",
    "# ax.contourf(X1,X2,Y, zdir='z',offset=0.04, cmap='jet', norm=norm)\n",
    "# for coll in cs.collections:\n",
    "#     coll.set_clip_path(p)"
   ]
  },
  {
   "cell_type": "code",
   "execution_count": null,
   "metadata": {
    "scrolled": true
   },
   "outputs": [],
   "source": [
    "xI = x1_mesh_prep[:,0].tolist()\n",
    "yI = x2_mesh_prep[:,0].tolist()\n",
    "zI = y_mesh_prep[:,0].tolist()\n",
    "\n",
    "fig = plt.figure()\n",
    "ax = fig.gca(projection='3d')\n",
    "ax.plot_trisurf(xI,yI,zI)\n",
    "ax.scatter(x1,x2,y, c=y, norm=norm, cmap='jet')\n"
   ]
  },
  {
   "cell_type": "code",
   "execution_count": null,
   "metadata": {},
   "outputs": [],
   "source": [
    "from mpl_toolkits.mplot3d import Axes3D\n",
    "import matplotlib.pyplot as plt\n",
    "import numpy as np\n",
    "\n",
    "\n",
    "n_radii = 8\n",
    "n_angles = 36\n",
    "\n",
    "# Make radii and angles spaces (radius r=0 omitted to eliminate duplication).\n",
    "radii = np.linspace(0.125, 1.0, n_radii)\n",
    "angles = np.linspace(0, 2*np.pi, n_angles, endpoint=False)\n",
    "\n",
    "# Repeat all angles for each radius.\n",
    "angles = np.repeat(angles[..., np.newaxis], n_radii, axis=1)\n",
    "\n",
    "# Convert polar (radii, angles) coords to cartesian (x, y) coords.\n",
    "# (0, 0) is manually added at this stage,  so there will be no duplicate\n",
    "# points in the (x, y) plane.\n",
    "x = np.append(0, (radii*np.cos(angles)).flatten())\n",
    "y = np.append(0, (radii*np.sin(angles)).flatten())\n",
    "\n",
    "# Compute z to make the pringle surface.\n",
    "z = np.sin(-x*y)\n",
    "\n",
    "fig = plt.figure()\n",
    "ax = fig.gca(projection='3d')\n",
    "\n",
    "ax.plot_trisurf(x, y, z, linewidth=0.2, antialiased=True)\n",
    "\n",
    "plt.show()\n",
    "x.shape"
   ]
  },
  {
   "cell_type": "code",
   "execution_count": null,
   "metadata": {},
   "outputs": [],
   "source": [
    "y_mesh_prep.shape"
   ]
  },
  {
   "cell_type": "code",
   "execution_count": null,
   "metadata": {
    "scrolled": true
   },
   "outputs": [],
   "source": [
    "# plot with MSE\n",
    "# populate outline with expl. of what you are doing here: What is robust scalar, fundamentals of model and limitations. \n",
    "# Contour plot, with convex hull\n",
    "\n",
    "fig = plt.figure()\n",
    "ax = fig.add_subplot(111, projection='3d')\n",
    "ax.scatter(x1,x2,y, c=y, norm=norm, cmap='jet')\n",
    "surf = ax.plot_surface(X=X1, Y=X2, Z=Y, norm=norm, rstride=1, alpha =0.1, cstride=1, cmap='jet', linewidth=0, antialiased=False)\n",
    "\n",
    "cbaxes = fig.add_axes([0.7, 0.85, 0.2, 0.03]) \n",
    "cb = fig.colorbar(cm.ScalarMappable(norm=norm,cmap='jet'), shrink=0.3, aspect=5, cax = cbaxes, orientation='horizontal')\n",
    "cb.ax.set_title('AU at 400nm', rotation=0)\n",
    "\n",
    "ax.set_xlabel('Ethanol (wtf)')\n",
    "ax.set_ylabel('Perfluorocarbon (wtf)')\n",
    "ax.set_zlabel('AU at 400nm')\n",
    "# ax.set_zlim(0.0,0.1)\n",
    "\n",
    "\n",
    "for coll in surf.collections:\n",
    "    coll.set_clip_path(p)"
   ]
  },
  {
   "cell_type": "code",
   "execution_count": null,
   "metadata": {},
   "outputs": [],
   "source": [
    "hull = create_hull(x1_training[:, np.newaxis],x2_training[:, np.newaxis], graph=True)    \n",
    "\n",
    "hull_indices = hull.vertices\n",
    "hull_pts = pts[hull_indices, :]\n",
    "\n",
    "\n",
    "y = hull_pts\n",
    "\n",
    "p = Polygon(y, facecolor = 'k')\n",
    "\n",
    "fig,ax = plt.subplots()\n",
    "\n",
    "ax.add_patch(p)\n",
    "ax.set_xlim(0.4, 1)\n",
    "ax.set_ylim(0, 0.0025)\n",
    "plt.show()\n",
    "\n",
    "# Scatter plots for contour plot\n",
    "fig, ax = plt.subplots(1)\n",
    "\n",
    "cs = ax.contourf(X1,X2,Y)\n",
    "ax.scatter(x1_training,x2_training)\n",
    "ax.set_xlabel('Ethanol wtf')\n",
    "ax.set_ylabel('PFH wtf')\n",
    "\n",
    "ax.set_xlim(0.4, 1)\n",
    "ax.set_ylim(0, 0.0025)\n",
    "for coll in cs.collections:\n",
    "    coll.set_clip_path(p)"
   ]
  },
  {
   "cell_type": "code",
   "execution_count": null,
   "metadata": {},
   "outputs": [],
   "source": [
    "\n",
    "import matplotlib.pyplot as plt\n",
    "from matplotlib.path import Path\n",
    "from matplotlib.patches import PathPatch\n",
    "from matplotlib.mlab import griddata\n",
    "import numpy as np\n",
    "import pandas as pd\n",
    "\n",
    "df = pd.DataFrame({'x':[0, 0, 1, 1, 3, 3, 3, 4, 4, 4], \n",
    "                   'y':[0, 1, 0, 1, 0.2, 0.7, 1.4, 0.2, 1.4, 2], \n",
    "                   'z':[50, 40, 40, 30, 30, 30, 20, 20, 20, 10]})\n",
    "\n",
    "x = df['x']\n",
    "y = df['y']\n",
    "z = df['z']\n",
    "\n",
    "xi = np.linspace(x.min(), x.max(), 100)\n",
    "yi = np.linspace(y.min(), y.max(), 100)\n",
    "z_grid = griddata(x, y, z, xi, yi, interp='linear')\n",
    "\n",
    "clipindex = [ [0,2,4,7,8,9,6,3,1,0],\n",
    "              [0,2,4,7,5,8,9,6,3,1,0],\n",
    "              [0,2,4,7,8,9,6,5,3,1,0]]\n",
    "\n",
    "fig, axes = plt.subplots(ncols=3, sharey=True)\n",
    "for i, ax in enumerate(axes):\n",
    "    cont = ax.contourf(xi, yi, z_grid, 15)\n",
    "    ax.scatter(x, y, color='k') # The original data points\n",
    "    ax.plot(x[clipindex[i]], y[clipindex[i]], color=\"crimson\")\n",
    "\n",
    "    clippath = Path(np.c_[x[clipindex[i]], y[clipindex[i]]])\n",
    "    patch = PathPatch(clippath, facecolor='none')\n",
    "    ax.add_patch(patch)\n",
    "    for c in cont.collections:\n",
    "        c.set_clip_path(patch)\n",
    "\n",
    "plt.show()"
   ]
  },
  {
   "cell_type": "code",
   "execution_count": null,
   "metadata": {
    "scrolled": true
   },
   "outputs": [],
   "source": [
    "import numpy as np\n",
    "import matplotlib.pyplot as plt\n",
    "from scipy.interpolate import griddata\n",
    "import matplotlib.patches as patches\n",
    "\n",
    "def func(x, y):\n",
    "  return x*(1-x)*np.cos(4*np.pi*x) * np.sin(4*np.pi*y**2)**2\n",
    "\n",
    "grid_x, grid_y = np.mgrid[0:1:100j, 0:1:200j]\n",
    "\n",
    "points = np.random.rand(1000, 2)\n",
    "values = func(points[:,0], points[:,1])\n",
    "\n",
    "grid_z0 = griddata(points, values, (grid_x, grid_y), method='nearest')\n",
    "\n",
    "fig, ax = plt.subplots()\n",
    "cs = ax.contourf(grid_x,grid_y,grid_z0)\n",
    "\n",
    "circ = patches.Circle((0.6, 0.4), 0.3, transform=ax.transData)\n",
    "\n",
    "for coll in cs.collections:\n",
    "    coll.set_clip_path(p)\n",
    "\n",
    "plt.show()"
   ]
  },
  {
   "cell_type": "code",
   "execution_count": null,
   "metadata": {},
   "outputs": [],
   "source": [
    "import matplotlib.pyplot as plt\n",
    "from mpl_toolkits.mplot3d import Axes3D\n",
    "import numpy as np\n",
    "\n",
    "\n",
    "Z = np.array([\n",
    "    [ 1, 1, 1, 1, 1, ],\n",
    "    [ 1, 1, 1, 1, 1, ],\n",
    "    [ 1, 1, 1, 1, 1, ],\n",
    "    [ 1, 1, 1, 1, 1, ],\n",
    "    [ 1, 1, 1, 1, 1, ],\n",
    "    ])\n",
    "\n",
    "x, y = Z.shape\n",
    "\n",
    "xs = np.arange(x)\n",
    "ys = np.arange(y)\n",
    "X, Y = np.meshgrid(xs, ys)\n",
    "\n",
    "\n",
    "R = np.where(X>=Y, Z, np.nan)\n",
    "\n",
    "fig = plt.figure()\n",
    "ax = fig.add_subplot(111, projection='3d')\n",
    "ax.plot_surface(X, Y, Z, rstride=1, linewidth=0)\n",
    "\n",
    "fig.show()\n",
    "R"
   ]
  },
  {
   "cell_type": "code",
   "execution_count": null,
   "metadata": {},
   "outputs": [],
   "source": [
    "hull = create_hull(x1_training_scaled,x2_training_scaled, graph=True)    \n",
    "\n",
    "# x1_hull = []\n",
    "# x2_hull = []\n",
    "# for x1,x2 in zip(x1_test_ex, x2_test_ex):\n",
    "#     if point_in_hull(hull, x1,x2) == True:\n",
    "#         x1_hull.append(x1)\n",
    "#         x2_hull.append(x2)\n",
    "#         plt.plot(x1,x2,'o',c='r')\n",
    "        \n",
    "# x1_hull = np.asarray(x1_hull)\n",
    "# x2_hull = np.asarray(x2_hull)"
   ]
  },
  {
   "cell_type": "code",
   "execution_count": null,
   "metadata": {},
   "outputs": [],
   "source": []
  },
  {
   "cell_type": "code",
   "execution_count": null,
   "metadata": {
    "scrolled": true
   },
   "outputs": [],
   "source": [
    "x1 = x1_training[:, np.newaxis]\n",
    "x2 = x2_training[:, np.newaxis]\n",
    "\n",
    "pts = np.asarray([x1,x2]).T[0]\n",
    "ch = ConvexHull(pts)\n",
    "hull_indices = ch.vertices\n",
    "hull_pts = pts[hull_indices, :]\n",
    "\n",
    "plt.plot(pts[:, 0], pts[:, 1], 'ko', markersize=10)\n",
    "plt.plot(hull_pts[:, 0], hull_pts[:, 1], 'ro', alpha=.25, markersize=20)\n",
    "\n",
    "plt.show()\n",
    "\n",
    "print(hull_pts[0:5])\n",
    "print(ch.simplices)"
   ]
  },
  {
   "cell_type": "code",
   "execution_count": null,
   "metadata": {},
   "outputs": [],
   "source": [
    "hull_pts"
   ]
  },
  {
   "cell_type": "code",
   "execution_count": null,
   "metadata": {
    "scrolled": true
   },
   "outputs": [],
   "source": [
    "import matplotlib.pyplot as plt\n",
    "from matplotlib.path import Path\n",
    "import matplotlib.patches as patches\n",
    "\n",
    "verts = hull_pts[0:8]\n",
    "\n",
    "codes = [\n",
    "    Path.MOVETO,\n",
    "    Path.LINETO, # add more to more complex\n",
    "    Path.LINETO,\n",
    "    Path.LINETO,\n",
    "    Path.LINETO,\n",
    "    Path.CLOSEPOLY,\n",
    "]\n",
    "\n",
    "path = Path(verts, codes)\n",
    "\n",
    "fig, ax = plt.subplots()\n",
    "patch = patches.PathPatch(path, facecolor='orange', lw=2)\n",
    "ax.add_patch(patch)\n",
    "# ax.set_xlim(-2, 2)\n",
    "ax.set_ylim(0, 0.003)\n",
    "plt.show()\n",
    "print(patch)"
   ]
  },
  {
   "cell_type": "code",
   "execution_count": null,
   "metadata": {},
   "outputs": [],
   "source": [
    "verts = hull_pts[0:6]\n",
    "\n",
    "codes = [\n",
    "    Path.MOVETO,\n",
    "    Path.CURVE3,\n",
    "    Path.CURVE3,\n",
    "    Path.CURVE3,\n",
    "    Path.CURVE3,\n",
    "    Path.CLOSEPOLY\n",
    "]\n",
    "\n",
    "path = Path(verts, codes)\n",
    "\n",
    "fig, ax = plt.subplots()\n",
    "patch = patches.PathPatch(path, facecolor='none', lw=2)\n",
    "ax.add_patch(patch)\n",
    "\n",
    "xs, ys = zip(*verts)\n",
    "# ax.plot(xs, ys, 'x--', lw=2, color='black', ms=10)\n",
    "ax.set_ylim(0,0.0025)\n",
    "ax.set_xlim(0.4,1)\n",
    "plt.scatter(x1_training, x2_training)\n",
    "plt.show()"
   ]
  },
  {
   "cell_type": "code",
   "execution_count": null,
   "metadata": {},
   "outputs": [],
   "source": [
    "import numpy as np\n",
    "from matplotlib import pyplot as plt\n",
    "from matplotlib import animation\n",
    "from mpl_toolkits.mplot3d import Axes3D\n",
    "import os\n",
    "import subprocess"
   ]
  },
  {
   "cell_type": "code",
   "execution_count": null,
   "metadata": {
    "scrolled": true
   },
   "outputs": [],
   "source": [
    "X = np.arange(-5, 5, 0.25)\n",
    "Y = np.arange(-5, 5, 0.25)\n",
    "X, Y = np.meshgrid(X, Y)\n",
    "R = np.sqrt(X**2 + Y**2)\n",
    "Z = np.sin(R)\n",
    "\n",
    "# Create a figure and a 3D Axes\n",
    "fig = plt.figure()\n",
    "ax = fig.add_subplot(111, projection='3d')\n",
    "\n",
    "def init():\n",
    "    # Plot the surface.\n",
    "    ax.plot_surface(X, Y, Z, cmap=cm.coolwarm,\n",
    "                       linewidth=0, antialiased=False)\n",
    "    return fig,\n",
    "\n",
    "def animate(i):\n",
    "    # azimuth angle : 0 deg to 360 deg\n",
    "    ax.view_init(elev=10, azim=i)\n",
    "    return fig,\n",
    "\n",
    "# Animate\n",
    "ani = animation.FuncAnimation(fig, animate, init_func=init,\n",
    "                               frames=90, interval=50, blit=True)"
   ]
  },
  {
   "cell_type": "code",
   "execution_count": null,
   "metadata": {},
   "outputs": [],
   "source": [
    "os.getcwd()\n",
    "fn = 'rotate_azimuth_angle_3d_surf_slow'\n",
    "ani.save(fn+'.gif',writer='imagemagick',fps=1000/50)"
   ]
  },
  {
   "cell_type": "code",
   "execution_count": null,
   "metadata": {},
   "outputs": [],
   "source": [
    "cmd = 'magick convert %s.gif -fuzz 5%% -layers Optimize %s_r.gif'%(fn,fn)# #this saves it/stitches it together\n",
    "# plt.rcParams['animation.html'] = 'html5'\n",
    "# ani"
   ]
  }
 ],
 "metadata": {
  "kernelspec": {
   "display_name": "Python 3",
   "language": "python",
   "name": "python3"
  },
  "language_info": {
   "codemirror_mode": {
    "name": "ipython",
    "version": 3
   },
   "file_extension": ".py",
   "mimetype": "text/x-python",
   "name": "python",
   "nbconvert_exporter": "python",
   "pygments_lexer": "ipython3",
   "version": "3.6.8"
  }
 },
 "nbformat": 4,
 "nbformat_minor": 5
}
