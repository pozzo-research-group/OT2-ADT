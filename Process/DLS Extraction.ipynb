{
 "cells": [
  {
   "cell_type": "code",
   "execution_count": 6,
   "metadata": {},
   "outputs": [],
   "source": [
    "import numpy as np\n",
    "import pandas as pd\n",
    "import matplotlib.pyplot as plt\n",
    "import csv"
   ]
  },
  {
   "cell_type": "code",
   "execution_count": 3,
   "metadata": {
    "collapsed": true
   },
   "outputs": [
    {
     "ename": "UnicodeDecodeError",
     "evalue": "'utf-8' codec can't decode byte 0xb5 in position 4299: invalid start byte",
     "output_type": "error",
     "traceback": [
      "\u001b[1;31m---------------------------------------------------------------------------\u001b[0m",
      "\u001b[1;31mUnicodeDecodeError\u001b[0m                        Traceback (most recent call last)",
      "\u001b[1;32m<ipython-input-3-48e39e7e1a81>\u001b[0m in \u001b[0;36m<module>\u001b[1;34m\u001b[0m\n\u001b[1;32m----> 1\u001b[1;33m \u001b[0mdf1\u001b[0m \u001b[1;33m=\u001b[0m  \u001b[0mpd\u001b[0m\u001b[1;33m.\u001b[0m\u001b[0mread_csv\u001b[0m\u001b[1;33m(\u001b[0m\u001b[1;34mr\"C:\\Users\\Edwin\\Documents\\Malvern Instruments\\Zetasizer\\Export Data\\10_06_20.txt\"\u001b[0m\u001b[1;33m)\u001b[0m\u001b[1;33m\u001b[0m\u001b[1;33m\u001b[0m\u001b[0m\n\u001b[0m",
      "\u001b[1;32m~\\Anaconda3\\lib\\site-packages\\pandas\\io\\parsers.py\u001b[0m in \u001b[0;36mparser_f\u001b[1;34m(filepath_or_buffer, sep, delimiter, header, names, index_col, usecols, squeeze, prefix, mangle_dupe_cols, dtype, engine, converters, true_values, false_values, skipinitialspace, skiprows, skipfooter, nrows, na_values, keep_default_na, na_filter, verbose, skip_blank_lines, parse_dates, infer_datetime_format, keep_date_col, date_parser, dayfirst, iterator, chunksize, compression, thousands, decimal, lineterminator, quotechar, quoting, doublequote, escapechar, comment, encoding, dialect, tupleize_cols, error_bad_lines, warn_bad_lines, delim_whitespace, low_memory, memory_map, float_precision)\u001b[0m\n\u001b[0;32m    700\u001b[0m                     skip_blank_lines=skip_blank_lines)\n\u001b[0;32m    701\u001b[0m \u001b[1;33m\u001b[0m\u001b[0m\n\u001b[1;32m--> 702\u001b[1;33m         \u001b[1;32mreturn\u001b[0m \u001b[0m_read\u001b[0m\u001b[1;33m(\u001b[0m\u001b[0mfilepath_or_buffer\u001b[0m\u001b[1;33m,\u001b[0m \u001b[0mkwds\u001b[0m\u001b[1;33m)\u001b[0m\u001b[1;33m\u001b[0m\u001b[1;33m\u001b[0m\u001b[0m\n\u001b[0m\u001b[0;32m    703\u001b[0m \u001b[1;33m\u001b[0m\u001b[0m\n\u001b[0;32m    704\u001b[0m     \u001b[0mparser_f\u001b[0m\u001b[1;33m.\u001b[0m\u001b[0m__name__\u001b[0m \u001b[1;33m=\u001b[0m \u001b[0mname\u001b[0m\u001b[1;33m\u001b[0m\u001b[1;33m\u001b[0m\u001b[0m\n",
      "\u001b[1;32m~\\Anaconda3\\lib\\site-packages\\pandas\\io\\parsers.py\u001b[0m in \u001b[0;36m_read\u001b[1;34m(filepath_or_buffer, kwds)\u001b[0m\n\u001b[0;32m    427\u001b[0m \u001b[1;33m\u001b[0m\u001b[0m\n\u001b[0;32m    428\u001b[0m     \u001b[1;31m# Create the parser.\u001b[0m\u001b[1;33m\u001b[0m\u001b[1;33m\u001b[0m\u001b[1;33m\u001b[0m\u001b[0m\n\u001b[1;32m--> 429\u001b[1;33m     \u001b[0mparser\u001b[0m \u001b[1;33m=\u001b[0m \u001b[0mTextFileReader\u001b[0m\u001b[1;33m(\u001b[0m\u001b[0mfilepath_or_buffer\u001b[0m\u001b[1;33m,\u001b[0m \u001b[1;33m**\u001b[0m\u001b[0mkwds\u001b[0m\u001b[1;33m)\u001b[0m\u001b[1;33m\u001b[0m\u001b[1;33m\u001b[0m\u001b[0m\n\u001b[0m\u001b[0;32m    430\u001b[0m \u001b[1;33m\u001b[0m\u001b[0m\n\u001b[0;32m    431\u001b[0m     \u001b[1;32mif\u001b[0m \u001b[0mchunksize\u001b[0m \u001b[1;32mor\u001b[0m \u001b[0miterator\u001b[0m\u001b[1;33m:\u001b[0m\u001b[1;33m\u001b[0m\u001b[1;33m\u001b[0m\u001b[0m\n",
      "\u001b[1;32m~\\Anaconda3\\lib\\site-packages\\pandas\\io\\parsers.py\u001b[0m in \u001b[0;36m__init__\u001b[1;34m(self, f, engine, **kwds)\u001b[0m\n\u001b[0;32m    893\u001b[0m             \u001b[0mself\u001b[0m\u001b[1;33m.\u001b[0m\u001b[0moptions\u001b[0m\u001b[1;33m[\u001b[0m\u001b[1;34m'has_index_names'\u001b[0m\u001b[1;33m]\u001b[0m \u001b[1;33m=\u001b[0m \u001b[0mkwds\u001b[0m\u001b[1;33m[\u001b[0m\u001b[1;34m'has_index_names'\u001b[0m\u001b[1;33m]\u001b[0m\u001b[1;33m\u001b[0m\u001b[1;33m\u001b[0m\u001b[0m\n\u001b[0;32m    894\u001b[0m \u001b[1;33m\u001b[0m\u001b[0m\n\u001b[1;32m--> 895\u001b[1;33m         \u001b[0mself\u001b[0m\u001b[1;33m.\u001b[0m\u001b[0m_make_engine\u001b[0m\u001b[1;33m(\u001b[0m\u001b[0mself\u001b[0m\u001b[1;33m.\u001b[0m\u001b[0mengine\u001b[0m\u001b[1;33m)\u001b[0m\u001b[1;33m\u001b[0m\u001b[1;33m\u001b[0m\u001b[0m\n\u001b[0m\u001b[0;32m    896\u001b[0m \u001b[1;33m\u001b[0m\u001b[0m\n\u001b[0;32m    897\u001b[0m     \u001b[1;32mdef\u001b[0m \u001b[0mclose\u001b[0m\u001b[1;33m(\u001b[0m\u001b[0mself\u001b[0m\u001b[1;33m)\u001b[0m\u001b[1;33m:\u001b[0m\u001b[1;33m\u001b[0m\u001b[1;33m\u001b[0m\u001b[0m\n",
      "\u001b[1;32m~\\Anaconda3\\lib\\site-packages\\pandas\\io\\parsers.py\u001b[0m in \u001b[0;36m_make_engine\u001b[1;34m(self, engine)\u001b[0m\n\u001b[0;32m   1120\u001b[0m     \u001b[1;32mdef\u001b[0m \u001b[0m_make_engine\u001b[0m\u001b[1;33m(\u001b[0m\u001b[0mself\u001b[0m\u001b[1;33m,\u001b[0m \u001b[0mengine\u001b[0m\u001b[1;33m=\u001b[0m\u001b[1;34m'c'\u001b[0m\u001b[1;33m)\u001b[0m\u001b[1;33m:\u001b[0m\u001b[1;33m\u001b[0m\u001b[1;33m\u001b[0m\u001b[0m\n\u001b[0;32m   1121\u001b[0m         \u001b[1;32mif\u001b[0m \u001b[0mengine\u001b[0m \u001b[1;33m==\u001b[0m \u001b[1;34m'c'\u001b[0m\u001b[1;33m:\u001b[0m\u001b[1;33m\u001b[0m\u001b[1;33m\u001b[0m\u001b[0m\n\u001b[1;32m-> 1122\u001b[1;33m             \u001b[0mself\u001b[0m\u001b[1;33m.\u001b[0m\u001b[0m_engine\u001b[0m \u001b[1;33m=\u001b[0m \u001b[0mCParserWrapper\u001b[0m\u001b[1;33m(\u001b[0m\u001b[0mself\u001b[0m\u001b[1;33m.\u001b[0m\u001b[0mf\u001b[0m\u001b[1;33m,\u001b[0m \u001b[1;33m**\u001b[0m\u001b[0mself\u001b[0m\u001b[1;33m.\u001b[0m\u001b[0moptions\u001b[0m\u001b[1;33m)\u001b[0m\u001b[1;33m\u001b[0m\u001b[1;33m\u001b[0m\u001b[0m\n\u001b[0m\u001b[0;32m   1123\u001b[0m         \u001b[1;32melse\u001b[0m\u001b[1;33m:\u001b[0m\u001b[1;33m\u001b[0m\u001b[1;33m\u001b[0m\u001b[0m\n\u001b[0;32m   1124\u001b[0m             \u001b[1;32mif\u001b[0m \u001b[0mengine\u001b[0m \u001b[1;33m==\u001b[0m \u001b[1;34m'python'\u001b[0m\u001b[1;33m:\u001b[0m\u001b[1;33m\u001b[0m\u001b[1;33m\u001b[0m\u001b[0m\n",
      "\u001b[1;32m~\\Anaconda3\\lib\\site-packages\\pandas\\io\\parsers.py\u001b[0m in \u001b[0;36m__init__\u001b[1;34m(self, src, **kwds)\u001b[0m\n\u001b[0;32m   1851\u001b[0m         \u001b[0mkwds\u001b[0m\u001b[1;33m[\u001b[0m\u001b[1;34m'usecols'\u001b[0m\u001b[1;33m]\u001b[0m \u001b[1;33m=\u001b[0m \u001b[0mself\u001b[0m\u001b[1;33m.\u001b[0m\u001b[0musecols\u001b[0m\u001b[1;33m\u001b[0m\u001b[1;33m\u001b[0m\u001b[0m\n\u001b[0;32m   1852\u001b[0m \u001b[1;33m\u001b[0m\u001b[0m\n\u001b[1;32m-> 1853\u001b[1;33m         \u001b[0mself\u001b[0m\u001b[1;33m.\u001b[0m\u001b[0m_reader\u001b[0m \u001b[1;33m=\u001b[0m \u001b[0mparsers\u001b[0m\u001b[1;33m.\u001b[0m\u001b[0mTextReader\u001b[0m\u001b[1;33m(\u001b[0m\u001b[0msrc\u001b[0m\u001b[1;33m,\u001b[0m \u001b[1;33m**\u001b[0m\u001b[0mkwds\u001b[0m\u001b[1;33m)\u001b[0m\u001b[1;33m\u001b[0m\u001b[1;33m\u001b[0m\u001b[0m\n\u001b[0m\u001b[0;32m   1854\u001b[0m         \u001b[0mself\u001b[0m\u001b[1;33m.\u001b[0m\u001b[0munnamed_cols\u001b[0m \u001b[1;33m=\u001b[0m \u001b[0mself\u001b[0m\u001b[1;33m.\u001b[0m\u001b[0m_reader\u001b[0m\u001b[1;33m.\u001b[0m\u001b[0munnamed_cols\u001b[0m\u001b[1;33m\u001b[0m\u001b[1;33m\u001b[0m\u001b[0m\n\u001b[0;32m   1855\u001b[0m \u001b[1;33m\u001b[0m\u001b[0m\n",
      "\u001b[1;32mpandas/_libs/parsers.pyx\u001b[0m in \u001b[0;36mpandas._libs.parsers.TextReader.__cinit__\u001b[1;34m()\u001b[0m\n",
      "\u001b[1;32mpandas/_libs/parsers.pyx\u001b[0m in \u001b[0;36mpandas._libs.parsers.TextReader._get_header\u001b[1;34m()\u001b[0m\n",
      "\u001b[1;31mUnicodeDecodeError\u001b[0m: 'utf-8' codec can't decode byte 0xb5 in position 4299: invalid start byte"
     ]
    }
   ],
   "source": [
    "df1 =  pd.read_csv(r\"C:\\Users\\Edwin\\Documents\\Malvern Instruments\\Zetasizer\\Export Data\\10_06_20.txt\")"
   ]
  },
  {
   "cell_type": "code",
   "execution_count": 103,
   "metadata": {},
   "outputs": [],
   "source": [
    "# forced to open with csv as non-utf-8 does not allow to open with pd.readcsv, its a blank space.\n",
    "data_file_path = r\"C:\\Users\\Edwin\\Desktop\\101020\\10_06_20_Turbid_Scan\"\n",
    "with open(data_file_path, mode='r') as file: \n",
    "    reader = csv.reader(file, delimiter=',')\n",
    "    data = [row for row in reader] \n",
    "\n",
    "df = pd.DataFrame(data, columns = data[0]) \n",
    "df = df.drop([0])\n",
    "df = df.drop(df.index[[3,4,5]])\n",
    "# unable to move header to column because of issue with different amount of data points for certain parameters\n",
    "# so make itthat either each has own header or just look at things that have singular or set value"
   ]
  },
  {
   "cell_type": "code",
   "execution_count": 127,
   "metadata": {},
   "outputs": [],
   "source": [
    "def slice_df(df, n):\n",
    "    new_df_con = [] \n",
    "    for i, (key, row) in enumerate(df.iterrows()):\n",
    "        series = row\n",
    "        if i % n == 0:\n",
    "            new_df_con.append(series)\n",
    "    new_df = pd.concat(new_df_con, axis = 1)\n",
    "    return new_df.T"
   ]
  },
  {
   "cell_type": "code",
   "execution_count": 128,
   "metadata": {
    "scrolled": true
   },
   "outputs": [
    {
     "data": {
      "text/html": [
       "<div>\n",
       "<style scoped>\n",
       "    .dataframe tbody tr th:only-of-type {\n",
       "        vertical-align: middle;\n",
       "    }\n",
       "\n",
       "    .dataframe tbody tr th {\n",
       "        vertical-align: top;\n",
       "    }\n",
       "\n",
       "    .dataframe thead th {\n",
       "        text-align: right;\n",
       "    }\n",
       "</style>\n",
       "<table border=\"1\" class=\"dataframe\">\n",
       "  <thead>\n",
       "    <tr style=\"text-align: right;\">\n",
       "      <th></th>\n",
       "      <th>Sample Name</th>\n",
       "      <th>Serial Number</th>\n",
       "      <th>Z-Average (d.nm)</th>\n",
       "      <th>PdI</th>\n",
       "      <th>Derived Count Rate (kcps)</th>\n",
       "      <th>Intensity Mean (d.nm)</th>\n",
       "      <th>Attenuator</th>\n",
       "      <th>Measurement Position (mm)</th>\n",
       "      <th>Duration (s)</th>\n",
       "      <th>Viscosity (cP)</th>\n",
       "      <th>Diffusion Coefficient (µ²/s)</th>\n",
       "    </tr>\n",
       "  </thead>\n",
       "  <tbody>\n",
       "    <tr>\n",
       "      <th>1</th>\n",
       "      <td>S1_Ouzo_Sat_5pct 1</td>\n",
       "      <td>MAL1046558</td>\n",
       "      <td>230.5</td>\n",
       "      <td>0.135</td>\n",
       "      <td>22620.1</td>\n",
       "      <td>251.6</td>\n",
       "      <td>7</td>\n",
       "      <td>4.65</td>\n",
       "      <td>60</td>\n",
       "      <td>2.0780</td>\n",
       "      <td>0.898</td>\n",
       "    </tr>\n",
       "    <tr>\n",
       "      <th>7</th>\n",
       "      <td>S2_Ouzo_Sat_10pct 1</td>\n",
       "      <td>MAL1046558</td>\n",
       "      <td>229.5</td>\n",
       "      <td>0.057</td>\n",
       "      <td>31862.9</td>\n",
       "      <td>250.0</td>\n",
       "      <td>7</td>\n",
       "      <td>4.65</td>\n",
       "      <td>60</td>\n",
       "      <td>2.0780</td>\n",
       "      <td>0.902</td>\n",
       "    </tr>\n",
       "    <tr>\n",
       "      <th>10</th>\n",
       "      <td>S3_Ouzo_Sat_15pct 1</td>\n",
       "      <td>MAL1046558</td>\n",
       "      <td>281.3</td>\n",
       "      <td>0.115</td>\n",
       "      <td>21792.1</td>\n",
       "      <td>315.2</td>\n",
       "      <td>7</td>\n",
       "      <td>4.65</td>\n",
       "      <td>60</td>\n",
       "      <td>2.0780</td>\n",
       "      <td>0.736</td>\n",
       "    </tr>\n",
       "    <tr>\n",
       "      <th>13</th>\n",
       "      <td>S4_Ouzo_Sat_20pct 1</td>\n",
       "      <td>MAL1046558</td>\n",
       "      <td>380.7</td>\n",
       "      <td>0.081</td>\n",
       "      <td>13294.0</td>\n",
       "      <td>403.4</td>\n",
       "      <td>7</td>\n",
       "      <td>4.65</td>\n",
       "      <td>60</td>\n",
       "      <td>2.0780</td>\n",
       "      <td>0.544</td>\n",
       "    </tr>\n",
       "    <tr>\n",
       "      <th>16</th>\n",
       "      <td>S5_Ouzo_Sat_25pct 1</td>\n",
       "      <td>MAL1046558</td>\n",
       "      <td>374.9</td>\n",
       "      <td>0.210</td>\n",
       "      <td>15117.7</td>\n",
       "      <td>492.2</td>\n",
       "      <td>7</td>\n",
       "      <td>4.65</td>\n",
       "      <td>60</td>\n",
       "      <td>2.0780</td>\n",
       "      <td>0.552</td>\n",
       "    </tr>\n",
       "    <tr>\n",
       "      <th>19</th>\n",
       "      <td>S1_Ouzo_NS 1</td>\n",
       "      <td>MAL1046558</td>\n",
       "      <td>180.4</td>\n",
       "      <td>0.265</td>\n",
       "      <td>3431.5</td>\n",
       "      <td>386.4</td>\n",
       "      <td>7</td>\n",
       "      <td>4.65</td>\n",
       "      <td>60</td>\n",
       "      <td>2.0780</td>\n",
       "      <td>1.15</td>\n",
       "    </tr>\n",
       "    <tr>\n",
       "      <th>22</th>\n",
       "      <td>S2_Ouzo_NS 1</td>\n",
       "      <td>MAL1046558</td>\n",
       "      <td>197.2</td>\n",
       "      <td>0.104</td>\n",
       "      <td>21013.2</td>\n",
       "      <td>221.9</td>\n",
       "      <td>7</td>\n",
       "      <td>4.65</td>\n",
       "      <td>60</td>\n",
       "      <td>2.0780</td>\n",
       "      <td>1.05</td>\n",
       "    </tr>\n",
       "    <tr>\n",
       "      <th>25</th>\n",
       "      <td>S3_Ouzo_NS 1</td>\n",
       "      <td>MAL1046558</td>\n",
       "      <td>188.1</td>\n",
       "      <td>0.091</td>\n",
       "      <td>37384.1</td>\n",
       "      <td>208.7</td>\n",
       "      <td>7</td>\n",
       "      <td>4.65</td>\n",
       "      <td>60</td>\n",
       "      <td>2.0780</td>\n",
       "      <td>1.10</td>\n",
       "    </tr>\n",
       "    <tr>\n",
       "      <th>28</th>\n",
       "      <td>S4_Ouzo_NS 1</td>\n",
       "      <td>MAL1046558</td>\n",
       "      <td>188.2</td>\n",
       "      <td>0.105</td>\n",
       "      <td>52220.5</td>\n",
       "      <td>208.4</td>\n",
       "      <td>7</td>\n",
       "      <td>4.65</td>\n",
       "      <td>60</td>\n",
       "      <td>2.0780</td>\n",
       "      <td>1.10</td>\n",
       "    </tr>\n",
       "  </tbody>\n",
       "</table>\n",
       "</div>"
      ],
      "text/plain": [
       "            Sample Name Serial Number Z-Average (d.nm)    PdI  \\\n",
       "1    S1_Ouzo_Sat_5pct 1    MAL1046558            230.5  0.135   \n",
       "7   S2_Ouzo_Sat_10pct 1    MAL1046558            229.5  0.057   \n",
       "10  S3_Ouzo_Sat_15pct 1    MAL1046558            281.3  0.115   \n",
       "13  S4_Ouzo_Sat_20pct 1    MAL1046558            380.7  0.081   \n",
       "16  S5_Ouzo_Sat_25pct 1    MAL1046558            374.9  0.210   \n",
       "19         S1_Ouzo_NS 1    MAL1046558            180.4  0.265   \n",
       "22         S2_Ouzo_NS 1    MAL1046558            197.2  0.104   \n",
       "25         S3_Ouzo_NS 1    MAL1046558            188.1  0.091   \n",
       "28         S4_Ouzo_NS 1    MAL1046558            188.2  0.105   \n",
       "\n",
       "   Derived Count Rate (kcps) Intensity Mean (d.nm) Attenuator  \\\n",
       "1                    22620.1                 251.6          7   \n",
       "7                    31862.9                 250.0          7   \n",
       "10                   21792.1                 315.2          7   \n",
       "13                   13294.0                 403.4          7   \n",
       "16                   15117.7                 492.2          7   \n",
       "19                    3431.5                 386.4          7   \n",
       "22                   21013.2                 221.9          7   \n",
       "25                   37384.1                 208.7          7   \n",
       "28                   52220.5                 208.4          7   \n",
       "\n",
       "   Measurement Position (mm) Duration (s) Viscosity (cP)  \\\n",
       "1                       4.65           60         2.0780   \n",
       "7                       4.65           60         2.0780   \n",
       "10                      4.65           60         2.0780   \n",
       "13                      4.65           60         2.0780   \n",
       "16                      4.65           60         2.0780   \n",
       "19                      4.65           60         2.0780   \n",
       "22                      4.65           60         2.0780   \n",
       "25                      4.65           60         2.0780   \n",
       "28                      4.65           60         2.0780   \n",
       "\n",
       "   Diffusion Coefficient (µ²/s)  \n",
       "1                         0.898  \n",
       "7                         0.902  \n",
       "10                        0.736  \n",
       "13                        0.544  \n",
       "16                        0.552  \n",
       "19                         1.15  \n",
       "22                         1.05  \n",
       "25                         1.10  \n",
       "28                         1.10  "
      ]
     },
     "execution_count": 128,
     "metadata": {},
     "output_type": "execute_result"
    }
   ],
   "source": [
    "df_new = slice_df(df, 3)\n",
    "df_new"
   ]
  },
  {
   "cell_type": "code",
   "execution_count": 139,
   "metadata": {},
   "outputs": [
    {
     "data": {
      "text/plain": [
       "Text(0, 0.5, 'PdI')"
      ]
     },
     "execution_count": 139,
     "metadata": {},
     "output_type": "execute_result"
    },
    {
     "data": {
      "image/png": "[encoded data removed]",
      "text/plain": [
       "<Figure size 432x288 with 1 Axes>"
      ]
     },
     "metadata": {
      "needs_background": "light"
     },
     "output_type": "display_data"
    }
   ],
   "source": [
    "x_scatter = []\n",
    "y_scatter = [] \n",
    "y_string ='PdI'\n",
    "wells = ['B1', 'C1', 'D1', 'E1', 'F1', 'A2', 'B2', 'C2', 'D2']\n",
    "\n",
    "for i, (key, row) in enumerate(df_new.iterrows()): # next time place well in actual sample name like the unique ID \n",
    "    y = row[y_string]\n",
    "    x_scatter.append(i)\n",
    "    y_scatter.append(float(y))\n",
    "\n",
    "fig, ax = plt.subplots()\n",
    "ax.scatter(x_scatter, y_scatter)\n",
    "\n",
    "for i, well in enumerate(wells):\n",
    "    ax.annotate(well, (x_scatter[i], y_scatter[i]))\n",
    "    \n",
    "plt.ylabel(y_string)"
   ]
  },
  {
   "cell_type": "code",
   "execution_count": 98,
   "metadata": {
    "scrolled": true
   },
   "outputs": [
    {
     "data": {
      "image/png": "[encoded data removed]",
      "text/plain": [
       "<Figure size 432x288 with 1 Axes>"
      ]
     },
     "metadata": {
      "needs_background": "light"
     },
     "output_type": "display_data"
    }
   ],
   "source": [
    "# fig, ax = plt.subplots()\n",
    "x_list = []\n",
    "y_list = []\n",
    "legends = []\n",
    "wells = ['B1', 'C1', 'D1', 'E1', 'F1', 'A2', 'B2', 'C2', 'D2']\n",
    "for i, (key, row) in enumerate(df.iterrows()): # next time place well in actual sample name like the unique ID \n",
    "    name = row['Sample Name']\n",
    "    intensity = row['Intensity Mean (d.nm)']\n",
    "    count_rate = row['Derived Count Rate (kcps)']\n",
    "    x = i\n",
    "    y = float(count_rate)\n",
    "    \n",
    "    x_list.append(x)\n",
    "    y_list.append(y)\n",
    "    legends.append(name)\n",
    "#     ax.plot(x,y, label = name)\n",
    "new_x_list = x_list[0::3]\n",
    "new_y_list = y_list[0::3]\n",
    "\n",
    "fig, ax = plt.subplots()\n",
    "ax.scatter(new_x_list, new_y_list)\n",
    "new_legends = legends[0::3]\n",
    "\n",
    "for i, well in enumerate(wells):\n",
    "    ax.annotate(well, (new_x_list[i], new_y_list[i]))\n",
    "    \n",
    "# ax.annotate('hello', xy=(1.05, 0.85), xycoords='axes fraction')   \n",
    "# #ax.legend()\n",
    "# ax.set_xlabel('Sample')\n",
    "# plt.show()"
   ]
  },
  {
   "cell_type": "code",
   "execution_count": null,
   "metadata": {},
   "outputs": [],
   "source": [
    "# average 3 samples or just the components, lol im done"
   ]
  }
 ],
 "metadata": {
  "kernelspec": {
   "display_name": "Python 3",
   "language": "python",
   "name": "python3"
  },
  "language_info": {
   "codemirror_mode": {
    "name": "ipython",
    "version": 3
   },
   "file_extension": ".py",
   "mimetype": "text/x-python",
   "name": "python",
   "nbconvert_exporter": "python",
   "pygments_lexer": "ipython3",
   "version": "3.6.8"
  }
 },
 "nbformat": 4,
 "nbformat_minor": 2
}
