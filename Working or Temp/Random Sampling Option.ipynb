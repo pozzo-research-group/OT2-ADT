{
 "cells": [
  {
   "cell_type": "code",
   "execution_count": 49,
   "metadata": {},
   "outputs": [],
   "source": [
    "import numpy as np\n",
    "import matplotlib.pyplot as plt"
   ]
  },
  {
   "cell_type": "code",
   "execution_count": 67,
   "metadata": {
    "scrolled": true
   },
   "outputs": [
    {
     "data": {
      "text/plain": [
       "(0.0, 1.0)"
      ]
     },
     "execution_count": 67,
     "metadata": {},
     "output_type": "execute_result"
    },
    {
     "data": {
      "image/png": "[encoded data removed]",
      "text/plain": [
       "<Figure size 432x288 with 1 Axes>"
      ]
     },
     "metadata": {
      "needs_background": "light"
     },
     "output_type": "display_data"
    }
   ],
   "source": [
    "# the basis to use other modes of spacing when constructing lattice through log spacing is no - too much outward reach\n",
    "# find a mode that randomly samples between two points given n number of points needs \n",
    "\n",
    "N = 8\n",
    "y = np.zeros(N)\n",
    "x1 = np.linspace(0, 0.5, N, endpoint=True)\n",
    "x2 = np.logspace(0, 0.5, N, endpoint=False)\n",
    "x3 = [np.log(i) for i in x2]\n",
    "\n",
    "plt.plot(x1, y, 'o')\n",
    "plt.plot(x2, y + 0.5, 'o')\n",
    "plt.plot(x3, y + 0.25, 'o')\n",
    "plt.plot(x3, y + 0.125, 'o')\n",
    "plt.xlim([0,1])"
   ]
  },
  {
   "cell_type": "code",
   "execution_count": 72,
   "metadata": {},
   "outputs": [
    {
     "data": {
      "text/plain": [
       "[7, 8, 0, 2, 3, 10, 9, 5, 1, 4]"
      ]
     },
     "execution_count": 72,
     "metadata": {},
     "output_type": "execute_result"
    }
   ],
   "source": [
    "import random\n",
    "random.sample(range(0,11), 10)"
   ]
  },
  {
   "cell_type": "code",
   "execution_count": 99,
   "metadata": {},
   "outputs": [
    {
     "data": {
      "text/plain": [
       "(0.0, 0.1)"
      ]
     },
     "execution_count": 99,
     "metadata": {},
     "output_type": "execute_result"
    },
    {
     "data": {
      "image/png": "[encoded data removed]",
      "text/plain": [
       "<Figure size 432x288 with 1 Axes>"
      ]
     },
     "metadata": {
      "needs_background": "light"
     },
     "output_type": "display_data"
    }
   ],
   "source": [
    "N = 50\n",
    "yn = np.zeros(N)\n",
    "x5 = np.random.uniform(low=0.0, high=0.5, size=(N,))\n",
    "plt.plot(x5, yn + 0.125, 'o')\n",
    "plt.xlim([0,0.1])"
   ]
  },
  {
   "cell_type": "code",
   "execution_count": 228,
   "metadata": {
    "scrolled": true
   },
   "outputs": [
    {
     "data": {
      "text/plain": [
       "<matplotlib.collections.PathCollection at 0x18ecc8ad978>"
      ]
     },
     "execution_count": 228,
     "metadata": {},
     "output_type": "execute_result"
    },
    {
     "data": {
      "image/png": "[encoded data removed]",
      "text/plain": [
       "<Figure size 432x288 with 1 Axes>"
      ]
     },
     "metadata": {
      "needs_background": "light"
     },
     "output_type": "display_data"
    }
   ],
   "source": [
    "# the basis to use other modes of spacing when constructing lattice through log spacing is no - too much outward reach\n",
    "# find a mode that randomly samples between two points given n number of points needs \n",
    "\n",
    "N = 10\n",
    "y = np.zeros(N)\n",
    "\n",
    "low_x = 0.2\n",
    "high_x = 0.6\n",
    "\n",
    "low_y= 0.2\n",
    "high_y= 0.6\n",
    "\n",
    "x1 = np.linspace(low_x, high_x, N) # endpoint?\n",
    "y1 = np.linspace(low_y, high_y, N)\n",
    "x2 = np.random.uniform(low=low_x, high=high_x, size=(N,))\n",
    "y2 = np.random.uniform(low=low_y, high=high_y, size=(N,))\n",
    "\n",
    "# plt.scatter(x1,y1)\n",
    "# plt.scatter(x2,y2)\n",
    "# plt.plot(x1, y, 'o')\n",
    "# plt.plot(x2, y + 0.5, 'o')\n",
    "\n",
    "conc_range_list = [x1,y1]\n",
    "x,y = np.meshgrid(*conc_range_list)\n",
    "plt.scatter(x,y)\n",
    "\n",
    "conc_range_list = [x2,y2]\n",
    "x,y = np.meshgrid(*conc_range_list)\n",
    "plt.scatter(x,y)\n",
    "\n"
   ]
  },
  {
   "cell_type": "code",
   "execution_count": 179,
   "metadata": {},
   "outputs": [
    {
     "data": {
      "text/plain": [
       "array([0.52882958, 0.53865245, 0.61466537, 0.90628034, 0.52011589,\n",
       "       0.63037802, 0.63449866, 0.88209332])"
      ]
     },
     "execution_count": 179,
     "metadata": {},
     "output_type": "execute_result"
    }
   ],
   "source": [
    "k = [0.5,1,8]\n",
    "y2 = np.random.uniform(*k)\n",
    "y2"
   ]
  },
  {
   "cell_type": "code",
   "execution_count": 145,
   "metadata": {},
   "outputs": [
    {
     "data": {
      "text/plain": [
       "<matplotlib.collections.PathCollection at 0x18ec6c9aeb8>"
      ]
     },
     "execution_count": 145,
     "metadata": {},
     "output_type": "execute_result"
    },
    {
     "data": {
      "image/png": "[encoded data removed]",
      "text/plain": [
       "<Figure size 432x288 with 1 Axes>"
      ]
     },
     "metadata": {
      "needs_background": "light"
     },
     "output_type": "display_data"
    }
   ],
   "source": [
    "conc_range_list = [x2,y2]\n",
    "x,y = np.meshgrid(*conc_range_list)\n",
    "plt.scatter(x,y)"
   ]
  },
  {
   "cell_type": "code",
   "execution_count": null,
   "metadata": {},
   "outputs": [],
   "source": [
    "conc_grid = np.meshgrid(*conc_range_list) # Setup for every combination of the flattened linspaces with meshgrid.\n",
    "    # the meshgrid is not yet formatted where samples concentrations in one container (i.e. list), currently in \"scatter\" form. \n",
    "    \n",
    "component_conc_dict = {} \n",
    "for i in range(len(conc_grid)): \n",
    "    component_name = component_name_list[i]\n",
    "    component_conc_dict[component_name] = conc_grid[i].ravel()\n",
    "concentration_df = pd.DataFrame.from_dict(component_conc_dict)\n",
    "\n",
    "# here is where one could incorperate different forms of completion for underspecfied components given a specfic unit case, currently wtf/volf completion to one\n",
    "completing_component_name = component_name_list[len(component_name_list)-1]\n",
    "concentration_df[completing_component_name] = (1 - concentration_df.sum(axis=1)) \n",
    "\n",
    "unfiltered_concentration_df = concentration_df # used to catch errors when concentration_df after fully defined concentration produces no suitable canidates\n",
    "concentration_df = concentration_df[concentration_df[completing_component_name] > 0]\n",
    "concentration_df.reset_index(drop=True, inplace=True)"
   ]
  },
  {
   "cell_type": "code",
   "execution_count": 232,
   "metadata": {},
   "outputs": [
    {
     "data": {
      "text/plain": [
       "False"
      ]
     },
     "execution_count": 232,
     "metadata": {},
     "output_type": "execute_result"
    }
   ],
   "source": [
    "items = ['wtf','wtf', 'volf']\n",
    "all(x == items[0] for x in items)"
   ]
  },
  {
   "cell_type": "code",
   "execution_count": 238,
   "metadata": {
    "scrolled": true
   },
   "outputs": [
    {
     "ename": "AssertionError",
     "evalue": "nooo",
     "output_type": "error",
     "traceback": [
      "\u001b[1;31m---------------------------------------------------------------------------\u001b[0m",
      "\u001b[1;31mAssertionError\u001b[0m                            Traceback (most recent call last)",
      "\u001b[1;32m<ipython-input-238-7f331a5c6126>\u001b[0m in \u001b[0;36m<module>\u001b[1;34m\u001b[0m\n\u001b[0;32m      3\u001b[0m     \u001b[0mprint\u001b[0m\u001b[1;33m(\u001b[0m\u001b[1;34m'fep'\u001b[0m\u001b[1;33m)\u001b[0m\u001b[1;33m\u001b[0m\u001b[1;33m\u001b[0m\u001b[0m\n\u001b[0;32m      4\u001b[0m \u001b[1;32melse\u001b[0m\u001b[1;33m:\u001b[0m\u001b[1;33m\u001b[0m\u001b[1;33m\u001b[0m\u001b[0m\n\u001b[1;32m----> 5\u001b[1;33m     \u001b[1;32mraise\u001b[0m \u001b[0mAssertionError\u001b[0m\u001b[1;33m(\u001b[0m\u001b[1;34m'nooo'\u001b[0m\u001b[1;33m)\u001b[0m\u001b[1;33m\u001b[0m\u001b[1;33m\u001b[0m\u001b[0m\n\u001b[0m",
      "\u001b[1;31mAssertionError\u001b[0m: nooo"
     ]
    }
   ],
   "source": [
    "x = 2\n",
    "if x == True:\n",
    "    print('fep')\n",
    "else:\n",
    "    raise AssertionError('nooo')"
   ]
  },
  {
   "cell_type": "code",
   "execution_count": 248,
   "metadata": {},
   "outputs": [],
   "source": [
    "unit = 'molf'"
   ]
  },
  {
   "cell_type": "code",
   "execution_count": 252,
   "metadata": {},
   "outputs": [
    {
     "ename": "AssertionError",
     "evalue": "unit no good",
     "output_type": "error",
     "traceback": [
      "\u001b[1;31m---------------------------------------------------------------------------\u001b[0m",
      "\u001b[1;31mAssertionError\u001b[0m                            Traceback (most recent call last)",
      "\u001b[1;32m<ipython-input-252-6205aa925819>\u001b[0m in \u001b[0;36m<module>\u001b[1;34m\u001b[0m\n\u001b[0;32m      2\u001b[0m     \u001b[0mprint\u001b[0m\u001b[1;33m(\u001b[0m\u001b[0munit\u001b[0m\u001b[1;33m,\u001b[0m \u001b[1;34m'unit ok'\u001b[0m\u001b[1;33m)\u001b[0m\u001b[1;33m\u001b[0m\u001b[1;33m\u001b[0m\u001b[0m\n\u001b[0;32m      3\u001b[0m \u001b[1;32melse\u001b[0m\u001b[1;33m:\u001b[0m\u001b[1;33m\u001b[0m\u001b[1;33m\u001b[0m\u001b[0m\n\u001b[1;32m----> 4\u001b[1;33m     \u001b[1;32mraise\u001b[0m \u001b[0mAssertionError\u001b[0m\u001b[1;33m(\u001b[0m\u001b[1;34m'unit no good'\u001b[0m\u001b[1;33m)\u001b[0m\u001b[1;33m\u001b[0m\u001b[1;33m\u001b[0m\u001b[0m\n\u001b[0m",
      "\u001b[1;31mAssertionError\u001b[0m: unit no good"
     ]
    }
   ],
   "source": [
    "if unit in ('volf','wtf'):\n",
    "    print(unit, 'unit ok')\n",
    "else: \n",
    "    raise AssertionError('unit no good')"
   ]
  }
 ],
 "metadata": {
  "kernelspec": {
   "display_name": "Python 3",
   "language": "python",
   "name": "python3"
  },
  "language_info": {
   "codemirror_mode": {
    "name": "ipython",
    "version": 3
   },
   "file_extension": ".py",
   "mimetype": "text/x-python",
   "name": "python",
   "nbconvert_exporter": "python",
   "pygments_lexer": "ipython3",
   "version": "3.6.8"
  }
 },
 "nbformat": 4,
 "nbformat_minor": 4
}
