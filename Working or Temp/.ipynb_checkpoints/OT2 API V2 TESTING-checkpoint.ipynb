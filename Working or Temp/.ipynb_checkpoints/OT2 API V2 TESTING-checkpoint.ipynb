{
 "cells": [
  {
   "cell_type": "code",
   "execution_count": 1,
   "metadata": {
    "scrolled": true
   },
   "outputs": [
    {
     "name": "stderr",
     "output_type": "stream",
     "text": [
      "C:\\Users\\Edwin\\.opentrons\\deck_calibration.json not found. Loading defaults\n",
      "C:\\Users\\Edwin\\.opentrons\\robot_settings.json not found. Loading defaults\n"
     ]
    },
    {
     "name": "stdout",
     "output_type": "stream",
     "text": [
      "Loading json containers...\n",
      "Json container file load complete, listing database\n",
      "Found 0 containers to add. Starting migration...\n",
      "Database migration complete!\n"
     ]
    }
   ],
   "source": [
    "from opentrons import simulate, execute, protocol_api\n",
    "import pandas as pd\n",
    "import numpy as np"
   ]
  },
  {
   "cell_type": "code",
   "execution_count": 2,
   "metadata": {},
   "outputs": [
    {
     "name": "stderr",
     "output_type": "stream",
     "text": [
      "C:\\Users\\Edwin\\.opentrons\\deck_calibration.json not found. Loading defaults\n",
      "C:\\Users\\Edwin\\.opentrons\\robot_settings.json not found. Loading defaults\n"
     ]
    },
    {
     "ename": "FileNotFoundError",
     "evalue": "Unable to find a labware\n        definition for \"20mlscintillation_12_wellplate_18000ul.json\",\n        version 1, in the opentrons namespace.\n        Please confirm your protocol includes the correct\n        labware spelling and (optionally) the correct version\n        number and namespace.\n\n        If you are referencing a custom labware in your\n        protocol, you must add it to your Custom Labware\n        Definitions Folder from the Opentrons App before\n        uploading your protocol.\n        ",
     "output_type": "error",
     "traceback": [
      "\u001b[1;31m---------------------------------------------------------------------------\u001b[0m",
      "\u001b[1;31mFileNotFoundError\u001b[0m                         Traceback (most recent call last)",
      "\u001b[1;32m<ipython-input-2-f89feccae304>\u001b[0m in \u001b[0;36m<module>\u001b[1;34m\u001b[0m\n\u001b[0;32m      9\u001b[0m \u001b[1;34m'apiLevel'\u001b[0m\u001b[1;33m:\u001b[0m \u001b[1;34m'2.5'\u001b[0m\u001b[1;33m\u001b[0m\u001b[1;33m\u001b[0m\u001b[0m\n\u001b[0;32m     10\u001b[0m }\n\u001b[1;32m---> 11\u001b[1;33m \u001b[0mplate\u001b[0m \u001b[1;33m=\u001b[0m \u001b[0mprotocol\u001b[0m\u001b[1;33m.\u001b[0m\u001b[0mload_labware\u001b[0m\u001b[1;33m(\u001b[0m\u001b[1;34m'20mlscintillation_12_wellplate_18000ul.json'\u001b[0m\u001b[1;33m,\u001b[0m \u001b[1;34m'11'\u001b[0m\u001b[1;33m)\u001b[0m\u001b[1;33m\u001b[0m\u001b[1;33m\u001b[0m\u001b[0m\n\u001b[0m\u001b[0;32m     12\u001b[0m \u001b[0mtiprack\u001b[0m \u001b[1;33m=\u001b[0m \u001b[0mprotocol\u001b[0m\u001b[1;33m.\u001b[0m\u001b[0mload_labware\u001b[0m\u001b[1;33m(\u001b[0m\u001b[1;34m'opentrons_96_tiprack_300ul'\u001b[0m\u001b[1;33m,\u001b[0m \u001b[1;34m'10'\u001b[0m\u001b[1;33m)\u001b[0m\u001b[1;33m\u001b[0m\u001b[1;33m\u001b[0m\u001b[0m\n\u001b[0;32m     13\u001b[0m \u001b[1;31m# pipettes\u001b[0m\u001b[1;33m\u001b[0m\u001b[1;33m\u001b[0m\u001b[1;33m\u001b[0m\u001b[0m\n",
      "\u001b[1;32mc:\\users\\edwin\\appdata\\local\\programs\\python\\python36\\lib\\site-packages\\opentrons\\protocol_api\\util.py\u001b[0m in \u001b[0;36m_check_version_wrapper\u001b[1;34m(*args, **kwargs)\u001b[0m\n\u001b[0;32m    287\u001b[0m                     \u001b[1;34mf'must increase your API version to {added_in} to '\u001b[0m\u001b[1;33m\u001b[0m\u001b[1;33m\u001b[0m\u001b[0m\n\u001b[0;32m    288\u001b[0m                     'use this functionality.')\n\u001b[1;32m--> 289\u001b[1;33m             \u001b[1;32mreturn\u001b[0m \u001b[0mdecorated_obj\u001b[0m\u001b[1;33m(\u001b[0m\u001b[1;33m*\u001b[0m\u001b[0margs\u001b[0m\u001b[1;33m,\u001b[0m \u001b[1;33m**\u001b[0m\u001b[0mkwargs\u001b[0m\u001b[1;33m)\u001b[0m\u001b[1;33m\u001b[0m\u001b[1;33m\u001b[0m\u001b[0m\n\u001b[0m\u001b[0;32m    290\u001b[0m \u001b[1;33m\u001b[0m\u001b[0m\n\u001b[0;32m    291\u001b[0m         \u001b[1;32mreturn\u001b[0m \u001b[0m_check_version_wrapper\u001b[0m\u001b[1;33m\u001b[0m\u001b[1;33m\u001b[0m\u001b[0m\n",
      "\u001b[1;32mc:\\users\\edwin\\appdata\\local\\programs\\python\\python36\\lib\\site-packages\\opentrons\\protocol_api\\protocol_context.py\u001b[0m in \u001b[0;36mload_labware\u001b[1;34m(self, load_name, location, label, namespace, version)\u001b[0m\n\u001b[0;32m    341\u001b[0m             \u001b[0mload_name\u001b[0m\u001b[1;33m,\u001b[0m \u001b[0mnamespace\u001b[0m\u001b[1;33m,\u001b[0m \u001b[0mversion\u001b[0m\u001b[1;33m,\u001b[0m\u001b[1;33m\u001b[0m\u001b[1;33m\u001b[0m\u001b[0m\n\u001b[0;32m    342\u001b[0m             \u001b[0mbundled_defs\u001b[0m\u001b[1;33m=\u001b[0m\u001b[0mself\u001b[0m\u001b[1;33m.\u001b[0m\u001b[0m_bundled_labware\u001b[0m\u001b[1;33m,\u001b[0m\u001b[1;33m\u001b[0m\u001b[1;33m\u001b[0m\u001b[0m\n\u001b[1;32m--> 343\u001b[1;33m             extra_defs=self._extra_labware)\n\u001b[0m\u001b[0;32m    344\u001b[0m         return self.load_labware_from_definition(\n\u001b[0;32m    345\u001b[0m             labware_def, location, label)\n",
      "\u001b[1;32mc:\\users\\edwin\\appdata\\local\\programs\\python\\python36\\lib\\site-packages\\opentrons\\protocol_api\\labware.py\u001b[0m in \u001b[0;36mget_labware_definition\u001b[1;34m(load_name, namespace, version, bundled_defs, extra_defs)\u001b[0m\n\u001b[0;32m   1311\u001b[0m \u001b[1;33m\u001b[0m\u001b[0m\n\u001b[0;32m   1312\u001b[0m     return _get_standard_labware_definition(\n\u001b[1;32m-> 1313\u001b[1;33m         load_name, namespace, version)\n\u001b[0m\u001b[0;32m   1314\u001b[0m \u001b[1;33m\u001b[0m\u001b[0m\n\u001b[0;32m   1315\u001b[0m \u001b[1;33m\u001b[0m\u001b[0m\n",
      "\u001b[1;32mc:\\users\\edwin\\appdata\\local\\programs\\python\\python36\\lib\\site-packages\\opentrons\\protocol_api\\labware.py\u001b[0m in \u001b[0;36m_get_standard_labware_definition\u001b[1;34m(load_name, namespace, version)\u001b[0m\n\u001b[0;32m   1234\u001b[0m \u001b[1;33m\u001b[0m\u001b[0m\n\u001b[0;32m   1235\u001b[0m         raise FileNotFoundError(error_msg_string.format(\n\u001b[1;32m-> 1236\u001b[1;33m                 load_name, checked_version, OPENTRONS_NAMESPACE))\n\u001b[0m\u001b[0;32m   1237\u001b[0m \u001b[1;33m\u001b[0m\u001b[0m\n\u001b[0;32m   1238\u001b[0m     \u001b[0mnamespace\u001b[0m \u001b[1;33m=\u001b[0m \u001b[0mnamespace\u001b[0m\u001b[1;33m.\u001b[0m\u001b[0mlower\u001b[0m\u001b[1;33m(\u001b[0m\u001b[1;33m)\u001b[0m\u001b[1;33m\u001b[0m\u001b[1;33m\u001b[0m\u001b[0m\n",
      "\u001b[1;31mFileNotFoundError\u001b[0m: Unable to find a labware\n        definition for \"20mlscintillation_12_wellplate_18000ul.json\",\n        version 1, in the opentrons namespace.\n        Please confirm your protocol includes the correct\n        labware spelling and (optionally) the correct version\n        number and namespace.\n\n        If you are referencing a custom labware in your\n        protocol, you must add it to your Custom Labware\n        Definitions Folder from the Opentrons App before\n        uploading your protocol.\n        "
     ]
    }
   ],
   "source": [
    "protocol = simulate.get_protocol_api('2.0') # instead of doing def run(protocol), just defining protocl in a different way\n",
    "\n",
    "protocol.home()\n",
    "\n",
    "metadata = {\n",
    "'protocolName': 'My Protocol',\n",
    "'author': 'Name <email@address.com>',\n",
    "'description': 'Simple protocol to get started using OT2',\n",
    "'apiLevel': '2.5'\n",
    "}\n",
    "plate = protocol.load_labware('20mlscintillation_12_wellplate_18000ul.json', '11')\n",
    "tiprack = protocol.load_labware('opentrons_96_tiprack_300ul', '10')\n",
    "# pipettes\n",
    "\n",
    "hold = [j for i in plate.rows() for j in i]\n",
    "left_pipette = protocol.load_instrument(\n",
    "'p300_single', 'left', tip_racks=[tiprack])\n",
    "# commands\n",
    "left_pipette.pick_up_tip()\n",
    "left_pipette.aspirate(100, hold[0])\n",
    "left_pipette.dispense(100, hold[1])\n",
    "left_pipette.drop_tip()\n",
    "\n",
    "for line in protocol.commands():\n",
    "    print(line)"
   ]
  },
  {
   "cell_type": "code",
   "execution_count": null,
   "metadata": {},
   "outputs": [],
   "source": [
    "t = [well for row in dest_plates[0].rows() for well in row]\n",
    "r = [well for row in dest_plates[1].rows() for well in row]"
   ]
  },
  {
   "cell_type": "code",
   "execution_count": null,
   "metadata": {},
   "outputs": [],
   "source": [
    "dest_wells_row_order = []\n",
    "for labware in dest_plates:\n",
    "    rows = [well for row in labware.rows() for well in row]\n",
    "    dest_wells_row_order.append(rows)\n",
    "#     dest_wells_row_order = dest_wells_row_order + rows # could do append to keep seperate then unpack at the end \n"
   ]
  },
  {
   "cell_type": "code",
   "execution_count": null,
   "metadata": {},
   "outputs": [],
   "source": [
    "h = dest_wells_row_order\n",
    "k = [well for labware in h for well in labware ]"
   ]
  },
  {
   "cell_type": "code",
   "execution_count": null,
   "metadata": {},
   "outputs": [],
   "source": [
    "k"
   ]
  }
 ],
 "metadata": {
  "kernelspec": {
   "display_name": "Python 3",
   "language": "python",
   "name": "python3"
  },
  "language_info": {
   "codemirror_mode": {
    "name": "ipython",
    "version": 3
   },
   "file_extension": ".py",
   "mimetype": "text/x-python",
   "name": "python",
   "nbconvert_exporter": "python",
   "pygments_lexer": "ipython3",
   "version": "3.6.8"
  }
 },
 "nbformat": 4,
 "nbformat_minor": 4
}
